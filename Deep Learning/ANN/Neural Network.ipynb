{
 "cells": [
  {
   "cell_type": "markdown",
   "id": "c6c90d55-b3ad-4621-93ee-4b2162288807",
   "metadata": {},
   "source": [
    "### Neaural Network"
   ]
  },
  {
   "cell_type": "code",
   "execution_count": null,
   "id": "94aeabdb-5ec4-419a-bc69-93dc8ecf8f4a",
   "metadata": {},
   "outputs": [],
   "source": []
  }
 ],
 "metadata": {
  "kernelspec": {
   "display_name": "Python 3 (ipykernel)",
   "language": "python",
   "name": "python3"
  },
  "language_info": {
   "codemirror_mode": {
    "name": "ipython",
    "version": 3
   },
   "file_extension": ".py",
   "mimetype": "text/x-python",
   "name": "python",
   "nbconvert_exporter": "python",
   "pygments_lexer": "ipython3",
   "version": "3.11.7"
  },
  "widgets": {
   "application/vnd.jupyter.widget-state+json": {
    "state": {},
    "version_major": 2,
    "version_minor": 0
   }
  }
 },
 "nbformat": 4,
 "nbformat_minor": 5
}
