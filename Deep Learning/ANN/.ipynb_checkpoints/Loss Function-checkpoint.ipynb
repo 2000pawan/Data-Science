{
 "cells": [
  {
   "cell_type": "markdown",
   "id": "37efe1f9-5825-4434-bc3b-847d840f0db7",
   "metadata": {},
   "source": [
    "# Loss Function\n",
    "- Its applay in classification and regression.\n",
    "- Loss & Accuracy Both find in Deep Learning classification and regression in both.\n",
    "- but in ML i only calculate accuracy for classification."
   ]
  },
  {
   "cell_type": "code",
   "execution_count": null,
   "id": "190b409c-5bf9-487e-8489-1a68315e5274",
   "metadata": {},
   "outputs": [],
   "source": []
  }
 ],
 "metadata": {
  "kernelspec": {
   "display_name": "Python 3 (ipykernel)",
   "language": "python",
   "name": "python3"
  },
  "language_info": {
   "codemirror_mode": {
    "name": "ipython",
    "version": 3
   },
   "file_extension": ".py",
   "mimetype": "text/x-python",
   "name": "python",
   "nbconvert_exporter": "python",
   "pygments_lexer": "ipython3",
   "version": "3.11.7"
  },
  "widgets": {
   "application/vnd.jupyter.widget-state+json": {
    "state": {},
    "version_major": 2,
    "version_minor": 0
   }
  }
 },
 "nbformat": 4,
 "nbformat_minor": 5
}
