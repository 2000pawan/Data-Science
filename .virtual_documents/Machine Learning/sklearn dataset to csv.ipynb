from sklearn.datasets import load_iris
import pandas as pd


df=load_iris()
dir(df)
df.data
df.feature_names
df1=pd.DataFrame(df.data,columns=df.feature_names)
df2=pd.DataFrame(df.target,columns=['target'])
df1['target']=df2['target']
df1.to_csv('G:/dataset/classification/iris.csv')


df3=pd.read_csv('G:/dataset/classification/iris.csv')
df3



