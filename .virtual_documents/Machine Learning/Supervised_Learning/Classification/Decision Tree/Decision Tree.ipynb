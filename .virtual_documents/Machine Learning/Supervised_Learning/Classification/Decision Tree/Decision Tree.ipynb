


from sklearn.datasets import load_iris
from sklearn.tree import DecisionTreeClassifier,plot_tree
import matplotlib.pyplot as plt
import pandas as pd
from sklearn.metrics import accuracy_score,classification_report


iris=load_iris()
X=iris.data
y=iris.target

model=DecisionTreeClassifier(random_state=10,criterion='gini',max_depth=3)
model.fit(X,y)


plt.figure(figsize=(14,9))
plot_tree(model,fontsize=10,feature_names=['SL','SW','PL','PW'],rounded=True,filled=True)
plt.show()


print(model.predict([[1.2,.9,5.2,.85]]))


model.feature_importances_


pred=model.predict(X)
print(accuracy_score(pred,y))
print(classification_report(pred,y))


df=pd.read_csv('G:/dataset/classification/data_tree.txt')
df


df.color=df.color.map({'green':0,'red':1,'yellow':2})
df


X=df.iloc[:,:-1].values
y=df.iloc[:,-1].values


model=DecisionTreeClassifier()
model.fit(X,y)


plt.figure(figsize=(14,6))
plot_tree(model,feature_names=['color','dim'],fontsize=10,filled=True,rounded=True)
plt.show()


2/3





import pandas as pd
import matplotlib.pyplot as plt
from sklearn.tree import DecisionTreeRegressor
from sklearn.metrics import r2_score


df=pd.read_csv('G:/dataset/regression/salary_1_variable.csv')
X=df.iloc[:15,:-1].values
y=df.iloc[:15,-1].values


model=DecisionTreeRegressor()
model.fit(X,y)


plt.figure(figsize=(15,10))
plot_tree(model,fontsize=7,filled=True,rounded=True)
plt.show()


model.predict([[45]])


pred=model.predict(X)


print(r2_score(y,pred))



