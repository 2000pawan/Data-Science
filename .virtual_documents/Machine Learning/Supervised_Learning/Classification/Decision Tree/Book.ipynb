





import pandas as pd
from sklearn.tree import DecisionTreeClassifier,plot_tree
from sklearn.model_selection import train_test_split
import matplotlib.pyplot as plt
from sklearn.preprocessing import LabelEncoder


df=pd.read_csv('G:/dataset/MLbookdataset/ML/Ml/30. Decision tree/cricket1.csv')
lc=LabelEncoder()
df['Outlook']=lc.fit_transform(df['Outlook'])
df['Temperature']=lc.fit_transform(df['Temperature'])
df['Humidity']=lc.fit_transform(df['Humidity'])
df['Windy']=lc.fit_transform(df['Windy'])
df['Play Cricket']=lc.fit_transform(df['Play Cricket'])
X=df.iloc[:,:-1].values
y=df.iloc[:,-1].values
model=DecisionTreeClassifier(max_depth=3,random_state=10)
model.fit(X,y)
print('Accuracy SCore of Model is:- ',model.score(X,y))
plt.figure(figsize=(8,6))
plot_tree(model,fontsize=10,feature_names=['OL','TP','HY','WN'],rounded=True,filled=True)
plt.show()


# Outlook:- Sunny:2, Overcast:0, Rainy:1, Temperature:- Hot:1, Mild:2, Cool:0, Humidity:- Normal:1, High:0, Windy:- False:0, True:1, Play Cricket:- Yes:1, No:0
today=[[1,1,1,1],[0,0,0,0]]
pred=model.predict(today)
for i in pred:
    if i==0:
        print('Weather Condition is not for Playing Cricket.Sorry 😔😔😔😔😔')
    else:
        print('Weather Condition is Good for Playing Cricket.Enjoy 😅😅😅😅😅')








import pandas as pd
from sklearn.tree import DecisionTreeClassifier,plot_tree
from sklearn.model_selection import train_test_split
import matplotlib.pyplot as plt
from sklearn.preprocessing import LabelEncoder


df=pd.read_csv('G:/dataset/MLbookdataset/ML/Ml/30. Decision tree/salaries.csv')
lc=LabelEncoder()
df['company']=lc.fit_transform(df['company'])
df['job']=lc.fit_transform(df['job'])
df['degree']=lc.fit_transform(df['degree'])
X=df.iloc[:,:-1].values
y=df.iloc[:,-1].values
model=DecisionTreeClassifier(max_depth=4,random_state=10)
model.fit(X,y)
print('Accuracy Score of Model is:- ',model.score(X,y))
plt.figure(figsize=(8,6))
plot_tree(model,fontsize=10,feature_names=['OL','TP','HY','WN'],rounded=True,filled=True)
plt.show()


# company:- jpmorgan:1, aamazon:0, microsoft:2, job:- pm:1, programmer:0, sales:2, degree:- bacheloors:0, master:1, 100k more salary:- yes:1, no:0
emp=[[1,1,0],[2,0,0],[2,2,0]]
pred=model.predict(emp)
for i in pred:
    if i==0:
        print('Salary is less than 100k dollars.Sorry 😔😔😔😔😔')
    else:
        print('Salary is more than 100k dollars.Enjoy 😅😅😅😅😅')



