





import pandas as pd
import matplotlib.pyplot as plt
from sklearn.neighbors import KNeighborsClassifier
from sklearn.model_selection import train_test_split
import math
from sklearn.metrics import accuracy_score


df=pd.read_csv('G:/dataset/MLbookdataset/ML/Ml/29. KNN/breast-cancer-wisconsin.csv')
df.drop(columns=['id'],axis=1,inplace=True)
df.columns=df.columns.str.replace(' ','')
df=df[df['bare_nulei'] != '?']
X=df.iloc[:,:-1].values
y=df.iloc[:,-1].values
X_train,X_test,y_train,y_test=train_test_split(X,y,test_size=0.2,random_state=0)
k=int(math.sqrt(len(y_test)))
if k%2==0:
    k=(k+1)
model=KNeighborsClassifier(n_neighbors=k)
model.fit(X_train,y_train)
print('Accuracy Score on Train data:- ',model.score(X_train,y_train))
print('Accuracy Score on Test data:-  ',model.score(X_test,y_test))
score=[]
for i in range(1,16):
    model=KNeighborsClassifier(n_neighbors=i)
    model.fit(X_train,y_train)
    accuracy=model.score(X_test,y_test)
    score.append(accuracy)
    print('K:- %d,  Accuracy:- %.2f%%'%(i,accuracy*100))
plt.plot(range(1,16),score)
plt.xlabel('Value of K',color='blue')
plt.ylabel('Accuracy Score',color='red')
plt.show()


model=KNeighborsClassifier(n_neighbors=3)
model.fit(X_train,y_train)
print('Accuracy Score on Train data:- ',model.score(X_train,y_train))
print('Accuracy Score on Test data:-  ',model.score(X_test,y_test))


newdata=[[4,2,1,1,1,2,3,2,1],[8,10,10,8,7,10,9,7,1]]


prediction=model.predict(newdata)
for i in prediction:
    if i==2:
        print('It is starting stage of Cancer. Cure it🙌🏼')
    else:
        print('It is dangerous.Go to Hospital for Checkup.🥺🥺')








import pandas as pd
import matplotlib.pyplot as plt
from sklearn.neighbors import KNeighborsClassifier
from sklearn.model_selection import train_test_split
import math
from sklearn.metrics import accuracy_score
import numpy as np


df=pd.read_csv('G:/dataset/MLbookdataset/ML/Ml/29. KNN/diabetes.csv')
zero_values = (df == 0).any()
print("Zero values in each column:")
print(zero_values)
col_list=['Glucose','BloodPressure','SkinThickness','BMI','Insulin']
for i in col_list:
    df[i]=df[i].replace(0,np.NaN)
    mean=int(df[i].mean(skipna=True))
    df[i]=df[i].replace(np.NaN,mean)
X=df.iloc[:,:-1].values
y=df.iloc[:,-1].values
X_train,X_test,y_train,y_test=train_test_split(X,y,test_size=0.2,random_state=0)
k=int(math.sqrt(len(y_test)))
if k%2==0:
    k=(k+1)
model=KNeighborsClassifier(n_neighbors=k)
model.fit(X_train,y_train)
print('Accuracy Score on Train data:- ',model.score(X_train,y_train))
print('Accuracy Score on Test data:-  ',model.score(X_test,y_test))
score=[]
for i in range(1,20):
    model=KNeighborsClassifier(n_neighbors=i)
    model.fit(X_train,y_train)
    accuracy=model.score(X_test,y_test)
    score.append(accuracy)
    print('K:- %d,  Accuracy:- %.2f%%'%(i,accuracy*100))
plt.plot(range(1,20),score)
plt.xlabel('Value of K',color='blue')
plt.ylabel('Accuracy Score',color='red')
plt.show()


model=KNeighborsClassifier(n_neighbors=14)
model.fit(X_train,y_train)
print('Accuracy Score on Train data:- ',model.score(X_train,y_train))
print('Accuracy Score on Test data:-  ',model.score(X_test,y_test))


newdata=[[1,189,60,23,846,30.1,0.398,59],[3,126,88,41,235,39.3,0.704,27]]


prediction=model.predict(newdata)
for i in prediction:
    if i==0:
        print('You do not suffering from Diabetic.Keep Healthy.🙌🙌🙌🙌')
    else:
        print('You suffering from Diabetic Consult With Doctor.Well Wishes 🥺🥺🥺🥺')



