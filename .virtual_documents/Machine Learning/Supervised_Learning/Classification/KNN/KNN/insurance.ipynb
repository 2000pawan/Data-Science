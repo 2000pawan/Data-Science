import pandas as pd
from sklearn.neighbors import KNeighborsClassifier
from sklearn.metrics import accuracy_score,classification_report
from sklearn.model_selection import train_test_split


df=pd.read_csv("G:/dataset/classification/Insurance.csv")
x=df.iloc[:,:-1].values
y=df.iloc[:,-1].values
df


x_train,x_test,y_train,y_test=train_test_split(x,y)
model=KNeighborsClassifier()
model.fit(x_train,y_train)
pred=model.predict(x_train)
pred1=model.predict(x_test)
print(accuracy_score(y_train,pred))
print(accuracy_score(y_test,pred1))
print(classification_report(y_train,pred))


model.predict([[23]])



