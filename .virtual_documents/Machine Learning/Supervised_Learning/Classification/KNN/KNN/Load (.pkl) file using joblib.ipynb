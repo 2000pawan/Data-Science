import joblib


model=joblib.load("G:/Coding/online_shop.pkl")


age=int(input('Enter your age:-'))
salary=int(input('Enter your salary:-'))
gender=int(input('Enter your gender(if you are male enter 1 and female enter 0):-'))
prdiction=model.predict([[gender,age,salary]])
if prdiction==1:
    print('Person Preferred Online Shopping!')
else:
    print('Person Preferred Offline Shopping!')


import pickle


mode=pickle.load(open("G:/Coding/online.pkl","rb"))


mode.predict([[1,47,25000]])


import joblib


lab_enc=joblib.load("G:/Coding/online.pkl")
pip_obj=joblib.load("G:/Coding/lab_enc")
g=input('Enter your Gender:-').capitalize()
sample=list(pip_obj.transform([g]))
a=int(input('Enter your age:'))
s=float(input('Enter your Salary:'))
sample.append(a)
sample.append(s)


lab_enc.predict([sample])


import joblib


en=joblib.load("G:/Coding/en.pkl")
sc=joblib.load("G:/Coding/sc.pkl")
model=joblib.load("G:/Coding/model.pkl")


g=input('Enter your Gender:-').capitalize()
sample=list(en.transform([g]))
a=int(input('Enter your age:'))
sample.append(a)
s=float(input('Enter your Salary:'))
sample.append(s)
sample_new=sc.transform([sample])
prediction=model.predict(sample_new)
if prediction==1:
    print('Online Shopping')
else:
    print('Offline Shopping')



