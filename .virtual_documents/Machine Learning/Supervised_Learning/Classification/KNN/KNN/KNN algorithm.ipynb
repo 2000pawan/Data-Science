import pandas as pd
df=pd.read_csv("G:/dataset/classification/fruits.csv")
print(df.head(6))
print('..................................')
print(df.tail())


df_feature=df.iloc[:,:-1]
series_target=df.iloc[:,-1]


X=df_feature.values
y=series_target.values


from sklearn.neighbors import KNeighborsClassifier
model=KNeighborsClassifier()


model.fit(X,y)


a=[3,25]
b=[6,80]


model.predict([a,b])


from sklearn.neighbors import KNeighborsClassifier
import pandas as pd
df=pd.read_csv('G:/dataset/classification/fruits.csv')
X=df.iloc[:,:-1].values  #feature matrix
y=df.iloc[:,-1].values   #target matrix or series
model=KNeighborsClassifier()
model.fit(X,y)  #Training data
for i in range(1,4):
    #model predicts
    print(model.predict([[eval(input('Enter diameter of fruits:-')),int(input('Enter weights of fruits:-'))]]))


#Model predict own feature
pred=model.predict(X)


# before removing outlier the accuracy_score
#accuracy_score(true_output,pred_output)
from sklearn.metrics import accuracy_score
accuracy_score(y,pred)


#check outliers 
import matplotlib.pyplot as plt
import seaborn as sb
sb.scatterplot(x=df.diameter,y=df.weight,hue=df.FruitName)
plt.show()


#After removing outliers
df=pd.read_csv('G:/dataset/classification/fruits.csv')
df.drop(5,inplace=True)
X=df.iloc[:,:-1].values  #feature matrix
y=df.iloc[:,-1].values   #target matrix or series
model=KNeighborsClassifier()
model.fit(X,y)  #Training data
print(model.predict([[7.5,120]]))
pred=model.predict(X)
accuracy_score(y,pred)


sb.scatterplot(x=df.diameter,y=df.weight,hue=df.FruitName)
plt.show()



