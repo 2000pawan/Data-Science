


import pandas as pd
from sklearn.neighbors import KNeighborsClassifier
from sklearn.model_selection import GridSearchCV,KFold,RandomizedSearchCV


df=pd.read_csv('G:/dataset/classification/fruits.csv')
X=df.iloc[:,:-1].values
y=df.iloc[:,-1].values
model=KNeighborsClassifier()
gs=GridSearchCV(model,param_grid={'n_neighbors':[3,4,5,6,7,8,9]},cv=5)
gs.fit(X,y)


gs.best_score_


gs.best_params_


model=KNeighborsClassifier()
gs=GridSearchCV(model,param_grid={'n_neighbors':[3,4,5,6,7,8,9],'metric':['euclidean','manhattan']},cv=5)
gs.fit(X,y)


df.FruitName=df.FruitName.map({'Apple':0,'Banana':1})


df=pd.read_csv('G:/dataset/classification/fruits.csv')
X=df.iloc[:,:-1].values
y=df.iloc[:,-1].values
model=KNeighborsClassifier()
gs=GridSearchCV(model,param_grid={'n_neighbors':[2,3,4,5,6,7,8],'metric':['euclidean','manhattan']},cv=5)
gs.fit(X,y)


gs.best_params_


gs.best_score_


df=pd.read_csv('G:/dataset/classification/fruits.csv')
X=df.iloc[:,:-1].values
y=df.iloc[:,-1].values
model=KNeighborsClassifier()
rs=RandomizedSearchCV(model,param_distributions={'n_neighbors':[2,3,4,5,6,7,8],'metric':['euclidean','manhattan']},random_state=10,cv=5,n_iter=10)
rs.fit(X,y)


rs.best_params_


rs.best_score_



