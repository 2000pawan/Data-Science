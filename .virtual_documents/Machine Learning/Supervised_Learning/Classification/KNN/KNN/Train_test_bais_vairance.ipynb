from sklearn.neighbors import KNeighborsClassifier
import pandas as pd
from sklearn.metrics import accuracy_score
df=pd.read_csv('G:/dataset/classification/fruits.csv')
X=df.iloc[:,:-1].values
y=df.iloc[:,-1].values
model=KNeighborsClassifier()
model.fit(X,y)
pre=model.predict(X)
from sklearn.metrics import accuracy_score
accuracy_score(y,pre)


#Train and test dataset spliting
from sklearn.neighbors import KNeighborsClassifier
import pandas as pd
from sklearn.metrics import accuracy_score
from sklearn.model_selection import train_test_split
df=pd.read_csv('G:/dataset/classification/fruits.csv')
X=df.iloc[:,:-1].values
y=df.iloc[:,-1].values
model=KNeighborsClassifier()


#default split in 75% or 25% without given how much % you want to split 
X_train,X_test,y_train,y_test=train_test_split(X,y,test_size=.25,train_size=.75,random_state=1)


model.fit(X_train,y_train)


a=model.predict(X_train)
b=model.predict(X_test)
accuracy_score(y_train,a)


accuracy_score(y_test,b)



