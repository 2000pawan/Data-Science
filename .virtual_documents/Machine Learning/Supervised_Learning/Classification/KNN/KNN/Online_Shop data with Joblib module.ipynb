import pandas as pd
import matplotlib.pyplot as plt
import seaborn as sb
from sklearn.neighbors import KNeighborsClassifier
from sklearn.metrics import accuracy_score
from sklearn.preprocessing import MinMaxScaler
from sklearn.model_selection import train_test_split
from sklearn.preprocessing import LabelEncoder
from sklearn.preprocessing import MaxAbsScaler,StandardScaler


### Using MinMaxScaler
df=pd.read_csv('G:/dataset/classification/online_shop.csv')
en=LabelEncoder()
df.Gender=en.fit_transform(df.Gender)
X=df.iloc[:,:-1].values
y=df.iloc[:,-1].values
model=KNeighborsClassifier()
X_train,X_test,y_train,y_test=train_test_split(X,y,random_state=1)
model.fit(X_train,y_train)
pred=model.predict(X_train)
pred1=model.predict(X_test)
print(accuracy_score(pred,y_train))
print(accuracy_score(pred1,y_test))
age=int(input('Enter your age:-'))
salary=int(input('Enter your salary:-'))
gender=int(input('Enter your gender(if you are male enter 1 and female enter 0):-'))
prdiction=model.predict([[gender,age,salary]])
if prdiction==1:
    print('Person Preferred Online Shopping!')
else:
    print('Person Preferred Offline Shopping!')


import joblib


joblib.dump(model,"G:/Coding/online_shop.pkl")


import pickle


pickle.dump(model,open("G:/Coding/online.pkl","wb"))


df=pd.read_csv('G:/dataset/classification/online_shop.csv')
en=LabelEncoder()
df.Gender=en.fit_transform(df.Gender)
X=df.iloc[:,:-1].values
y=df.iloc[:,-1].values
model=KNeighborsClassifier()
X_train,X_test,y_train,y_test=train_test_split(X,y,random_state=1)
sc=MaxAbsScaler()
X_train_new=sc.fit_transform(X_train)
X_test_new=sc.transform(X_test)
model.fit(X_train_new,y_train)
pred=model.predict(X_train_new)
pred1=model.predict(X_test_new)
print(accuracy_score(pred,y_train))
print(accuracy_score(pred1,y_test))


import joblib


joblib.dump(en,'G:/Coding/en.pkl')
joblib.dump(sc,'G:/Coding/sc.pkl')
joblib.dump(model,'G:/Coding/model.pkl')






