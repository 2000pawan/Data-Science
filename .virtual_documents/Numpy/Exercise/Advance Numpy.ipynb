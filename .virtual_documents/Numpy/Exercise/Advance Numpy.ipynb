import numpy as np


x=np.array([[2,3,4],[4,5,6],[5,8,9]])
y=np.array([[1,6],[8,9],[1,5]])
z=np.dot(x,y)
print(z)


print(np.eye(3))
print(np.identity(3))
print(np.vstack((np.identity(3),np.identity(3),np.identity(3))))
print(np.hstack((np.identity(3),np.identity(3),np.identity(3))))


x=np.random.rand(4,4)
print(np.sum(x,axis=1))


x=np.random.rand(3,3)
y=np.mean(x,axis=1,keepdims=True)
z=np.subtract(x,y)
print(x)
print(y)
print(z)


x=np.random.rand(3,3)
y=np.mean(x,axis=0,keepdims=True)
z=np.subtract(x,y)
print(x)
print(y)
print(z)


x=np.random.rand(5,5)
print(x)
print(x/np.linalg.norm(x,axis=1,keepdims=True))


x=np.random.rand(5,5)
print(x)
y=np.mean(x,axis=0)
print((x-y)/np.std(x,axis=0))


x=np.random.rand(3,3,3)
print(x)
print(np.sum(x,axis=2))


x=np.random.rand(5,5)
print(x)
print(np.sort(x,axis=0))


x=np.random.rand(5,5)
print(x)
print(np.sort(x,axis=1))


x=np.random.rand(5,5)
print(x)
print(np.partition(x,-2,axis=1)[:,-2])


x=np.random.rand(5,5)
print(x)
y=np.argsort(x,axis=0)[-2,:]
print(x[y,np.arange(x.shape[1])])


x=np.random.rand(5,5)
print(x)
y=np.max(x)
print(y)
x[x==y]=0
x


x=np.random.rand(5,5)
print(x)
y=np.min(x)
print(y)
x[x==y]=0
x


x=np.random.rand(5,5)
print(x)
print(np.exp(x))



