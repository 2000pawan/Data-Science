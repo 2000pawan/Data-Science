import numpy as np


arr=np.arange(10)
print(arr)


arr=arr.reshape(2,-1)
arr


a=np.random.random((5,3))
b=np.random.random((3,2))
result=np.dot(a,b)
result


arr=np.arange(10)
arr[arr%2!=0]=-1
arr


arr=np.array([-1,2,0,-4,5])
bool=arr>0
bool


arr=np.arange(1,10)
arr[arr%2==0]*=-1
arr


a=np.random.random((3,3))
norm=(a-np.mean(a))/np.std(a)
norm


m=np.random.random((3,3))
di_sum=np.trace(m)
di_sum


x=np.array([1,2,0,0,4,0])
n=np.nonzero(x)
n



