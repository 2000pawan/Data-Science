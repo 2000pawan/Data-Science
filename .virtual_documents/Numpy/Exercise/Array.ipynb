import numpy as np
print(np.__version__)


import numpy as np
x=[12.23,13.32,100,36.32]
y=np.array(x).reshape(4)
print(y)


x=np.arange(2,11).reshape(3,3)
print(x)


x=np.zeros(10)
x[6]=11
print(x)


x=np.arange(12,38)
print(x)


x=np.arange(12,38)
print(x)
y=x[::-1]
print(y)


x=np.arange(1,5)
print(x)
y=np.asfarray(x)
print(y)
x=x.astype(dtype='float')
print(x)


x=np.ones((5,5))
x[1:-1,1:-1]=0
print(x)


x=np.ones((4,4))
x=np.pad(x,pad_width=1,mode='constant',constant_values=0)
print(x)


x=np.zeros((8,8),dtype='int')
x[1::2,::2]=1
x[::2,1::2]=1
print(x)


x=[1,2,3,4,5,6,7,8]
y=np.array(x)
print(y)
z=np.asarray(x)
print(z)
a=([8,4,6],[1,2,3])
b=np.asarray(a)
print(b)


x=np.array((10,20,30))
y=[40,50,60,70,80,90]
z=np.concatenate((x,y))
print(z)
p=np.append(x,y)
print(p)


x=np.empty((3,4))
y=np.full((3,3),6)
print(x)
print(y)


x=[0, 12, 45.21, 34, 99.91, 32]
y=np.array(x)
z=np.round((5*y/9-5*32/9),2)
print(z)
f=np.round((9*z/5+32),2)
print(f)


x=np.sqrt([1+0j])
y=np.sqrt([0+1j])
print(x)
print(y)
print("Real part of the array:")
print(x.real)
print(y.real)
print("Imaginary part of the array:")
print(x.imag)
print(y.imag)


x=np.array([1,2,3],dtype=np.float64)
print(x)
print(x.size)
print(x.itemsize)
print(x.nbytes)


x=np.array([0,10,20,40,60])
y=np.array([0,40])
print(np.in1d(x,y))


x=np.array([0,10,20,40,60])
y=np.array([10,30,40])
print(np.intersect1d(x,y))


x=np.array([10, 10, 20, 20, 30, 30])
print(np.unique(x))
x=np.array([[1, 1],
[2, 3]])
print(np.unique(x))


x=np.array([0,10,20,40,60,80])
y=np.array([10,30,40,50,70,90])
print(np.setdiff1d(x,y))


x=np.array([0,10,20,40,60,80])
y=np.array([10,30,40,50,70,90])
print(np.setxor1d(x,y))


x=np.array([0,10,20,40,60,80])
y=np.array([10,30,40,50,70])
print(np.union1d(x,y))


print(np.all([[True,False],[True,True]]))  
print(np.all([[True,True],[True,True]]))  
print(np.all([10, 20, 0, -50]))   
print(np.all([10, 20, -50])) 


x=np.array([1,2,3,4])
print(np.tile(x,2))
print(np.tile(x,3))


x=np.array([3])
print(np.repeat(x,4))
x=np.array([1,2,3,4])
print(np.repeat(x,2))


x=np.array([1,2,3,4,5,6])
print(np.argmax(x))
print(np.argmin(x))


x=np.array([1,2])
y=np.array([4,5])
print(np.greater(x,y))
print(np.greater_equal(x,y))
print(np.less(x,y))
print(np.less_equal(x,y))


import numpy as np
x=np.array([[4,6],[2,1]])
y=np.sort(x,axis=0)
print(y)
z=np.sort(y,axis=1)
print(z)


s = ('Margery', 'Betsey', 'Shelley', 'Lanell', 'Genesis')
l = ('Woolum', 'Battle', 'Plotner', 'Brien', 'Stahl')
x=np.lexsort((s,l))
print(x)


x=np.array([[ 0, 10, 20],
[20, 30, 40]])
print(x[x>10])
print(np.nonzero(x>10))


x=np.array([[ 0, 10, 20],
[20, 30, 40]])
y=np.savetxt('G:/Coding/nuppy.out',x,delimiter=',')


n=np.array([[ 0, 10, 20],
[20, 30, 40]])
print(n.size*n.itemsize)
n=np.zeros((4,4))
print(n.size*n.itemsize)


x=np.zeros((1,2))
print(x)
y=np.array(x,dtype='int')
print(y)
x=np.ones((1,2))
print(x)
y=np.array(x,dtype='int')
print(y)


x=np.array([1,2,3,4,5,6,7,8,9])
print(x)
print(x.shape)
x.shape=(3,3)
print(x)
print(x.shape)


import numpy as np
x=np.array([[10, 20, 30],
[20, 40, 50]])
print(np.ravel(x))


x=np.arange(1,7,dtype='int32').reshape(2,3)
print(x)
print(type(x))
print(x.shape)
print(x.dtype)


x=np.array([[1, 2],
[3, 4],
[5, 6]])
print(x)
print(x.shape)
x=x.reshape(2,3)
print(x)
print(x.shape)


x=np.array([[ 2, 4, 6],
[ 6, 8, 10]],dtype='int32')
print(x)
print(x.dtype)
y = x.astype(float)
print(y)
print(y.dtype)
x=np.float64(x)
print(x)
print(x.dtype)


x=np.full((3,5),2)
print(x)
y = np.ones([3, 5], dtype=np.uint) * 2
print(y) 


x=np.arange(4,dtype=np.int64)
y=np.full_like(x,10)
print(x)
print(y)


x=np.zeros((3,3))
np.fill_diagonal(x,1)
print(x)
y=np.eye(3)
print(y)


x=np.zeros((4,4))
np.fill_diagonal(x,[4,5,6,8])
print(x)
y=np.diagflat([4,5,6,8])
print(y)


x=np.arange(50)
print(x)
x=np.arange(10,50)
print(x)


x=np.linspace(2.5,6.5,30)
print(x)


x=np.logspace(2.,5.,20,endpoint=False)
print(x)


x=np.tri(4,3,-1)
print(x)


x=np.triu(np.arange(2,14).reshape(4,3),-1)
print(x)


y=np.eye(3)
print(y)
x=np.ravel(y,order='F')
print(x)


x=np.array([[ 2, 4, 6],
[ 6, 8, 10]])
x.flat[3]


x=np.array([[1,2,3]])
np.swapaxes(x,0,1)


x = np.zeros((2, 3, 4))
print(np.moveaxis(x, 0, -1).shape)
print(np.moveaxis(x, -1, 0).shape)


x = np.ones((2, 3, 4, 5))
np.rollaxis(x,3,1).shape


x=12.0
print(np.atleast_1d(x))
x=np.arange(6.0).reshape(2,3)
print(np.atleast_1d(x))
print(np.atleast_1d(1,[3,4]))


x=12.0
print(np.atleast_2d(x))
x=np.arange(6.0).reshape(2,3)
print(np.atleast_2d(x))
print(np.atleast_2d(1,[3,4]))
x=12.0
print(np.atleast_3d(x))
x=np.arange(6.0).reshape(2,3)
print(np.atleast_3d(x))
print(np.atleast_3d(1,[3,4]))


x=np.zeros((3,4))
y=np.expand_dims(x,axis=1).shape
print(y)


x=np.zeros((3,4))
y=np.squeeze(x).shape
print(y)


x=np.array([[0, 1, 3], [5, 7, 9]])
y=np.array([[0, 2, 4], [6, 8, 10]])
print(np.concatenate((x,y),1))


x=np.array((10,20,30))
y=np.array((40,50,60))
print(np.column_stack((x,y)))


x=np.array((10,20,30))
y=np.array((40,50,60))
print(np.dstack((x,y)))


x=np.array( [ 1, 2, 3, 4, 5, 6, 7, 8, 9, 10, 11, 12, 13, 14])
print(np.split(x,[2,6]))


x=np.array([[ 0, 1, 2, 3],
[ 4, 5, 6, 7],
[ 8, 9, 10, 11],
[12, 13, 14, 15]])
print(np.hsplit(x,[2,6]))


x=np.array([[ 0, 10, 20],
[20, 30, 40]])
print(np.count_nonzero(x))


x=np.zeros((5,5))
y=x+np.arange(5)
print(y)


x=np.array([[ 1.12, 2., 3.45],
[ 2.33, 5.12, 6. ]])
print(x)
print(2 in x)
print(0 in x)
print(6 in x)
print(2.3 in x)
print(5.12 in x)


x = np.linspace(0, 1, 12, endpoint=True)[1:-1]
print(x)


x=np.zeros(10)
x.flags.writeable=False
print(x)
x[0]=1


x=np.arange(1,100)
n=x[(x%3==0) | (x%5==0)]
print(n[:1000])
print(n.sum())


# x=np.arange(10**3)
# print(x)
x=np.arange(1e3)
print(x)


x=np.arange(12).reshape(3,4)
for x in np.nditer(x):
    print(x,end=' ')


import numpy as np
x=np.arange(12).reshape(3,4)
for x in np.nditer(x,order='F'):
    print(x,end=' ')


x=np.ones((5,5,5),dtype='int')
print(x)


x=np.array([[ 0, 1, 2, 3],
[ 4, 5, 6, 7],
[ 8, 9, 10, 11]])
print(x)
print(x*3)


x=np.array([0, 1, 2, 3])
y=np.array([[0, 1, 2, 3],
[4, 5, 6, 7]])
for a, b in np.nditer([x, y]):
    print("%d:%d" % (a, b), end=' ') 


x = np.zeros((3,), dtype=('i4,f4,a40'))
new_data = [(1, 2., "Albert Einstein"), (2, 2., "Edmond Halley"), (3, 3., "Gertrude B. Elion")]
x[:]=new_data
print(x)


import numpy as np
def cube(x):
    return np.array(x)**3
x=[1,2,3]
print(cube(x))



