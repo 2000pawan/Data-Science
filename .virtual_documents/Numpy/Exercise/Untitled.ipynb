import numpy as np


x=np.array([[2,3],[4,5]])
y=np.array([[6,1],[7,8]])
z=x*y
print(z)
p = [[1, 0], [0, 1]]
q = [[1, 2], [3, 4]]
z=np.dot(p,q)
z


p = [[1, 0], [0, 1]]
q = [[1, 2], [3, 4]]
z=np.outer(p,q)
z


p = [[1, 0], [0, 1]]
q = [[1, 2], [3, 4]]
z=np.cross(p,q)
print(z)
z=np.cross(q,p)
print(z)


import numpy as np
a = np.array([[1, 0], [1, 2]])
print("Original 2-d array")
print(a)
z=np.linalg.det(a)
z


import numpy as np
a = np.array([1,2,3])
b = np.array([0,1,0])
print("Original 2-d array")
print(a)
print(b)
print(np.einsum('n,n',a,b))
x = np.arange(9).reshape(3, 3)
y = np.arange(3, 12).reshape(3, 3)
print("Original Higher dimension:")
print(x)
print(y)
result = np.einsum("mk,kn", x, y)
print("Einstein’s summation convention of the said arrays:")
print(result) 


import numpy as np
a = np.array([1, 2, 5])
b = np.array([2, 1, 0])
print("Original 1-d arrays:")
print(a)
print(b)
z=np.inner(a,b)
print(z)
x = np.arange(9).reshape(3, 3)
y = np.arange(3, 12).reshape(3, 3)
np.inner(x,y)


import numpy as np
m = np.mat("3 -2; 1 0")
print("Original matrix:")
print("a\n", m)
w,v=np.linalg.eig(m)
print("Eigenvalues of the said matrix", w)
print("Eigenvectors of the said matrix", v) 


import numpy as np
a = np.array([1, 2, 3])
b = np.array([0, 1, 0])
print("Original 1-d arrays:")
print(a)
print(b)
z=np.kron(a,b)
print(z)
x = np.arange(9).reshape(3, 3)
y = np.arange(3, 12).reshape(3, 3)
print("Original Higher dimension:")
print(x)
print(y)
np.kron(x,y)


import numpy as np
a = np.array([[1, 0, -1], [0, 1, 0], [1, 0, 1]])
print(a)
np.linalg.cond(a)


import numpy as np
v = np.arange(7)
result = np.linalg.norm(v)
print("Vector norm:")
print(result)
m = np.matrix('1, 2; 3, 4') 
result1 = np.linalg.norm(m)
print("Matrix norm:")
print(result1)


import numpy as np
a = np.array([[1,2],[3,4]])
print("Original array:")
print(a)
np.linalg.det(a)


import numpy as np
m = np.matrix('1, 2; 3, 4') 
print(m)
np.linalg.inv(m)


import numpy as np
m = np.matrix('1, 2; 3, 4') 
print(m)
print(np.linalg.qr(m))


import numpy as np
m = np.matrix('1, 2; 3, 4') 
print(m)
print(np.linalg.cond(m))


import numpy as np
m = np.matrix('1, 2; 3, 4') 
print(m)
print(np.trace(m))


import numpy as np
a = np.array([[4, 12, -16], [12, 37, -53], [-16, -53, 98]], dtype=np.int32)
print("Original array:")
print(a)
print(np.linalg.cholesky(a))


import numpy as np
a = np.array([[4, 12, -16], [12, 37, -53], [-16, -53, 98]], dtype=np.int32)
print("Original array:")
print(a)
q, r = np.linalg.qr(a)
print("qr factorization of the said array:")
print("q=\n", q, "\nr=\n", r) 


import numpy as np
a = np.array([[1, 0, 0, 0, 2], [0, 0, 3, 0, 0], [0, 0, 0, 0, 0], [0, 2, 0, 0, 0]], dtype=np.float32)
print("Original array:")
print(a)
U, s, V = np.linalg.svd(a, full_matrices=False)
q, r = np.linalg.qr(a)
print("Factor of a given array by Singular Value Decomposition:")
print("U=\n", U, "\ns=\n", s, "\nV=\n", V) 


import numpy as np
a = np.arange(1, 10).reshape((3, 3))
print("Original array:")
print(a)
print(np.linalg.cond(a,'fro'))
print(np.linalg.norm(a,'fro'))



