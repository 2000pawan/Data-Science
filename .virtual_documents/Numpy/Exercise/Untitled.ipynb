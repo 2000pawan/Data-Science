import numpy as np
a=np.random.normal(size=5)
a


import numpy as np
a=np.random.randint(10,30,6)
a


import numpy as np
a=np.random.random((3,3,3))
a


import numpy as np
a=np.random.random((5,5))
print(a)
print(np.min(a))
print(np.max(a))


import numpy as np
a=np.random.random((10,4))
b=a[:5]
print(a)
print(b)


import numpy as np
x=np.arange(0,10)
np.random.shuffle(x)
print(x)
print(np.random.permutation(10))


import numpy as np
x=np.random.random((3,3))
print(x)
y=(x-x.min())/(x.max()-x.min())
print(y)


import numpy as np
x=np.random.random(10)
print(x)
np.sort(x)


import numpy as np
x=np.random.uniform(1,12,5)
v=4
n=x.flat[np.abs(x-v).argmin()]
print(n)


import numpy as np
x=np.random.randint(0,2,size=5)
y=np.random.randint(0,2,size=5)
print(x)
print(y)
print(np.allclose(x,y))


import numpy as np
x=np.random.random(15)
print(x)
print(x.argmax())
x[x.argmax()]=-1
print(x)


import numpy as np
a=np.random.random((10,2))
x,y=np.atleast_2d(a[:,0],a[:,1])
d = np.sqrt((x - x.T) ** 2 + (y - y.T) ** 2)
print(d)


import numpy as np
x=np.random.randint(1,10,40)
print(x)
print(np.bincount(x).argmax())


import numpy as np
z=np.random.random((10,2))
x,y=z[:,0],z[:,1]
r=np.sqrt(x**2+y**2)
t=np.arctan2(y,x)
print(r)
print(t)


import numpy as np
x=np.arange(0,100)
print(x)
y=np.random.uniform(0,100)
print(y)
index=(np.abs(x-y)).argmin()
print(x[index])


import numpy as np
x=np.arange(0,10)
print(x)
np.random.shuffle(x)
print(x.max())
n=1
print(x[np.argsort(x)[-n:]])


import numpy as np
np.random.seed(32)
nums = np.random.randint(low=0, high=256, size=(300, 400, 5), dtype=np.uint8)
print(nums)



