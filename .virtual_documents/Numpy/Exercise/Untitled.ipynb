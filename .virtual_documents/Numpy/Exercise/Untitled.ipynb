import numpy as np
a=np.array([[10,40],[30,20]])
print(a)
print(np.sort(a,axis=0))
print(np.sort(a))
print9



