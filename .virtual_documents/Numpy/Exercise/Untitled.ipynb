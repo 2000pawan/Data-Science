import numpy as np


print(np.add(4.0,1.2))
print(np.subtract(4.0,1.2))
print(np.multiply(4.0,1.2))
print(np.divide(4.0,1.2))


l1 = np.log(1e-50)
l2 = np.log(2.5e-50)
print(np.logaddexp(l1,l2))
print(np.logaddexp2(l1,l2))


x=np.arange(10)
print(np.true_divide(x,3))


print("Original array:")
print(x)
print("Largest integer smaller or equal to the division of the inputs:")
print(np.floor_divide(x, 1.5))


x=np.arange(7)
print(np.power(x,3))


x=np.arange(7)
print(np.remainder(x,5))


x=np.array([ -10.2,122.2, 0.2])
print(np.absolute(x))


# Importing the NumPy library
import numpy as np

# Rounding the numbers to the nearest integer
x = np.round([1.45, 1.50, 1.55])
print(x)

# Rounding the numbers to one decimal place
x = np.round([0.28, .50, .64], decimals=1)
print(x)

# Rounding the numbers to the nearest even value
x = np.round([.5, 1.5, 2.5, 3.5, 4.5])
print(x) 



# Importing the NumPy library
import numpy as np

# Creating an array with float values
x = np.array([-.7, -1.5, -1.7, 0.3, 1.5, 1.8, 2.0])

# Displaying the original array
print("Original array:")
print(x)

# Rounding elements of the array to the nearest integer
x = np.rint(x)
print("Round elements of the array to the nearest integer:")
print(x) 



x = np.array([-1.6, -1.5, -0.3, 0.1, 1.4, 1.8, 2.0])
print(np.floor(x))
print(np.ceil(x))
print(np.trunc(x))


x=np.array([[ 0.44349753, 0.81043761, 0.00771825],
[ 0.64004088, 0.86774612, 0.19944667],
[ 0.61520091, 0.24796788, 0.93798297],
[ 0.22156999, 0.61318856, 0.82348994],
[ 0.91324026, 0.13411297, 0.00622696]])
y=np.array([[ 0.73873542, 0.06448186],
[ 0.90974982, 0.06409165],
[ 0.22321268, 0.39147412]])
print(np.dot(x,y))


x=np.array([ 1.+2.j, 3.+4.j])
y=np.array([ 5.+6.j, 7.+8.j])
print(np.vdot(x,y))


x=np.array([[[ 0, 1, 2, 3],
[ 4, 5, 6, 7],
[ 8, 9, 10, 11]],
[[12, 13, 14, 15],
[16, 17, 18, 19],
[20, 21, 22, 23]]])
y=np.array([0,1,2,3])
print(np.inner(x,y))


x=np.array([ 1., 4., 0.])
y=np.array([ 2., 2., 1.])
print(np.inner(x,y))
print(np.outer(x,y))
print(np.cross(x,y))


x=[[1,0],[1,1]]
y=[[3,1],[2,2]]
print(np.matmul(x,y))


# Importing the NumPy library
import numpy as np

# Computing the roots of the first polynomial [1, -2, 1]
print("Roots of the first polynomial:")
print(np.roots([1, -2, 1]))

# Computing the roots of the second polynomial [1, -12, 10, 7, -10]
print("Roots of the second polynomial:")
print(np.roots([1, -12, 10, 7, -10])) 



# Importing the NumPy library
import numpy as np

# Computing the value of the polynomial [1, -2, 1] when x = 2
print("Polynomial value when x = 2:")
print(np.polyval([1, -2, 1], 2))

# Computing the value of the polynomial [1, -12, 10, 7, -10] when x = 3
print("Polynomial value when x = 3:")
print(np.polyval([1, -12, 10, 7, -10], 3)) 



# Importing the required polynomial functions from numpy
from numpy.polynomial import polynomial as P

# Define the coefficients of the first polynomial
x = (10, 20, 30)

# Define the coefficients of the second polynomial
y = (30, 40, 50)

# Add one polynomial to another
print("Add one polynomial to another:")
print(P.polyadd(x, y))

# Subtract one polynomial from another
print("Subtract one polynomial from another:")
print(P.polysub(x, y))

# Multiply one polynomial by another
print("Multiply one polynomial by another:")
print(P.polymul(x, y))

# Divide one polynomial by another
print("Divide one polynomial by another:")
print(P.polydiv(x, y)) 



x=[[10 ,30],
[20, 60]]
print(np.mean(x,axis=1))
print(np.mean(x,axis=0))

# Importing the NumPy library
import numpy as np

# Creating a 2x2 NumPy array
x = np.array([[10, 30], [20, 60]])

# Displaying the original array
print("Original array:")
print(x)

# Computing the mean of each column using axis 0 (column-wise)
print("Mean of each column:")
print(x.mean(axis=0))

# Computing the mean of each row using axis 1 (row-wise)
print("Mean of each row:")
print(x.mean(axis=1)) 



x=np.random.randn(1000)
print(x.mean())
print(np.average(x))
print(np.std(x))
print(np.var(x))

# Displaying the average of the array elements
print("Average of the array elements:")
mean = x.mean()  # Calculating the mean
print(mean)

# Displaying the standard deviation of the array elements
print("Standard deviation of the array elements:")
std = x.std()  # Calculating the standard deviation
print(std)

# Displaying the variance of the array elements
print("Variance of the array elements:")
var = x.var()  # Calculating the variance
print(var) 



 # Importing the NumPy library
import numpy as np

# Computing the sine values for an array of angles given in degrees
print("sine: array of angles given in degrees")
print(np.sin(np.array((0., 30., 45., 60., 90.)) * np.pi / 180.))

# Computing the cosine values for an array of angles given in degrees
print("cosine: array of angles given in degrees")
print(np.cos(np.array((0., 30., 45., 60., 90.)) * np.pi / 180.))

# Computing the tangent values for an array of angles given in degrees
print("tangent: array of angles given in degrees")
print(np.tan(np.array((0., 30., 45., 60., 90.)) * np.pi / 180.))



# Importing the NumPy library
import numpy as np

# Creating an array of values (-1, 0, 1)
x = np.array([-1., 0, 1.])

# Computing the inverse sine for each element in the array
print("Inverse sine:", np.arcsin(x))

# Computing the inverse cosine for each element in the array
print("Inverse cosine:", np.arccos(x))

# Computing the inverse tangent for each element in the array
print("Inverse tangent:", np.arctan(x)) 



# Importing the NumPy library
import numpy as np

# Creating an array of angles in radians: [-π, -π/2, π/2, π]
x = np.array([-np.pi, -np.pi/2, np.pi/2, np.pi])

# Converting angles from radians to degrees using np.degrees()
r1 = np.degrees(x)

# Converting angles from radians to degrees using np.rad2deg()
r2 = np.rad2deg(x)

# Checking if the results from np.degrees() and np.rad2deg() are equivalent
assert np.array_equiv(r1, r2)

# Printing the converted angles in degrees
print(r1) 



x=[-180., -90., 90., 180.]
print(np.deg2rad(x))
print(np.radians(x))
print(np.array_equiv(np.radians(x), np.deg2rad(x)))


# Importing the NumPy library
import numpy as np

# Creating an array of values: [-1, 0, 1]
x = np.array([-1., 0, 1.])

# Computing hyperbolic sine (sinh) of each element in the array using np.sinh()
print(np.sinh(x))

# Computing hyperboli
c cosine (cosh) of each element in the array using np.cosh()
print(np.cosh(x))

# Computing hyperbolic tangent (tanh) of each element in the array using np.tanh()
print(np.tanh(x)) 



# Importing the NumPy library
import numpy as np

# Creating an array with various float values
x = np.array([3.1, 3.5, 4.5, 2.9, -3.1, -3.5, -5.9])

# Displaying the original array
print("Original array: ")
print(x)

# Using NumPy's around function to round the values to the nearest integer
r1 = np.around(x)

# Using NumPy's floor function to round down to the nearest integer
r2 = np.floor(x)

# Using NumPy's ceil function to round up to the nearest integer
r3 = np.ceil(x)

# Using NumPy's trunc function to truncate the decimal part of each value
r4 = np.trunc(x)

# Using Python's built-in round function for each element in the array
r5 = [round(elem) for elem in x]

# Printing the results of each operation
print("\naround:   ", r1)
print("floor:    ", r2)
print("ceil:     ", r3)
print("trunc:    ", r4)
print("round:    ", r5) 



# Importing the NumPy library
import numpy as np

# Creating a 2D array
x = np.array([[1, 2, 3], [4, 5, 6]])

# Displaying the original array
print("Original array: ")
print(x)

# Calculating the cumulative sum of all elements in the array
print("Cumulative sum of the elements along a given axis:")
r = np.cumsum(x)
print(r)

# Calculating the cumulative sum over rows for each of the 3 columns
print("\nSum over rows for each of the 3 columns:")
r = np.cumsum(x, axis=0)
print(r)

# Calculating the cumulative sum over columns for each of the 2 rows
print("\nSum over columns for each of the 2 rows:")
r = np.cumsum(x, axis=1)
print(r) 



# Importing the NumPy library
import numpy as np

# Creating a 2D array
x = np.array([[1, 2, 3], [4, 5, 6]])

# Displaying the original array
print("Original array: ")
print(x)

# Calculating the cumulative sum of all elements in the array
print("Cumulative sum of the elements along a given axis:")
r = np.cumprod(x)
print(r)

# Calculating the cumulative sum over rows for each of the 3 columns
print("\nSum over rows for each of the 3 columns:")
r = np.cumprod(x, axis=0)
print(r)

# Calculating the cumulative sum over columns for each of the 2 rows
print("\nSum over columns for each of the 2 rows:")
r = np.cumprod(x, axis=1)
print(r) 



x=np.array([1, 3, 5, 7, 0])
print(np.diff(x))


x=np.array([1, 3, 5, 7, 0])
r1 = np.ediff1d(x, to_begin=[0, 0], to_end=[200])
r2 = np.insert(np.append(np.diff(x), 200), 0, [0, 0])
print(r1)
print(r2)
print(np.array_equiv(r1, r2))


# Importing the NumPy library
import numpy as np

# Creating an array of float32 type
x = np.array([1., 2., 3., 4.], np.float32)

# Displaying the original array
print("Original array: ")
print(x)

# Calculating exponential (e^x) for each element of the array x
print("\ne^x, element-wise of the said:")
r = np.exp(x)
print(r) 



# Importing the NumPy library
import numpy as np

# Creating an array of float32 type
x = np.array([1., 2., 3., 4.], np.float32)

# Displaying the original array
print("Original array: ")
print(x)

# Calculating exponential (e^x) for each element of the array x
print("\ne^x, element-wise of the said:")
r = np.expm1(x)
print(r) 
print(np.exp(x) - 1)


# Importing the NumPy library
import numpy as np

# Creating an array of float32 type
x = np.array([1., 2., 3., 4.], np.float32)

# Displaying the original array
print("Original array: ")
print(x)

# Calculating exponential (e^x) for each element of the array x
print("\ne^x, element-wise of the said:")
r = np.exp2(x)
print(r) 


# Importing the NumPy library
import numpy as np

# Creating an array consisting of 1, e, and e^2
x = np.array([1, np.e, np.e**2])

# Displaying the original array
print("Original array: ")
print(x)

# Calculating natural logarithm (base e) of the array elements
print("\nNatural log =", np.log(x))

# Calculating common logarithm (base 10) of the array elements
print("Common log =", np.log10(x))

# Calculating base 2 logarithm of the array elements
print("Base 2 log =", np.log2(x)) 



# Importing the NumPy library
import numpy as np

# Creating an array with two very small numbers
x = np.array([1e-99, 1e-100])

# Displaying the original array
print("Original array: ")
print(x)

# Calculating natural logarithm of one plus each element in the array
print("\nNatural logarithm of one plus each element:")
print(np.log1p(x)) 



# Importing the NumPy library
import numpy as np

# Creating an array with integer values ranging from -4 to 4
x = np.array([-4, -3, -2, -1, 0, 1, 2, 3, 4])

# Displaying the original array
print("Original array: ")
print(x)

# Calculating sign bit of each element in the array using np.signbit()
r1 = np.signbit(x)

# Comparing if each element is less than zero to determine sign bit as a boolean array
r2 = x < 0

# Verifying if both approaches yield the same result
assert np.array_equiv(r1, r2)

# Displaying the sign bit of each element in the array
print(r1)



# Importing the NumPy library
import numpy as np

# Creating an array with integer values from -1 to 2
x1 = np.array([-1, 0, 1, 2])

# Displaying the original array x1
print("Original array: ")
print(x1)

# Assigning a floating-point value to x2
x2 = -2.1

# Displaying the sign of x1 with respect to x2, element-wise using np.copysign()
print("\nSign of x1 to that of x2, element-wise:")
print(np.copysign(x1, x2)) 



x = np.array([0, 1, -1])
print(np.negative(x))


x=np.array([1., 2., 0.2, 0.3])
print(np.reciprocal(x))


x = np.array([[1, 2], [3, 4]])
y = np.array([[1, 2], [1, 2]])
print(np.power(x,y))


x=np.array([ 1, 3, 5, 0, -1, -7, 0, 5])
print(np.sign(x))



