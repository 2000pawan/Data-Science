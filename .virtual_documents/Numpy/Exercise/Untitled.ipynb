import numpy as np


x=np.array(['Python','PHP'],dtype=np.str_)
y=np.array([' Java',' C++'],dtype=np.str_)
print(np.char.add(x,y))



