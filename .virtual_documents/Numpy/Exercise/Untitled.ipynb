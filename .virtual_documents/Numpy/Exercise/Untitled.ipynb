import numpy as np
import warnings
warnings.filterwarnings('ignore')


print('March','2024')
print(np.arange('2024-03','2024-04',dtype='datetime64[D]'))


print('Yesterday:-',np.datetime64('today','D')-np.timedelta64(1,'D'))
print('Today:-',np.datetime64('today','D'))
print('Tomorrow:-',np.datetime64('today','D')+np.timedelta64(1,'D'))


print("Number of days, February, 2016: ")
print(np.datetime64('2016-03-01') - np.datetime64('2016-02-01'))

# Calculating the number of days in February 2017 using datetime64
print("Number of days, February, 2017: ")
print(np.datetime64('2017-03-01') - np.datetime64('2017-02-01'))

# Calculating the number of days in February 2018 using datetime64
print("Number of days, February, 2018: ")
print(np.datetime64('2018-03-01') - np.datetime64('2018-02-01'))


import datetime
start=datetime.datetime(2000,8,22)
dt_array=np.array([start + datetime.timedelta(hours=i) for i in range(24)])
print(dt_array)


print("First Monday in May 2024:")
print(np.busday_offset('2024-03', 0, roll='forward', weekmask='Mon')) 


print("Number of weekdays in March 2017:")
print(np.busday_count('2017-03', '2017-04')) 


from datetime import datetime

# Getting the current date and time in UTC
dt = datetime.utcnow()

# Displaying the current date and time
print("Current date:")
print(dt)

# Converting the datetime object to a NumPy datetime64 object
dt64 = np.datetime64(dt)

# Calculating the timestamp from the datetime64 object
# The timestamp is calculated by subtracting the datetime '1970-01-01T00:00:00Z' from the current datetime
# Then it's divided by the number of seconds in one unit of timedelta64 to get the timestamp
ts = (dt64 - np.datetime64('1970-01-01T00:00:00Z')) / np.timedelta64(1, 's')

# Displaying the timestamp
print("Timestamp:")
print(ts)

# Converting the timestamp back to UTC datetime and displaying it
print("UTC from Timestamp:")
print(datetime.utcfromtimestamp(ts))




