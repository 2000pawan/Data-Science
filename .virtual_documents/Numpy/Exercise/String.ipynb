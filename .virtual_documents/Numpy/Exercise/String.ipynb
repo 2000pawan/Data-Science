import numpy as np


x=np.array(['Python','PHP'],dtype=np.str_)
y=np.array([' Java',' C++'],dtype=np.str_)
print(np.char.add(x,y))


x=np.array(['Python','Java','C++','PHP'],dtype=np.str_)
print(np.char.multiply(x,3))


x=np.array(['python','java','C++','PHP'],dtype=np.str_)
print('Capitalized:-',np.char.capitalize(x))
print('Lowered:-',np.char.lower(x))
print('Uppered:-',np.char.upper(x))
print('Swapcases:-',np.char.swapcase(x))
print('Titlecased:-',np.char.title(x))


x=np.array(['python, exercises', 'PHP', 'java', 'C++'],dtype=np.str_)
print('Centered:=',np.char.center(x,width=15,fillchar='_'))
print('Left:=',np.char.ljust(x,width=15,fillchar='_'))
print('Right:=',np.char.rjust(x,width=15,fillchar='_'))


x=np.array(['python, exercises', 'PHP', 'java', 'C++'],dtype=np.str_)
np.char.join(" ", x)


x=[b'\x97\xa8\xa3\x88\x96\x95@\x85\xa7\x85\x99\x83\x89\xa2\x85\xa2'
b'\xd7\xc8\xd7' b'\x91\x81\xa5\x81' b'\xc3NN']
y=np.char.decode(x,encoding='cp500')
print(y)
print(np.char.encode(y,'cp500'))



