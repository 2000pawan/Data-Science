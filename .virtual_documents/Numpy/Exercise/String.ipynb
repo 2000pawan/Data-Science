import numpy as np


x=np.array(['Python','PHP'],dtype=np.str_)
y=np.array([' Java',' C++'],dtype=np.str_)
print(np.char.add(x,y))


x=np.array(['Python','Java','C++','PHP'],dtype=np.str_)
print(np.char.multiply(x,3))


x=np.array(['python','java','C++','PHP'],dtype=np.str_)
print('Capitalized:-',np.char.capitalize(x))
print('Lowered:-',np.char.lower(x))
print('Uppered:-',np.char.upper(x))
print('Swapcases:-',np.char.swapcase(x))
print('Titlecased:-',np.char.title(x))


x=np.array(['python, exercises', 'PHP', 'java', 'C++'],dtype=np.str_)
print('Centered:=',np.char.center(x,width=15,fillchar='_'))
print('Left:=',np.char.ljust(x,width=15,fillchar='_'))
print('Right:=',np.char.rjust(x,width=15,fillchar='_'))


x=np.array(['python, exercises', 'PHP', 'java', 'C++'],dtype=np.str_)
np.char.join(" ", x)


x=[b'\x97\xa8\xa3\x88\x96\x95@\x85\xa7\x85\x99\x83\x89\xa2\x85\xa2'
b'\xd7\xc8\xd7' b'\x91\x81\xa5\x81' b'\xc3NN']
y=np.char.decode(x,encoding='cp500')
print(y)
print(np.char.encode(y,'cp500'))


x = np.array([' python exercises ', ' PHP  ', ' java  ', '  C++'], dtype=np.str_)
print(np.char.strip(x))


x = np.array([' python exercises ', ' PHP  ', ' java  ', '  C++'], dtype=np.str_)
print(np.char.lstrip(x))


x = np.array([' python exercises ', ' PHP  ', ' java  ', '  C++'], dtype=np.str_)
print(np.char.rstrip(x))


x = np.array(['Python PHP Java C++'], dtype=np.str_)
print(np.char.split(x))


x = np.array(['Python\\Exercises, Practice, Solution'], dtype=np.str_)
print(np.char.splitlines(x))


x = np.array(['2', '11', '234', '1234', '12345'], dtype=np.str_)
print(np.char.zfill(x,5))


x = np.array(['Python Exercises, Practice, Solution'], dtype=np.str_)
print(np.char.replace(x,'Python','PHP'))


x = np.array(['Hello', 'PHP', 'JS', 'examples', 'html'], dtype=np.str_)
y = np.array(['Hello', 'php', 'Java', 'examples', 'html'], dtype=np.str_)
print('Equal Tests:-',np.char.equal(x,y))
print('Not Equal Tests:-',np.char.not_equal(x,y))
print('Less Equal Tests:-',np.char.less_equal(x,y))
print('Greater Equal Tests:-',np.char.greater_equal(x,y))
print('Less Tests:-',np.char.less(x,y))
print('Greater Tests:-',np.char.greater(x,y))


x = np.array(['Python', 'PHP', 'JS', 'examples', 'html'], dtype=np.str_)
print(np.char.count(x,'P'))


x = np.array(['Python', 'PHP', 'JS', 'EXAMPLES', 'HTML'], dtype=np.str_)
print(np.char.find(x,'P',))


x = np.array(['Python' ,'PHP', 'JS', 'Examples', 'html5', '5'], dtype=np.str_)
print('Digits Only:-',np.char.isdigit(x))
print('Lower Cases Only:-',np.char.islower(x))
print('Upper Cases Only:-',np.char.isupper(x))


x = np.array(['Python', 'PHP', 'JS', 'examples', 'html'], dtype=np.str_)
print(np.char.startswith(x,'P'))


nums = np.array(['1.12', '2.23', '3.71', '4.23', '5.11'], dtype=np.str_)
print(np.char.add('00', nums))
print(np.char.rjust(nums, 6, fillchar='0')) 


x = np.array([['Python-NumPy-Exercises'],['-Python-']], dtype=np.str_)
print(np.char.strip(np.char.replace(x,'-','==')))
print(np.char.strip(np.char.replace(x,'-',' ')))


x=np.array([['Python', 'NumPy', 'Exercises'],
['Python' ,'Pandas', 'Exercises'],
['Python', 'Machine learning', 'Python']],dtype=np.str_)
print(np.char.count(x,'Python'))


student = """01	V	Debby Pramod
02	V	Artemiy Ellie
03	V	Baptist Kamal
04	V	Lavanya Davide
05	V	Fulton Antwan
06	V	Euanthe Sandeep
07	V	Endzela Sanda
08	V	Victoire Waman
09	V	Briar Nur
10	V	Rose Lykos"""
print(student)
text_lines = student.splitlines()
text_lines = [r.split('\t') for r in text_lines]
result = np.array(text_lines, dtype=np.str_)
print("\nArray from the said text:")
print(result) 



