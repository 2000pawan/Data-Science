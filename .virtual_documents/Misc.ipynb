from math import sqrt
def test(n):
        x = sqrt(n * (n + 1) / 2)
        
        if x % 1 != 0:
            return -1
        else:
            return int(x)


print(test(4))


n=8
x = sqrt(n * (n + 1) / 2)
x


9/2


x='pawan'
x.capitalize()


import pandas as pd



df=pd.read_csv('G:/Coding/Git Uploads/Project/Crop Predictions/main.csv')
print((df['item'].unique()))
y=df['area'].unique()
# type(x
print(y)


df1=pd.read_csv('G:/Coding/Git Uploads/Project/Crop Predictions/test.csv')
df1


z=df['item'].values


type(z)


from functools import*
x=[1,2,3,4]
p=x.copy()
z=[]
for i in x:
    p.remove(i)
    z.append(reduce(lambda x,y: x*y,p))
    p=x.copy()
z


encode = {'team1': {'MI':1,'KKR':2,'RCB':3,'DC':4,'CSK':5,'RR':6,'DD':7,'GL':8,'KXIP':9,'SRH':10,'RPS':11,'KTK':12,'PW':13},'team2': {'MI':1,'KKR':2,'RCB':3,'DC':4,'CSK':5,'RR':6,'DD':7,'GL':8,'KXIP':9,'SRH':10,'RPS':11,'KTK':12,'PW':13},'toss_winner': {'MI':1,'KKR':2,'RCB':3,'DC':4,'CSK':5,'RR':6,'DD':7,'GL':8,'KXIP':9,'SRH':10,'RPS':11,'KTK':12,'PW':13},'winner': {'MI':1,'KKR':2,'RCB':3,'DC':4,'CSK':5,'RR':6,'DD':7,'GL':8,'KXIP':9,'SRH':10,'RPS':11,'KTK':12,'PW':13,'Draw':14},'toss_decision':{'field':0,'bat':1},
'city':{'Hyderabad':0, 'Pune':1, 'Rajkot':2, 'Indore':3, 'Bangalore':4, 'Mumbai':5,'Kolkata':6, 'Delhi':7, 'Chandigarh':8, 'Kanpur':9, 'Jaipur':10, 'Chennai':11,'Cape Town':12, 'Port Elizabeth':13, 'Durban':14, 'Centurion':15,'East London':16, 'Johannesburg':17, 'Kimberley':18, 'Bloemfontein':19,'Ahmedabad':20, 'Cuttack':21, 'Nagpur':22, 'Dharamsala':23, 'Kochi':24,'Visakhapatnam':25, 'Raipur':26, 'Ranchi':27, 'Abu Dhabi':28, 'Sharjah':29,'Dubai':30},'venue':{'Rajiv Gandhi International Stadium, Uppal':0,'Maharashtra Cricket Association Stadium':1,'Saurashtra Cricket Association Stadium':2, 'Holkar Cricket Stadium':3,'M Chinnaswamy Stadium':4, 'Wankhede Stadium':5, 'Eden Gardens':6,'Arun Jaitley Stadium':7,'Punjab Cricket Association IS Bindra Stadium, Mohali':8,'Green Park':9, 'Punjab Cricket Association Stadium, Mohali':8,'Sawai Mansingh Stadium':10, 'MA Chidambaram Stadium, Chepauk':11,'Dr DY Patil Sports Academy':5, 'Newlands':12, "St George's Park":13,'Kingsmead':14, 'SuperSport Park':15, 'Buffalo Park':16,'New Wanderers Stadium':17, 'De Beers Diamond Oval':18,'OUTsurance Oval':19, 'Brabourne Stadium':19,'Narendra Modi Stadium, Motera':20, 'Barabati Stadium':21,'Vidarbha Cricket Association Stadium, Jamtha':22,'Himachal Pradesh Cricket Association Stadium':23, 'Nehru Stadium':24,'Dr. Y.S. Rajasekhara Reddy ACA-VDCA Cricket Stadium':25,'Subrata Roy Sahara Stadium':1,'Shaheed Veer Narayan Singh International Stadium':26,'JSCA International Stadium Complex':27, 'Sheikh Zayed Stadium':28,'Sharjah Cricket Stadium':29, 'Dubai International Cricket Stadium':30}}  


z=encode['team1'].keys()
encode['team1'].items()


encode['team1']


encode['team2'].keys()


value_to_find=5
key = next(key for key, value in encode['team1'].items() if value == value_to_find)


key


z


x=[170,45,75,90,802,24,2,66]
y=[[],[],[],[],[],[],[],[],[],[]]
z=max(x)
p=1
while (z)//p>0:
    while len(x)>0:
        v=x.pop()
        l=(v//p)%10
        y[l].append(v)
    for i in y:
        while len(i)>0:
            v=i.pop()
            x.append(v)
    p*=10
x


x=[170,45,75,90,802,24,2,66]
x.pop()


(802//10)


[[90, 75, 66, 45, 24, 2], [170], [], [], [], [], [], [], [802], []]



def merge_sort(arr):
    if len(arr)<=1:
        return arr
    mid=len(arr)//2
    left=arr[:mid]
    right=arr[mid:]
    s_left=merge_sort(left)
    s_right=merge_sort(right)
    return merge(s_left,s_right)
def merge(left,right):
    result=[]
    i=j=0
    while i<len(left) and j<len(right):
        if left[i]<right[j]:
            result.append(left[i])
            i+=1
        else:
            result.append(right[j])
            j+=1
    result.extend(left[i:])
    result.extend(right[j:])
    return result
arr=[3,7,6,-10,15,23.5,55,-13]
sorted_arr=merge_sort(arr)
print(sorted_arr)


s ="Hello World"
str1=s.rstrip()
x=''
for i in str1[-1::-1]:
    if i==' ':
        break
    else:
        x+=i
print(len(x))


a=10
b=5
a,b=b,a
print(a)
b


x='Pawan'
if 'a' in x:
    print(True)
else:
    print(False)


x={'a':10,'b':20,'c':30}
for i in x.items():
    print(i)


s="leEeetcode"
q=[s]
p=[i for i in s]
z=''
for i in range(0,len(p)-2):
    if p[i]==p[i+1].lower() and p[i+1].isupper():
        z+=p[i]+p[i+1]
if z in q[0]:
    


[0]*7





nums=[-1,2,-3,3]
nums.sort(reverse=True)
nums


def findMaxK(nums):
    nums.sort(reverse=True)
    for i in nums:
        if -i in nums:
            return i
nums=[-1,10,6,7,-7,1]
print(findMaxK(nums))


# Ask in interview 29-04-2024
# [-1,0,1,-1,2,3,0,4,4]  it is output
x=[8,16,24,1,25,3,10,65,55]
a=[]
y=[]
for i,j in enumerate(x):
    a.append(x[i])
    a.sort(reverse=True)
    for k in a:
        if j>k:
            y.append(x.index(k))
            break
    else:
        y.append(-1)
print(y)


version1 = "1.1.1"
version2 = "1"
if '.' in version1 and '.' in version2:
    x=version1.split('.')
    y=version2.split('.')
    if x[0]==y[0]:
        print(0)
    elif x[0]<y[0]:
        print(-1)
    else:
        print(1)
elif version1[0]==version2[0]:
    if x[0]==y[0]:
        print(0)
    elif x[0]<y[0]:
        print(-1)
    else:
        print(1)
else:
    if x[0]==y[0]:
        print(0)
    elif x[0]<y[0]:
        print(-1)
    else:
        print(1)


version1[0]


class Solution:
    def numRescueBoats(self, p, limit):
        p.sort()
        x=0
        l, r=0, len(p)-1
        while l<=r:
            x+=1
            if p[l]+p[r]<=limit:
                l+=1
            r-=1
        return x


x=Solution()
result=x.numRescueBoats([5,4,2],3)
print(result)


score = [10,3,8,9,4]
x=[i for i in sorted(score,reverse=True)]
y=[i for i in range(4,len(score)+1)]
l=[]
c=0
for i in score:
    if i==x[0]:
        l.append('Gold Medal')
    elif i==x[1]:
        l.append('Silver Medal')
    elif i==x[2]:
        l.append('Bronze Medal')
    elif i==x[-1]:
        l.append(y[-1])
    elif i==x[-2]:
        l.append(y[-2])
l


x


["Gold Medal","5","Bronze Medal","Silver Medal","4"]


x= [[9,9,8,1],[5,6,2,6],[8,2,6,4],[6,2,2,2]]



l=[]+[[1]]
l+[[2]]




