import pandas as pd


df=pd.read_csv('world_alcohol.csv')


df.head()


print('Shape:-',df.shape)
print('Rows:-',df.shape[0])
print('Columns:-',df.shape[1])
print('Columns names:-',df.columns)


print(df.iloc[:2,:])
print('-------------------------------------------------')
print(df.iloc[:,:2].head())
print(df[['Display Value', 'Year']])


print(df.sample(5))
print('--------------------------------------------------')
print(df.sample(frac=0.02))


print(df.isnull().sum())
print(df.dropna(inplace=True))
print(df.isnull().sum())


df2=df.drop_duplicates(subset=['WHO region'])
df2.shape


print(df[df['Year']==1985].head())
print(df[df['Year']==1989].head())


print((df[(df['Year']==1987) | (df['Year']==1989)]).head(10))


(df[(df['Year']==1989) & (df['WHO region']=='Americas')]).head()


df[(df['Year']==1986) & ((df['WHO region']=='Western Pacific') & (df['Country']=='Viet Nam' ))]


(df[((df['Year']==1986) or (df['Year']==1986)) &  (df['WHO region']=='Americas')
