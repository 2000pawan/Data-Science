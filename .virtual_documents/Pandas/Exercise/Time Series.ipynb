import datetime
from datetime import datetime
print("Datetime object for Jan 11 2012:")
print(datetime(2012, 1, 11))
print("\nSpecific date and time of 9:20 pm") 
print(datetime(2011, 1, 11, 21, 20))
print("\nLocal date and time:")
print(datetime.now())
print("\nA date without time: ")
print(datetime.date(datetime(2012, 5, 22)))
print("\nCurrent date:")
print(datetime.now().date())
print("\nTime from a datetime:")
print(datetime.time(datetime(2012, 12, 15, 18, 12)))
print("\nCurrent local time:") 
print(datetime.now().time())


import pandas as pd
print(pd.Timestamp('2000-08-22'))
print(pd.Timestamp('2000-08-22 7:00'))
print(pd.Timestamp('7:00'))
print(pd.Timestamp('now'))


from datetime import datetime
x=datetime(year=2000, month=8,day=22)
print(x)
from dateutil import parser
y=parser.parse('22nd of August, 2000')
print(y)


import pandas as pd
import datetime
from datetime import datetime,date
today=datetime(2000,8,22)
print(today)
tomorrow = today + pd.Timedelta(days=1)
print(tomorrow)
yesterday = today - pd.Timedelta(days=1)
print(yesterday)
date1=datetime(2024,8,22)
date2=datetime(2000,8,22)
print(date1-date2)


import pandas as pd
import numpy as np
import datetime
from datetime import datetime, date
dates = [datetime(2011, 9, 1), datetime(2011, 9, 2)]
print("Time-series with two index labels:")
time_series = pd.Series(np.random.randn(2), dates)
print(time_series)
print("\nType of the index:")
print(type(time_series.index))



dates = ['2014-08-01','2014-08-02','2014-08-03','2014-08-04']
time_series = pd.Series(np.random.randn(4), dates)
print(time_series)


import pandas as pd

index = pd.DatetimeIndex(['2011-09-02', '2012-08-04',
                          '2015-09-03', '2010-08-04',
                          '2015-03-03', '2011-08-04',
                          '2015-04-03', '2012-08-04'])

# Sort the index
index = index.sort_values()

s_dates = pd.Series([0, 1, 2, 3, 4, 5, 6, 7], index=index)

print("Time series object with indexed data:")
print(s_dates)
print("\nDates of same year:")
print(s_dates['2015'])
print("\nDates between 2012-01-01 and 2012-12-31")
print(s_dates['2012-01-01':'2012-12-31'])



import pandas as pd
x=pd.date_range('2000-08-01',periods=45)
print(x)


import pandas as pd
dates=pd.Series(pd.date_range('2000-08-22',periods=31,freq='D'))
print(dates)
# dates = pd.Series(pd.date_range('2020-12-01',periods=31, freq='D'))
print("\nMaximum date: ", dates.max())
print("Minimum date: ", dates.min())
print("Maximum index: ", dates.idxmax())
print("Minimum index: ", dates.idxmin())


import pandas as pd
dates=pd.Series(pd.date_range('2000-08-22',periods=36,freq='3M'))
print(dates)


import pandas as pd
date_range = pd.timedelta_range(0, periods=49, freq='H')
print("Hourly range of periods 49:")
print(date_range)


import pandas as pd
data = {\
"year": [2002, 2003, 2015, 2018],
"day_of_the_year": [250, 365, 1, 140]
}
df = pd.DataFrame(data)
print("Original DataFrame:")
print(df)
df["combined"] = df["year"]*1000 + df["day_of_the_year"]
df["date"] = pd.to_datetime(df["combined"], format = "%Y%j")
print("\nNew DataFrame:")
print(df)



import pandas as pd
df = pd.DataFrame({'year': [2018, 2019, 2020],
                   'month': [2, 3, 4],
                   'day': [4, 5, 6],
                   'hour': [2, 3, 4]})
print("Original dataframe:")
print(df)
result = pd.to_datetime(df)
print("\nSeries of Timestamps from the said dataframe:")
print(result)
print("\nSeries of Timestamps using specified columns:")
print(pd.to_datetime(df[['year', 'month', 'day']]))



import pandas as pd
def is_business_day(date):
    return bool(len(pd.bdate_range(date, date)))
print("Check busines day or not?")
print('2000-08-22: ',is_business_day('2000-08-22'))
print('2020-12-06: ',is_business_day('2020-12-06'))
print('2020-12-07: ',is_business_day('2020-12-07'))
print('2020-12-08: ',is_business_day('2020-12-08'))



import pandas as pd
s = pd.date_range('2000-01-01', periods=12, freq='BM')
df = pd.DataFrame(s, columns=['Date'])
print('last working days of each month of a specific year:')
print(df)



import pandas as pd
result = pd.timedelta_range(0, periods=30, freq="1H20T")
print("For a frequency of 1 hours 20 minutes, here we have combined the hour (H) and minute (T):\n")
print(result)



import pandas as pd
epoch_t = 1621132355
time_stamp = pd.to_datetime(epoch_t, unit='s')
# UTC (Coordinated Universal Time) is one of the well-known names of UTC+0 time zone which is 0h.
# By default, time series objects of pandas do not have an assigned time zone.
print("Regular time stamp in UTC:")
print(time_stamp)
print("\nConvert the said timestamp in to US/Pacific:")
print(time_stamp.tz_localize('UTC').tz_convert('US/Pacific'))
print("\nConvert the said timestamp in to Europe/Berlin:")
print(time_stamp.tz_localize('UTC').tz_convert('Europe/Berlin'))



import pandas as pd
print("Timezone: Europe/Berlin:")
print("Using pytz:")
date_pytz = pd.Timestamp('2019-01-01', tz = 'Europe/Berlin')
print(date_pytz.tz)  
print("Using dateutil:")
date_util = pd.Timestamp('2019-01-01', tz = 'dateutil/Europe/Berlin')
print(date_util.tz)
print("\nUS/Pacific:")
print("Using pytz:")
date_pytz = pd.Timestamp('2019-01-01', tz = 'US/Pacific')
print(date_pytz.tz)  
print("Using dateutil:")
date_util = pd.Timestamp('2019-01-01', tz = 'dateutil/US/Pacific')
print(date_util.tz)



import pandas as pd
date1 = pd.Timestamp('2019-01-01', tz='Europe/Berlin')
date2 = pd.Timestamp('2019-01-01', tz='US/Pacific')
date3 = pd.Timestamp('2019-01-01', tz='US/Eastern')
print("Time series data with time zone:")
print(date1)
print(date2)
print(date3)
print("\nTime series data without time zone:")
print(date1.tz_localize(None))
print(date2.tz_localize(None))
print(date3.tz_localize(None))



import pandas as pd
print("Subtract two timestamps of same time zone:")
date1 = pd.Timestamp('2019-03-01 12:00', tz='US/Eastern')
date2 = pd.Timestamp('2019-04-01 07:00', tz='US/Eastern')
print("Difference: ", (date2-date1))
print("\nSubtract two timestamps of different time zone:")
date1 = pd.Timestamp('2019-03-01 12:00', tz='US/Eastern')
date2 = pd.Timestamp('2019-03-01 07:00', tz='US/Pacific')
# Remove the time zone and do the subtraction
print("Difference: ", (date1.tz_localize(None) - date2.tz_localize(None)))



import pandas as pd
thursday=pd.date_range('2024-03-24','2024-08-22',freq='W-THU')
print(thursday.values)


import pandas as pd
q_start_dates = pd.date_range('2020-01-01', '2020-12-31', freq='BQS-JUN')
q_end_dates = pd.date_range('2020-01-01', '2020-12-31', freq='BQ-JUN')
print("All the business quarterly begin dates of 2020:")
print(q_start_dates.values)
print("\nAll the business quarterly end dates of 2020:")
print(q_end_dates.values)



import pandas as pd
r1=pd.date_range('2030-01-01',periods=10,freq='H')
print(r1)
r1=pd.date_range('2030-01-01',periods=10,freq='3H')
print(r1)


import pandas as pd
dateset1 = pd.date_range('2029-01-01 00:00:00', periods=20, freq='3h10min')
print("Time series with frequency 3h10min:")
print(dateset1)
dateset2 = pd.date_range('2029-01-01 00:00:00', periods=20, freq='1D10min20U')
print("\nTime series with frequency 1 day 10 minutes and 20 microseconds:")
print(dateset2)



import pandas as pd
newday = pd.Timestamp('2020-02-07')
print("First date:")
print(newday)
print("\nThe day name of the said date:")
print(newday.day_name())
print("\nAdd 2 days with the said date:")
newday1 = newday + pd.Timedelta('2 day')
print(newday1.day_name())
print("\nNext business day:")
nbday = newday + pd.offsets.BDay()
print(nbday.day_name())



import pandas as pd
dates1 = pd.to_datetime([1329806505, 129806505, 1249892905,
                1249979305, 1250065705], unit='s')
print("Convert integer or float epoch times to Timestamp and DatetimeIndex upto second:")
print(dates1)
print("\nConvert integer or float epoch times to Timestamp and DatetimeIndex upto milisecond:")
dates2 = pd.to_datetime([1249720105100, 1249720105200, 1249720105300,
                1249720105400, 1249720105500], unit='ms')
print(dates2)



import pandas as pd
from pandas.tseries.offsets import *
import datetime
from datetime import datetime, date
dt = datetime(2020, 1, 4)
print("Specified date:")
print(dt)
print("\nOne business day from the said date:")
obday = dt + BusinessDay()
print(obday)
print("\nTwo business days from the said date:")
tbday = dt + 2 * BusinessDay()
print(tbday)
print("\nThree business days from the said date:")
thbday = dt + 3 * BusinessDay()
print(thbday)
print("\nNext business month end from the said date:")
nbday = dt + BMonthEnd()
print(nbday)



import pandas as pd
import datetime
from datetime import datetime, date
sdt = datetime(2020, 1, 1)
edt = datetime(2020, 12, 31)
dateset = pd.period_range(sdt, edt, freq='M')
print("All monthly boundaries of a given year:")
print(dateset) 
print("\nStart and end time for each period object in the said index:")
for d in dateset: 
    print ("{0} {1}".format(d.start_time, d.end_time)) 



import pandas as pd
import numpy as np
pi = pd.Series(np.random.randn(36), 
               pd.period_range('1/1/2029', 
                               '12/31/2031', freq='M'))
print("PeriodIndex which represents all the calendar month periods in 2029 and 2030:")
print(pi)
print("\nValues for all periods in 2030:")
print(pi['2030'])



# import pandas as pd
# from pandas.tseries.holiday import *
# sdt = datetime(2021, 1, 1)
# edt = datetime(2030, 12, 31)
# print("Holidays between 2021-01-01 and 2030-12-31 using the US federal holiday calendar.")
# cal = USFederalHolidayCalendar()
# for dt in cal.holidays(start=sdt, end=edt): 
#     print (dt)



import pandas as pd
mtp=pd.Period('2000-08','M')
print(mtp)
print(dir(mtp))


import pandas as pd
ytp = pd.Period('2020','A-DEC')
print("Yearly time perid:",ytp)
print("\nAll the properties of the said period:")
print(dir(ytp))




