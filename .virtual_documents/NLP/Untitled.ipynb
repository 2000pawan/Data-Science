from nltk.corpus import wordnet
def word_similarity(word1, word2):
    synsets1 = wordnet.synsets(word1)
    synsets2 = wordnet.synsets(word2)
    max_similarity = 0.0
    for synset1 in synsets1:
        for synset2 in synsets2:
            similarity = synset1.wup_similarity(synset2)
            if similarity is not None and similarity > max_similarity:
                max_similarity = similarity   
    return max_similarity
word1 = "automobile"
word2 = "car"
similarity = word_similarity(word1, word2)
print(f"Similarity between '{word1}' and '{word2}': {similarity}")


# Positive Examples
positive_examples = [
    ("dog", "puppy"),
    ("book", "novel"),
    ("ship", "boat"),
    ("cat", "kitten"),
    ("house", "home"),
    ("computer", "laptop"),
    ("teacher", "instructor"),
    ("car", "vehicle"),
    ("phone", "cellphone"),
    ("bird", "eagle")
]
# Negative Examples
negative_examples = [
    ("dog", "car"),
    ("book", "phone"),
    ("ship", "house"),
    ("cat", "computer"),
    ("house", "bird"),
    ("computer", "teacher"),
    ("teacher", "ship"),
    ("car", "book"),
    ("phone", "cat"),
    ("bird", "ship")
]
# Calculate and print similarity for positive examples
print("Positive Examples:")
for word1, word2 in positive_examples:
    similarity = word_similarity(word1, word2)
    print(f"Similarity between '{word1}' and '{word2}': {similarity}")
# Calculate and print similarity for negative examples
print("\nNegative Examples:")
for word1, word2 in negative_examples:
    similarity = word_similarity(word1, word2)
    print(f"Similarity between '{word1}' and '{word2}': {similarity}")



