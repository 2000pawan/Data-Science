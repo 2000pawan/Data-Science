import cv2


img1=cv2.imread('E:/Insta gram/img.jpg',1)


import matplotlib.pyplot as plt


plt.imshow(img1)


img=cv2.imread('E:/Insta gram/img.jpg',0)


plt.imshow(img)


# cv2.namedWindow('clr',cv2.WINDOW_NORMAL)
cv2.imshow('clr',img1)
cv2.imshow('clr1',img)
cv2.waitKey()
cv2.destroyAllWindows()


from sklearn.svm import SVC


m=SVC()


from sklearn.linear_model import LinearRegression,


model=LinearRegression()


from sklearn.metrics import r2_score


from sklearn.preprocessing import PolynomialFeatures



pf=PolynomialFeatures()


from sklearn.linear_model import SGDRegressor,Ridge,Lasso,ElasticNet,SGDClassifier,LogisticRegression


model=SGDRegressor()


model=Ridge()


model=Lasso()


model=ElasticNet()


model=SGDClassifier()


model=LogisticRegression()
