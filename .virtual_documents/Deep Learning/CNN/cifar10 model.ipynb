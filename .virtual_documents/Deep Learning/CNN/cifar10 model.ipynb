from tensorflow.keras.models import load_model
import warnings
warnings.filterwarnings('ignore')
import numpy as np


model=load_model('cifar10_model.h5')


model.summary()


from tensorflow.keras.preprocessing.image import img_to_array,load_img


img=load_img('cat_or_dog_1.jpg')
img


img_array=img_to_array(img)
# img_array


img_array.shape


img=load_img('cat_or_dog_1.jpg',target_size=(32,32))
img_array=img_to_array(img)
img_array.shape
pred=model.predict(img_array.reshape(1,32,32,3))
pred
x=np.argmax(pred)


classes=['airplane','automobile','bird','cat','deer','dog','frog','horse','ship','truck']


classes[x]


img=load_img('cat_or_dog_2.jpg',target_size=(32,32))
img_array=img_to_array(img)
img_array.shape
pred1=model.predict(img_array.reshape(1,32,32,3))
pred1


x=np.argmax(pred1)
classes[x]



