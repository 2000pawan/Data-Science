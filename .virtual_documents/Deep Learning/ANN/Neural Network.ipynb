


import pandas as pd
from tensorflow.keras.models import Sequential
from tensorflow.keras.layers import Dense
import warnings
warnings.filterwarnings('ignore')
import matplotlib.pyplot as plt
import seaborn as sns


df=pd.read_csv('G:/dataset/classification/iris.csv')


X=df.iloc[:,1:-1].values
y=df.iloc[:,-1].values


X.shape


y.shape


#Perceptron
model=Sequential()
model.add(Dense(3,activation='softmax'))
model.compile(loss='sparse_categorical_crossentropy',optimizer='sgd',metrics=['accuracy'])
model.fit(X,y,batch_size=32,epochs=2)


#Perceptron
model=Sequential()
model.add(Dense(3,activation='softmax'))
model.compile(loss='sparse_categorical_crossentropy',optimizer='sgd',metrics=['accuracy'])
model.fit(X,y,batch_size=32,epochs=10)


#Perceptron
model=Sequential()
model.add(Dense(3,activation='softmax'))
model.compile(loss='sparse_categorical_crossentropy',optimizer='sgd',metrics=['accuracy'])
model.fit(X,y,batch_size=32,epochs=2000,verbose=0)


model.history.history['loss'][-1]


model.history.history['accuracy'][-1]


sns.lineplot(x=range(1,2001),y=model.history.history['loss'],color='red')
plt.xlabel('Epochs')
plt.ylabel('Loss')
plt.show()



