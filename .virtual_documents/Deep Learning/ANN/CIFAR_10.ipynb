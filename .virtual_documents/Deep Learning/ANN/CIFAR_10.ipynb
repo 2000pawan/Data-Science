


from tensorflow.keras.datasets.cifar10 import load_data
import matplotlib.pyplot as plt
import numpy as np
from tensorflow.keras.models import Sequential
from tensorflow.keras.layers import Dense,Flatten,Dropout


(X_train,y_train),(X_test,y_test)=load_data()
classes=['airplane','automobile','bird','cat','deer','dog','frog','horse','ship','truck']


plt.imshow(X_train[4])
plt.show()
classes[y_train[4][0]]


i=int(input("Enter the index:"))
plt.imshow(X_train[i])
plt.show()
print(classes[y_train[i][0]])


(X_train,y_train),(X_test,y_test)=load_data()
model=Sequential()
model.add(Flatten())
model.add(Dense(100,activation='relu'))
model.add(Dense(50,activation='relu'))
model.add(Dense(25,activation='relu'))
model.add(Dense(10,activation='softmax'))
model.compile(loss='sparse_categorical_crossentropy',optimizer='adam',metrics=['accuracy'])
model.fit(X_train,y_train,epochs=10,batch_size=32)


(X_train,y_train),(X_test,y_test)=load_data()
model=Sequential()
model.add(Flatten())
model.add(Dense(200,activation='relu'))
model.add(Dense(80,activation='relu'))
model.add(Dense(55,activation='relu'))
model.add(Dense(10,activation='softmax'))
model.compile(loss='sparse_categorical_crossentropy',optimizer='adam',metrics=['accuracy'])
model.fit(X_train,y_train,epochs=10,batch_size=32)


(X_train,y_train),(X_test,y_test)=load_data()
X_train=X_train/255
X_test=X_test/255
model=Sequential()
model.add(Flatten())
model.add(Dense(200,activation='relu'))
model.add(Dense(80,activation='relu'))
model.add(Dense(55,activation='relu'))
model.add(Dense(10,activation='softmax'))
model.compile(loss='sparse_categorical_crossentropy',optimizer='adam',metrics=['accuracy'])
model.fit(X_train,y_train,epochs=10,batch_size=32)


(X_train,y_train),(X_test,y_test)=load_data()
X_train=X_train/255
X_test=X_test/255
model=Sequential()
model.add(Flatten())
model.add(Dense(200,activation='relu'))
model.add(Dense(100,activation='relu'))
model.add(Dense(55,activation='relu'))
model.add(Dense(10,activation='softmax'))
model.compile(loss='sparse_categorical_crossentropy',optimizer='adam',metrics=['accuracy'])
model.fit(X_train,y_train,epochs=20,batch_size=32)


(X_train,y_train),(X_test,y_test)=load_data()
X_train=X_train/255
X_test=X_test/255
model=Sequential()
model.add(Flatten())
model.add(Dense(200,activation='relu'))
model.add(Dense(100,activation='relu'))
model.add(Dense(55,activation='relu'))
model.add(Dense(10,activation='softmax'))
model.compile(loss='sparse_categorical_crossentropy',optimizer='adam',metrics=['accuracy'])
model.fit(X_train,y_train,epochs=30,batch_size=32)


(X_train,y_train),(X_test,y_test)=load_data()
X_train=X_train/255
X_test=X_test/255
model=Sequential()
model.add(Flatten())
model.add(Dense(2000,activation='relu'))
model.add(Dense(1200,activation='relu'))
model.add(Dense(800,activation='relu'))
model.add(Dense(100,activation='relu'))
model.add(Dense(10,activation='softmax'))
model.compile(loss='sparse_categorical_crossentropy',optimizer='adam',metrics=['accuracy'])
model.fit(X_train,y_train,epochs=100,batch_size=1000)


 model.evaluate(X_test,y_test)


(X_train,y_train),(X_test,y_test)=load_data()
X_train=X_train/255
X_test=X_test/255
model=Sequential()
model.add(Flatten())
model.add(Dense(300,activation='relu'))
model.add(Dense(200,activation='relu'))
model.add(Dense(100,activation='relu'))
model.add(Dense(10,activation='softmax'))
model.compile(loss='sparse_categorical_crossentropy',optimizer='adam',metrics=['accuracy'])
model.fit(X_train,y_train,epochs=100,batch_size=1000)


(X_train,y_train),(X_test,y_test)=load_data()
X_train=X_train/255
X_test=X_test/255
model=Sequential()
model.add(Flatten())
model.add(Dropout(0.2))
model.add(Dense(300,activation='relu'))
model.add(Dropout(0.2))
model.add(Dense(200,activation='relu'))
model.add(Dense(100,activation='relu'))
model.add(Dense(10,activation='softmax'))
model.compile(loss='sparse_categorical_crossentropy',optimizer='adam',metrics=['accuracy'])
model.fit(X_train,y_train,epochs=100,batch_size=1000,validation_split=0.2)


model.evaluate(X_test,y_test)



