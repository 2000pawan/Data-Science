





import tensorflow as tf


tf.__version__








a=tf.constant(10)
a


b=tf.constant(20)
b


c=a+b
c


type(c)


a=tf.constant(20.5)
a


b=tf.constant(40.5)
b


c=a+b
c


a=tf.constant('Welcome to tensorflow')
a


a.dtype


a=tf.constant(3+4j)
a


a=tf.constant(True)
a








a=tf.constant([2,3,4,5,6,7])
a


a.dtype


a.shape


type(a)


b=a.numpy()
b


type(b)


b=a.numpy()[3:]
b


print(a[2])


c=a.numpy().tolist()
c


type(c)


a=tf.constant([2,3,4,5],dtype=tf.float32)
a


a=tf.constant([2,3,4,5],dtype='float',shape=(2,2))
a


a.shape


a.dtype


type(a)


a=tf.constant([2,3,4,5,6,7],dtype=tf.float32)
a


a=tf.constant([2,3,4,5],dtype=tf.float32,shape=(2,2))
a


a=tf.constant([[2,3],[1,4],[3,5],[6,7]],dtype=tf.float64)
a 


type(a)


a.numpy()


a.numpy().tolist()


a.numpy()[1,1]


a.numpy()[:,1:2]


a=tf.constant([[[2,3],[4,5],[5,6]]],dtype=tf.float32)
a


a.shape


a[0][1]


a[0][-2]


import numpy as np
a=tf.constant(np.array([2,3,4]))
a


a=tf.constant(np.array([[2,3,4],[5,6,7],[8,9,3]]))
a


a=tf.constant(np.array([[[2,3],[4,5],[6,7]]]),dtype=tf.float32)
a





a=tf.constant([[2,3],[5,6]],tf.float32)
b=tf.constant ([[4,5],[7,8]],tf.float32)
c=tf.add(a,b)
print(c)


d=tf.subtract(a,b)
d


e=tf.multiply(a,b)
e


f=tf.divide(a,b)
f


x=tf.matmul(a,b)#Dot Product
x


print(a@b) # Dot Product


print(tf.random.normal([10]))


print(tf.random.uniform([10]))


print(tf.random.uniform([50],minval=1,maxval=5,dtype=tf.int32))


print(tf.random.uniform([100],minval=1,maxval=10,dtype=tf.int32))


x=tf.random.uniform([10],minval=1,maxval=100,dtype=tf.int32)
x


print(tf.math.reduce_sum(x))


print(tf.math.reduce_min(x))


print(tf.math.reduce_max(x))


print(tf.math.reduce_mean(x))


print(tf.math.argmax(x))


print(tf.math.argmin(x))





import tensorflow as tf





a=tf.Variable(10)
a


type(a)


x=tf.Variable([2,3,4,5])
x


type(x)


x.shape


x.dtype


x.name


x=tf.Variable([2.,3.,4.5,5.6],name='Vector')
x


x.name


x=tf.Variable(['a','b','c','d'])
x


x.dtype


x=tf.Variable([True,False])
x


x=tf.Variable([3+6j])
x


x.dtype


x=tf.Variable([2,3,4,5,6],dtype=tf.float32)
x


type(x)


x.assign([5,9,8,7,6])
x


a=tf.constant([2,3,4,5,6])
a


type(a)


# a.assign([2,3,8,9,10])


x=tf.Variable([2,3,4,5,6],dtype=tf.float32)
x


type(x)


# x.assign([2,5,6,7,8,9]) # Equal len is modify only and same shape is modify different type is not modify)


x.assign_add([1,2,3,4,5])
x


x.assign_sub([1,2,3,4,5])
x


a=tf.constant([[2,3],[4,5],[9,6]])
a


type(a)


x=tf.Variable(a) # Change constant array to Variable array
x


type(x)


x.numpy()


tf.argmax(x)


tf.argmax(x).numpy()


tf.argmin(x)


tf.argmin(x).numpy()


x=tf.Variable([2,3,4,5],dtype=tf.float32)
x


b=tf.reshape(x,(2,2))
b


type(b)


x=tf.Variable([[2,3],[4,5],[5,6]])
x


type(x)


y=tf.convert_to_tensor(x)
y


type(y)


x=tf.ones(10,dtype=tf.int32)
print(x)


x=tf.ones((3,2),dtype=tf.int32)
print(x)


x=tf.ones((2,3,2),dtype=tf.int32)
print(x)


x.shape


type(x)


# tf.ones_Like() 
x=tf.constant([[2,3],[4,5],[6,7]],dtype=tf.float32)
x


y=tf.ones_like(x,dtype=tf.int32)
y


a=tf.Variable([[[2,3,4],[4,5,6],[8,9,7]]],dtype=tf.float32)
a


type(a)


b=tf.ones_like(a,dtype=tf.int32)
b


a=tf.zeros(10)
print(a)


b=tf.zeros((2,3),dtype=tf.int32)
print(b)


b=tf.zeros((1,3,2),dtype=tf.int32)
print(b)


x=tf.constant([[2,3],[4,5],[6,7]],dtype=tf.float32)
x


y=tf.zeros_like(x)
y


a=tf.fill((3,2),9)
a


type(a)


b=tf.fill((3,3),2.5)
b


c=tf.eye(2)
c


c=tf.eye(3,2)
c


d=tf.eye(3,3,dtype=tf.int32,batch_shape=[3])
d


d=tf.eye(3,3,dtype=tf.int32,batch_shape=[2])
d












