### Validation Data


import pandas as pd
import numpy as np
import warnings
warnings.filterwarnings('ignore')
from tensorflow.keras.models import Sequential
from tensorflow.keras.layers import Dense
from sklearn.model_selection import train_test_split


df=pd.read_csv('/content/drive/MyDrive/DataSet/dataset/classification/iris1.csv')
df.drop(columns='id',inplace=True)
X=df.iloc[:,:-1].values
y=df.iloc[:,-1].values
x_train,x_test,y_train,y_test=train_test_split(X,y,test_size=0.3,random_state=10)
model=Sequential()
model.add(Dense(10,activation='relu'))
model.add(Dense(3,activation='softmax'))
model.compile(optimizer='sgd',loss='sparse_categorical_crossentropy',metrics=['accuracy'])
model.fit(x_train,y_train,epochs=500,batch_size=32)


model.evaluate(x_test,y_test)


df=pd.read_csv('/content/drive/MyDrive/DataSet/dataset/classification/iris1.csv')
df.drop(columns='id',inplace=True)
X=df.iloc[:,:-1].values
y=df.iloc[:,-1].values
x_train,x_test,y_train,y_test=train_test_split(X,y,test_size=0.3,random_state=10)
model=Sequential()
model.add(Dense(10,activation='relu'))
model.add(Dense(3,activation='softmax'))
model.compile(optimizer='sgd',loss='sparse_categorical_crossentropy',metrics=['accuracy'])
model.fit(x_train,y_train,epochs=500,batch_size=32,validation_split=0.2)


model.evaluate(x_test,y_test)


df=pd.read_csv('/content/drive/MyDrive/DataSet/dataset/classification/iris1.csv')
df.drop(columns='id',inplace=True)
X=df.iloc[:,:-1].values
y=df.iloc[:,-1].values
model=Sequential()
model.add(Dense(10,activation='relu'))
model.add(Dense(3,activation='softmax'))
model.compile(optimizer='sgd',loss='sparse_categorical_crossentropy',metrics=['accuracy'])
model.fit(X,y,epochs=100,batch_size=32)


### Learning Rate
from tensorflow.keras.optimizers import SGD


df=pd.read_csv('/content/drive/MyDrive/DataSet/dataset/classification/iris1.csv')
df.drop(columns='id',inplace=True)
X=df.iloc[:,:-1].values
y=df.iloc[:,-1].values
model=Sequential()
model.add(Dense(10,activation='relu'))
model.add(Dense(3,activation='softmax'))
model.compile(optimizer=SGD(learning_rate=0.01),loss='sparse_categorical_crossentropy',metrics=['accuracy'])
model.fit(X,y,epochs=20,batch_size=32)


df=pd.read_csv('/content/drive/MyDrive/DataSet/dataset/classification/iris1.csv')
df.drop(columns='id',inplace=True)
X=df.iloc[:,:-1].values
y=df.iloc[:,-1].values
model=Sequential()
model.add(Dense(10,activation='relu'))
model.add(Dense(3,activation='softmax'))
model.compile(optimizer=SGD(learning_rate=0.01),loss='sparse_categorical_crossentropy',metrics=['accuracy'])
model.fit(X,y,epochs=20,batch_size=32)


df=pd.read_csv('/content/drive/MyDrive/DataSet/dataset/classification/iris1.csv')
df.drop(columns='id',inplace=True)
X=df.iloc[:,:-1].values
y=df.iloc[:,-1].values
model=Sequential()
model.add(Dense(10,activation='relu'))
model.add(Dense(3,activation='softmax'))
model.compile(optimizer=SGD(learning_rate=0.1),loss='sparse_categorical_crossentropy',metrics=['accuracy'])
model.fit(X,y,epochs=20,batch_size=32)


df=pd.read_csv('/content/drive/MyDrive/DataSet/dataset/classification/iris1.csv')
df.drop(columns='id',inplace=True)
X=df.iloc[:,:-1].values
y=df.iloc[:,-1].values
model=Sequential()
model.add(Dense(10,activation='relu'))
model.add(Dense(3,activation='softmax'))
model.compile(optimizer='adagrad',loss='sparse_categorical_crossentropy',metrics=['accuracy'])
model.fit(X,y,epochs=20,batch_size=32)


df=pd.read_csv('/content/drive/MyDrive/DataSet/dataset/classification/iris1.csv')
df.drop(columns='id',inplace=True)
X=df.iloc[:,:-1].values
y=df.iloc[:,-1].values
model=Sequential()
model.add(Dense(20,activation='relu'))
model.add(Dense(3,activation='softmax'))
model.compile(optimizer='adam',loss='sparse_categorical_crossentropy',metrics=['accuracy'])
model.fit(X,y,epochs=20,batch_size=32)


df=pd.read_csv('/content/drive/MyDrive/DataSet/dataset/classification/iris1.csv')
df.drop(columns='id',inplace=True)
X=df.iloc[:,:-1].values
y=df.iloc[:,-1].values
model=Sequential()
model.add(Dense(20,activation='relu'))
model.add(Dense(3,activation='softmax'))
model.compile(optimizer='adam',loss='sparse_categorical_crossentropy',metrics=['accuracy'])
model.fit(X,y,epochs=100,batch_size=32)



