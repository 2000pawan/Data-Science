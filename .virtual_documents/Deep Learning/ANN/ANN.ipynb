


import pandas as pd
import numpy as np
from tensorflow.keras.models import Sequential
from tensorflow.keras.layers import Dense


df=pd.read_csv('G:/dataset/classification/iris1.csv')
df.shape
X=df.iloc[:,:-1].values
y=df.iloc[:,-1].values
model=Sequential()
model.add(Dense(3,activation='softmax'))
model.compile(optimizer='sgd',loss='sparse_categorical_crossentropy',metrics=['accuracy'])
model.fit(X,y,batch_size=32,epochs=500,verbose=0)


model.history.history['loss'][-1]


sample=np.array([[4.5,1.5,4.9,0.7]])
model.predict(sample)



