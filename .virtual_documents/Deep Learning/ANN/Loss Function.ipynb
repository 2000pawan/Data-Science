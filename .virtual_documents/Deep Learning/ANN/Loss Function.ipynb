


import tensorflow as tf





y_true=[0,0,1,1,0]
y_onehot=[[1,0],[1,0],[0,1],[0,1],[1,0]]
y_prob=[[.9,.1],[.6,.4],[.4,.6],[.3,.7],[.65,.35]]
print(tf.losses.binary_crossentropy(y_onehot,y_prob))
print(tf.reduce_mean(tf.losses.binary_crossentropy(y_onehot,y_prob)))


y_true=[0,0,1,1,0]
y_onehot=[[1,0],[1,0],[0,1],[0,1],[1,0]]
y_prob=[[.65,.35],[.8,.2],[.15,.85],[.23,.77],[.91,.09]]
print(tf.losses.binary_crossentropy(y_onehot,y_prob))
print(tf.reduce_mean(tf.losses.binary_crossentropy(y_onehot,y_prob)))





y_true=[1,2,0]
y_onehot=[[0,1,0],[0,0,1],[1,0,0]]
y_prob=[[.3,.6,.1],[.1,.2,.7],[.75,.05,.2]]
print(tf.losses.categorical_crossentropy(y_onehot,y_prob))
print(tf.reduce_mean(tf.losses.categorical_crossentropy(y_onehot,y_prob)))


print(tf.reduce_mean(tf.losses.sparse_categorical_crossentropy(y_true,y_prob)))





import numpy as np
y_true=[0,0,1,1,0]
y_onehot=[[1,0],[1,0],[0,1],[0,1],[1,0]]
y_prob=[[.9,.1],[.6,.4],[.4,.6],[.3,.7],[.65,.35]]
loss=(-1/5)*(0*np.log(.1)+(1-0)*np.log(1-.1)+
     0*np.log(.4)+(1-0)*np.log(1-.4)+
     1*np.log(.6)+(1-1)*np.log(1-.6)+
     1*np.log(.7)+(1-1)*np.log(1-.7)+
     0*np.log(.35)+(1-0)*np.log(1-.35)
     )
loss





y_true=[1,2,0]
y_onehot=[[0,1,0],[0,0,1],[1,0,0]]
y_prob=[[.3,.6,.1],[.1,.2,.7],[.75,.05,.2]]
loss=(-1/3)*((0*np.log(.3))+(1*np.log(.6))+(0*np.log(.1))+
             (0*np.log(.1))+(0*np.log(.2))+(1*np.log(.7))+
              (1*np.log(.75))+(0*np.log(.05))+(0*np.log(.2))
             )
loss



