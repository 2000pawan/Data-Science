





import tensorflow as tf


tf.__version__








a=tf.constant(10)
a


b=tf.constant(20)
b


c=a+b
c


type(c)


a=tf.constant(20.5)
a


b=tf.constant(40.5)
b


c=a+b
c


a=tf.constant('Welcome to tensorflow')
a


a.dtype


a=tf.constant(3+4j)
a


a=tf.constant(True)
a








a=tf.constant([2,3,4,5,6,7])
a


a.dtype


a.shape


type(a)


b=a.numpy()
b


type(b)


b=a.numpy()[3:]
b


print(a[2])


c=a.numpy().tolist()
c


type(c)


a=tf.constant([2,3,4,5],dtype=tf.float32)
a


a=tf.constant([2,3,4,5],dtype='float',shape=(2,2))
a


a.shape


a.dtype


type(a)


a=tf.constant([2,3,4,5,6,7],dtype=tf.float32)
a


a=tf.constant([2,3,4,5],dtype=tf.float32,shape=(2,2))
a


a=tf.constant([[2,3],[1,4],[3,5],[6,7]],dtype=tf.float64)
a 


type(a)


a.numpy()


a.numpy().tolist()


a.numpy()[1,1]



