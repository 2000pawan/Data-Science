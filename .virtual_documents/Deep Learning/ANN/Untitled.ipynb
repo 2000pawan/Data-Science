names = ["Mary","John","Emma"]
heights = [180,165,170]
x={i:j for i,j in zip(names,heights)}






