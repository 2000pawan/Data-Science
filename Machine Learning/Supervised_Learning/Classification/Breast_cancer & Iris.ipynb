{
 "cells": [
  {
   "cell_type": "code",
   "execution_count": 63,
   "id": "008d5629-6836-4343-9f6b-9e1c221e84ac",
   "metadata": {
    "tags": []
   },
   "outputs": [],
   "source": [
    "from sklearn.datasets import load_breast_cancer\n",
    "from sklearn.neighbors import KNeighborsClassifier\n",
    "from sklearn.metrics import accuracy_score,f1_score\n",
    "from sklearn.preprocessing import MinMaxScaler,StandardScaler,MaxAbsScaler\n",
    "from sklearn.model_selection import train_test_split\n",
    "from sklearn.feature_selection import SelectKBest,f_classif"
   ]
  },
  {
   "cell_type": "code",
   "execution_count": 64,
   "id": "2a57ecd4-3eac-4150-89a7-223a2480e470",
   "metadata": {
    "tags": []
   },
   "outputs": [],
   "source": [
    "cancer=load_breast_cancer()\n",
    "X=cancer.data\n",
    "y=cancer.target"
   ]
  },
  {
   "cell_type": "code",
   "execution_count": 65,
   "id": "560f1d48-b7e2-4361-9273-113c5a863e34",
   "metadata": {
    "tags": []
   },
   "outputs": [
    {
     "data": {
      "text/plain": [
       "dict_keys(['data', 'target', 'frame', 'target_names', 'DESCR', 'feature_names', 'filename', 'data_module'])"
      ]
     },
     "execution_count": 65,
     "metadata": {},
     "output_type": "execute_result"
    }
   ],
   "source": [
    "cancer.keys()"
   ]
  },
  {
   "cell_type": "markdown",
   "id": "a9875c41-5b24-44eb-83a3-b9b26b2e43aa",
   "metadata": {},
   "source": [
    "### without using feature_selection"
   ]
  },
  {
   "cell_type": "code",
   "execution_count": 66,
   "id": "4133ea86-e94a-47a9-a564-f7280427b4f9",
   "metadata": {
    "tags": []
   },
   "outputs": [
    {
     "name": "stdout",
     "output_type": "stream",
     "text": [
      "0.9859154929577465\n",
      "0.951048951048951\n"
     ]
    }
   ],
   "source": [
    "## Using MinMaxScaler\n",
    "X_train,X_test,y_train,y_test=train_test_split(X,y,random_state=1)\n",
    "sc=MinMaxScaler(feature_range=(0,1))\n",
    "X_train_new=sc.fit_transform(X_train)\n",
    "X_test_new=sc.transform(X_test)\n",
    "model=KNeighborsClassifier()\n",
    "model.fit(X_train_new,y_train)\n",
    "pred=model.predict(X_train_new)\n",
    "pred1=model.predict(X_test_new)\n",
    "print(accuracy_score(pred,y_train))\n",
    "print(accuracy_score(pred1,y_test))"
   ]
  },
  {
   "cell_type": "code",
   "execution_count": 68,
   "id": "b5464801-c0b4-4801-b239-51f4d86276f2",
   "metadata": {
    "tags": []
   },
   "outputs": [
    {
     "name": "stdout",
     "output_type": "stream",
     "text": [
      "0.9812206572769953\n",
      "0.951048951048951\n",
      "Train F1 Score:- 0.985239852398524\n",
      "Test F1 Score:- 0.9613259668508287\n",
      "Train F1 Score:- [0.97419355 0.98523985]\n",
      "Test F1 Score:- [0.93333333 0.96132597]\n"
     ]
    }
   ],
   "source": [
    "## Using StandardScaler\n",
    "X_train,X_test,y_train,y_test=train_test_split(X,y,random_state=1)\n",
    "sc=StandardScaler()\n",
    "X_train_new=sc.fit_transform(X_train)\n",
    "X_test_new=sc.transform(X_test)\n",
    "model=KNeighborsClassifier()\n",
    "model.fit(X_train_new,y_train)\n",
    "pred=model.predict(X_train_new)\n",
    "pred1=model.predict(X_test_new)\n",
    "print(accuracy_score(pred,y_train))\n",
    "print(accuracy_score(pred1,y_test))\n",
    "print('Train F1 Score:-',f1_score(y_train,pred))\n",
    "print('Test F1 Score:-',f1_score(y_test,pred1))\n",
    "print('Train F1 Score:-',f1_score(y_train,pred,average=None))\n",
    "print('Test F1 Score:-',f1_score(y_test,pred1,average=None))"
   ]
  },
  {
   "cell_type": "code",
   "execution_count": 34,
   "id": "4d4fcc48-9219-4181-b9e9-5b01744a6d14",
   "metadata": {
    "tags": []
   },
   "outputs": [
    {
     "data": {
      "text/plain": [
       "(array([6.46981021e+02, 1.18096059e+02, 6.97235272e+02, 5.73060747e+02,\n",
       "        8.36511234e+01, 3.13233079e+02, 5.33793126e+02, 8.61676020e+02,\n",
       "        6.95274435e+01, 9.34592949e-02, 2.68840327e+02, 3.90947023e-02,\n",
       "        2.53897392e+02, 2.43651586e+02, 2.55796780e+00, 5.32473391e+01,\n",
       "        3.90144816e+01, 1.13262760e+02, 2.41174067e-02, 3.46827476e+00,\n",
       "        8.60781707e+02, 1.49596905e+02, 8.97944219e+02, 6.61600206e+02,\n",
       "        1.22472880e+02, 3.04341063e+02, 4.36691939e+02, 9.64385393e+02,\n",
       "        1.18860232e+02, 6.64439606e+01]),\n",
       " array([8.46594057e-096, 4.05863605e-025, 8.43625104e-101, 4.73456431e-088,\n",
       "        1.05185036e-018, 3.93826311e-056, 9.96655576e-084, 7.10115016e-116,\n",
       "        5.73338403e-016, 7.59936804e-001, 9.73894866e-050, 8.43332029e-001,\n",
       "        1.65190518e-047, 5.89552139e-046, 1.10296609e-001, 9.97599465e-013,\n",
       "        8.26017617e-010, 3.07230877e-024, 8.76641818e-001, 6.30735508e-002,\n",
       "        8.48229192e-116, 1.07805749e-030, 5.77139714e-119, 2.82884770e-097,\n",
       "        6.57514363e-026, 7.06981635e-055, 2.46466396e-072, 1.96909971e-124,\n",
       "        2.95112058e-025, 2.31643245e-015]))"
      ]
     },
     "execution_count": 34,
     "metadata": {},
     "output_type": "execute_result"
    }
   ],
   "source": [
    "f_classif(X,y)"
   ]
  },
  {
   "cell_type": "markdown",
   "id": "ee56e327-130e-4445-b957-20fe319ca719",
   "metadata": {},
   "source": [
    "### With using feature_scaling"
   ]
  },
  {
   "cell_type": "code",
   "execution_count": 35,
   "id": "2c39783f-9bb4-49cb-a1d2-a2311a4ca2eb",
   "metadata": {
    "tags": []
   },
   "outputs": [
    {
     "name": "stdout",
     "output_type": "stream",
     "text": [
      "0.9694835680751174\n",
      "0.9300699300699301\n",
      "[[0.389938   0.4119273  0.24322375 ... 0.17936492 1.         0.80962199]\n",
      " [0.37763264 0.36790823 0.23066808 ... 0.15350963 0.15418803 0.51168385]\n",
      " [0.36438071 0.35208348 0.22948038 ... 0.23417224 0.24905983 0.55292096]\n",
      " ...\n",
      " [0.48364807 0.48655933 0.33336161 ... 0.36762682 0.56119658 0.65257732]\n",
      " [0.3336173  0.31787713 0.19507953 ... 0.13033327 0.05325641 0.27364261]\n",
      " [0.28628899 0.26826066 0.16131495 ... 0.08865022 0.04130769 0.17226804]]\n"
     ]
    }
   ],
   "source": [
    "cancer=load_breast_cancer()\n",
    "X=cancer.data\n",
    "y=cancer.target\n",
    "skb=SelectKBest(score_func=f_classif,k=10)\n",
    "X1=skb.fit_transform(X,y)\n",
    "X_train,X_test,y_train,y_test=train_test_split(X1,y,random_state=1)\n",
    "sc=MinMaxScaler(feature_range=(0,1))\n",
    "X_train_new=sc.fit_transform(X_train)\n",
    "X_test_new=sc.transform(X_test)\n",
    "model=KNeighborsClassifier()\n",
    "model.fit(X_train_new,y_train)\n",
    "pred=model.predict(X_train_new)\n",
    "pred1=model.predict(X_test_new)\n",
    "print(accuracy_score(pred,y_train))\n",
    "print(accuracy_score(pred1,y_test))\n",
    "print(X_train_new)"
   ]
  },
  {
   "cell_type": "code",
   "execution_count": 36,
   "id": "f9a8dee7-a437-43e3-ba44-2ac6d335e695",
   "metadata": {
    "tags": []
   },
   "outputs": [
    {
     "name": "stdout",
     "output_type": "stream",
     "text": [
      "0.9788732394366197\n",
      "0.965034965034965\n"
     ]
    }
   ],
   "source": [
    "cancer=load_breast_cancer()\n",
    "X=cancer.data\n",
    "y=cancer.target\n",
    "skb=SelectKBest(score_func=f_classif,k=27)\n",
    "X1=skb.fit_transform(X,y)\n",
    "X_train,X_test,y_train,y_test=train_test_split(X1,y,random_state=1)\n",
    "sc=StandardScaler()\n",
    "X_train_new=sc.fit_transform(X_train)\n",
    "X_test_new=sc.transform(X_test)\n",
    "model=KNeighborsClassifier(n_neighbors=6)\n",
    "model.fit(X_train_new,y_train)\n",
    "pred=model.predict(X_train_new)\n",
    "pred1=model.predict(X_test_new)\n",
    "print(accuracy_score(pred,y_train))\n",
    "print(accuracy_score(pred1,y_test))"
   ]
  },
  {
   "cell_type": "markdown",
   "id": "10a09452-4f9c-465e-ba7c-2f97ee779dc1",
   "metadata": {},
   "source": [
    "### Cross Validation"
   ]
  },
  {
   "cell_type": "code",
   "execution_count": 37,
   "id": "ea687f43-7901-4f14-a0a7-9386f4462f23",
   "metadata": {
    "tags": []
   },
   "outputs": [],
   "source": [
    "from sklearn.model_selection import cross_val_score"
   ]
  },
  {
   "cell_type": "code",
   "execution_count": 38,
   "id": "29d84217-d8fb-4ed6-ad69-6320d98257ba",
   "metadata": {
    "tags": []
   },
   "outputs": [
    {
     "data": {
      "text/plain": [
       "0.9648501785437045"
      ]
     },
     "execution_count": 38,
     "metadata": {},
     "output_type": "execute_result"
    }
   ],
   "source": [
    "cancer=load_breast_cancer()\n",
    "X=cancer.data\n",
    "y=cancer.target\n",
    "sc=StandardScaler()\n",
    "X_new=sc.fit_transform(X)\n",
    "model=KNeighborsClassifier()\n",
    "test_scores=cross_val_score(model,X_new,y,cv=5)\n",
    "test_scores.mean()"
   ]
  },
  {
   "cell_type": "code",
   "execution_count": 39,
   "id": "9e854d68-a327-4bd1-b84a-8cda8d06fd2d",
   "metadata": {
    "tags": []
   },
   "outputs": [
    {
     "data": {
      "text/plain": [
       "0.9754075454122031"
      ]
     },
     "execution_count": 39,
     "metadata": {},
     "output_type": "execute_result"
    }
   ],
   "source": [
    "cancer=load_breast_cancer()\n",
    "X=cancer.data\n",
    "y=cancer.target\n",
    "skb=SelectKBest(score_func=f_classif,k=25)\n",
    "X1=skb.fit_transform(X,y)\n",
    "sc=StandardScaler()\n",
    "X_new=sc.fit_transform(X1)\n",
    "model=KNeighborsClassifier()\n",
    "test_scores=cross_val_score(model,X_new,y,cv=5)\n",
    "test_scores.mean()"
   ]
  },
  {
   "cell_type": "code",
   "execution_count": null,
   "id": "ec3ac94c-4cc4-45d0-b354-a6a5201114d7",
   "metadata": {},
   "outputs": [],
   "source": []
  },
  {
   "cell_type": "markdown",
   "id": "ffd11b9c-7d0e-4821-881b-3f3f84d94cfd",
   "metadata": {},
   "source": [
    "### Iris datasets"
   ]
  },
  {
   "cell_type": "code",
   "execution_count": 1,
   "id": "e0c74b12-7a44-4d9c-9e42-45f2285763ba",
   "metadata": {
    "tags": []
   },
   "outputs": [],
   "source": [
    "from sklearn.datasets import load_iris\n",
    "from sklearn.neighbors import KNeighborsClassifier\n",
    "from sklearn.metrics import accuracy_score\n",
    "from sklearn.preprocessing import MinMaxScaler,StandardScaler,MaxAbsScaler\n",
    "from sklearn.model_selection import train_test_split\n",
    "from sklearn.model_selection import cross_val_score"
   ]
  },
  {
   "cell_type": "code",
   "execution_count": 2,
   "id": "ab14695a-42ae-40b7-9a3e-eaed6a538c0c",
   "metadata": {
    "tags": []
   },
   "outputs": [
    {
     "name": "stdout",
     "output_type": "stream",
     "text": [
      ".. _iris_dataset:\n",
      "\n",
      "Iris plants dataset\n",
      "--------------------\n",
      "\n",
      "**Data Set Characteristics:**\n",
      "\n",
      "    :Number of Instances: 150 (50 in each of three classes)\n",
      "    :Number of Attributes: 4 numeric, predictive attributes and the class\n",
      "    :Attribute Information:\n",
      "        - sepal length in cm\n",
      "        - sepal width in cm\n",
      "        - petal length in cm\n",
      "        - petal width in cm\n",
      "        - class:\n",
      "                - Iris-Setosa\n",
      "                - Iris-Versicolour\n",
      "                - Iris-Virginica\n",
      "                \n",
      "    :Summary Statistics:\n",
      "\n",
      "    ============== ==== ==== ======= ===== ====================\n",
      "                    Min  Max   Mean    SD   Class Correlation\n",
      "    ============== ==== ==== ======= ===== ====================\n",
      "    sepal length:   4.3  7.9   5.84   0.83    0.7826\n",
      "    sepal width:    2.0  4.4   3.05   0.43   -0.4194\n",
      "    petal length:   1.0  6.9   3.76   1.76    0.9490  (high!)\n",
      "    petal width:    0.1  2.5   1.20   0.76    0.9565  (high!)\n",
      "    ============== ==== ==== ======= ===== ====================\n",
      "\n",
      "    :Missing Attribute Values: None\n",
      "    :Class Distribution: 33.3% for each of 3 classes.\n",
      "    :Creator: R.A. Fisher\n",
      "    :Donor: Michael Marshall (MARSHALL%PLU@io.arc.nasa.gov)\n",
      "    :Date: July, 1988\n",
      "\n",
      "The famous Iris database, first used by Sir R.A. Fisher. The dataset is taken\n",
      "from Fisher's paper. Note that it's the same as in R, but not as in the UCI\n",
      "Machine Learning Repository, which has two wrong data points.\n",
      "\n",
      "This is perhaps the best known database to be found in the\n",
      "pattern recognition literature.  Fisher's paper is a classic in the field and\n",
      "is referenced frequently to this day.  (See Duda & Hart, for example.)  The\n",
      "data set contains 3 classes of 50 instances each, where each class refers to a\n",
      "type of iris plant.  One class is linearly separable from the other 2; the\n",
      "latter are NOT linearly separable from each other.\n",
      "\n",
      ".. topic:: References\n",
      "\n",
      "   - Fisher, R.A. \"The use of multiple measurements in taxonomic problems\"\n",
      "     Annual Eugenics, 7, Part II, 179-188 (1936); also in \"Contributions to\n",
      "     Mathematical Statistics\" (John Wiley, NY, 1950).\n",
      "   - Duda, R.O., & Hart, P.E. (1973) Pattern Classification and Scene Analysis.\n",
      "     (Q327.D83) John Wiley & Sons.  ISBN 0-471-22361-1.  See page 218.\n",
      "   - Dasarathy, B.V. (1980) \"Nosing Around the Neighborhood: A New System\n",
      "     Structure and Classification Rule for Recognition in Partially Exposed\n",
      "     Environments\".  IEEE Transactions on Pattern Analysis and Machine\n",
      "     Intelligence, Vol. PAMI-2, No. 1, 67-71.\n",
      "   - Gates, G.W. (1972) \"The Reduced Nearest Neighbor Rule\".  IEEE Transactions\n",
      "     on Information Theory, May 1972, 431-433.\n",
      "   - See also: 1988 MLC Proceedings, 54-64.  Cheeseman et al\"s AUTOCLASS II\n",
      "     conceptual clustering system finds 3 classes in the data.\n",
      "   - Many, many more ...\n"
     ]
    }
   ],
   "source": [
    "iris=load_iris()\n",
    "X=iris.data\n",
    "y=iris.target\n",
    "print(iris.DESCR)"
   ]
  },
  {
   "cell_type": "code",
   "execution_count": 43,
   "id": "8f6ea89b-db77-4b0d-bcc5-6279f77481e9",
   "metadata": {
    "tags": []
   },
   "outputs": [
    {
     "name": "stdout",
     "output_type": "stream",
     "text": [
      "0.9553571428571429\n",
      "0.9736842105263158\n",
      "[2]\n"
     ]
    }
   ],
   "source": [
    "## Using StandardScaler\n",
    "X_train,X_test,y_train,y_test=train_test_split(X,y,random_state=1)\n",
    "sc=StandardScaler()\n",
    "X_train_new=sc.fit_transform(X_train)\n",
    "X_test_new=sc.transform(X_test)\n",
    "model=KNeighborsClassifier()\n",
    "model.fit(X_train_new,y_train)\n",
    "pred=model.predict(X_train_new)\n",
    "pred1=model.predict(X_test_new)\n",
    "print(accuracy_score(y_train,pred))\n",
    "print(accuracy_score(y_test,pred1))\n",
    "print(model.predict([[4.6,1.3,3.9,.5]]))"
   ]
  },
  {
   "cell_type": "code",
   "execution_count": 44,
   "id": "de6efec9-6b10-46e4-8ad0-e4d8a1421320",
   "metadata": {
    "tags": []
   },
   "outputs": [
    {
     "name": "stdout",
     "output_type": "stream",
     "text": [
      "0.9553571428571429\n",
      "0.9736842105263158\n",
      "[2]\n"
     ]
    }
   ],
   "source": [
    "## Using MinMaxScaler\n",
    "X_train,X_test,y_train,y_test=train_test_split(X,y,random_state=1)\n",
    "sc=MinMaxScaler(feature_range=(0,1))\n",
    "X_train_new=sc.fit_transform(X_train)\n",
    "X_test_new=sc.transform(X_test)\n",
    "model=KNeighborsClassifier()\n",
    "model.fit(X_train_new,y_train)\n",
    "pred=model.predict(X_train_new)\n",
    "pred1=model.predict(X_test_new)\n",
    "print(accuracy_score(y_train,pred))\n",
    "print(accuracy_score(y_test,pred1))\n",
    "print(model.predict([[4.6,1.3,3.9,.5]]))"
   ]
  },
  {
   "cell_type": "markdown",
   "id": "6ac56c95-7b79-4165-9e6a-c7ad75e2b93b",
   "metadata": {
    "tags": []
   },
   "source": [
    "### Using Cross Validation"
   ]
  },
  {
   "cell_type": "code",
   "execution_count": 49,
   "id": "7ac1e325-b0f4-415f-b65a-06ce9dcb885f",
   "metadata": {
    "tags": []
   },
   "outputs": [
    {
     "name": "stdout",
     "output_type": "stream",
     "text": [
      "0.96\n",
      "[2]\n"
     ]
    }
   ],
   "source": [
    "iris=load_iris()\n",
    "X=iris.data\n",
    "y=iris.target\n",
    "sc=StandardScaler()\n",
    "X1=sc.fit_transform(X)\n",
    "model=KNeighborsClassifier()\n",
    "model.fit(X1,y)\n",
    "test_score=cross_val_score(model,X1,y,cv=5)\n",
    "print(test_score.mean())\n",
    "print(model.predict([[4.6,1.3,3.9,.5]]))"
   ]
  },
  {
   "cell_type": "code",
   "execution_count": 57,
   "id": "99b1d576-79d4-4769-8939-54cfcb63db81",
   "metadata": {
    "tags": []
   },
   "outputs": [
    {
     "name": "stdout",
     "output_type": "stream",
     "text": [
      "0.9553571428571429\n",
      "0.9736842105263158\n",
      "[2]\n"
     ]
    },
    {
     "name": "stdin",
     "output_type": "stream",
     "text": [
      "Enter Sepal Length in cm:- 4.6\n",
      "Enter Sepal Width in cm:- 1.3\n",
      "Enter Petal Length in cm:- 3.9\n",
      "Enter Petal Width in cm:- 0.5\n"
     ]
    },
    {
     "name": "stdout",
     "output_type": "stream",
     "text": [
      "[2]\n",
      "[2]\n"
     ]
    }
   ],
   "source": [
    "iris=load_iris()\n",
    "X=iris.data\n",
    "y=iris.target\n",
    "X_train,X_test,y_train,y_test=train_test_split(X,y,random_state=1)\n",
    "sc=StandardScaler()\n",
    "X_train_new=sc.fit_transform(X_train)\n",
    "X_test_new=sc.transform(X_test)\n",
    "model=KNeighborsClassifier()\n",
    "model.fit(X_train_new,y_train)\n",
    "pred=model.predict(X_train_new)\n",
    "pred1=model.predict(X_test_new)\n",
    "print(accuracy_score(y_train,pred))\n",
    "print(accuracy_score(y_test,pred1))\n",
    "print(model.predict([[4.6,1.3,3.9,.5]]))\n",
    "sepal_l=float(input('Enter Sepal Length in cm:-'))\n",
    "sepal_w=float(input('Enter Sepal Width in cm:-'))\n",
    "petal_l=float(input('Enter Petal Length in cm:-'))\n",
    "petal_w=float(input('Enter Petal Width in cm:-'))\n",
    "print(model.predict([[sepal_l,sepal_w,petal_l,petal_w]]))\n",
    "print(model.predict([[0.64705882, 0.33333333, 0.61016949, 0.58333333]]))"
   ]
  },
  {
   "cell_type": "code",
   "execution_count": 62,
   "id": "b4e5b09b-c310-44e9-a652-154adfd5afda",
   "metadata": {},
   "outputs": [
    {
     "name": "stdout",
     "output_type": "stream",
     "text": [
      "0.9732142857142857\n",
      "0.9736842105263158\n",
      "0.9732142857142857\n",
      "0.9736842105263158\n",
      "[2]\n",
      "[1]\n"
     ]
    }
   ],
   "source": [
    "iris=load_iris()\n",
    "X=iris.data\n",
    "y=iris.target\n",
    "X_train,X_test,y_train,y_test=train_test_split(X,y,random_state=1)\n",
    "model=KNeighborsClassifier(n_neighbors=9)\n",
    "model.fit(X_train,y_train)\n",
    "pred=model.predict(X_train)\n",
    "pred1=model.predict(X_test)\n",
    "print(model.score(X_train,y_train)) ## accuracy_score without calling accuracy_score function\n",
    "print(model.score(X_test,y_test))\n",
    "print(accuracy_score(y_train,pred))\n",
    "print(accuracy_score(y_test,pred1))\n",
    "print(model.predict([[4.3,2.9,5.6,1.5]]))\n",
    "print(model.predict([[4.6,1.3,3.9,.5]]))"
   ]
  },
  {
   "cell_type": "code",
   "execution_count": null,
   "id": "8fb44f78-a710-4d39-9d17-b1921127923c",
   "metadata": {},
   "outputs": [],
   "source": []
  }
 ],
 "metadata": {
  "kernelspec": {
   "display_name": "Python 3 (ipykernel)",
   "language": "python",
   "name": "python3"
  },
  "language_info": {
   "codemirror_mode": {
    "name": "ipython",
    "version": 3
   },
   "file_extension": ".py",
   "mimetype": "text/x-python",
   "name": "python",
   "nbconvert_exporter": "python",
   "pygments_lexer": "ipython3",
   "version": "3.11.3"
  }
 },
 "nbformat": 4,
 "nbformat_minor": 5
}
