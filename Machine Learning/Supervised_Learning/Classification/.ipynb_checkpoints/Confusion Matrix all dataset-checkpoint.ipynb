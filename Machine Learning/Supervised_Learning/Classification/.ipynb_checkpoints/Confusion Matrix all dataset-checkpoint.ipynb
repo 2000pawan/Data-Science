{
 "cells": [
  {
   "cell_type": "markdown",
   "id": "2dd74e53-5b3f-470d-84e6-f8a2466ee5cf",
   "metadata": {},
   "source": [
    "### Fruits DataSet"
   ]
  },
  {
   "cell_type": "code",
   "execution_count": 98,
   "id": "9691afef-cd3b-4a35-8d3c-64b12f13d744",
   "metadata": {
    "tags": []
   },
   "outputs": [
    {
     "name": "stdout",
     "output_type": "stream",
     "text": [
      "0.9375\n",
      "1.0\n"
     ]
    }
   ],
   "source": [
    "import pandas as pd\n",
    "from sklearn.neighbors import KNeighborsClassifier\n",
    "from sklearn.metrics import accuracy_score,precision_score,recall_score,f1_score,confusion_matrix,classification_report\n",
    "from sklearn.preprocessing import StandardScaler,MinMaxScaler\n",
    "from sklearn.model_selection import train_test_split\n",
    "from sklearn.preprocessing import LabelEncoder\n",
    "df=pd.read_csv('G:/dataset/classification/fruits.csv')\n",
    "en=LabelEncoder()\n",
    "df.FruitName=en.fit_transform(df.FruitName)\n",
    "X=df.iloc[:,:-1].values\n",
    "y=df.iloc[:,-1].values\n",
    "X_train,X_test,y_train,y_test=train_test_split(X,y,random_state=1)\n",
    "sc=MinMaxScaler(feature_range=(0,1))\n",
    "X_train_new=sc.fit_transform(X_train)\n",
    "X_test_new=sc.transform(X_test)\n",
    "model=KNeighborsClassifier()\n",
    "model.fit(X_train_new,y_train)\n",
    "pred=model.predict(X_train_new)\n",
    "pred1=model.predict(X_test_new)\n",
    "print(accuracy_score(y_train,pred))\n",
    "print(accuracy_score(y_test,pred1))"
   ]
  },
  {
   "cell_type": "code",
   "execution_count": 100,
   "id": "f17bacbb-697c-4eb8-a4b6-0c31df9392a8",
   "metadata": {
    "tags": []
   },
   "outputs": [
    {
     "data": {
      "text/plain": [
       "array([[10,  0],\n",
       "       [ 1,  5]], dtype=int64)"
      ]
     },
     "execution_count": 100,
     "metadata": {},
     "output_type": "execute_result"
    }
   ],
   "source": [
    "confusion_matrix(y_train,pred)"
   ]
  },
  {
   "cell_type": "code",
   "execution_count": 101,
   "id": "58a3c067-9331-44c1-ad26-4218edc60b10",
   "metadata": {
    "tags": []
   },
   "outputs": [
    {
     "name": "stdout",
     "output_type": "stream",
     "text": [
      "Precision_score for class 0(Negative):-  0.9090909090909091\n",
      "Precision_score for class 1(Positive):-  1.0\n",
      "........................................................\n",
      "Recall_score for class 0(Negative):-  1.0\n",
      "Recall_score for class 1(Positive):-  0.8333333333333334\n",
      "........................................................\n",
      "F1_score for class 0(Negative):-  0.9523809523809523\n",
      "F1_score for class 1(Positive):-  0.9090909090909091\n",
      "........................................................\n",
      "Precision_score by inbuilt Function:-  [0.90909091 1.        ]\n",
      "........................................................\n",
      "Recall_score by inbuilt Function:-  [1.         0.83333333]\n",
      "........................................................\n",
      "F1_score by inbuilt Function:-  [0.95238095 0.90909091]\n",
      "........................................................\n",
      "Classification Report:-\n",
      "              precision    recall  f1-score   support\n",
      "\n",
      "           0       0.91      1.00      0.95        10\n",
      "           1       1.00      0.83      0.91         6\n",
      "\n",
      "    accuracy                           0.94        16\n",
      "   macro avg       0.95      0.92      0.93        16\n",
      "weighted avg       0.94      0.94      0.94        16\n",
      "\n"
     ]
    }
   ],
   "source": [
    "TN=10   # True Negative for class 0\n",
    "TP=5   # True Positive for class 1\n",
    "FN=0   # False Negative for class 0\n",
    "FP=1   # False Positive for class 1\n",
    "prec_0=TN/(TN+FP)\n",
    "print('Precision_score for class 0(Negative):- ',prec_0)\n",
    "prec_1=TP/(TP+FN)\n",
    "print('Precision_score for class 1(Positive):- ',prec_1)\n",
    "print('........................................................')\n",
    "rec_0=TN/(TN+FN)\n",
    "print('Recall_score for class 0(Negative):- ',rec_0)\n",
    "rec_1=TP/(TP+FP)\n",
    "print('Recall_score for class 1(Positive):- ',rec_1)\n",
    "print('........................................................')\n",
    "f1_0=2*prec_0*rec_0/(prec_0+rec_0)\n",
    "print('F1_score for class 0(Negative):- ',f1_0)\n",
    "f1_1=2*prec_1*rec_1/(prec_1+rec_1)\n",
    "print('F1_score for class 1(Positive):- ',f1_1)\n",
    "print('........................................................')\n",
    "print('Precision_score by inbuilt Function:- ',precision_score(y_train,pred,average=None))\n",
    "print('........................................................')\n",
    "print('Recall_score by inbuilt Function:- ',recall_score(y_train,pred,average=None))\n",
    "print('........................................................')\n",
    "print('F1_score by inbuilt Function:- ',f1_score(y_train,pred,average=None))\n",
    "print('........................................................')\n",
    "print('Classification Report:-\\n',classification_report(y_train,pred),sep='')"
   ]
  },
  {
   "cell_type": "code",
   "execution_count": 102,
   "id": "51a1c58b-39d2-45e4-91a9-479494966729",
   "metadata": {
    "tags": []
   },
   "outputs": [
    {
     "data": {
      "text/plain": [
       "array([[2, 0],\n",
       "       [0, 4]], dtype=int64)"
      ]
     },
     "execution_count": 102,
     "metadata": {},
     "output_type": "execute_result"
    }
   ],
   "source": [
    "confusion_matrix(y_test,pred1)"
   ]
  },
  {
   "cell_type": "code",
   "execution_count": 103,
   "id": "ad9a3087-f64e-46ef-a3a6-fd7e80de008b",
   "metadata": {
    "tags": []
   },
   "outputs": [
    {
     "name": "stdout",
     "output_type": "stream",
     "text": [
      "Precision_score for class 0(Negative):-  1.0\n",
      "Precision_score for class 1(Positive):-  1.0\n",
      "........................................................\n",
      "Recall_score for class 0(Negative):-  1.0\n",
      "Recall_score for class 1(Positive):-  1.0\n",
      "........................................................\n",
      "F1_score for class 0(Negative):-  1.0\n",
      "F1_score for class 1(Positive):-  1.0\n",
      "........................................................\n",
      "Precision_score by inbuilt Function:-  [1. 1.]\n",
      "........................................................\n",
      "Recall_score by inbuilt Function:-  [1. 1.]\n",
      "........................................................\n",
      "F1_score by inbuilt Function:-  [1. 1.]\n",
      "........................................................\n",
      "Classification Report:-\n",
      "              precision    recall  f1-score   support\n",
      "\n",
      "           0       1.00      1.00      1.00         2\n",
      "           1       1.00      1.00      1.00         4\n",
      "\n",
      "    accuracy                           1.00         6\n",
      "   macro avg       1.00      1.00      1.00         6\n",
      "weighted avg       1.00      1.00      1.00         6\n",
      "\n"
     ]
    }
   ],
   "source": [
    "TN=2   # True Negative for class 0\n",
    "TP=4   # True Positive for class 1\n",
    "FN=0   # False Negative for class 0\n",
    "FP=0   # False Positive for class 1\n",
    "prec_0=TN/(TN+FP)\n",
    "print('Precision_score for class 0(Negative):- ',prec_0)\n",
    "prec_1=TP/(TP+FN)\n",
    "print('Precision_score for class 1(Positive):- ',prec_1)\n",
    "print('........................................................')\n",
    "rec_0=TN/(TN+FN)\n",
    "print('Recall_score for class 0(Negative):- ',rec_0)\n",
    "rec_1=TP/(TP+FP)\n",
    "print('Recall_score for class 1(Positive):- ',rec_1)\n",
    "print('........................................................')\n",
    "f1_0=2*prec_0*rec_0/(prec_0+rec_0)\n",
    "print('F1_score for class 0(Negative):- ',f1_0)\n",
    "f1_1=2*prec_1*rec_1/(prec_1+rec_1)\n",
    "print('F1_score for class 1(Positive):- ',f1_1)\n",
    "print('........................................................')\n",
    "print('Precision_score by inbuilt Function:- ',precision_score(y_test,pred1,average=None))\n",
    "print('........................................................')\n",
    "print('Recall_score by inbuilt Function:- ',recall_score(y_test,pred1,average=None))\n",
    "print('........................................................')\n",
    "print('F1_score by inbuilt Function:- ',f1_score(y_test,pred1,average=None))\n",
    "print('........................................................')\n",
    "print('Classification Report:-\\n',classification_report(y_test,pred1),sep='')"
   ]
  },
  {
   "cell_type": "markdown",
   "id": "73dfeb3c-a1e3-4b95-979b-41a820f0b474",
   "metadata": {},
   "source": [
    "### Online Shop DataSet"
   ]
  },
  {
   "cell_type": "code",
   "execution_count": 122,
   "id": "a3494061-906c-45b9-aec4-8389ebe8948f",
   "metadata": {
    "tags": []
   },
   "outputs": [
    {
     "name": "stdout",
     "output_type": "stream",
     "text": [
      "0.9333333333333333\n",
      "0.87\n"
     ]
    }
   ],
   "source": [
    "import pandas as pd\n",
    "from sklearn.neighbors import KNeighborsClassifier\n",
    "from sklearn.metrics import accuracy_score,precision_score,recall_score,f1_score,confusion_matrix,classification_report\n",
    "from sklearn.preprocessing import StandardScaler,MinMaxScaler\n",
    "from sklearn.model_selection import train_test_split\n",
    "from sklearn.preprocessing import LabelEncoder\n",
    "df=pd.read_csv('G:/dataset/classification/online_shop.csv')\n",
    "en=LabelEncoder()\n",
    "df.Gender=en.fit_transform(df.Gender)\n",
    "X=df.iloc[:,:-1].values\n",
    "y=df.iloc[:,-1].values\n",
    "X_train,X_test,y_train,y_test=train_test_split(X,y,random_state=1)\n",
    "sc=MinMaxScaler(feature_range=(0,1))\n",
    "X_train_new=sc.fit_transform(X_train)\n",
    "X_test_new=sc.transform(X_test)\n",
    "model=KNeighborsClassifier()\n",
    "model.fit(X_train_new,y_train)\n",
    "pred=model.predict(X_train_new)\n",
    "pred1=model.predict(X_test_new)\n",
    "print(accuracy_score(y_train,pred))\n",
    "print(accuracy_score(y_test,pred1))"
   ]
  },
  {
   "cell_type": "code",
   "execution_count": 112,
   "id": "a03f6d14-4229-416b-8de9-e2705082b6a8",
   "metadata": {
    "tags": []
   },
   "outputs": [
    {
     "data": {
      "text/plain": [
       "array([[189,  10],\n",
       "       [ 10,  91]], dtype=int64)"
      ]
     },
     "execution_count": 112,
     "metadata": {},
     "output_type": "execute_result"
    }
   ],
   "source": [
    "confusion_matrix(y_train,pred)"
   ]
  },
  {
   "cell_type": "code",
   "execution_count": 113,
   "id": "7d7b30c3-e7ed-4ddf-9f5f-ffcfe9c4d5ff",
   "metadata": {
    "tags": []
   },
   "outputs": [
    {
     "name": "stdout",
     "output_type": "stream",
     "text": [
      "Precision_score for class 0(Negative):-  0.949748743718593\n",
      "Precision_score for class 1(Positive):-  0.900990099009901\n",
      "........................................................\n",
      "Recall_score for class 0(Negative):-  0.949748743718593\n",
      "Recall_score for class 1(Positive):-  0.900990099009901\n",
      "........................................................\n",
      "F1_score for class 0(Negative):-  0.949748743718593\n",
      "F1_score for class 1(Positive):-  0.9009900990099011\n",
      "........................................................\n",
      "Precision_score by inbuilt Function:-  [0.94974874 0.9009901 ]\n",
      "........................................................\n",
      "Recall_score by inbuilt Function:-  [0.94974874 0.9009901 ]\n",
      "........................................................\n",
      "F1_score by inbuilt Function:-  [0.94974874 0.9009901 ]\n",
      "........................................................\n",
      "Classification Report:-\n",
      "              precision    recall  f1-score   support\n",
      "\n",
      "           0       0.95      0.95      0.95       199\n",
      "           1       0.90      0.90      0.90       101\n",
      "\n",
      "    accuracy                           0.93       300\n",
      "   macro avg       0.93      0.93      0.93       300\n",
      "weighted avg       0.93      0.93      0.93       300\n",
      "\n"
     ]
    }
   ],
   "source": [
    "TN=189   # True Negative for class 0\n",
    "TP=91   # True Positive for class 1\n",
    "FN=10   # False Negative for class 0\n",
    "FP=10   # False Positive for class 1\n",
    "prec_0=TN/(TN+FP)\n",
    "print('Precision_score for class 0(Negative):- ',prec_0)\n",
    "prec_1=TP/(TP+FN)\n",
    "print('Precision_score for class 1(Positive):- ',prec_1)\n",
    "print('........................................................')\n",
    "rec_0=TN/(TN+FN)\n",
    "print('Recall_score for class 0(Negative):- ',rec_0)\n",
    "rec_1=TP/(TP+FP)\n",
    "print('Recall_score for class 1(Positive):- ',rec_1)\n",
    "print('........................................................')\n",
    "f1_0=2*prec_0*rec_0/(prec_0+rec_0)\n",
    "print('F1_score for class 0(Negative):- ',f1_0)\n",
    "f1_1=2*prec_1*rec_1/(prec_1+rec_1)\n",
    "print('F1_score for class 1(Positive):- ',f1_1)\n",
    "print('........................................................')\n",
    "print('Precision_score by inbuilt Function:- ',precision_score(y_train,pred,average=None))\n",
    "print('........................................................')\n",
    "print('Recall_score by inbuilt Function:- ',recall_score(y_train,pred,average=None))\n",
    "print('........................................................')\n",
    "print('F1_score by inbuilt Function:- ',f1_score(y_train,pred,average=None))\n",
    "print('........................................................')\n",
    "print('Classification Report:-\\n',classification_report(y_train,pred),sep='')"
   ]
  },
  {
   "cell_type": "code",
   "execution_count": 114,
   "id": "ac03dd7d-dc84-4b6b-8041-7ad9e9b6f2eb",
   "metadata": {
    "tags": []
   },
   "outputs": [
    {
     "data": {
      "text/plain": [
       "array([[49,  9],\n",
       "       [ 4, 38]], dtype=int64)"
      ]
     },
     "execution_count": 114,
     "metadata": {},
     "output_type": "execute_result"
    }
   ],
   "source": [
    "confusion_matrix(y_test,pred1)"
   ]
  },
  {
   "cell_type": "code",
   "execution_count": 115,
   "id": "d88f3b1d-8a60-4c82-a100-dc083e888aaa",
   "metadata": {
    "tags": []
   },
   "outputs": [
    {
     "name": "stdout",
     "output_type": "stream",
     "text": [
      "Precision_score for class 0(Negative):-  0.9245283018867925\n",
      "Precision_score for class 1(Positive):-  0.8085106382978723\n",
      "........................................................\n",
      "Recall_score for class 0(Negative):-  0.8448275862068966\n",
      "Recall_score for class 1(Positive):-  0.9047619047619048\n",
      "........................................................\n",
      "F1_score for class 0(Negative):-  0.8828828828828829\n",
      "F1_score for class 1(Positive):-  0.853932584269663\n",
      "........................................................\n",
      "Precision_score by inbuilt Function:-  [0.9245283  0.80851064]\n",
      "........................................................\n",
      "Recall_score by inbuilt Function:-  [0.84482759 0.9047619 ]\n",
      "........................................................\n",
      "F1_score by inbuilt Function:-  [0.88288288 0.85393258]\n",
      "........................................................\n",
      "Classification Report:-\n",
      "              precision    recall  f1-score   support\n",
      "\n",
      "           0       0.92      0.84      0.88        58\n",
      "           1       0.81      0.90      0.85        42\n",
      "\n",
      "    accuracy                           0.87       100\n",
      "   macro avg       0.87      0.87      0.87       100\n",
      "weighted avg       0.88      0.87      0.87       100\n",
      "\n"
     ]
    }
   ],
   "source": [
    "TN=49   # True Negative for class 0\n",
    "TP=38   # True Positive for class 1\n",
    "FN=9   # False Negative for class 0\n",
    "FP=4  # False Positive for class 1\n",
    "prec_0=TN/(TN+FP)\n",
    "print('Precision_score for class 0(Negative):- ',prec_0)\n",
    "prec_1=TP/(TP+FN)\n",
    "print('Precision_score for class 1(Positive):- ',prec_1)\n",
    "print('........................................................')\n",
    "rec_0=TN/(TN+FN)\n",
    "print('Recall_score for class 0(Negative):- ',rec_0)\n",
    "rec_1=TP/(TP+FP)\n",
    "print('Recall_score for class 1(Positive):- ',rec_1)\n",
    "print('........................................................')\n",
    "f1_0=2*prec_0*rec_0/(prec_0+rec_0)\n",
    "print('F1_score for class 0(Negative):- ',f1_0)\n",
    "f1_1=2*prec_1*rec_1/(prec_1+rec_1)\n",
    "print('F1_score for class 1(Positive):- ',f1_1)\n",
    "print('........................................................')\n",
    "print('Precision_score by inbuilt Function:- ',precision_score(y_test,pred1,average=None))\n",
    "print('........................................................')\n",
    "print('Recall_score by inbuilt Function:- ',recall_score(y_test,pred1,average=None))\n",
    "print('........................................................')\n",
    "print('F1_score by inbuilt Function:- ',f1_score(y_test,pred1,average=None))\n",
    "print('........................................................')\n",
    "print('Classification Report:-\\n',classification_report(y_test,pred1),sep='')"
   ]
  },
  {
   "cell_type": "markdown",
   "id": "797dc9b1-eca0-468c-80a3-560f6d938fca",
   "metadata": {},
   "source": [
    "### Breast Cancer DataSet"
   ]
  },
  {
   "cell_type": "code",
   "execution_count": 126,
   "id": "90d31eb0-425a-4268-8aca-6f8d1fd26a18",
   "metadata": {
    "tags": []
   },
   "outputs": [],
   "source": [
    "from sklearn.neighbors import KNeighborsClassifier\n",
    "from sklearn.metrics import accuracy_score,precision_score,recall_score,f1_score,confusion_matrix,classification_report\n",
    "from sklearn.preprocessing import StandardScaler,MinMaxScaler\n",
    "from sklearn.model_selection import train_test_split\n",
    "from sklearn.preprocessing import LabelEncoder\n",
    "from sklearn.datasets import load_breast_cancer\n",
    "from sklearn.feature_selection import SelectKBest,f_classif"
   ]
  },
  {
   "cell_type": "code",
   "execution_count": 127,
   "id": "abedc382-c405-4fd3-95ae-39daa471b3a7",
   "metadata": {
    "tags": []
   },
   "outputs": [
    {
     "name": "stdout",
     "output_type": "stream",
     "text": [
      "0.9788732394366197\n",
      "0.965034965034965\n"
     ]
    }
   ],
   "source": [
    "cancer=load_breast_cancer()\n",
    "X=cancer.data\n",
    "y=cancer.target\n",
    "skb=SelectKBest(score_func=f_classif,k=27)\n",
    "X1=skb.fit_transform(X,y)\n",
    "X_train,X_test,y_train,y_test=train_test_split(X1,y,random_state=1)\n",
    "sc=StandardScaler()\n",
    "X_train_new=sc.fit_transform(X_train)\n",
    "X_test_new=sc.transform(X_test)\n",
    "model=KNeighborsClassifier(n_neighbors=6)\n",
    "model.fit(X_train_new,y_train)\n",
    "pred=model.predict(X_train_new)\n",
    "pred1=model.predict(X_test_new)\n",
    "print(accuracy_score(pred,y_train))\n",
    "print(accuracy_score(pred1,y_test))"
   ]
  },
  {
   "cell_type": "code",
   "execution_count": 128,
   "id": "2a131fd8-b6b0-451c-8879-4d518bc50e00",
   "metadata": {
    "tags": []
   },
   "outputs": [
    {
     "data": {
      "text/plain": [
       "array([[151,   6],\n",
       "       [  3, 266]], dtype=int64)"
      ]
     },
     "execution_count": 128,
     "metadata": {},
     "output_type": "execute_result"
    }
   ],
   "source": [
    "confusion_matrix(y_train,pred)"
   ]
  },
  {
   "cell_type": "code",
   "execution_count": 129,
   "id": "653ac1ea-ef12-449a-ab57-5872124ba2ce",
   "metadata": {
    "tags": []
   },
   "outputs": [
    {
     "name": "stdout",
     "output_type": "stream",
     "text": [
      "Precision_score for class 0(Negative):-  0.9805194805194806\n",
      "Precision_score for class 1(Positive):-  0.9779411764705882\n",
      "........................................................\n",
      "Recall_score for class 0(Negative):-  0.9617834394904459\n",
      "Recall_score for class 1(Positive):-  0.9888475836431226\n",
      "........................................................\n",
      "F1_score for class 0(Negative):-  0.9710610932475885\n",
      "F1_score for class 1(Positive):-  0.9833641404805915\n",
      "........................................................\n",
      "Precision_score by inbuilt Function:-  [0.98051948 0.97794118]\n",
      "........................................................\n",
      "Recall_score by inbuilt Function:-  [0.96178344 0.98884758]\n",
      "........................................................\n",
      "F1_score by inbuilt Function:-  [0.97106109 0.98336414]\n",
      "........................................................\n",
      "Classification Report:-\n",
      "              precision    recall  f1-score   support\n",
      "\n",
      "           0       0.98      0.96      0.97       157\n",
      "           1       0.98      0.99      0.98       269\n",
      "\n",
      "    accuracy                           0.98       426\n",
      "   macro avg       0.98      0.98      0.98       426\n",
      "weighted avg       0.98      0.98      0.98       426\n",
      "\n"
     ]
    }
   ],
   "source": [
    "TN=151   # True Negative for class 0\n",
    "TP=266   # True Positive for class 1\n",
    "FN=6   # False Negative for class 0\n",
    "FP=3   # False Positive for class 1\n",
    "prec_0=TN/(TN+FP)\n",
    "print('Precision_score for class 0(Negative):- ',prec_0)\n",
    "prec_1=TP/(TP+FN)\n",
    "print('Precision_score for class 1(Positive):- ',prec_1)\n",
    "print('........................................................')\n",
    "rec_0=TN/(TN+FN)\n",
    "print('Recall_score for class 0(Negative):- ',rec_0)\n",
    "rec_1=TP/(TP+FP)\n",
    "print('Recall_score for class 1(Positive):- ',rec_1)\n",
    "print('........................................................')\n",
    "f1_0=2*prec_0*rec_0/(prec_0+rec_0)\n",
    "print('F1_score for class 0(Negative):- ',f1_0)\n",
    "f1_1=2*prec_1*rec_1/(prec_1+rec_1)\n",
    "print('F1_score for class 1(Positive):- ',f1_1)\n",
    "print('........................................................')\n",
    "print('Precision_score by inbuilt Function:- ',precision_score(y_train,pred,average=None))\n",
    "print('........................................................')\n",
    "print('Recall_score by inbuilt Function:- ',recall_score(y_train,pred,average=None))\n",
    "print('........................................................')\n",
    "print('F1_score by inbuilt Function:- ',f1_score(y_train,pred,average=None))\n",
    "print('........................................................')\n",
    "print('Classification Report:-\\n',classification_report(y_train,pred),sep='')"
   ]
  },
  {
   "cell_type": "code",
   "execution_count": 131,
   "id": "c63f6101-cf35-45df-8297-0b6e1fb71931",
   "metadata": {
    "tags": []
   },
   "outputs": [
    {
     "data": {
      "text/plain": [
       "array([[50,  5],\n",
       "       [ 0, 88]], dtype=int64)"
      ]
     },
     "execution_count": 131,
     "metadata": {},
     "output_type": "execute_result"
    }
   ],
   "source": [
    "confusion_matrix(y_test,pred1)"
   ]
  },
  {
   "cell_type": "code",
   "execution_count": 132,
   "id": "567031d0-d135-4f5a-acbb-ff8d418adb96",
   "metadata": {
    "tags": []
   },
   "outputs": [
    {
     "name": "stdout",
     "output_type": "stream",
     "text": [
      "Precision_score for class 0(Negative):-  1.0\n",
      "Precision_score for class 1(Positive):-  0.946236559139785\n",
      "........................................................\n",
      "Recall_score for class 0(Negative):-  0.9090909090909091\n",
      "Recall_score for class 1(Positive):-  1.0\n",
      "........................................................\n",
      "F1_score for class 0(Negative):-  0.9523809523809523\n",
      "F1_score for class 1(Positive):-  0.9723756906077349\n",
      "........................................................\n",
      "Precision_score by inbuilt Function:-  [1.         0.94623656]\n",
      "........................................................\n",
      "Recall_score by inbuilt Function:-  [0.90909091 1.        ]\n",
      "........................................................\n",
      "F1_score by inbuilt Function:-  [0.95238095 0.97237569]\n",
      "........................................................\n",
      "Classification Report:-\n",
      "              precision    recall  f1-score   support\n",
      "\n",
      "           0       1.00      0.91      0.95        55\n",
      "           1       0.95      1.00      0.97        88\n",
      "\n",
      "    accuracy                           0.97       143\n",
      "   macro avg       0.97      0.95      0.96       143\n",
      "weighted avg       0.97      0.97      0.96       143\n",
      "\n"
     ]
    }
   ],
   "source": [
    "TN=50   # True Negative for class 0\n",
    "TP=88   # True Positive for class 1\n",
    "FN=5   # False Negative for class 0\n",
    "FP=0  # False Positive for class 1\n",
    "prec_0=TN/(TN+FP)\n",
    "print('Precision_score for class 0(Negative):- ',prec_0)\n",
    "prec_1=TP/(TP+FN)\n",
    "print('Precision_score for class 1(Positive):- ',prec_1)\n",
    "print('........................................................')\n",
    "rec_0=TN/(TN+FN)\n",
    "print('Recall_score for class 0(Negative):- ',rec_0)\n",
    "rec_1=TP/(TP+FP)\n",
    "print('Recall_score for class 1(Positive):- ',rec_1)\n",
    "print('........................................................')\n",
    "f1_0=2*prec_0*rec_0/(prec_0+rec_0)\n",
    "print('F1_score for class 0(Negative):- ',f1_0)\n",
    "f1_1=2*prec_1*rec_1/(prec_1+rec_1)\n",
    "print('F1_score for class 1(Positive):- ',f1_1)\n",
    "print('........................................................')\n",
    "print('Precision_score by inbuilt Function:- ',precision_score(y_test,pred1,average=None))\n",
    "print('........................................................')\n",
    "print('Recall_score by inbuilt Function:- ',recall_score(y_test,pred1,average=None))\n",
    "print('........................................................')\n",
    "print('F1_score by inbuilt Function:- ',f1_score(y_test,pred1,average=None))\n",
    "print('........................................................')\n",
    "print('Classification Report:-\\n',classification_report(y_test,pred1),sep='')"
   ]
  },
  {
   "cell_type": "code",
   "execution_count": null,
   "id": "e232506f-2f75-4076-8d26-bdf3aeaad5ba",
   "metadata": {},
   "outputs": [],
   "source": []
  }
 ],
 "metadata": {
  "kernelspec": {
   "display_name": "Python 3 (ipykernel)",
   "language": "python",
   "name": "python3"
  },
  "language_info": {
   "codemirror_mode": {
    "name": "ipython",
    "version": 3
   },
   "file_extension": ".py",
   "mimetype": "text/x-python",
   "name": "python",
   "nbconvert_exporter": "python",
   "pygments_lexer": "ipython3",
   "version": "3.11.3"
  }
 },
 "nbformat": 4,
 "nbformat_minor": 5
}
