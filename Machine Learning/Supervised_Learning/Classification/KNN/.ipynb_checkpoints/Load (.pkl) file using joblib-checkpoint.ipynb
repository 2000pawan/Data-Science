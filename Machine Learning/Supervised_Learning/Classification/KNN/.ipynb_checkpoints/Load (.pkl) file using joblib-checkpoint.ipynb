{
 "cells": [
  {
   "cell_type": "code",
   "execution_count": 5,
   "id": "0e3a0e53-6e36-4bac-9934-7ccb9f624a84",
   "metadata": {
    "tags": []
   },
   "outputs": [],
   "source": [
    "import joblib"
   ]
  },
  {
   "cell_type": "code",
   "execution_count": 6,
   "id": "f8a0fab5-36f3-4ef6-b3f7-3c5d590e4691",
   "metadata": {
    "tags": []
   },
   "outputs": [],
   "source": [
    "model=joblib.load(\"G:/Coding/online_shop.pkl\")"
   ]
  },
  {
   "cell_type": "code",
   "execution_count": 10,
   "id": "6203bd08-0ca6-4927-9cad-0916ab44e970",
   "metadata": {
    "tags": []
   },
   "outputs": [
    {
     "name": "stdin",
     "output_type": "stream",
     "text": [
      "Enter your age:- 47\n",
      "Enter your salary:- 25000\n",
      "Enter your gender(if you are male enter 1 and female enter 0):- 1\n"
     ]
    },
    {
     "name": "stdout",
     "output_type": "stream",
     "text": [
      "Person Preferred Online Shopping!\n"
     ]
    }
   ],
   "source": [
    "age=int(input('Enter your age:-'))\n",
    "salary=int(input('Enter your salary:-'))\n",
    "gender=int(input('Enter your gender(if you are male enter 1 and female enter 0):-'))\n",
    "prdiction=model.predict([[gender,age,salary]])\n",
    "if prdiction==1:\n",
    "    print('Person Preferred Online Shopping!')\n",
    "else:\n",
    "    print('Person Preferred Offline Shopping!')"
   ]
  },
  {
   "cell_type": "code",
   "execution_count": 11,
   "id": "f1a4206f-d67e-4980-a31b-922ddc94eb83",
   "metadata": {
    "tags": []
   },
   "outputs": [],
   "source": [
    "iris=joblib.load(\"G:/DS & ML/Machine Learning/iris_model.pkl\")"
   ]
  },
  {
   "cell_type": "code",
   "execution_count": 14,
   "id": "01978c8f-c742-42a7-b6e3-4994affc1a23",
   "metadata": {
    "tags": []
   },
   "outputs": [
    {
     "data": {
      "text/plain": [
       "array([2])"
      ]
     },
     "execution_count": 14,
     "metadata": {},
     "output_type": "execute_result"
    }
   ],
   "source": [
    "iris.predict([[5.8,2.7,5.1,1.9]])"
   ]
  },
  {
   "cell_type": "code",
   "execution_count": 15,
   "id": "7484b087-e54e-4233-9a8b-19c1d2a0ca3c",
   "metadata": {
    "tags": []
   },
   "outputs": [],
   "source": [
    "import pickle"
   ]
  },
  {
   "cell_type": "code",
   "execution_count": 18,
   "id": "72495958-3841-4dca-ba90-a6de32175d5b",
   "metadata": {
    "tags": []
   },
   "outputs": [],
   "source": [
    "mode=pickle.load(open(\"G:/Coding/online.pkl\",\"rb\"))"
   ]
  },
  {
   "cell_type": "code",
   "execution_count": 19,
   "id": "d95ca914-b83f-4c08-b6a6-4f420f2b481b",
   "metadata": {
    "tags": []
   },
   "outputs": [
    {
     "data": {
      "text/plain": [
       "array([1], dtype=int64)"
      ]
     },
     "execution_count": 19,
     "metadata": {},
     "output_type": "execute_result"
    }
   ],
   "source": [
    "mode.predict([[1,47,25000]])"
   ]
  },
  {
   "cell_type": "code",
   "execution_count": null,
   "id": "84668e60-3612-45bb-a60b-46be778e25ef",
   "metadata": {},
   "outputs": [],
   "source": []
  }
 ],
 "metadata": {
  "kernelspec": {
   "display_name": "Python 3 (ipykernel)",
   "language": "python",
   "name": "python3"
  },
  "language_info": {
   "codemirror_mode": {
    "name": "ipython",
    "version": 3
   },
   "file_extension": ".py",
   "mimetype": "text/x-python",
   "name": "python",
   "nbconvert_exporter": "python",
   "pygments_lexer": "ipython3",
   "version": "3.11.3"
  }
 },
 "nbformat": 4,
 "nbformat_minor": 5
}
