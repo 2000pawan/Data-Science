{
 "cells": [
  {
   "cell_type": "markdown",
   "id": "afda772d-7d34-4607-ae3e-c5771c0f8655",
   "metadata": {},
   "source": [
    "### Credit Card Fraud Detection"
   ]
  },
  {
   "cell_type": "code",
   "execution_count": 1,
   "id": "02235ac1-7e01-4abe-8fb9-5bd4b2a3d35e",
   "metadata": {
    "tags": []
   },
   "outputs": [],
   "source": [
    "import pandas as pd"
   ]
  },
  {
   "cell_type": "code",
   "execution_count": 2,
   "id": "6bc103dd-7e4d-48b9-90a4-4c4f36566f00",
   "metadata": {
    "tags": []
   },
   "outputs": [
    {
     "data": {
      "text/html": [
       "<div>\n",
       "<style scoped>\n",
       "    .dataframe tbody tr th:only-of-type {\n",
       "        vertical-align: middle;\n",
       "    }\n",
       "\n",
       "    .dataframe tbody tr th {\n",
       "        vertical-align: top;\n",
       "    }\n",
       "\n",
       "    .dataframe thead th {\n",
       "        text-align: right;\n",
       "    }\n",
       "</style>\n",
       "<table border=\"1\" class=\"dataframe\">\n",
       "  <thead>\n",
       "    <tr style=\"text-align: right;\">\n",
       "      <th></th>\n",
       "      <th>Time</th>\n",
       "      <th>V1</th>\n",
       "      <th>V2</th>\n",
       "      <th>V3</th>\n",
       "      <th>V4</th>\n",
       "      <th>V5</th>\n",
       "      <th>V6</th>\n",
       "      <th>V7</th>\n",
       "      <th>V8</th>\n",
       "      <th>V9</th>\n",
       "      <th>...</th>\n",
       "      <th>V21</th>\n",
       "      <th>V22</th>\n",
       "      <th>V23</th>\n",
       "      <th>V24</th>\n",
       "      <th>V25</th>\n",
       "      <th>V26</th>\n",
       "      <th>V27</th>\n",
       "      <th>V28</th>\n",
       "      <th>Amount</th>\n",
       "      <th>Class</th>\n",
       "    </tr>\n",
       "  </thead>\n",
       "  <tbody>\n",
       "    <tr>\n",
       "      <th>count</th>\n",
       "      <td>5078.000000</td>\n",
       "      <td>5078.000000</td>\n",
       "      <td>5078.000000</td>\n",
       "      <td>5078.000000</td>\n",
       "      <td>5078.000000</td>\n",
       "      <td>5078.000000</td>\n",
       "      <td>5078.000000</td>\n",
       "      <td>5078.000000</td>\n",
       "      <td>5078.000000</td>\n",
       "      <td>5078.000000</td>\n",
       "      <td>...</td>\n",
       "      <td>5078.000000</td>\n",
       "      <td>5078.000000</td>\n",
       "      <td>5078.000000</td>\n",
       "      <td>5078.000000</td>\n",
       "      <td>5078.000000</td>\n",
       "      <td>5078.000000</td>\n",
       "      <td>5078.000000</td>\n",
       "      <td>5078.000000</td>\n",
       "      <td>5078.000000</td>\n",
       "      <td>5078.000000</td>\n",
       "    </tr>\n",
       "    <tr>\n",
       "      <th>mean</th>\n",
       "      <td>26382.185112</td>\n",
       "      <td>-0.705344</td>\n",
       "      <td>0.584418</td>\n",
       "      <td>-0.103781</td>\n",
       "      <td>0.425607</td>\n",
       "      <td>-0.309467</td>\n",
       "      <td>-0.108354</td>\n",
       "      <td>-0.414131</td>\n",
       "      <td>0.001792</td>\n",
       "      <td>-0.201511</td>\n",
       "      <td>...</td>\n",
       "      <td>0.080747</td>\n",
       "      <td>-0.056018</td>\n",
       "      <td>-0.046341</td>\n",
       "      <td>0.011762</td>\n",
       "      <td>0.061805</td>\n",
       "      <td>-0.005513</td>\n",
       "      <td>0.047797</td>\n",
       "      <td>0.009149</td>\n",
       "      <td>73.191022</td>\n",
       "      <td>0.096889</td>\n",
       "    </tr>\n",
       "    <tr>\n",
       "      <th>std</th>\n",
       "      <td>52274.968414</td>\n",
       "      <td>2.863990</td>\n",
       "      <td>2.026708</td>\n",
       "      <td>3.356264</td>\n",
       "      <td>2.102100</td>\n",
       "      <td>2.234907</td>\n",
       "      <td>1.412898</td>\n",
       "      <td>2.988556</td>\n",
       "      <td>2.431636</td>\n",
       "      <td>1.411592</td>\n",
       "      <td>...</td>\n",
       "      <td>1.452462</td>\n",
       "      <td>0.781524</td>\n",
       "      <td>0.624309</td>\n",
       "      <td>0.601170</td>\n",
       "      <td>0.477179</td>\n",
       "      <td>0.494488</td>\n",
       "      <td>0.561563</td>\n",
       "      <td>0.313161</td>\n",
       "      <td>215.785515</td>\n",
       "      <td>0.295835</td>\n",
       "    </tr>\n",
       "    <tr>\n",
       "      <th>min</th>\n",
       "      <td>0.000000</td>\n",
       "      <td>-30.552380</td>\n",
       "      <td>-15.732974</td>\n",
       "      <td>-31.103685</td>\n",
       "      <td>-4.657545</td>\n",
       "      <td>-32.092129</td>\n",
       "      <td>-7.465603</td>\n",
       "      <td>-43.557242</td>\n",
       "      <td>-41.044261</td>\n",
       "      <td>-13.434066</td>\n",
       "      <td>...</td>\n",
       "      <td>-22.797604</td>\n",
       "      <td>-8.887017</td>\n",
       "      <td>-19.254328</td>\n",
       "      <td>-2.162523</td>\n",
       "      <td>-4.781606</td>\n",
       "      <td>-1.413802</td>\n",
       "      <td>-7.263482</td>\n",
       "      <td>-2.909294</td>\n",
       "      <td>0.000000</td>\n",
       "      <td>0.000000</td>\n",
       "    </tr>\n",
       "    <tr>\n",
       "      <th>25%</th>\n",
       "      <td>978.000000</td>\n",
       "      <td>-1.179498</td>\n",
       "      <td>-0.167130</td>\n",
       "      <td>-0.265157</td>\n",
       "      <td>-0.800510</td>\n",
       "      <td>-0.678437</td>\n",
       "      <td>-0.838720</td>\n",
       "      <td>-0.490238</td>\n",
       "      <td>-0.210276</td>\n",
       "      <td>-0.621899</td>\n",
       "      <td>...</td>\n",
       "      <td>-0.210077</td>\n",
       "      <td>-0.524702</td>\n",
       "      <td>-0.210538</td>\n",
       "      <td>-0.356086</td>\n",
       "      <td>-0.202714</td>\n",
       "      <td>-0.326615</td>\n",
       "      <td>-0.048946</td>\n",
       "      <td>-0.034215</td>\n",
       "      <td>2.000000</td>\n",
       "      <td>0.000000</td>\n",
       "    </tr>\n",
       "    <tr>\n",
       "      <th>50%</th>\n",
       "      <td>2098.500000</td>\n",
       "      <td>-0.462149</td>\n",
       "      <td>0.447474</td>\n",
       "      <td>0.628581</td>\n",
       "      <td>0.224502</td>\n",
       "      <td>-0.106695</td>\n",
       "      <td>-0.292258</td>\n",
       "      <td>0.087072</td>\n",
       "      <td>0.041295</td>\n",
       "      <td>-0.047356</td>\n",
       "      <td>...</td>\n",
       "      <td>-0.032411</td>\n",
       "      <td>-0.046677</td>\n",
       "      <td>-0.057917</td>\n",
       "      <td>0.079595</td>\n",
       "      <td>0.083491</td>\n",
       "      <td>-0.018332</td>\n",
       "      <td>0.033595</td>\n",
       "      <td>0.020627</td>\n",
       "      <td>13.990000</td>\n",
       "      <td>0.000000</td>\n",
       "    </tr>\n",
       "    <tr>\n",
       "      <th>75%</th>\n",
       "      <td>3321.750000</td>\n",
       "      <td>1.082291</td>\n",
       "      <td>1.037522</td>\n",
       "      <td>1.291780</td>\n",
       "      <td>1.185083</td>\n",
       "      <td>0.433680</td>\n",
       "      <td>0.374438</td>\n",
       "      <td>0.603359</td>\n",
       "      <td>0.370945</td>\n",
       "      <td>0.564727</td>\n",
       "      <td>...</td>\n",
       "      <td>0.150978</td>\n",
       "      <td>0.414131</td>\n",
       "      <td>0.093009</td>\n",
       "      <td>0.425758</td>\n",
       "      <td>0.354262</td>\n",
       "      <td>0.285234</td>\n",
       "      <td>0.230862</td>\n",
       "      <td>0.099971</td>\n",
       "      <td>62.812500</td>\n",
       "      <td>0.000000</td>\n",
       "    </tr>\n",
       "    <tr>\n",
       "      <th>max</th>\n",
       "      <td>170348.000000</td>\n",
       "      <td>2.355634</td>\n",
       "      <td>22.057729</td>\n",
       "      <td>4.017561</td>\n",
       "      <td>12.114672</td>\n",
       "      <td>11.095089</td>\n",
       "      <td>21.393069</td>\n",
       "      <td>34.303177</td>\n",
       "      <td>20.007208</td>\n",
       "      <td>6.450992</td>\n",
       "      <td>...</td>\n",
       "      <td>27.202839</td>\n",
       "      <td>8.361985</td>\n",
       "      <td>5.466230</td>\n",
       "      <td>3.114882</td>\n",
       "      <td>2.208209</td>\n",
       "      <td>3.463246</td>\n",
       "      <td>3.852046</td>\n",
       "      <td>4.850490</td>\n",
       "      <td>7712.430000</td>\n",
       "      <td>1.000000</td>\n",
       "    </tr>\n",
       "  </tbody>\n",
       "</table>\n",
       "<p>8 rows × 31 columns</p>\n",
       "</div>"
      ],
      "text/plain": [
       "                Time           V1           V2           V3           V4  \\\n",
       "count    5078.000000  5078.000000  5078.000000  5078.000000  5078.000000   \n",
       "mean    26382.185112    -0.705344     0.584418    -0.103781     0.425607   \n",
       "std     52274.968414     2.863990     2.026708     3.356264     2.102100   \n",
       "min         0.000000   -30.552380   -15.732974   -31.103685    -4.657545   \n",
       "25%       978.000000    -1.179498    -0.167130    -0.265157    -0.800510   \n",
       "50%      2098.500000    -0.462149     0.447474     0.628581     0.224502   \n",
       "75%      3321.750000     1.082291     1.037522     1.291780     1.185083   \n",
       "max    170348.000000     2.355634    22.057729     4.017561    12.114672   \n",
       "\n",
       "                V5           V6           V7           V8           V9  ...  \\\n",
       "count  5078.000000  5078.000000  5078.000000  5078.000000  5078.000000  ...   \n",
       "mean     -0.309467    -0.108354    -0.414131     0.001792    -0.201511  ...   \n",
       "std       2.234907     1.412898     2.988556     2.431636     1.411592  ...   \n",
       "min     -32.092129    -7.465603   -43.557242   -41.044261   -13.434066  ...   \n",
       "25%      -0.678437    -0.838720    -0.490238    -0.210276    -0.621899  ...   \n",
       "50%      -0.106695    -0.292258     0.087072     0.041295    -0.047356  ...   \n",
       "75%       0.433680     0.374438     0.603359     0.370945     0.564727  ...   \n",
       "max      11.095089    21.393069    34.303177    20.007208     6.450992  ...   \n",
       "\n",
       "               V21          V22          V23          V24          V25  \\\n",
       "count  5078.000000  5078.000000  5078.000000  5078.000000  5078.000000   \n",
       "mean      0.080747    -0.056018    -0.046341     0.011762     0.061805   \n",
       "std       1.452462     0.781524     0.624309     0.601170     0.477179   \n",
       "min     -22.797604    -8.887017   -19.254328    -2.162523    -4.781606   \n",
       "25%      -0.210077    -0.524702    -0.210538    -0.356086    -0.202714   \n",
       "50%      -0.032411    -0.046677    -0.057917     0.079595     0.083491   \n",
       "75%       0.150978     0.414131     0.093009     0.425758     0.354262   \n",
       "max      27.202839     8.361985     5.466230     3.114882     2.208209   \n",
       "\n",
       "               V26          V27          V28       Amount        Class  \n",
       "count  5078.000000  5078.000000  5078.000000  5078.000000  5078.000000  \n",
       "mean     -0.005513     0.047797     0.009149    73.191022     0.096889  \n",
       "std       0.494488     0.561563     0.313161   215.785515     0.295835  \n",
       "min      -1.413802    -7.263482    -2.909294     0.000000     0.000000  \n",
       "25%      -0.326615    -0.048946    -0.034215     2.000000     0.000000  \n",
       "50%      -0.018332     0.033595     0.020627    13.990000     0.000000  \n",
       "75%       0.285234     0.230862     0.099971    62.812500     0.000000  \n",
       "max       3.463246     3.852046     4.850490  7712.430000     1.000000  \n",
       "\n",
       "[8 rows x 31 columns]"
      ]
     },
     "execution_count": 2,
     "metadata": {},
     "output_type": "execute_result"
    }
   ],
   "source": [
    "df=pd.read_excel('G:/dataset/classification/creditcard_copy.xlsx')\n",
    "df.describe()"
   ]
  },
  {
   "cell_type": "code",
   "execution_count": 3,
   "id": "6a4688a9-1fd5-49dc-ac21-91f57bce22a2",
   "metadata": {
    "tags": []
   },
   "outputs": [
    {
     "data": {
      "text/plain": [
       "0    4586\n",
       "1     492\n",
       "Name: Class, dtype: int64"
      ]
     },
     "execution_count": 3,
     "metadata": {},
     "output_type": "execute_result"
    }
   ],
   "source": [
    "df.Class.value_counts()"
   ]
  },
  {
   "cell_type": "code",
   "execution_count": 4,
   "id": "3de82b50-1d15-4a2d-b1b2-1da25d6f7092",
   "metadata": {
    "tags": []
   },
   "outputs": [],
   "source": [
    "X=df.iloc[:,1:-2].values\n",
    "y=df.iloc[:,-1].values"
   ]
  },
  {
   "cell_type": "code",
   "execution_count": 5,
   "id": "c4e83b2c-e83a-4d5e-83ba-7e7e0380f26d",
   "metadata": {
    "tags": []
   },
   "outputs": [],
   "source": [
    "from sklearn.neighbors import KNeighborsClassifier\n",
    "from sklearn.preprocessing import MinMaxScaler,StandardScaler\n",
    "from sklearn.model_selection import train_test_split\n",
    "from sklearn.metrics import accuracy_score\n",
    "from sklearn.model_selection import cross_val_score"
   ]
  },
  {
   "cell_type": "code",
   "execution_count": 6,
   "id": "dab78590-36dd-4a71-b746-afeaec413dbc",
   "metadata": {
    "tags": []
   },
   "outputs": [
    {
     "name": "stdout",
     "output_type": "stream",
     "text": [
      "0.9855567226890757\n",
      "0.9921259842519685\n"
     ]
    }
   ],
   "source": [
    "#Without feature_scaling\n",
    "X_train,X_test,y_train,y_test=train_test_split(X,y,random_state=1)\n",
    "model=KNeighborsClassifier()\n",
    "model.fit(X_train,y_train)\n",
    "pred=model.predict(X_train)\n",
    "pred1=model.predict(X_test)\n",
    "print(accuracy_score(y_train,pred))\n",
    "print(accuracy_score(y_test,pred1))"
   ]
  },
  {
   "cell_type": "code",
   "execution_count": 7,
   "id": "3c435948-a393-4472-b08e-b46f811e5b14",
   "metadata": {
    "tags": []
   },
   "outputs": [
    {
     "data": {
      "text/plain": [
       "0.9836552112020479"
      ]
     },
     "execution_count": 7,
     "metadata": {},
     "output_type": "execute_result"
    }
   ],
   "source": [
    "model=KNeighborsClassifier()\n",
    "cross_val_score(model,X,y,cv=5).mean()"
   ]
  },
  {
   "cell_type": "markdown",
   "id": "4c5d0381-103d-48d3-bd22-fb63557e9bce",
   "metadata": {},
   "source": [
    "### F1 Score\n",
    "- accuracy score----> overall performance of model by considering all classes. and it is use to balnce data like target value is equally distributed.\n",
    "- f1 score-------> performance of model with imbalance data like target value not give equally distributed in data for eg. target have 2 option to predict and that is class 0 and class 1 and model to predict one of them.and its contribute like class 0 have 4500 sample out of 5000 and class 1 have only 500 then we use F1 Score."
   ]
  },
  {
   "cell_type": "code",
   "execution_count": 8,
   "id": "2b6e0081-9b5e-44d6-a223-5bdaab15316a",
   "metadata": {
    "tags": []
   },
   "outputs": [],
   "source": [
    "from sklearn.metrics import f1_score"
   ]
  },
  {
   "cell_type": "code",
   "execution_count": 9,
   "id": "6b5a2575-f96a-469c-b3c1-c4f01bd6a448",
   "metadata": {
    "tags": []
   },
   "outputs": [
    {
     "name": "stdout",
     "output_type": "stream",
     "text": [
      "Train F1 Score:- 0.9237170596393898\n",
      "Test F1 Score:- 0.9523809523809523\n"
     ]
    }
   ],
   "source": [
    "X=df.iloc[:,1:-2].values\n",
    "y=df.iloc[:,-1].values\n",
    "X_train,X_test,y_train,y_test=train_test_split(X,y,random_state=1)\n",
    "model=KNeighborsClassifier()\n",
    "model.fit(X_train,y_train)\n",
    "pred_train=model.predict(X_train)\n",
    "pred_test=model.predict(X_test)\n",
    "print('Train F1 Score:-',f1_score(y_train,pred_train))\n",
    "print('Test F1 Score:-',f1_score(y_test,pred_test))"
   ]
  },
  {
   "cell_type": "code",
   "execution_count": 10,
   "id": "f2a5858a-1bd2-4cf8-8a08-1ded36012af2",
   "metadata": {
    "tags": []
   },
   "outputs": [
    {
     "name": "stdout",
     "output_type": "stream",
     "text": [
      "Train F1 Score:- 0.9103641456582633\n",
      "Test F1 Score:- 0.9326923076923077\n"
     ]
    }
   ],
   "source": [
    "X=df.iloc[:,1:-2].values\n",
    "y=df.iloc[:,-1].values\n",
    "X_train,X_test,y_train,y_test=train_test_split(X,y,random_state=1)\n",
    "sc=StandardScaler()\n",
    "X_train_new=sc.fit_transform(X_train)\n",
    "X_test_new=sc.transform(X_test)\n",
    "model=KNeighborsClassifier()\n",
    "model.fit(X_train_new,y_train)\n",
    "pred_train=model.predict(X_train_new)\n",
    "pred_test=model.predict(X_test_new)\n",
    "print('Train F1 Score:-',f1_score(y_train,pred_train))\n",
    "print('Test F1 Score:-',f1_score(y_test,pred_test))"
   ]
  },
  {
   "cell_type": "code",
   "execution_count": 11,
   "id": "94eb6802-cf19-479b-ae9a-166c5a94cbed",
   "metadata": {
    "tags": []
   },
   "outputs": [
    {
     "name": "stdout",
     "output_type": "stream",
     "text": [
      "Train F1 Score:- [0.99072733 0.91036415]\n",
      "Test F1 Score:- [0.99399657 0.93269231]\n"
     ]
    }
   ],
   "source": [
    "print('Train F1 Score:-',f1_score(y_train,pred_train,average=None))\n",
    "print('Test F1 Score:-',f1_score(y_test,pred_test,average=None))"
   ]
  },
  {
   "cell_type": "markdown",
   "id": "4e84d356-f938-4281-98b5-e65091c61cc8",
   "metadata": {},
   "source": [
    "### Using SMOTE used for creating oversampling or dummy data for less sample \n",
    "- Import pip install imblearn"
   ]
  },
  {
   "cell_type": "code",
   "execution_count": 16,
   "id": "25fcb76d-656d-49ff-8103-825c3d5d3a27",
   "metadata": {
    "tags": []
   },
   "outputs": [],
   "source": [
    "#pip install imblearn"
   ]
  },
  {
   "cell_type": "code",
   "execution_count": 17,
   "id": "6a4edb4c-096a-4f85-b7b1-8d325bd27895",
   "metadata": {
    "tags": []
   },
   "outputs": [],
   "source": [
    "from imblearn.over_sampling import SMOTE"
   ]
  },
  {
   "cell_type": "code",
   "execution_count": 18,
   "id": "d558dac1-1e17-4a02-9249-0803abccc7d3",
   "metadata": {
    "tags": []
   },
   "outputs": [],
   "source": [
    "X=df.iloc[:,1:-2].values\n",
    "y=df.iloc[:,-1].values\n",
    "sm=SMOTE()\n",
    "X1,y1=sm.fit_resample(X,y)"
   ]
  },
  {
   "cell_type": "code",
   "execution_count": 19,
   "id": "12f58918-8715-466e-94f4-d0f8be234374",
   "metadata": {
    "tags": []
   },
   "outputs": [
    {
     "name": "stdout",
     "output_type": "stream",
     "text": [
      "Train F1 Score:- 0.9885821650527533\n",
      "Test F1 Score:- 0.9841541755888651\n",
      "Train F1 Score:- [0.9884486  0.98858217]\n",
      "Test F1 Score:- [0.98356286 0.98415418]\n"
     ]
    }
   ],
   "source": [
    "X_train,X_test,y_train,y_test=train_test_split(X1,y1,random_state=1)\n",
    "sc=StandardScaler()\n",
    "X_train_new=sc.fit_transform(X_train)\n",
    "X_test_new=sc.transform(X_test)\n",
    "model=KNeighborsClassifier()\n",
    "model.fit(X_train_new,y_train)\n",
    "pred_train=model.predict(X_train_new)\n",
    "pred_test=model.predict(X_test_new)\n",
    "print('Train F1 Score:-',f1_score(y_train,pred_train))\n",
    "print('Test F1 Score:-',f1_score(y_test,pred_test))\n",
    "print('Train F1 Score:-',f1_score(y_train,pred_train,average=None))\n",
    "print('Test F1 Score:-',f1_score(y_test,pred_test,average=None))"
   ]
  },
  {
   "cell_type": "code",
   "execution_count": null,
   "id": "c56699bd-0063-4a02-a9b0-f6e4b91cae18",
   "metadata": {},
   "outputs": [],
   "source": []
  }
 ],
 "metadata": {
  "kernelspec": {
   "display_name": "Python 3 (ipykernel)",
   "language": "python",
   "name": "python3"
  },
  "language_info": {
   "codemirror_mode": {
    "name": "ipython",
    "version": 3
   },
   "file_extension": ".py",
   "mimetype": "text/x-python",
   "name": "python",
   "nbconvert_exporter": "python",
   "pygments_lexer": "ipython3",
   "version": "3.11.3"
  }
 },
 "nbformat": 4,
 "nbformat_minor": 5
}
