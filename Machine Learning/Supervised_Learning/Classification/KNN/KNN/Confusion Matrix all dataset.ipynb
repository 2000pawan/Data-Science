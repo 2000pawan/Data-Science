{
 "cells": [
  {
   "cell_type": "markdown",
   "id": "2dd74e53-5b3f-470d-84e6-f8a2466ee5cf",
   "metadata": {},
   "source": [
    "### Fruits DataSet"
   ]
  },
  {
   "cell_type": "code",
   "execution_count": 1,
   "id": "9691afef-cd3b-4a35-8d3c-64b12f13d744",
   "metadata": {
    "tags": []
   },
   "outputs": [
    {
     "name": "stdout",
     "output_type": "stream",
     "text": [
      "0.9375\n",
      "1.0\n"
     ]
    }
   ],
   "source": [
    "import pandas as pd\n",
    "from sklearn.neighbors import KNeighborsClassifier\n",
    "from sklearn.metrics import accuracy_score,precision_score,recall_score,f1_score,confusion_matrix,classification_report\n",
    "from sklearn.preprocessing import StandardScaler,MinMaxScaler\n",
    "from sklearn.model_selection import train_test_split\n",
    "from sklearn.preprocessing import LabelEncoder\n",
    "df=pd.read_csv('G:/dataset/classification/fruits.csv')\n",
    "en=LabelEncoder()\n",
    "df.FruitName=en.fit_transform(df.FruitName)\n",
    "X=df.iloc[:,:-1].values\n",
    "y=df.iloc[:,-1].values\n",
    "X_train,X_test,y_train,y_test=train_test_split(X,y,random_state=1)\n",
    "sc=MinMaxScaler(feature_range=(0,1))\n",
    "X_train_new=sc.fit_transform(X_train)\n",
    "X_test_new=sc.transform(X_test)\n",
    "model=KNeighborsClassifier()\n",
    "model.fit(X_train_new,y_train)\n",
    "pred=model.predict(X_train_new)\n",
    "pred1=model.predict(X_test_new)\n",
    "print(accuracy_score(y_train,pred))\n",
    "print(accuracy_score(y_test,pred1))"
   ]
  },
  {
   "cell_type": "code",
   "execution_count": 2,
   "id": "f17bacbb-697c-4eb8-a4b6-0c31df9392a8",
   "metadata": {
    "tags": []
   },
   "outputs": [
    {
     "data": {
      "text/plain": [
       "array([[10,  0],\n",
       "       [ 1,  5]], dtype=int64)"
      ]
     },
     "execution_count": 2,
     "metadata": {},
     "output_type": "execute_result"
    }
   ],
   "source": [
    "confusion_matrix(y_train,pred)"
   ]
  },
  {
   "cell_type": "code",
   "execution_count": 3,
   "id": "58a3c067-9331-44c1-ad26-4218edc60b10",
   "metadata": {
    "tags": []
   },
   "outputs": [
    {
     "name": "stdout",
     "output_type": "stream",
     "text": [
      "Precision_score for class 0(Negative):-  0.9090909090909091\n",
      "Precision_score for class 1(Positive):-  1.0\n",
      "........................................................\n",
      "Recall_score for class 0(Negative):-  1.0\n",
      "Recall_score for class 1(Positive):-  0.8333333333333334\n",
      "........................................................\n",
      "F1_score for class 0(Negative):-  0.9523809523809523\n",
      "F1_score for class 1(Positive):-  0.9090909090909091\n",
      "........................................................\n",
      "Precision_score by inbuilt Function:-  [0.90909091 1.        ]\n",
      "........................................................\n",
      "Recall_score by inbuilt Function:-  [1.         0.83333333]\n",
      "........................................................\n",
      "F1_score by inbuilt Function:-  [0.95238095 0.90909091]\n",
      "........................................................\n",
      "Classification Report:-\n",
      "              precision    recall  f1-score   support\n",
      "\n",
      "           0       0.91      1.00      0.95        10\n",
      "           1       1.00      0.83      0.91         6\n",
      "\n",
      "    accuracy                           0.94        16\n",
      "   macro avg       0.95      0.92      0.93        16\n",
      "weighted avg       0.94      0.94      0.94        16\n",
      "\n"
     ]
    }
   ],
   "source": [
    "TN=10   # True Negative for class 0\n",
    "TP=5   # True Positive for class 1\n",
    "FN=0   # False Negative for class 0\n",
    "FP=1   # False Positive for class 1\n",
    "prec_0=TN/(TN+FP)\n",
    "print('Precision_score for class 0(Negative):- ',prec_0)\n",
    "prec_1=TP/(TP+FN)\n",
    "print('Precision_score for class 1(Positive):- ',prec_1)\n",
    "print('........................................................')\n",
    "rec_0=TN/(TN+FN)\n",
    "print('Recall_score for class 0(Negative):- ',rec_0)\n",
    "rec_1=TP/(TP+FP)\n",
    "print('Recall_score for class 1(Positive):- ',rec_1)\n",
    "print('........................................................')\n",
    "f1_0=2*prec_0*rec_0/(prec_0+rec_0)\n",
    "print('F1_score for class 0(Negative):- ',f1_0)\n",
    "f1_1=2*prec_1*rec_1/(prec_1+rec_1)\n",
    "print('F1_score for class 1(Positive):- ',f1_1)\n",
    "print('........................................................')\n",
    "print('Precision_score by inbuilt Function:- ',precision_score(y_train,pred,average=None))\n",
    "print('........................................................')\n",
    "print('Recall_score by inbuilt Function:- ',recall_score(y_train,pred,average=None))\n",
    "print('........................................................')\n",
    "print('F1_score by inbuilt Function:- ',f1_score(y_train,pred,average=None))\n",
    "print('........................................................')\n",
    "print('Classification Report:-\\n',classification_report(y_train,pred),sep='')"
   ]
  },
  {
   "cell_type": "code",
   "execution_count": 4,
   "id": "51a1c58b-39d2-45e4-91a9-479494966729",
   "metadata": {
    "tags": []
   },
   "outputs": [
    {
     "data": {
      "text/plain": [
       "array([[2, 0],\n",
       "       [0, 4]], dtype=int64)"
      ]
     },
     "execution_count": 4,
     "metadata": {},
     "output_type": "execute_result"
    }
   ],
   "source": [
    "confusion_matrix(y_test,pred1)"
   ]
  },
  {
   "cell_type": "code",
   "execution_count": 5,
   "id": "ad9a3087-f64e-46ef-a3a6-fd7e80de008b",
   "metadata": {
    "tags": []
   },
   "outputs": [
    {
     "name": "stdout",
     "output_type": "stream",
     "text": [
      "Precision_score for class 0(Negative):-  1.0\n",
      "Precision_score for class 1(Positive):-  1.0\n",
      "........................................................\n",
      "Recall_score for class 0(Negative):-  1.0\n",
      "Recall_score for class 1(Positive):-  1.0\n",
      "........................................................\n",
      "F1_score for class 0(Negative):-  1.0\n",
      "F1_score for class 1(Positive):-  1.0\n",
      "........................................................\n",
      "Precision_score by inbuilt Function:-  [1. 1.]\n",
      "........................................................\n",
      "Recall_score by inbuilt Function:-  [1. 1.]\n",
      "........................................................\n",
      "F1_score by inbuilt Function:-  [1. 1.]\n",
      "........................................................\n",
      "Classification Report:-\n",
      "              precision    recall  f1-score   support\n",
      "\n",
      "           0       1.00      1.00      1.00         2\n",
      "           1       1.00      1.00      1.00         4\n",
      "\n",
      "    accuracy                           1.00         6\n",
      "   macro avg       1.00      1.00      1.00         6\n",
      "weighted avg       1.00      1.00      1.00         6\n",
      "\n"
     ]
    }
   ],
   "source": [
    "TN=2   # True Negative for class 0\n",
    "TP=4   # True Positive for class 1\n",
    "FN=0   # False Negative for class 0\n",
    "FP=0   # False Positive for class 1\n",
    "prec_0=TN/(TN+FP)\n",
    "print('Precision_score for class 0(Negative):- ',prec_0)\n",
    "prec_1=TP/(TP+FN)\n",
    "print('Precision_score for class 1(Positive):- ',prec_1)\n",
    "print('........................................................')\n",
    "rec_0=TN/(TN+FN)\n",
    "print('Recall_score for class 0(Negative):- ',rec_0)\n",
    "rec_1=TP/(TP+FP)\n",
    "print('Recall_score for class 1(Positive):- ',rec_1)\n",
    "print('........................................................')\n",
    "f1_0=2*prec_0*rec_0/(prec_0+rec_0)\n",
    "print('F1_score for class 0(Negative):- ',f1_0)\n",
    "f1_1=2*prec_1*rec_1/(prec_1+rec_1)\n",
    "print('F1_score for class 1(Positive):- ',f1_1)\n",
    "print('........................................................')\n",
    "print('Precision_score by inbuilt Function:- ',precision_score(y_test,pred1,average=None))\n",
    "print('........................................................')\n",
    "print('Recall_score by inbuilt Function:- ',recall_score(y_test,pred1,average=None))\n",
    "print('........................................................')\n",
    "print('F1_score by inbuilt Function:- ',f1_score(y_test,pred1,average=None))\n",
    "print('........................................................')\n",
    "print('Classification Report:-\\n',classification_report(y_test,pred1),sep='')"
   ]
  },
  {
   "cell_type": "markdown",
   "id": "73dfeb3c-a1e3-4b95-979b-41a820f0b474",
   "metadata": {},
   "source": [
    "### Online Shop DataSet"
   ]
  },
  {
   "cell_type": "code",
   "execution_count": 6,
   "id": "a3494061-906c-45b9-aec4-8389ebe8948f",
   "metadata": {
    "tags": []
   },
   "outputs": [
    {
     "name": "stdout",
     "output_type": "stream",
     "text": [
      "0.9333333333333333\n",
      "0.87\n"
     ]
    }
   ],
   "source": [
    "import pandas as pd\n",
    "from sklearn.neighbors import KNeighborsClassifier\n",
    "from sklearn.metrics import accuracy_score,precision_score,recall_score,f1_score,confusion_matrix,classification_report\n",
    "from sklearn.preprocessing import StandardScaler,MinMaxScaler\n",
    "from sklearn.model_selection import train_test_split\n",
    "from sklearn.preprocessing import LabelEncoder\n",
    "df=pd.read_csv('G:/dataset/classification/online_shop.csv')\n",
    "en=LabelEncoder()\n",
    "df.Gender=en.fit_transform(df.Gender)\n",
    "X=df.iloc[:,:-1].values\n",
    "y=df.iloc[:,-1].values\n",
    "X_train,X_test,y_train,y_test=train_test_split(X,y,random_state=1)\n",
    "sc=MinMaxScaler(feature_range=(0,1))\n",
    "X_train_new=sc.fit_transform(X_train)\n",
    "X_test_new=sc.transform(X_test)\n",
    "model=KNeighborsClassifier()\n",
    "model.fit(X_train_new,y_train)\n",
    "pred=model.predict(X_train_new)\n",
    "pred1=model.predict(X_test_new)\n",
    "print(accuracy_score(y_train,pred))\n",
    "print(accuracy_score(y_test,pred1))"
   ]
  },
  {
   "cell_type": "code",
   "execution_count": 7,
   "id": "a03f6d14-4229-416b-8de9-e2705082b6a8",
   "metadata": {
    "tags": []
   },
   "outputs": [
    {
     "data": {
      "text/plain": [
       "array([[189,  10],\n",
       "       [ 10,  91]], dtype=int64)"
      ]
     },
     "execution_count": 7,
     "metadata": {},
     "output_type": "execute_result"
    }
   ],
   "source": [
    "confusion_matrix(y_train,pred)"
   ]
  },
  {
   "cell_type": "code",
   "execution_count": 8,
   "id": "7d7b30c3-e7ed-4ddf-9f5f-ffcfe9c4d5ff",
   "metadata": {
    "tags": []
   },
   "outputs": [
    {
     "name": "stdout",
     "output_type": "stream",
     "text": [
      "Precision_score for class 0(Negative):-  0.949748743718593\n",
      "Precision_score for class 1(Positive):-  0.900990099009901\n",
      "........................................................\n",
      "Recall_score for class 0(Negative):-  0.949748743718593\n",
      "Recall_score for class 1(Positive):-  0.900990099009901\n",
      "........................................................\n",
      "F1_score for class 0(Negative):-  0.949748743718593\n",
      "F1_score for class 1(Positive):-  0.9009900990099011\n",
      "........................................................\n",
      "Precision_score by inbuilt Function:-  [0.94974874 0.9009901 ]\n",
      "........................................................\n",
      "Recall_score by inbuilt Function:-  [0.94974874 0.9009901 ]\n",
      "........................................................\n",
      "F1_score by inbuilt Function:-  [0.94974874 0.9009901 ]\n",
      "........................................................\n",
      "Classification Report:-\n",
      "              precision    recall  f1-score   support\n",
      "\n",
      "           0       0.95      0.95      0.95       199\n",
      "           1       0.90      0.90      0.90       101\n",
      "\n",
      "    accuracy                           0.93       300\n",
      "   macro avg       0.93      0.93      0.93       300\n",
      "weighted avg       0.93      0.93      0.93       300\n",
      "\n"
     ]
    }
   ],
   "source": [
    "TN=189   # True Negative for class 0\n",
    "TP=91   # True Positive for class 1\n",
    "FN=10   # False Negative for class 0\n",
    "FP=10   # False Positive for class 1\n",
    "prec_0=TN/(TN+FP)\n",
    "print('Precision_score for class 0(Negative):- ',prec_0)\n",
    "prec_1=TP/(TP+FN)\n",
    "print('Precision_score for class 1(Positive):- ',prec_1)\n",
    "print('........................................................')\n",
    "rec_0=TN/(TN+FN)\n",
    "print('Recall_score for class 0(Negative):- ',rec_0)\n",
    "rec_1=TP/(TP+FP)\n",
    "print('Recall_score for class 1(Positive):- ',rec_1)\n",
    "print('........................................................')\n",
    "f1_0=2*prec_0*rec_0/(prec_0+rec_0)\n",
    "print('F1_score for class 0(Negative):- ',f1_0)\n",
    "f1_1=2*prec_1*rec_1/(prec_1+rec_1)\n",
    "print('F1_score for class 1(Positive):- ',f1_1)\n",
    "print('........................................................')\n",
    "print('Precision_score by inbuilt Function:- ',precision_score(y_train,pred,average=None))\n",
    "print('........................................................')\n",
    "print('Recall_score by inbuilt Function:- ',recall_score(y_train,pred,average=None))\n",
    "print('........................................................')\n",
    "print('F1_score by inbuilt Function:- ',f1_score(y_train,pred,average=None))\n",
    "print('........................................................')\n",
    "print('Classification Report:-\\n',classification_report(y_train,pred),sep='')"
   ]
  },
  {
   "cell_type": "code",
   "execution_count": 9,
   "id": "ac03dd7d-dc84-4b6b-8041-7ad9e9b6f2eb",
   "metadata": {
    "tags": []
   },
   "outputs": [
    {
     "data": {
      "text/plain": [
       "array([[49,  9],\n",
       "       [ 4, 38]], dtype=int64)"
      ]
     },
     "execution_count": 9,
     "metadata": {},
     "output_type": "execute_result"
    }
   ],
   "source": [
    "confusion_matrix(y_test,pred1)"
   ]
  },
  {
   "cell_type": "code",
   "execution_count": 10,
   "id": "d88f3b1d-8a60-4c82-a100-dc083e888aaa",
   "metadata": {
    "tags": []
   },
   "outputs": [
    {
     "name": "stdout",
     "output_type": "stream",
     "text": [
      "Precision_score for class 0(Negative):-  0.9245283018867925\n",
      "Precision_score for class 1(Positive):-  0.8085106382978723\n",
      "........................................................\n",
      "Recall_score for class 0(Negative):-  0.8448275862068966\n",
      "Recall_score for class 1(Positive):-  0.9047619047619048\n",
      "........................................................\n",
      "F1_score for class 0(Negative):-  0.8828828828828829\n",
      "F1_score for class 1(Positive):-  0.853932584269663\n",
      "........................................................\n",
      "Precision_score by inbuilt Function:-  [0.9245283  0.80851064]\n",
      "........................................................\n",
      "Recall_score by inbuilt Function:-  [0.84482759 0.9047619 ]\n",
      "........................................................\n",
      "F1_score by inbuilt Function:-  [0.88288288 0.85393258]\n",
      "........................................................\n",
      "Classification Report:-\n",
      "              precision    recall  f1-score   support\n",
      "\n",
      "           0       0.92      0.84      0.88        58\n",
      "           1       0.81      0.90      0.85        42\n",
      "\n",
      "    accuracy                           0.87       100\n",
      "   macro avg       0.87      0.87      0.87       100\n",
      "weighted avg       0.88      0.87      0.87       100\n",
      "\n"
     ]
    }
   ],
   "source": [
    "TN=49   # True Negative for class 0\n",
    "TP=38   # True Positive for class 1\n",
    "FN=9   # False Negative for class 0\n",
    "FP=4  # False Positive for class 1\n",
    "prec_0=TN/(TN+FP)\n",
    "print('Precision_score for class 0(Negative):- ',prec_0)\n",
    "prec_1=TP/(TP+FN)\n",
    "print('Precision_score for class 1(Positive):- ',prec_1)\n",
    "print('........................................................')\n",
    "rec_0=TN/(TN+FN)\n",
    "print('Recall_score for class 0(Negative):- ',rec_0)\n",
    "rec_1=TP/(TP+FP)\n",
    "print('Recall_score for class 1(Positive):- ',rec_1)\n",
    "print('........................................................')\n",
    "f1_0=2*prec_0*rec_0/(prec_0+rec_0)\n",
    "print('F1_score for class 0(Negative):- ',f1_0)\n",
    "f1_1=2*prec_1*rec_1/(prec_1+rec_1)\n",
    "print('F1_score for class 1(Positive):- ',f1_1)\n",
    "print('........................................................')\n",
    "print('Precision_score by inbuilt Function:- ',precision_score(y_test,pred1,average=None))\n",
    "print('........................................................')\n",
    "print('Recall_score by inbuilt Function:- ',recall_score(y_test,pred1,average=None))\n",
    "print('........................................................')\n",
    "print('F1_score by inbuilt Function:- ',f1_score(y_test,pred1,average=None))\n",
    "print('........................................................')\n",
    "print('Classification Report:-\\n',classification_report(y_test,pred1),sep='')"
   ]
  },
  {
   "cell_type": "markdown",
   "id": "797dc9b1-eca0-468c-80a3-560f6d938fca",
   "metadata": {},
   "source": [
    "### Breast Cancer DataSet"
   ]
  },
  {
   "cell_type": "code",
   "execution_count": 11,
   "id": "90d31eb0-425a-4268-8aca-6f8d1fd26a18",
   "metadata": {
    "tags": []
   },
   "outputs": [],
   "source": [
    "from sklearn.neighbors import KNeighborsClassifier\n",
    "from sklearn.metrics import accuracy_score,precision_score,recall_score,f1_score,confusion_matrix,classification_report\n",
    "from sklearn.preprocessing import StandardScaler,MinMaxScaler\n",
    "from sklearn.model_selection import train_test_split\n",
    "from sklearn.preprocessing import LabelEncoder\n",
    "from sklearn.datasets import load_breast_cancer\n",
    "from sklearn.feature_selection import SelectKBest,f_classif"
   ]
  },
  {
   "cell_type": "code",
   "execution_count": 12,
   "id": "abedc382-c405-4fd3-95ae-39daa471b3a7",
   "metadata": {
    "tags": []
   },
   "outputs": [
    {
     "name": "stdout",
     "output_type": "stream",
     "text": [
      "0.9788732394366197\n",
      "0.965034965034965\n"
     ]
    }
   ],
   "source": [
    "cancer=load_breast_cancer()\n",
    "X=cancer.data\n",
    "y=cancer.target\n",
    "skb=SelectKBest(score_func=f_classif,k=27)\n",
    "X1=skb.fit_transform(X,y)\n",
    "X_train,X_test,y_train,y_test=train_test_split(X1,y,random_state=1)\n",
    "sc=StandardScaler()\n",
    "X_train_new=sc.fit_transform(X_train)\n",
    "X_test_new=sc.transform(X_test)\n",
    "model=KNeighborsClassifier(n_neighbors=6)\n",
    "model.fit(X_train_new,y_train)\n",
    "pred=model.predict(X_train_new)\n",
    "pred1=model.predict(X_test_new)\n",
    "print(accuracy_score(pred,y_train))\n",
    "print(accuracy_score(pred1,y_test))"
   ]
  },
  {
   "cell_type": "code",
   "execution_count": 13,
   "id": "2a131fd8-b6b0-451c-8879-4d518bc50e00",
   "metadata": {
    "tags": []
   },
   "outputs": [
    {
     "data": {
      "text/plain": [
       "array([[151,   6],\n",
       "       [  3, 266]], dtype=int64)"
      ]
     },
     "execution_count": 13,
     "metadata": {},
     "output_type": "execute_result"
    }
   ],
   "source": [
    "confusion_matrix(y_train,pred)"
   ]
  },
  {
   "cell_type": "code",
   "execution_count": 14,
   "id": "653ac1ea-ef12-449a-ab57-5872124ba2ce",
   "metadata": {
    "tags": []
   },
   "outputs": [
    {
     "name": "stdout",
     "output_type": "stream",
     "text": [
      "Precision_score for class 0(Negative):-  0.9805194805194806\n",
      "Precision_score for class 1(Positive):-  0.9779411764705882\n",
      "........................................................\n",
      "Recall_score for class 0(Negative):-  0.9617834394904459\n",
      "Recall_score for class 1(Positive):-  0.9888475836431226\n",
      "........................................................\n",
      "F1_score for class 0(Negative):-  0.9710610932475885\n",
      "F1_score for class 1(Positive):-  0.9833641404805915\n",
      "........................................................\n",
      "Precision_score by inbuilt Function:-  [0.98051948 0.97794118]\n",
      "........................................................\n",
      "Recall_score by inbuilt Function:-  [0.96178344 0.98884758]\n",
      "........................................................\n",
      "F1_score by inbuilt Function:-  [0.97106109 0.98336414]\n",
      "........................................................\n",
      "Classification Report:-\n",
      "              precision    recall  f1-score   support\n",
      "\n",
      "           0       0.98      0.96      0.97       157\n",
      "           1       0.98      0.99      0.98       269\n",
      "\n",
      "    accuracy                           0.98       426\n",
      "   macro avg       0.98      0.98      0.98       426\n",
      "weighted avg       0.98      0.98      0.98       426\n",
      "\n"
     ]
    }
   ],
   "source": [
    "TN=151   # True Negative for class 0\n",
    "TP=266   # True Positive for class 1\n",
    "FN=6   # False Negative for class 0\n",
    "FP=3   # False Positive for class 1\n",
    "prec_0=TN/(TN+FP)\n",
    "print('Precision_score for class 0(Negative):- ',prec_0)\n",
    "prec_1=TP/(TP+FN)\n",
    "print('Precision_score for class 1(Positive):- ',prec_1)\n",
    "print('........................................................')\n",
    "rec_0=TN/(TN+FN)\n",
    "print('Recall_score for class 0(Negative):- ',rec_0)\n",
    "rec_1=TP/(TP+FP)\n",
    "print('Recall_score for class 1(Positive):- ',rec_1)\n",
    "print('........................................................')\n",
    "f1_0=2*prec_0*rec_0/(prec_0+rec_0)\n",
    "print('F1_score for class 0(Negative):- ',f1_0)\n",
    "f1_1=2*prec_1*rec_1/(prec_1+rec_1)\n",
    "print('F1_score for class 1(Positive):- ',f1_1)\n",
    "print('........................................................')\n",
    "print('Precision_score by inbuilt Function:- ',precision_score(y_train,pred,average=None))\n",
    "print('........................................................')\n",
    "print('Recall_score by inbuilt Function:- ',recall_score(y_train,pred,average=None))\n",
    "print('........................................................')\n",
    "print('F1_score by inbuilt Function:- ',f1_score(y_train,pred,average=None))\n",
    "print('........................................................')\n",
    "print('Classification Report:-\\n',classification_report(y_train,pred),sep='')"
   ]
  },
  {
   "cell_type": "code",
   "execution_count": 15,
   "id": "c63f6101-cf35-45df-8297-0b6e1fb71931",
   "metadata": {
    "tags": []
   },
   "outputs": [
    {
     "data": {
      "text/plain": [
       "array([[50,  5],\n",
       "       [ 0, 88]], dtype=int64)"
      ]
     },
     "execution_count": 15,
     "metadata": {},
     "output_type": "execute_result"
    }
   ],
   "source": [
    "confusion_matrix(y_test,pred1)"
   ]
  },
  {
   "cell_type": "code",
   "execution_count": 16,
   "id": "567031d0-d135-4f5a-acbb-ff8d418adb96",
   "metadata": {
    "tags": []
   },
   "outputs": [
    {
     "name": "stdout",
     "output_type": "stream",
     "text": [
      "Precision_score for class 0(Negative):-  1.0\n",
      "Precision_score for class 1(Positive):-  0.946236559139785\n",
      "........................................................\n",
      "Recall_score for class 0(Negative):-  0.9090909090909091\n",
      "Recall_score for class 1(Positive):-  1.0\n",
      "........................................................\n",
      "F1_score for class 0(Negative):-  0.9523809523809523\n",
      "F1_score for class 1(Positive):-  0.9723756906077349\n",
      "........................................................\n",
      "Precision_score by inbuilt Function:-  [1.         0.94623656]\n",
      "........................................................\n",
      "Recall_score by inbuilt Function:-  [0.90909091 1.        ]\n",
      "........................................................\n",
      "F1_score by inbuilt Function:-  [0.95238095 0.97237569]\n",
      "........................................................\n",
      "Classification Report:-\n",
      "              precision    recall  f1-score   support\n",
      "\n",
      "           0       1.00      0.91      0.95        55\n",
      "           1       0.95      1.00      0.97        88\n",
      "\n",
      "    accuracy                           0.97       143\n",
      "   macro avg       0.97      0.95      0.96       143\n",
      "weighted avg       0.97      0.97      0.96       143\n",
      "\n"
     ]
    }
   ],
   "source": [
    "TN=50   # True Negative for class 0\n",
    "TP=88   # True Positive for class 1\n",
    "FN=5   # False Negative for class 0\n",
    "FP=0  # False Positive for class 1\n",
    "prec_0=TN/(TN+FP)\n",
    "print('Precision_score for class 0(Negative):- ',prec_0)\n",
    "prec_1=TP/(TP+FN)\n",
    "print('Precision_score for class 1(Positive):- ',prec_1)\n",
    "print('........................................................')\n",
    "rec_0=TN/(TN+FN)\n",
    "print('Recall_score for class 0(Negative):- ',rec_0)\n",
    "rec_1=TP/(TP+FP)\n",
    "print('Recall_score for class 1(Positive):- ',rec_1)\n",
    "print('........................................................')\n",
    "f1_0=2*prec_0*rec_0/(prec_0+rec_0)\n",
    "print('F1_score for class 0(Negative):- ',f1_0)\n",
    "f1_1=2*prec_1*rec_1/(prec_1+rec_1)\n",
    "print('F1_score for class 1(Positive):- ',f1_1)\n",
    "print('........................................................')\n",
    "print('Precision_score by inbuilt Function:- ',precision_score(y_test,pred1,average=None))\n",
    "print('........................................................')\n",
    "print('Recall_score by inbuilt Function:- ',recall_score(y_test,pred1,average=None))\n",
    "print('........................................................')\n",
    "print('F1_score by inbuilt Function:- ',f1_score(y_test,pred1,average=None))\n",
    "print('........................................................')\n",
    "print('Classification Report:-\\n',classification_report(y_test,pred1),sep='')"
   ]
  },
  {
   "cell_type": "markdown",
   "id": "07ebe1b6-1f47-41de-8855-cfe84c810ad5",
   "metadata": {},
   "source": [
    "### Credit Card DataSet"
   ]
  },
  {
   "cell_type": "code",
   "execution_count": 17,
   "id": "02a89a4f-e4be-46a2-b13e-44c9585a58cf",
   "metadata": {
    "tags": []
   },
   "outputs": [],
   "source": [
    "import pandas as pd\n",
    "from sklearn.neighbors import KNeighborsClassifier\n",
    "from sklearn.preprocessing import MinMaxScaler,StandardScaler\n",
    "from sklearn.model_selection import train_test_split\n",
    "from sklearn.metrics import accuracy_score,confusion_matrix,precision_score,recall_score,f1_score,classification_report\n",
    "from sklearn.model_selection import cross_val_score\n",
    "from imblearn.over_sampling import SMOTE"
   ]
  },
  {
   "cell_type": "code",
   "execution_count": 18,
   "id": "e60029c5-8e3c-4630-be69-49fb40940b28",
   "metadata": {
    "tags": []
   },
   "outputs": [],
   "source": [
    "df=pd.read_excel('G:/dataset/classification/creditcard_copy.xlsx')"
   ]
  },
  {
   "cell_type": "code",
   "execution_count": 19,
   "id": "79588ebd-8569-41e7-b40f-c55eb0f5108f",
   "metadata": {
    "tags": []
   },
   "outputs": [
    {
     "name": "stdout",
     "output_type": "stream",
     "text": [
      "0.9883704026748074\n",
      "0.9869167030091583\n"
     ]
    }
   ],
   "source": [
    "X=df.iloc[:,1:-2].values\n",
    "y=df.iloc[:,-1].values\n",
    "sm=SMOTE()\n",
    "X1,y1=sm.fit_resample(X,y)\n",
    "X_train,X_test,y_train,y_test=train_test_split(X1,y1,random_state=1)\n",
    "sc=StandardScaler()\n",
    "X_train_new=sc.fit_transform(X_train)\n",
    "X_test_new=sc.transform(X_test)\n",
    "model=KNeighborsClassifier()\n",
    "model.fit(X_train_new,y_train)\n",
    "pred=model.predict(X_train_new)\n",
    "pred1=model.predict(X_test_new)\n",
    "print(accuracy_score(y_train,pred))\n",
    "print(accuracy_score(y_test,pred1))"
   ]
  },
  {
   "cell_type": "code",
   "execution_count": 20,
   "id": "a4ed79b5-c645-476d-807d-6bc8d68897b4",
   "metadata": {
    "tags": []
   },
   "outputs": [
    {
     "data": {
      "text/plain": [
       "array([[3378,   71],\n",
       "       [   9, 3421]], dtype=int64)"
      ]
     },
     "execution_count": 20,
     "metadata": {},
     "output_type": "execute_result"
    }
   ],
   "source": [
    "confusion_matrix(y_train,pred)"
   ]
  },
  {
   "cell_type": "code",
   "execution_count": 21,
   "id": "7e178a6f-0230-46b8-bc6e-9a884420e37a",
   "metadata": {
    "tags": []
   },
   "outputs": [
    {
     "name": "stdout",
     "output_type": "stream",
     "text": [
      "Precision_score for class 0(Negative):-  0.9967551622418879\n",
      "Precision_score for class 1(Positive):-  0.9799369446832903\n",
      "........................................................\n",
      "Recall_score for class 0(Negative):-  0.979704262104958\n",
      "Recall_score for class 1(Positive):-  0.9967930029154519\n",
      "........................................................\n",
      "F1_score for class 0(Negative):-  0.9881561631817517\n",
      "F1_score for class 1(Positive):-  0.9882931059401647\n",
      "........................................................\n",
      "Precision_score by inbuilt Function:-  [0.99734278 0.97966781]\n",
      "........................................................\n",
      "Recall_score by inbuilt Function:-  [0.97941432 0.99737609]\n",
      "........................................................\n",
      "F1_score by inbuilt Function:-  [0.98829725 0.98844265]\n",
      "........................................................\n",
      "Classification Report:-\n",
      "              precision    recall  f1-score   support\n",
      "\n",
      "           0       1.00      0.98      0.99      3449\n",
      "           1       0.98      1.00      0.99      3430\n",
      "\n",
      "    accuracy                           0.99      6879\n",
      "   macro avg       0.99      0.99      0.99      6879\n",
      "weighted avg       0.99      0.99      0.99      6879\n",
      "\n"
     ]
    }
   ],
   "source": [
    "TN=3379   # True Negative for class 0\n",
    "TP=3419   # True Positive for class 1\n",
    "FN=70   # False Negative for class 0\n",
    "FP=11   # False Positive for class 1\n",
    "prec_0=TN/(TN+FP)\n",
    "print('Precision_score for class 0(Negative):- ',prec_0)\n",
    "prec_1=TP/(TP+FN)\n",
    "print('Precision_score for class 1(Positive):- ',prec_1)\n",
    "print('........................................................')\n",
    "rec_0=TN/(TN+FN)\n",
    "print('Recall_score for class 0(Negative):- ',rec_0)\n",
    "rec_1=TP/(TP+FP)\n",
    "print('Recall_score for class 1(Positive):- ',rec_1)\n",
    "print('........................................................')\n",
    "f1_0=2*prec_0*rec_0/(prec_0+rec_0)\n",
    "print('F1_score for class 0(Negative):- ',f1_0)\n",
    "f1_1=2*prec_1*rec_1/(prec_1+rec_1)\n",
    "print('F1_score for class 1(Positive):- ',f1_1)\n",
    "print('........................................................')\n",
    "print('Precision_score by inbuilt Function:- ',precision_score(y_train,pred,average=None))\n",
    "print('........................................................')\n",
    "print('Recall_score by inbuilt Function:- ',recall_score(y_train,pred,average=None))\n",
    "print('........................................................')\n",
    "print('F1_score by inbuilt Function:- ',f1_score(y_train,pred,average=None))\n",
    "print('........................................................')\n",
    "print('Classification Report:-\\n',classification_report(y_train,pred),sep='')"
   ]
  },
  {
   "cell_type": "code",
   "execution_count": 22,
   "id": "593fc3d6-fe7c-4e0f-9261-673b30db62da",
   "metadata": {
    "tags": []
   },
   "outputs": [
    {
     "data": {
      "text/plain": [
       "array([[1110,   27],\n",
       "       [   3, 1153]], dtype=int64)"
      ]
     },
     "execution_count": 22,
     "metadata": {},
     "output_type": "execute_result"
    }
   ],
   "source": [
    "confusion_matrix(y_test,pred1)"
   ]
  },
  {
   "cell_type": "code",
   "execution_count": 23,
   "id": "223ee99b-d0f0-484a-b1ce-117b75a1f8cf",
   "metadata": {
    "tags": []
   },
   "outputs": [
    {
     "name": "stdout",
     "output_type": "stream",
     "text": [
      "Precision_score for class 0(Negative):-  0.9973190348525469\n",
      "Precision_score for class 1(Positive):-  0.9821124361158433\n",
      "........................................................\n",
      "Recall_score for class 0(Negative):-  0.9815303430079155\n",
      "Recall_score for class 1(Positive):-  0.9974048442906575\n",
      "........................................................\n",
      "F1_score for class 0(Negative):-  0.9893617021276596\n",
      "F1_score for class 1(Positive):-  0.9896995708154508\n",
      "........................................................\n",
      "Precision_score by inbuilt Function:-  [0.99730458 0.97711864]\n",
      "........................................................\n",
      "Recall_score by inbuilt Function:-  [0.9762533  0.99740484]\n",
      "........................................................\n",
      "F1_score by inbuilt Function:-  [0.98666667 0.98715753]\n",
      "........................................................\n",
      "Classification Report:-\n",
      "              precision    recall  f1-score   support\n",
      "\n",
      "           0       1.00      0.98      0.99      1137\n",
      "           1       0.98      1.00      0.99      1156\n",
      "\n",
      "    accuracy                           0.99      2293\n",
      "   macro avg       0.99      0.99      0.99      2293\n",
      "weighted avg       0.99      0.99      0.99      2293\n",
      "\n"
     ]
    }
   ],
   "source": [
    "TN=1116   # True Negative for class 0\n",
    "TP=1153   # True Positive for class 1\n",
    "FN=21   # False Negative for class 0\n",
    "FP=3  # False Positive for class 1\n",
    "prec_0=TN/(TN+FP)\n",
    "print('Precision_score for class 0(Negative):- ',prec_0)\n",
    "prec_1=TP/(TP+FN)\n",
    "print('Precision_score for class 1(Positive):- ',prec_1)\n",
    "print('........................................................')\n",
    "rec_0=TN/(TN+FN)\n",
    "print('Recall_score for class 0(Negative):- ',rec_0)\n",
    "rec_1=TP/(TP+FP)\n",
    "print('Recall_score for class 1(Positive):- ',rec_1)\n",
    "print('........................................................')\n",
    "f1_0=2*prec_0*rec_0/(prec_0+rec_0)\n",
    "print('F1_score for class 0(Negative):- ',f1_0)\n",
    "f1_1=2*prec_1*rec_1/(prec_1+rec_1)\n",
    "print('F1_score for class 1(Positive):- ',f1_1)\n",
    "print('........................................................')\n",
    "print('Precision_score by inbuilt Function:- ',precision_score(y_test,pred1,average=None))\n",
    "print('........................................................')\n",
    "print('Recall_score by inbuilt Function:- ',recall_score(y_test,pred1,average=None))\n",
    "print('........................................................')\n",
    "print('F1_score by inbuilt Function:- ',f1_score(y_test,pred1,average=None))\n",
    "print('........................................................')\n",
    "print('Classification Report:-\\n',classification_report(y_test,pred1),sep='')"
   ]
  },
  {
   "cell_type": "code",
   "execution_count": 24,
   "id": "6bd81b4b-d8ea-45ff-8cba-640ddc0338b2",
   "metadata": {
    "tags": []
   },
   "outputs": [],
   "source": [
    "### without using SMOTE"
   ]
  },
  {
   "cell_type": "code",
   "execution_count": 25,
   "id": "3da81b13-1d23-40aa-9bd2-514df63a22d9",
   "metadata": {
    "tags": []
   },
   "outputs": [],
   "source": [
    "import pandas as pd\n",
    "from sklearn.neighbors import KNeighborsClassifier\n",
    "from sklearn.preprocessing import MinMaxScaler,StandardScaler\n",
    "from sklearn.model_selection import train_test_split\n",
    "from sklearn.metrics import accuracy_score,confusion_matrix,precision_score,recall_score,f1_score,classification_report\n",
    "from sklearn.model_selection import cross_val_score"
   ]
  },
  {
   "cell_type": "code",
   "execution_count": 26,
   "id": "8317d2ff-0cef-41bd-8b3a-419d38539e25",
   "metadata": {
    "tags": []
   },
   "outputs": [],
   "source": [
    "df=pd.read_excel('G:/dataset/classification/creditcard_copy.xlsx')\n",
    "X=df.iloc[:,1:-2].values\n",
    "y=df.iloc[:,-1].values"
   ]
  },
  {
   "cell_type": "code",
   "execution_count": 27,
   "id": "780fe6e8-0723-4353-9a08-ef7f6998ccdf",
   "metadata": {
    "tags": []
   },
   "outputs": [
    {
     "name": "stdout",
     "output_type": "stream",
     "text": [
      "0.9831932773109243\n",
      "0.988976377952756\n"
     ]
    }
   ],
   "source": [
    "X_train,X_test,y_train,y_test=train_test_split(X,y,random_state=1)\n",
    "sc=StandardScaler()\n",
    "X_train_new=sc.fit_transform(X_train)\n",
    "X_test_new=sc.transform(X_test)\n",
    "model=KNeighborsClassifier()\n",
    "model.fit(X_train_new,y_train)\n",
    "pred=model.predict(X_train_new)\n",
    "pred1=model.predict(X_test_new)\n",
    "print(accuracy_score(y_train,pred))\n",
    "print(accuracy_score(y_test,pred1))"
   ]
  },
  {
   "cell_type": "code",
   "execution_count": 28,
   "id": "bcd3139b-6819-4c47-85fa-27ab65de25d8",
   "metadata": {
    "tags": []
   },
   "outputs": [
    {
     "data": {
      "text/plain": [
       "array([[3419,    5],\n",
       "       [  59,  325]], dtype=int64)"
      ]
     },
     "execution_count": 28,
     "metadata": {},
     "output_type": "execute_result"
    }
   ],
   "source": [
    "confusion_matrix(y_train,pred)"
   ]
  },
  {
   "cell_type": "code",
   "execution_count": 29,
   "id": "21f621db-ac5f-406f-849e-a5c6066c8713",
   "metadata": {
    "tags": []
   },
   "outputs": [
    {
     "name": "stdout",
     "output_type": "stream",
     "text": [
      "Precision_score for class 0(Negative):-  0.9830362277170788\n",
      "Precision_score for class 1(Positive):-  0.9848484848484849\n",
      "........................................................\n",
      "Recall_score for class 0(Negative):-  0.9985397196261683\n",
      "Recall_score for class 1(Positive):-  0.8463541666666666\n",
      "........................................................\n",
      "F1_score for class 0(Negative):-  0.9907273254129239\n",
      "F1_score for class 1(Positive):-  0.9103641456582633\n",
      "........................................................\n",
      "Precision_score by inbuilt Function:-  [0.98303623 0.98484848]\n",
      "........................................................\n",
      "Recall_score by inbuilt Function:-  [0.99853972 0.84635417]\n",
      "........................................................\n",
      "F1_score by inbuilt Function:-  [0.99072733 0.91036415]\n",
      "........................................................\n",
      "Classification Report:-\n",
      "              precision    recall  f1-score   support\n",
      "\n",
      "           0       0.98      1.00      0.99      3424\n",
      "           1       0.98      0.85      0.91       384\n",
      "\n",
      "    accuracy                           0.98      3808\n",
      "   macro avg       0.98      0.92      0.95      3808\n",
      "weighted avg       0.98      0.98      0.98      3808\n",
      "\n"
     ]
    }
   ],
   "source": [
    "TN=3419   # True Negative for class 0\n",
    "TP=325   # True Positive for class 1\n",
    "FN=5   # False Negative for class 0\n",
    "FP=59   # False Positive for class 1\n",
    "prec_0=TN/(TN+FP)\n",
    "print('Precision_score for class 0(Negative):- ',prec_0)\n",
    "prec_1=TP/(TP+FN)\n",
    "print('Precision_score for class 1(Positive):- ',prec_1)\n",
    "print('........................................................')\n",
    "rec_0=TN/(TN+FN)\n",
    "print('Recall_score for class 0(Negative):- ',rec_0)\n",
    "rec_1=TP/(TP+FP)\n",
    "print('Recall_score for class 1(Positive):- ',rec_1)\n",
    "print('........................................................')\n",
    "f1_0=2*prec_0*rec_0/(prec_0+rec_0)\n",
    "print('F1_score for class 0(Negative):- ',f1_0)\n",
    "f1_1=2*prec_1*rec_1/(prec_1+rec_1)\n",
    "print('F1_score for class 1(Positive):- ',f1_1)\n",
    "print('........................................................')\n",
    "print('Precision_score by inbuilt Function:- ',precision_score(y_train,pred,average=None))\n",
    "print('........................................................')\n",
    "print('Recall_score by inbuilt Function:- ',recall_score(y_train,pred,average=None))\n",
    "print('........................................................')\n",
    "print('F1_score by inbuilt Function:- ',f1_score(y_train,pred,average=None))\n",
    "print('........................................................')\n",
    "print('Classification Report:-\\n',classification_report(y_train,pred),sep='')"
   ]
  },
  {
   "cell_type": "code",
   "execution_count": 30,
   "id": "56430f6a-eb48-4d5f-bb15-1ddb8f11e1f1",
   "metadata": {
    "tags": []
   },
   "outputs": [
    {
     "data": {
      "text/plain": [
       "array([[1159,    3],\n",
       "       [  11,   97]], dtype=int64)"
      ]
     },
     "execution_count": 30,
     "metadata": {},
     "output_type": "execute_result"
    }
   ],
   "source": [
    "confusion_matrix(y_test,pred1)"
   ]
  },
  {
   "cell_type": "code",
   "execution_count": 31,
   "id": "9dc1fd01-11d2-4e8b-9c8c-67598940cbce",
   "metadata": {
    "tags": []
   },
   "outputs": [
    {
     "name": "stdout",
     "output_type": "stream",
     "text": [
      "Precision_score for class 0(Negative):-  0.9905982905982906\n",
      "Precision_score for class 1(Positive):-  0.97\n",
      "........................................................\n",
      "Recall_score for class 0(Negative):-  0.9974182444061962\n",
      "Recall_score for class 1(Positive):-  0.8981481481481481\n",
      "........................................................\n",
      "F1_score for class 0(Negative):-  0.9939965694682675\n",
      "F1_score for class 1(Positive):-  0.9326923076923077\n",
      "........................................................\n",
      "Precision_score by inbuilt Function:-  [0.99059829 0.97      ]\n",
      "........................................................\n",
      "Recall_score by inbuilt Function:-  [0.99741824 0.89814815]\n",
      "........................................................\n",
      "F1_score by inbuilt Function:-  [0.99399657 0.93269231]\n",
      "........................................................\n",
      "Classification Report:-\n",
      "              precision    recall  f1-score   support\n",
      "\n",
      "           0       0.99      1.00      0.99      1162\n",
      "           1       0.97      0.90      0.93       108\n",
      "\n",
      "    accuracy                           0.99      1270\n",
      "   macro avg       0.98      0.95      0.96      1270\n",
      "weighted avg       0.99      0.99      0.99      1270\n",
      "\n"
     ]
    }
   ],
   "source": [
    "TN=1159   # True Negative for class 0\n",
    "TP=97   # True Positive for class 1\n",
    "FN=3   # False Negative for class 0\n",
    "FP=11  # False Positive for class 1\n",
    "prec_0=TN/(TN+FP)\n",
    "print('Precision_score for class 0(Negative):- ',prec_0)\n",
    "prec_1=TP/(TP+FN)\n",
    "print('Precision_score for class 1(Positive):- ',prec_1)\n",
    "print('........................................................')\n",
    "rec_0=TN/(TN+FN)\n",
    "print('Recall_score for class 0(Negative):- ',rec_0)\n",
    "rec_1=TP/(TP+FP)\n",
    "print('Recall_score for class 1(Positive):- ',rec_1)\n",
    "print('........................................................')\n",
    "f1_0=2*prec_0*rec_0/(prec_0+rec_0)\n",
    "print('F1_score for class 0(Negative):- ',f1_0)\n",
    "f1_1=2*prec_1*rec_1/(prec_1+rec_1)\n",
    "print('F1_score for class 1(Positive):- ',f1_1)\n",
    "print('........................................................')\n",
    "print('Precision_score by inbuilt Function:- ',precision_score(y_test,pred1,average=None))\n",
    "print('........................................................')\n",
    "print('Recall_score by inbuilt Function:- ',recall_score(y_test,pred1,average=None))\n",
    "print('........................................................')\n",
    "print('F1_score by inbuilt Function:- ',f1_score(y_test,pred1,average=None))\n",
    "print('........................................................')\n",
    "print('Classification Report:-\\n',classification_report(y_test,pred1),sep='')"
   ]
  },
  {
   "cell_type": "code",
   "execution_count": null,
   "id": "5dcef5c6-ab5f-4381-bee3-ffab5e8b12bd",
   "metadata": {},
   "outputs": [],
   "source": []
  }
 ],
 "metadata": {
  "kernelspec": {
   "display_name": "Python 3 (ipykernel)",
   "language": "python",
   "name": "python3"
  },
  "language_info": {
   "codemirror_mode": {
    "name": "ipython",
    "version": 3
   },
   "file_extension": ".py",
   "mimetype": "text/x-python",
   "name": "python",
   "nbconvert_exporter": "python",
   "pygments_lexer": "ipython3",
   "version": "3.11.3"
  }
 },
 "nbformat": 4,
 "nbformat_minor": 5
}
