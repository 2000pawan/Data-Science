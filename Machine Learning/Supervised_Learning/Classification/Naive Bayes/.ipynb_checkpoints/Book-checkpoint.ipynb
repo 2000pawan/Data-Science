{
 "cells": [
  {
   "cell_type": "markdown",
   "id": "7c54c3f8-e83b-4d77-8f63-0538fabd32b9",
   "metadata": {
    "tags": []
   },
   "source": [
    "# Naive Bayes"
   ]
  },
  {
   "cell_type": "code",
   "execution_count": null,
   "id": "0e3fd812-9561-41a1-aeed-a2edb56cc9a2",
   "metadata": {},
   "outputs": [],
   "source": []
  }
 ],
 "metadata": {
  "kernelspec": {
   "display_name": "Python 3 (ipykernel)",
   "language": "python",
   "name": "python3"
  },
  "language_info": {
   "codemirror_mode": {
    "name": "ipython",
    "version": 3
   },
   "file_extension": ".py",
   "mimetype": "text/x-python",
   "name": "python",
   "nbconvert_exporter": "python",
   "pygments_lexer": "ipython3",
   "version": "3.11.3"
  }
 },
 "nbformat": 4,
 "nbformat_minor": 5
}
