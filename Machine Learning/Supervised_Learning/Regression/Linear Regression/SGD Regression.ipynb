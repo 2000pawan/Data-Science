{
 "cells": [
  {
   "cell_type": "code",
   "execution_count": 5,
   "id": "27be718b-17c3-4ade-a73a-0c59167443f0",
   "metadata": {},
   "outputs": [
    {
     "name": "stdin",
     "output_type": "stream",
     "text": [
      " 4\n",
      " 2 4 5 9\n",
      " 4\n",
      " 2 4 11 12\n"
     ]
    },
    {
     "name": "stdout",
     "output_type": "stream",
     "text": [
      "5\n",
      "9\n",
      "11\n",
      "12\n"
     ]
    }
   ],
   "source": [
    "def test(p, m, q, n):\n",
    "    m=list(map(int, m))\n",
    "    n=list(map(int, n))\n",
    "    x=list(set(m).symmetric_difference(set(n)))\n",
    "    return x\n",
    "    \n",
    "    \n",
    "    \n",
    "p=int(input())\n",
    "m=input().split(' ')\n",
    "q=int(input())\n",
    "n=input().split(' ')\n",
    "result= test(p, m, q, n)\n",
    "for i in result:\n",
    "    print(i)"
   ]
  },
  {
   "cell_type": "code",
   "execution_count": 16,
   "id": "9f6a1678-32ea-41c3-8f9c-03636365f5bf",
   "metadata": {
    "tags": []
   },
   "outputs": [
    {
     "name": "stdin",
     "output_type": "stream",
     "text": [
      " 3 2\n",
      " 1 3 5\n",
      " 3 1\n",
      " 5 7\n"
     ]
    },
    {
     "name": "stdout",
     "output_type": "stream",
     "text": [
      "1\n"
     ]
    }
   ],
   "source": [
    "def test(n, m, a, b):\n",
    "    x=0\n",
    "    p=list(map(int, m))\n",
    "    q=list(map(int, n))\n",
    "    r=list(map(int, a))\n",
    "    s=list(map(int, b))\n",
    "    for i in q:\n",
    "        if i in r:\n",
    "            x += 1\n",
    "        elif i in s:\n",
    "            x -= 1\n",
    "        \n",
    "    return x\n",
    "    \n",
    "n=input().split(' ')\n",
    "m=input().split( ' ')\n",
    "a=input().split(' ')\n",
    "b=input().split(' ')\n",
    "print(test(n, m, a, b))"
   ]
  },
  {
   "cell_type": "code",
   "execution_count": 17,
   "id": "3554effd-ff96-4611-b4e4-e72e933500ca",
   "metadata": {
    "tags": []
   },
   "outputs": [
    {
     "ename": "SyntaxError",
     "evalue": "invalid syntax (3567763142.py, line 2)",
     "output_type": "error",
     "traceback": [
      "\u001b[1;36m  Cell \u001b[1;32mIn[17], line 2\u001b[1;36m\u001b[0m\n\u001b[1;33m    x.\u001b[0m\n\u001b[1;37m      ^\u001b[0m\n\u001b[1;31mSyntaxError\u001b[0m\u001b[1;31m:\u001b[0m invalid syntax\n"
     ]
    }
   ],
   "source": [
    "x={1,2,3,4,5}\n",
    "x."
   ]
  },
  {
   "cell_type": "code",
   "execution_count": 18,
   "id": "eb6e5fec-2387-453e-b9ce-23de7530ad69",
   "metadata": {
    "tags": []
   },
   "outputs": [
    {
     "name": "stdin",
     "output_type": "stream",
     "text": [
      " 2 2 2  2\n"
     ]
    },
    {
     "name": "stdout",
     "output_type": "stream",
     "text": [
      "['2', '2', '2', '', '2']\n"
     ]
    }
   ],
   "source": [
    "n=input().split(' ')\n",
    "print(n)"
   ]
  },
  {
   "cell_type": "code",
   "execution_count": null,
   "id": "0a3242ca-757d-47e5-8d0c-918c1a7803a4",
   "metadata": {
    "tags": []
   },
   "outputs": [],
   "source": [
    "n = int(input())\n",
    "s = set(map(int, input().split()))\n",
    "z=int(input())\n",
    "for i in range(1,z+1):\n",
    "    x=input('Enter command name:-')\n",
    "    y=int(input())\n",
    "    s.x(y)"
   ]
  },
  {
   "cell_type": "code",
   "execution_count": 2,
   "id": "89fa4e6a-b0b4-406e-97fb-1893906b0a4d",
   "metadata": {
    "tags": []
   },
   "outputs": [
    {
     "name": "stdin",
     "output_type": "stream",
     "text": [
      "Number of students subscribed English newspaper:- 9\n",
      " 1 2 3 4 5 6 7 8 9\n",
      "Number of students subscribed French newspaper:- 9\n",
      " 10 1 2 3 11 21 55 6 8\n"
     ]
    },
    {
     "name": "stdout",
     "output_type": "stream",
     "text": [
      "13\n"
     ]
    }
   ],
   "source": [
    "n=int(input('Number of students subscribed English newspaper:-'))\n",
    "x=set(list(map(int, input().split())))\n",
    "m=int(input('Number of students subscribed French newspaper:-'))\n",
    "y=set(list(map(int, input().split())))\n",
    "z=x.union(y)\n",
    "print(len(z))"
   ]
  },
  {
   "cell_type": "code",
   "execution_count": null,
   "id": "84ed75aa-7c64-4fbc-81de-9fbf7ee14d01",
   "metadata": {},
   "outputs": [],
   "source": []
  }
 ],
 "metadata": {
  "kernelspec": {
   "display_name": "Python 3 (ipykernel)",
   "language": "python",
   "name": "python3"
  },
  "language_info": {
   "codemirror_mode": {
    "name": "ipython",
    "version": 3
   },
   "file_extension": ".py",
   "mimetype": "text/x-python",
   "name": "python",
   "nbconvert_exporter": "python",
   "pygments_lexer": "ipython3",
   "version": "3.11.3"
  }
 },
 "nbformat": 4,
 "nbformat_minor": 5
}
