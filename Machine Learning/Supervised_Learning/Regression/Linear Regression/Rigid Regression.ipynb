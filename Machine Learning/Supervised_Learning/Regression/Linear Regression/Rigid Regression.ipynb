{
 "cells": [
  {
   "cell_type": "code",
   "execution_count": 2,
   "id": "df948606-7a41-438f-9f5f-ab01d81e93fd",
   "metadata": {
    "tags": []
   },
   "outputs": [],
   "source": [
    "from sklearn.linear_model import Perceptron"
   ]
  },
  {
   "cell_type": "code",
   "execution_count": 5,
   "id": "b0462a70-7a9c-4961-9b38-78557e9f048d",
   "metadata": {},
   "outputs": [],
   "source": [
    "model=Perceptron()"
   ]
  },
  {
   "cell_type": "code",
   "execution_count": null,
   "id": "a19ed4e5-7a27-49ec-9c3b-baf592af89ef",
   "metadata": {},
   "outputs": [],
   "source": []
  }
 ],
 "metadata": {
  "kernelspec": {
   "display_name": "Python 3 (ipykernel)",
   "language": "python",
   "name": "python3"
  },
  "language_info": {
   "codemirror_mode": {
    "name": "ipython",
    "version": 3
   },
   "file_extension": ".py",
   "mimetype": "text/x-python",
   "name": "python",
   "nbconvert_exporter": "python",
   "pygments_lexer": "ipython3",
   "version": "3.11.3"
  }
 },
 "nbformat": 4,
 "nbformat_minor": 5
}
