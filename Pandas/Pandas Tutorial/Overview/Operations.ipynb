{
 "cells": [
  {
   "cell_type": "markdown",
   "id": "432d3fe7-b91f-4a60-94da-3ee09cf9491c",
   "metadata": {},
   "source": [
    "With binary operations between pandas data structures, there are two key points of interest: Broadcasting behavior between higher- (e.g. DataFrame) and lower-dimensional (e.g. Series) objects."
   ]
  },
  {
   "cell_type": "markdown",
   "id": "eeb8d3f6-4cf3-4eae-ae5e-1c73b3f0b52c",
   "metadata": {},
   "source": [
    "#Operations between pandas data structure\n",
    "\n",
    "Statistics : \n",
    "Operations in general exclude missing data."
   ]
  },
  {
   "cell_type": "code",
   "execution_count": 1,
   "id": "dcc91a23-6e8e-401a-b646-e43ff1053779",
   "metadata": {
    "tags": []
   },
   "outputs": [],
   "source": [
    "import numpy as np\n",
    "import pandas as pd"
   ]
  },
  {
   "cell_type": "code",
   "execution_count": 2,
   "id": "a2aef850-f422-4266-9a73-51d420652ca8",
   "metadata": {
    "tags": []
   },
   "outputs": [],
   "source": [
    "dates = pd.date_range('20190101', periods=8)\n",
    "df = pd.DataFrame(np.random.randn(8, 4), index=dates, columns=list('PQRS'))"
   ]
  },
  {
   "cell_type": "code",
   "execution_count": 3,
   "id": "8e91ed3b-fe0a-4e3f-84a0-9a763a9349bb",
   "metadata": {
    "tags": []
   },
   "outputs": [
    {
     "data": {
      "text/plain": [
       "P   -0.368621\n",
       "Q   -0.413545\n",
       "R   -0.047216\n",
       "S   -0.062290\n",
       "dtype: float64"
      ]
     },
     "execution_count": 3,
     "metadata": {},
     "output_type": "execute_result"
    }
   ],
   "source": [
    "df.mean()"
   ]
  },
  {
   "cell_type": "code",
   "execution_count": 5,
   "id": "4eff6bf6-d031-4cb3-bbf0-a52836750be6",
   "metadata": {
    "tags": []
   },
   "outputs": [
    {
     "data": {
      "text/plain": [
       "2019-01-01   -0.101538\n",
       "2019-01-02   -0.309329\n",
       "2019-01-03   -0.114413\n",
       "2019-01-04    0.228966\n",
       "2019-01-05   -0.429535\n",
       "2019-01-06   -0.519806\n",
       "2019-01-07   -0.919160\n",
       "2019-01-08    0.381469\n",
       "Freq: D, dtype: float64"
      ]
     },
     "execution_count": 5,
     "metadata": {},
     "output_type": "execute_result"
    }
   ],
   "source": [
    "#Same operation on the other axis:\n",
    "df.mean(1)"
   ]
  },
  {
   "cell_type": "code",
   "execution_count": 6,
   "id": "3b082357-47f0-4aba-b7f4-710a77d78ce4",
   "metadata": {
    "tags": []
   },
   "outputs": [],
   "source": [
    "#Operating with objects :\n",
    "s = pd.Series([1, 4, np.nan, 6, 8]).shift(2)"
   ]
  },
  {
   "cell_type": "code",
   "execution_count": 7,
   "id": "b8751948-18d9-47bf-ada3-4314890d7920",
   "metadata": {
    "tags": []
   },
   "outputs": [
    {
     "data": {
      "text/plain": [
       "0    NaN\n",
       "1    NaN\n",
       "2    1.0\n",
       "3    4.0\n",
       "4    NaN\n",
       "dtype: float64"
      ]
     },
     "execution_count": 7,
     "metadata": {},
     "output_type": "execute_result"
    }
   ],
   "source": [
    "s"
   ]
  },
  {
   "cell_type": "code",
   "execution_count": 8,
   "id": "8654d90c-c9c2-4436-b6d9-403becd7e0d9",
   "metadata": {
    "tags": []
   },
   "outputs": [
    {
     "data": {
      "text/html": [
       "<div>\n",
       "<style scoped>\n",
       "    .dataframe tbody tr th:only-of-type {\n",
       "        vertical-align: middle;\n",
       "    }\n",
       "\n",
       "    .dataframe tbody tr th {\n",
       "        vertical-align: top;\n",
       "    }\n",
       "\n",
       "    .dataframe thead th {\n",
       "        text-align: right;\n",
       "    }\n",
       "</style>\n",
       "<table border=\"1\" class=\"dataframe\">\n",
       "  <thead>\n",
       "    <tr style=\"text-align: right;\">\n",
       "      <th></th>\n",
       "      <th>P</th>\n",
       "      <th>Q</th>\n",
       "      <th>R</th>\n",
       "      <th>S</th>\n",
       "    </tr>\n",
       "  </thead>\n",
       "  <tbody>\n",
       "    <tr>\n",
       "      <th>2019-01-01 00:00:00</th>\n",
       "      <td>NaN</td>\n",
       "      <td>NaN</td>\n",
       "      <td>NaN</td>\n",
       "      <td>NaN</td>\n",
       "    </tr>\n",
       "    <tr>\n",
       "      <th>2019-01-02 00:00:00</th>\n",
       "      <td>NaN</td>\n",
       "      <td>NaN</td>\n",
       "      <td>NaN</td>\n",
       "      <td>NaN</td>\n",
       "    </tr>\n",
       "    <tr>\n",
       "      <th>2019-01-03 00:00:00</th>\n",
       "      <td>NaN</td>\n",
       "      <td>NaN</td>\n",
       "      <td>NaN</td>\n",
       "      <td>NaN</td>\n",
       "    </tr>\n",
       "    <tr>\n",
       "      <th>2019-01-04 00:00:00</th>\n",
       "      <td>NaN</td>\n",
       "      <td>NaN</td>\n",
       "      <td>NaN</td>\n",
       "      <td>NaN</td>\n",
       "    </tr>\n",
       "    <tr>\n",
       "      <th>2019-01-05 00:00:00</th>\n",
       "      <td>NaN</td>\n",
       "      <td>NaN</td>\n",
       "      <td>NaN</td>\n",
       "      <td>NaN</td>\n",
       "    </tr>\n",
       "    <tr>\n",
       "      <th>2019-01-06 00:00:00</th>\n",
       "      <td>NaN</td>\n",
       "      <td>NaN</td>\n",
       "      <td>NaN</td>\n",
       "      <td>NaN</td>\n",
       "    </tr>\n",
       "    <tr>\n",
       "      <th>2019-01-07 00:00:00</th>\n",
       "      <td>NaN</td>\n",
       "      <td>NaN</td>\n",
       "      <td>NaN</td>\n",
       "      <td>NaN</td>\n",
       "    </tr>\n",
       "    <tr>\n",
       "      <th>2019-01-08 00:00:00</th>\n",
       "      <td>NaN</td>\n",
       "      <td>NaN</td>\n",
       "      <td>NaN</td>\n",
       "      <td>NaN</td>\n",
       "    </tr>\n",
       "    <tr>\n",
       "      <th>0</th>\n",
       "      <td>NaN</td>\n",
       "      <td>NaN</td>\n",
       "      <td>NaN</td>\n",
       "      <td>NaN</td>\n",
       "    </tr>\n",
       "    <tr>\n",
       "      <th>1</th>\n",
       "      <td>NaN</td>\n",
       "      <td>NaN</td>\n",
       "      <td>NaN</td>\n",
       "      <td>NaN</td>\n",
       "    </tr>\n",
       "    <tr>\n",
       "      <th>2</th>\n",
       "      <td>NaN</td>\n",
       "      <td>NaN</td>\n",
       "      <td>NaN</td>\n",
       "      <td>NaN</td>\n",
       "    </tr>\n",
       "    <tr>\n",
       "      <th>3</th>\n",
       "      <td>NaN</td>\n",
       "      <td>NaN</td>\n",
       "      <td>NaN</td>\n",
       "      <td>NaN</td>\n",
       "    </tr>\n",
       "    <tr>\n",
       "      <th>4</th>\n",
       "      <td>NaN</td>\n",
       "      <td>NaN</td>\n",
       "      <td>NaN</td>\n",
       "      <td>NaN</td>\n",
       "    </tr>\n",
       "  </tbody>\n",
       "</table>\n",
       "</div>"
      ],
      "text/plain": [
       "                      P   Q   R   S\n",
       "2019-01-01 00:00:00 NaN NaN NaN NaN\n",
       "2019-01-02 00:00:00 NaN NaN NaN NaN\n",
       "2019-01-03 00:00:00 NaN NaN NaN NaN\n",
       "2019-01-04 00:00:00 NaN NaN NaN NaN\n",
       "2019-01-05 00:00:00 NaN NaN NaN NaN\n",
       "2019-01-06 00:00:00 NaN NaN NaN NaN\n",
       "2019-01-07 00:00:00 NaN NaN NaN NaN\n",
       "2019-01-08 00:00:00 NaN NaN NaN NaN\n",
       "0                   NaN NaN NaN NaN\n",
       "1                   NaN NaN NaN NaN\n",
       "2                   NaN NaN NaN NaN\n",
       "3                   NaN NaN NaN NaN\n",
       "4                   NaN NaN NaN NaN"
      ]
     },
     "execution_count": 8,
     "metadata": {},
     "output_type": "execute_result"
    }
   ],
   "source": [
    "df.sub(s,axis='index')"
   ]
  },
  {
   "cell_type": "code",
   "execution_count": 10,
   "id": "ad5d3f8a-e91a-4b14-a351-aefc45841c64",
   "metadata": {
    "tags": []
   },
   "outputs": [
    {
     "data": {
      "text/html": [
       "<div>\n",
       "<style scoped>\n",
       "    .dataframe tbody tr th:only-of-type {\n",
       "        vertical-align: middle;\n",
       "    }\n",
       "\n",
       "    .dataframe tbody tr th {\n",
       "        vertical-align: top;\n",
       "    }\n",
       "\n",
       "    .dataframe thead th {\n",
       "        text-align: right;\n",
       "    }\n",
       "</style>\n",
       "<table border=\"1\" class=\"dataframe\">\n",
       "  <thead>\n",
       "    <tr style=\"text-align: right;\">\n",
       "      <th></th>\n",
       "      <th>P</th>\n",
       "      <th>Q</th>\n",
       "      <th>R</th>\n",
       "      <th>S</th>\n",
       "    </tr>\n",
       "  </thead>\n",
       "  <tbody>\n",
       "    <tr>\n",
       "      <th>2019-01-01</th>\n",
       "      <td>-0.332803</td>\n",
       "      <td>-0.119423</td>\n",
       "      <td>0.340465</td>\n",
       "      <td>-0.294392</td>\n",
       "    </tr>\n",
       "    <tr>\n",
       "      <th>2019-01-02</th>\n",
       "      <td>-1.162739</td>\n",
       "      <td>-1.401559</td>\n",
       "      <td>-0.054956</td>\n",
       "      <td>0.975785</td>\n",
       "    </tr>\n",
       "    <tr>\n",
       "      <th>2019-01-03</th>\n",
       "      <td>-2.650936</td>\n",
       "      <td>-1.559883</td>\n",
       "      <td>0.703077</td>\n",
       "      <td>1.406622</td>\n",
       "    </tr>\n",
       "    <tr>\n",
       "      <th>2019-01-04</th>\n",
       "      <td>-1.931466</td>\n",
       "      <td>-1.287555</td>\n",
       "      <td>1.471350</td>\n",
       "      <td>0.562413</td>\n",
       "    </tr>\n",
       "    <tr>\n",
       "      <th>2019-01-05</th>\n",
       "      <td>-1.750759</td>\n",
       "      <td>-1.651759</td>\n",
       "      <td>0.023095</td>\n",
       "      <td>0.476026</td>\n",
       "    </tr>\n",
       "    <tr>\n",
       "      <th>2019-01-06</th>\n",
       "      <td>-2.461776</td>\n",
       "      <td>-2.325543</td>\n",
       "      <td>-0.025601</td>\n",
       "      <td>-0.169700</td>\n",
       "    </tr>\n",
       "    <tr>\n",
       "      <th>2019-01-07</th>\n",
       "      <td>-3.014803</td>\n",
       "      <td>-3.295127</td>\n",
       "      <td>-1.620813</td>\n",
       "      <td>-0.728517</td>\n",
       "    </tr>\n",
       "    <tr>\n",
       "      <th>2019-01-08</th>\n",
       "      <td>-2.948970</td>\n",
       "      <td>-3.308360</td>\n",
       "      <td>-0.377728</td>\n",
       "      <td>-0.498323</td>\n",
       "    </tr>\n",
       "  </tbody>\n",
       "</table>\n",
       "</div>"
      ],
      "text/plain": [
       "                   P         Q         R         S\n",
       "2019-01-01 -0.332803 -0.119423  0.340465 -0.294392\n",
       "2019-01-02 -1.162739 -1.401559 -0.054956  0.975785\n",
       "2019-01-03 -2.650936 -1.559883  0.703077  1.406622\n",
       "2019-01-04 -1.931466 -1.287555  1.471350  0.562413\n",
       "2019-01-05 -1.750759 -1.651759  0.023095  0.476026\n",
       "2019-01-06 -2.461776 -2.325543 -0.025601 -0.169700\n",
       "2019-01-07 -3.014803 -3.295127 -1.620813 -0.728517\n",
       "2019-01-08 -2.948970 -3.308360 -0.377728 -0.498323"
      ]
     },
     "execution_count": 10,
     "metadata": {},
     "output_type": "execute_result"
    }
   ],
   "source": [
    "#Apply some functions to the data :\n",
    "df.apply(np.cumsum)"
   ]
  },
  {
   "cell_type": "code",
   "execution_count": 11,
   "id": "b7a72e2d-f7ee-4ec2-a87f-9b262a6dd4f9",
   "metadata": {
    "tags": []
   },
   "outputs": [
    {
     "data": {
      "text/plain": [
       "P    2.207666\n",
       "Q    1.554464\n",
       "R    2.838296\n",
       "S    2.114385\n",
       "dtype: float64"
      ]
     },
     "execution_count": 11,
     "metadata": {},
     "output_type": "execute_result"
    }
   ],
   "source": [
    "df.apply(lambda x: x.max()-x.min())"
   ]
  },
  {
   "cell_type": "code",
   "execution_count": 12,
   "id": "cb050f60-7aa0-45bc-a144-71c1d30641b5",
   "metadata": {
    "tags": []
   },
   "outputs": [],
   "source": [
    "#Histogramming :\n",
    "s=pd.Series(np.random.randint(0,5,size=8))"
   ]
  },
  {
   "cell_type": "code",
   "execution_count": 13,
   "id": "a0c068a3-6e4b-4614-9665-b42a05618250",
   "metadata": {
    "tags": []
   },
   "outputs": [
    {
     "data": {
      "text/plain": [
       "0    4\n",
       "1    4\n",
       "2    3\n",
       "3    2\n",
       "4    4\n",
       "5    0\n",
       "6    0\n",
       "7    4\n",
       "dtype: int32"
      ]
     },
     "execution_count": 13,
     "metadata": {},
     "output_type": "execute_result"
    }
   ],
   "source": [
    "s"
   ]
  },
  {
   "cell_type": "code",
   "execution_count": 14,
   "id": "7b6d45ff-e499-4adc-b57c-f86c0decb3c5",
   "metadata": {
    "tags": []
   },
   "outputs": [
    {
     "data": {
      "text/plain": [
       "4    4\n",
       "0    2\n",
       "3    1\n",
       "2    1\n",
       "dtype: int64"
      ]
     },
     "execution_count": 14,
     "metadata": {},
     "output_type": "execute_result"
    }
   ],
   "source": [
    "s.value_counts()"
   ]
  },
  {
   "cell_type": "markdown",
   "id": "3b276efb-b81a-45a8-8ec3-c538d41152db",
   "metadata": {},
   "source": [
    "String Methods :\n",
    "\n",
    "Series is equipped with a set of string processing methods in the str attribute that make it easy to operate on each element of the array, here is an example:"
   ]
  },
  {
   "cell_type": "code",
   "execution_count": 15,
   "id": "25c29c3f-1ae2-4f78-b183-e8496e04a5cc",
   "metadata": {
    "tags": []
   },
   "outputs": [],
   "source": [
    "s = pd.Series(['C', 'D', 'Baca', np.nan, 'CABA', 'dog', 'boy'])"
   ]
  },
  {
   "cell_type": "code",
   "execution_count": 16,
   "id": "202ce940-8d92-4e3d-8efe-83ea61209b0c",
   "metadata": {
    "tags": []
   },
   "outputs": [
    {
     "data": {
      "text/plain": [
       "0       c\n",
       "1       d\n",
       "2    baca\n",
       "3     NaN\n",
       "4    caba\n",
       "5     dog\n",
       "6     boy\n",
       "dtype: object"
      ]
     },
     "execution_count": 16,
     "metadata": {},
     "output_type": "execute_result"
    }
   ],
   "source": [
    "s.str.lower()"
   ]
  },
  {
   "cell_type": "code",
   "execution_count": 17,
   "id": "52dc0e8b-01ad-4ce9-93b8-292f34c53142",
   "metadata": {
    "tags": []
   },
   "outputs": [
    {
     "data": {
      "text/plain": [
       "0       C\n",
       "1       D\n",
       "2    BACA\n",
       "3     NaN\n",
       "4    CABA\n",
       "5     DOG\n",
       "6     BOY\n",
       "dtype: object"
      ]
     },
     "execution_count": 17,
     "metadata": {},
     "output_type": "execute_result"
    }
   ],
   "source": [
    "s.str.upper()"
   ]
  },
  {
   "cell_type": "code",
   "execution_count": null,
   "id": "f929ad19-f7b3-4fe6-853e-5cdef4e042c6",
   "metadata": {},
   "outputs": [],
   "source": []
  }
 ],
 "metadata": {
  "kernelspec": {
   "display_name": "Python 3 (ipykernel)",
   "language": "python",
   "name": "python3"
  },
  "language_info": {
   "codemirror_mode": {
    "name": "ipython",
    "version": 3
   },
   "file_extension": ".py",
   "mimetype": "text/x-python",
   "name": "python",
   "nbconvert_exporter": "python",
   "pygments_lexer": "ipython3",
   "version": "3.11.3"
  }
 },
 "nbformat": 4,
 "nbformat_minor": 5
}
