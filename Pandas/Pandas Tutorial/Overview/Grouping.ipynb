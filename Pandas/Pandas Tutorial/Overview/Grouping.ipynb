{
 "cells": [
  {
   "cell_type": "markdown",
   "id": "088ae69f-723b-43a7-bb2c-f43c12743f9e",
   "metadata": {},
   "source": [
    "By \"group by\" refers a process involving one or more of the following steps:\n",
    "\n",
    "Splitting data into groups based on some criteria\n",
    "Applying function to each group independently\n",
    "Combining results into a data structure"
   ]
  },
  {
   "cell_type": "markdown",
   "id": "7113f6fe-16d8-469e-a6a4-65ddd3e28455",
   "metadata": {},
   "source": [
    "By “group by” refers a process involving one or more of the following steps:\n",
    "\n",
    "#Splitting data into groups based on some criteria.\n",
    "#Applying function to each group independently.\n",
    "#Combining results into a data structure."
   ]
  },
  {
   "cell_type": "code",
   "execution_count": 1,
   "id": "576587a2-b8b6-41fe-a346-f5f2da9482f7",
   "metadata": {
    "tags": []
   },
   "outputs": [],
   "source": [
    "import numpy as np\n",
    "import pandas as pd"
   ]
  },
  {
   "cell_type": "code",
   "execution_count": 2,
   "id": "314dc313-c1e6-4433-899a-f42e9ac36664",
   "metadata": {
    "tags": []
   },
   "outputs": [],
   "source": [
    "df = pd.DataFrame({'M': ['foo', 'bar', 'foo', 'bar'],\n",
    "                       'N': ['one', 'one', 'two', 'three'],\n",
    "                       'O': np.random.randn(4),\n",
    "                       'P': np.random.randn(4)})"
   ]
  },
  {
   "cell_type": "code",
   "execution_count": 3,
   "id": "fa4ed313-517e-4233-af34-50e492a3852b",
   "metadata": {
    "tags": []
   },
   "outputs": [
    {
     "data": {
      "text/html": [
       "<div>\n",
       "<style scoped>\n",
       "    .dataframe tbody tr th:only-of-type {\n",
       "        vertical-align: middle;\n",
       "    }\n",
       "\n",
       "    .dataframe tbody tr th {\n",
       "        vertical-align: top;\n",
       "    }\n",
       "\n",
       "    .dataframe thead th {\n",
       "        text-align: right;\n",
       "    }\n",
       "</style>\n",
       "<table border=\"1\" class=\"dataframe\">\n",
       "  <thead>\n",
       "    <tr style=\"text-align: right;\">\n",
       "      <th></th>\n",
       "      <th>M</th>\n",
       "      <th>N</th>\n",
       "      <th>O</th>\n",
       "      <th>P</th>\n",
       "    </tr>\n",
       "  </thead>\n",
       "  <tbody>\n",
       "    <tr>\n",
       "      <th>0</th>\n",
       "      <td>foo</td>\n",
       "      <td>one</td>\n",
       "      <td>1.187323</td>\n",
       "      <td>0.133978</td>\n",
       "    </tr>\n",
       "    <tr>\n",
       "      <th>1</th>\n",
       "      <td>bar</td>\n",
       "      <td>one</td>\n",
       "      <td>0.733137</td>\n",
       "      <td>-0.226645</td>\n",
       "    </tr>\n",
       "    <tr>\n",
       "      <th>2</th>\n",
       "      <td>foo</td>\n",
       "      <td>two</td>\n",
       "      <td>-1.069826</td>\n",
       "      <td>2.616543</td>\n",
       "    </tr>\n",
       "    <tr>\n",
       "      <th>3</th>\n",
       "      <td>bar</td>\n",
       "      <td>three</td>\n",
       "      <td>-0.326429</td>\n",
       "      <td>1.378670</td>\n",
       "    </tr>\n",
       "  </tbody>\n",
       "</table>\n",
       "</div>"
      ],
      "text/plain": [
       "     M      N         O         P\n",
       "0  foo    one  1.187323  0.133978\n",
       "1  bar    one  0.733137 -0.226645\n",
       "2  foo    two -1.069826  2.616543\n",
       "3  bar  three -0.326429  1.378670"
      ]
     },
     "execution_count": 3,
     "metadata": {},
     "output_type": "execute_result"
    }
   ],
   "source": [
    "df"
   ]
  },
  {
   "cell_type": "code",
   "execution_count": 5,
   "id": "90cfc68d-8b50-4341-8a11-9155efa6f839",
   "metadata": {
    "tags": []
   },
   "outputs": [
    {
     "name": "stderr",
     "output_type": "stream",
     "text": [
      "C:\\Users\\panka\\AppData\\Local\\Temp\\ipykernel_7396\\3862268797.py:2: FutureWarning: The default value of numeric_only in DataFrameGroupBy.sum is deprecated. In a future version, numeric_only will default to False. Either specify numeric_only or select only columns which should be valid for the function.\n",
      "  df.groupby('M').sum()\n"
     ]
    },
    {
     "data": {
      "text/html": [
       "<div>\n",
       "<style scoped>\n",
       "    .dataframe tbody tr th:only-of-type {\n",
       "        vertical-align: middle;\n",
       "    }\n",
       "\n",
       "    .dataframe tbody tr th {\n",
       "        vertical-align: top;\n",
       "    }\n",
       "\n",
       "    .dataframe thead th {\n",
       "        text-align: right;\n",
       "    }\n",
       "</style>\n",
       "<table border=\"1\" class=\"dataframe\">\n",
       "  <thead>\n",
       "    <tr style=\"text-align: right;\">\n",
       "      <th></th>\n",
       "      <th>O</th>\n",
       "      <th>P</th>\n",
       "    </tr>\n",
       "    <tr>\n",
       "      <th>M</th>\n",
       "      <th></th>\n",
       "      <th></th>\n",
       "    </tr>\n",
       "  </thead>\n",
       "  <tbody>\n",
       "    <tr>\n",
       "      <th>bar</th>\n",
       "      <td>0.406708</td>\n",
       "      <td>1.152025</td>\n",
       "    </tr>\n",
       "    <tr>\n",
       "      <th>foo</th>\n",
       "      <td>0.117497</td>\n",
       "      <td>2.750521</td>\n",
       "    </tr>\n",
       "  </tbody>\n",
       "</table>\n",
       "</div>"
      ],
      "text/plain": [
       "            O         P\n",
       "M                      \n",
       "bar  0.406708  1.152025\n",
       "foo  0.117497  2.750521"
      ]
     },
     "execution_count": 5,
     "metadata": {},
     "output_type": "execute_result"
    }
   ],
   "source": [
    "#Grouping and then applying the sum() function to the resulting groups.\n",
    "df.groupby('M').sum()"
   ]
  },
  {
   "cell_type": "code",
   "execution_count": 6,
   "id": "5e86d813-9971-43d9-9967-a7e468b1fd44",
   "metadata": {
    "tags": []
   },
   "outputs": [
    {
     "data": {
      "text/html": [
       "<div>\n",
       "<style scoped>\n",
       "    .dataframe tbody tr th:only-of-type {\n",
       "        vertical-align: middle;\n",
       "    }\n",
       "\n",
       "    .dataframe tbody tr th {\n",
       "        vertical-align: top;\n",
       "    }\n",
       "\n",
       "    .dataframe thead th {\n",
       "        text-align: right;\n",
       "    }\n",
       "</style>\n",
       "<table border=\"1\" class=\"dataframe\">\n",
       "  <thead>\n",
       "    <tr style=\"text-align: right;\">\n",
       "      <th></th>\n",
       "      <th></th>\n",
       "      <th>O</th>\n",
       "      <th>P</th>\n",
       "    </tr>\n",
       "    <tr>\n",
       "      <th>M</th>\n",
       "      <th>N</th>\n",
       "      <th></th>\n",
       "      <th></th>\n",
       "    </tr>\n",
       "  </thead>\n",
       "  <tbody>\n",
       "    <tr>\n",
       "      <th rowspan=\"2\" valign=\"top\">bar</th>\n",
       "      <th>one</th>\n",
       "      <td>0.733137</td>\n",
       "      <td>-0.226645</td>\n",
       "    </tr>\n",
       "    <tr>\n",
       "      <th>three</th>\n",
       "      <td>-0.326429</td>\n",
       "      <td>1.378670</td>\n",
       "    </tr>\n",
       "    <tr>\n",
       "      <th rowspan=\"2\" valign=\"top\">foo</th>\n",
       "      <th>one</th>\n",
       "      <td>1.187323</td>\n",
       "      <td>0.133978</td>\n",
       "    </tr>\n",
       "    <tr>\n",
       "      <th>two</th>\n",
       "      <td>-1.069826</td>\n",
       "      <td>2.616543</td>\n",
       "    </tr>\n",
       "  </tbody>\n",
       "</table>\n",
       "</div>"
      ],
      "text/plain": [
       "                  O         P\n",
       "M   N                        \n",
       "bar one    0.733137 -0.226645\n",
       "    three -0.326429  1.378670\n",
       "foo one    1.187323  0.133978\n",
       "    two   -1.069826  2.616543"
      ]
     },
     "execution_count": 6,
     "metadata": {},
     "output_type": "execute_result"
    }
   ],
   "source": [
    "#Grouping by multiple columns forms a hierarchical index, and again we can apply the sum function.\n",
    "df.groupby(['M','N']).sum()"
   ]
  },
  {
   "cell_type": "code",
   "execution_count": null,
   "id": "3d1f59ae-ad77-4305-86cc-264664f25987",
   "metadata": {},
   "outputs": [],
   "source": []
  }
 ],
 "metadata": {
  "kernelspec": {
   "display_name": "Python 3 (ipykernel)",
   "language": "python",
   "name": "python3"
  },
  "language_info": {
   "codemirror_mode": {
    "name": "ipython",
    "version": 3
   },
   "file_extension": ".py",
   "mimetype": "text/x-python",
   "name": "python",
   "nbconvert_exporter": "python",
   "pygments_lexer": "ipython3",
   "version": "3.11.3"
  }
 },
 "nbformat": 4,
 "nbformat_minor": 5
}
