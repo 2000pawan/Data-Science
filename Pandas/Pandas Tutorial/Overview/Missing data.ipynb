{
 "cells": [
  {
   "cell_type": "markdown",
   "id": "2915d4ec-d6f2-4a4d-972c-279ae1d7cebc",
   "metadata": {},
   "source": [
    "As data comes in many shapes and forms, pandas aims to be flexible with regard to handling missing data. While NaN is the default missing value marker for reasons of computational speed and convenience, we need to be able to easily detect this value with data of different types: floating point, integer, boolean, and general object."
   ]
  },
  {
   "cell_type": "markdown",
   "id": "b5c61f91-fdd2-4aa8-b747-f0d67c042bff",
   "metadata": {},
   "source": [
    "#np.nan is used to represent missing data in pandas.\n",
    "Reindexing allows you to change/add/delete the index on a specified axis. This returns a copy of the data."
   ]
  },
  {
   "cell_type": "code",
   "execution_count": 1,
   "id": "dc4e22c4-15cb-4b8c-9507-4d345bfe216b",
   "metadata": {
    "tags": []
   },
   "outputs": [],
   "source": [
    "import numpy as np\n",
    "import pandas as pd"
   ]
  },
  {
   "cell_type": "code",
   "execution_count": 2,
   "id": "0aaab099-25ad-4480-84da-fcb55814ffc7",
   "metadata": {
    "tags": []
   },
   "outputs": [],
   "source": [
    "s=pd.Series([1,4,np.nan,6,8])"
   ]
  },
  {
   "cell_type": "code",
   "execution_count": 3,
   "id": "0915454c-830a-4ef2-a591-16aeb2cfa341",
   "metadata": {
    "tags": []
   },
   "outputs": [],
   "source": [
    "dates=pd.date_range('20230822',periods=8)"
   ]
  },
  {
   "cell_type": "code",
   "execution_count": 4,
   "id": "8aee641a-44ef-4a3c-b153-c883b664f371",
   "metadata": {
    "tags": []
   },
   "outputs": [],
   "source": [
    "df=pd.DataFrame(np.random.randn(8,4),index=dates,columns=list('PQRS'))"
   ]
  },
  {
   "cell_type": "code",
   "execution_count": 5,
   "id": "4d5e439d-4778-4935-891b-cbc5359a8737",
   "metadata": {
    "tags": []
   },
   "outputs": [],
   "source": [
    "df1=df.reindex(index=dates[0:4],columns=list(df.columns)+['E'])"
   ]
  },
  {
   "cell_type": "code",
   "execution_count": 6,
   "id": "6dfff5bb-6ae2-4b87-aa71-de5feced9224",
   "metadata": {
    "tags": []
   },
   "outputs": [],
   "source": [
    "df1.loc[dates[0]:dates[1],'E']=1"
   ]
  },
  {
   "cell_type": "code",
   "execution_count": 7,
   "id": "c0bafad8-9f75-4e5a-98be-979ddaae3410",
   "metadata": {
    "tags": []
   },
   "outputs": [
    {
     "data": {
      "text/html": [
       "<div>\n",
       "<style scoped>\n",
       "    .dataframe tbody tr th:only-of-type {\n",
       "        vertical-align: middle;\n",
       "    }\n",
       "\n",
       "    .dataframe tbody tr th {\n",
       "        vertical-align: top;\n",
       "    }\n",
       "\n",
       "    .dataframe thead th {\n",
       "        text-align: right;\n",
       "    }\n",
       "</style>\n",
       "<table border=\"1\" class=\"dataframe\">\n",
       "  <thead>\n",
       "    <tr style=\"text-align: right;\">\n",
       "      <th></th>\n",
       "      <th>P</th>\n",
       "      <th>Q</th>\n",
       "      <th>R</th>\n",
       "      <th>S</th>\n",
       "      <th>E</th>\n",
       "    </tr>\n",
       "  </thead>\n",
       "  <tbody>\n",
       "    <tr>\n",
       "      <th>2023-08-22</th>\n",
       "      <td>-1.500691</td>\n",
       "      <td>0.933382</td>\n",
       "      <td>0.861680</td>\n",
       "      <td>0.393773</td>\n",
       "      <td>1.0</td>\n",
       "    </tr>\n",
       "    <tr>\n",
       "      <th>2023-08-23</th>\n",
       "      <td>-1.567193</td>\n",
       "      <td>-0.163760</td>\n",
       "      <td>-1.210168</td>\n",
       "      <td>-1.415711</td>\n",
       "      <td>1.0</td>\n",
       "    </tr>\n",
       "    <tr>\n",
       "      <th>2023-08-24</th>\n",
       "      <td>-1.326429</td>\n",
       "      <td>-0.779503</td>\n",
       "      <td>-0.954912</td>\n",
       "      <td>-0.208629</td>\n",
       "      <td>NaN</td>\n",
       "    </tr>\n",
       "    <tr>\n",
       "      <th>2023-08-25</th>\n",
       "      <td>1.744253</td>\n",
       "      <td>-0.089047</td>\n",
       "      <td>0.833903</td>\n",
       "      <td>-0.075474</td>\n",
       "      <td>NaN</td>\n",
       "    </tr>\n",
       "  </tbody>\n",
       "</table>\n",
       "</div>"
      ],
      "text/plain": [
       "                   P         Q         R         S    E\n",
       "2023-08-22 -1.500691  0.933382  0.861680  0.393773  1.0\n",
       "2023-08-23 -1.567193 -0.163760 -1.210168 -1.415711  1.0\n",
       "2023-08-24 -1.326429 -0.779503 -0.954912 -0.208629  NaN\n",
       "2023-08-25  1.744253 -0.089047  0.833903 -0.075474  NaN"
      ]
     },
     "execution_count": 7,
     "metadata": {},
     "output_type": "execute_result"
    }
   ],
   "source": [
    "df1"
   ]
  },
  {
   "cell_type": "code",
   "execution_count": 9,
   "id": "8c6bbd0c-4d7a-443a-b4b0-87264279fcd6",
   "metadata": {
    "tags": []
   },
   "outputs": [
    {
     "data": {
      "text/html": [
       "<div>\n",
       "<style scoped>\n",
       "    .dataframe tbody tr th:only-of-type {\n",
       "        vertical-align: middle;\n",
       "    }\n",
       "\n",
       "    .dataframe tbody tr th {\n",
       "        vertical-align: top;\n",
       "    }\n",
       "\n",
       "    .dataframe thead th {\n",
       "        text-align: right;\n",
       "    }\n",
       "</style>\n",
       "<table border=\"1\" class=\"dataframe\">\n",
       "  <thead>\n",
       "    <tr style=\"text-align: right;\">\n",
       "      <th></th>\n",
       "      <th>P</th>\n",
       "      <th>Q</th>\n",
       "      <th>R</th>\n",
       "      <th>S</th>\n",
       "      <th>E</th>\n",
       "    </tr>\n",
       "  </thead>\n",
       "  <tbody>\n",
       "    <tr>\n",
       "      <th>2023-08-22</th>\n",
       "      <td>-1.500691</td>\n",
       "      <td>0.933382</td>\n",
       "      <td>0.861680</td>\n",
       "      <td>0.393773</td>\n",
       "      <td>1.0</td>\n",
       "    </tr>\n",
       "    <tr>\n",
       "      <th>2023-08-23</th>\n",
       "      <td>-1.567193</td>\n",
       "      <td>-0.163760</td>\n",
       "      <td>-1.210168</td>\n",
       "      <td>-1.415711</td>\n",
       "      <td>1.0</td>\n",
       "    </tr>\n",
       "  </tbody>\n",
       "</table>\n",
       "</div>"
      ],
      "text/plain": [
       "                   P         Q         R         S    E\n",
       "2023-08-22 -1.500691  0.933382  0.861680  0.393773  1.0\n",
       "2023-08-23 -1.567193 -0.163760 -1.210168 -1.415711  1.0"
      ]
     },
     "execution_count": 9,
     "metadata": {},
     "output_type": "execute_result"
    }
   ],
   "source": [
    "#To drop any rows that have missing data.\n",
    "df1.dropna(how='any')"
   ]
  },
  {
   "cell_type": "code",
   "execution_count": 11,
   "id": "07905318-5dbc-491f-a041-627748cc32b3",
   "metadata": {
    "tags": []
   },
   "outputs": [
    {
     "data": {
      "text/html": [
       "<div>\n",
       "<style scoped>\n",
       "    .dataframe tbody tr th:only-of-type {\n",
       "        vertical-align: middle;\n",
       "    }\n",
       "\n",
       "    .dataframe tbody tr th {\n",
       "        vertical-align: top;\n",
       "    }\n",
       "\n",
       "    .dataframe thead th {\n",
       "        text-align: right;\n",
       "    }\n",
       "</style>\n",
       "<table border=\"1\" class=\"dataframe\">\n",
       "  <thead>\n",
       "    <tr style=\"text-align: right;\">\n",
       "      <th></th>\n",
       "      <th>P</th>\n",
       "      <th>Q</th>\n",
       "      <th>R</th>\n",
       "      <th>S</th>\n",
       "      <th>E</th>\n",
       "    </tr>\n",
       "  </thead>\n",
       "  <tbody>\n",
       "    <tr>\n",
       "      <th>2023-08-22</th>\n",
       "      <td>-1.500691</td>\n",
       "      <td>0.933382</td>\n",
       "      <td>0.861680</td>\n",
       "      <td>0.393773</td>\n",
       "      <td>1.0</td>\n",
       "    </tr>\n",
       "    <tr>\n",
       "      <th>2023-08-23</th>\n",
       "      <td>-1.567193</td>\n",
       "      <td>-0.163760</td>\n",
       "      <td>-1.210168</td>\n",
       "      <td>-1.415711</td>\n",
       "      <td>1.0</td>\n",
       "    </tr>\n",
       "    <tr>\n",
       "      <th>2023-08-24</th>\n",
       "      <td>-1.326429</td>\n",
       "      <td>-0.779503</td>\n",
       "      <td>-0.954912</td>\n",
       "      <td>-0.208629</td>\n",
       "      <td>5.0</td>\n",
       "    </tr>\n",
       "    <tr>\n",
       "      <th>2023-08-25</th>\n",
       "      <td>1.744253</td>\n",
       "      <td>-0.089047</td>\n",
       "      <td>0.833903</td>\n",
       "      <td>-0.075474</td>\n",
       "      <td>5.0</td>\n",
       "    </tr>\n",
       "  </tbody>\n",
       "</table>\n",
       "</div>"
      ],
      "text/plain": [
       "                   P         Q         R         S    E\n",
       "2023-08-22 -1.500691  0.933382  0.861680  0.393773  1.0\n",
       "2023-08-23 -1.567193 -0.163760 -1.210168 -1.415711  1.0\n",
       "2023-08-24 -1.326429 -0.779503 -0.954912 -0.208629  5.0\n",
       "2023-08-25  1.744253 -0.089047  0.833903 -0.075474  5.0"
      ]
     },
     "execution_count": 11,
     "metadata": {},
     "output_type": "execute_result"
    }
   ],
   "source": [
    "#Filling missing data.\n",
    "df1.fillna(value=5)"
   ]
  },
  {
   "cell_type": "code",
   "execution_count": 12,
   "id": "45e71850-6e75-4682-bd75-0e9c077c016f",
   "metadata": {
    "tags": []
   },
   "outputs": [
    {
     "data": {
      "text/html": [
       "<div>\n",
       "<style scoped>\n",
       "    .dataframe tbody tr th:only-of-type {\n",
       "        vertical-align: middle;\n",
       "    }\n",
       "\n",
       "    .dataframe tbody tr th {\n",
       "        vertical-align: top;\n",
       "    }\n",
       "\n",
       "    .dataframe thead th {\n",
       "        text-align: right;\n",
       "    }\n",
       "</style>\n",
       "<table border=\"1\" class=\"dataframe\">\n",
       "  <thead>\n",
       "    <tr style=\"text-align: right;\">\n",
       "      <th></th>\n",
       "      <th>P</th>\n",
       "      <th>Q</th>\n",
       "      <th>R</th>\n",
       "      <th>S</th>\n",
       "      <th>E</th>\n",
       "    </tr>\n",
       "  </thead>\n",
       "  <tbody>\n",
       "    <tr>\n",
       "      <th>2023-08-22</th>\n",
       "      <td>False</td>\n",
       "      <td>False</td>\n",
       "      <td>False</td>\n",
       "      <td>False</td>\n",
       "      <td>False</td>\n",
       "    </tr>\n",
       "    <tr>\n",
       "      <th>2023-08-23</th>\n",
       "      <td>False</td>\n",
       "      <td>False</td>\n",
       "      <td>False</td>\n",
       "      <td>False</td>\n",
       "      <td>False</td>\n",
       "    </tr>\n",
       "    <tr>\n",
       "      <th>2023-08-24</th>\n",
       "      <td>False</td>\n",
       "      <td>False</td>\n",
       "      <td>False</td>\n",
       "      <td>False</td>\n",
       "      <td>True</td>\n",
       "    </tr>\n",
       "    <tr>\n",
       "      <th>2023-08-25</th>\n",
       "      <td>False</td>\n",
       "      <td>False</td>\n",
       "      <td>False</td>\n",
       "      <td>False</td>\n",
       "      <td>True</td>\n",
       "    </tr>\n",
       "  </tbody>\n",
       "</table>\n",
       "</div>"
      ],
      "text/plain": [
       "                P      Q      R      S      E\n",
       "2023-08-22  False  False  False  False  False\n",
       "2023-08-23  False  False  False  False  False\n",
       "2023-08-24  False  False  False  False   True\n",
       "2023-08-25  False  False  False  False   True"
      ]
     },
     "execution_count": 12,
     "metadata": {},
     "output_type": "execute_result"
    }
   ],
   "source": [
    "#To get the boolean mask where values are nan.\n",
    "pd.isna(df1)"
   ]
  },
  {
   "cell_type": "code",
   "execution_count": null,
   "id": "861907b4-b929-41a1-91c6-fa0534d657eb",
   "metadata": {},
   "outputs": [],
   "source": []
  }
 ],
 "metadata": {
  "kernelspec": {
   "display_name": "Python 3 (ipykernel)",
   "language": "python",
   "name": "python3"
  },
  "language_info": {
   "codemirror_mode": {
    "name": "ipython",
    "version": 3
   },
   "file_extension": ".py",
   "mimetype": "text/x-python",
   "name": "python",
   "nbconvert_exporter": "python",
   "pygments_lexer": "ipython3",
   "version": "3.11.3"
  }
 },
 "nbformat": 4,
 "nbformat_minor": 5
}
