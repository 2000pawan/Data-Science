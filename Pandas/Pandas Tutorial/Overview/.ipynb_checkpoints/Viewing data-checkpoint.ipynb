{
 "cells": [
  {
   "cell_type": "code",
   "execution_count": 1,
   "id": "da0469c4-0820-4a86-bad5-af548a566c09",
   "metadata": {},
   "outputs": [],
   "source": [
    "import numpy as np\n",
    "import pandas as pd"
   ]
  },
  {
   "cell_type": "code",
   "execution_count": 2,
   "id": "47489a07-21c3-4b71-b99e-cc4675f37274",
   "metadata": {
    "tags": []
   },
   "outputs": [],
   "source": [
    "dates=pd.date_range('20190101',periods=8)"
   ]
  },
  {
   "cell_type": "code",
   "execution_count": 3,
   "id": "7664710f-b4c6-48ef-bc21-9b2b3801eee3",
   "metadata": {
    "tags": []
   },
   "outputs": [],
   "source": [
    "df=pd.DataFrame(np.random.randn(8,4),index=dates,columns=list('PQRS'))"
   ]
  },
  {
   "cell_type": "code",
   "execution_count": 4,
   "id": "2f796558-1fae-49d9-aaff-9f0a5daa24d7",
   "metadata": {
    "tags": []
   },
   "outputs": [
    {
     "data": {
      "text/html": [
       "<div>\n",
       "<style scoped>\n",
       "    .dataframe tbody tr th:only-of-type {\n",
       "        vertical-align: middle;\n",
       "    }\n",
       "\n",
       "    .dataframe tbody tr th {\n",
       "        vertical-align: top;\n",
       "    }\n",
       "\n",
       "    .dataframe thead th {\n",
       "        text-align: right;\n",
       "    }\n",
       "</style>\n",
       "<table border=\"1\" class=\"dataframe\">\n",
       "  <thead>\n",
       "    <tr style=\"text-align: right;\">\n",
       "      <th></th>\n",
       "      <th>P</th>\n",
       "      <th>Q</th>\n",
       "      <th>R</th>\n",
       "      <th>S</th>\n",
       "    </tr>\n",
       "  </thead>\n",
       "  <tbody>\n",
       "    <tr>\n",
       "      <th>2019-01-01</th>\n",
       "      <td>0.733566</td>\n",
       "      <td>-2.248420</td>\n",
       "      <td>0.130785</td>\n",
       "      <td>-1.301541</td>\n",
       "    </tr>\n",
       "    <tr>\n",
       "      <th>2019-01-02</th>\n",
       "      <td>1.266971</td>\n",
       "      <td>-1.981246</td>\n",
       "      <td>0.755334</td>\n",
       "      <td>-1.551265</td>\n",
       "    </tr>\n",
       "    <tr>\n",
       "      <th>2019-01-03</th>\n",
       "      <td>-0.232942</td>\n",
       "      <td>0.713778</td>\n",
       "      <td>0.484933</td>\n",
       "      <td>-0.279306</td>\n",
       "    </tr>\n",
       "    <tr>\n",
       "      <th>2019-01-04</th>\n",
       "      <td>0.398668</td>\n",
       "      <td>0.442176</td>\n",
       "      <td>-1.523725</td>\n",
       "      <td>0.740353</td>\n",
       "    </tr>\n",
       "    <tr>\n",
       "      <th>2019-01-05</th>\n",
       "      <td>0.589238</td>\n",
       "      <td>2.006252</td>\n",
       "      <td>1.055060</td>\n",
       "      <td>1.450139</td>\n",
       "    </tr>\n",
       "  </tbody>\n",
       "</table>\n",
       "</div>"
      ],
      "text/plain": [
       "                   P         Q         R         S\n",
       "2019-01-01  0.733566 -2.248420  0.130785 -1.301541\n",
       "2019-01-02  1.266971 -1.981246  0.755334 -1.551265\n",
       "2019-01-03 -0.232942  0.713778  0.484933 -0.279306\n",
       "2019-01-04  0.398668  0.442176 -1.523725  0.740353\n",
       "2019-01-05  0.589238  2.006252  1.055060  1.450139"
      ]
     },
     "execution_count": 4,
     "metadata": {},
     "output_type": "execute_result"
    }
   ],
   "source": [
    "df.head()"
   ]
  },
  {
   "cell_type": "code",
   "execution_count": 5,
   "id": "5ba104d2-e180-4e1b-9e03-a4fcf1df0b7b",
   "metadata": {
    "tags": []
   },
   "outputs": [
    {
     "data": {
      "text/html": [
       "<div>\n",
       "<style scoped>\n",
       "    .dataframe tbody tr th:only-of-type {\n",
       "        vertical-align: middle;\n",
       "    }\n",
       "\n",
       "    .dataframe tbody tr th {\n",
       "        vertical-align: top;\n",
       "    }\n",
       "\n",
       "    .dataframe thead th {\n",
       "        text-align: right;\n",
       "    }\n",
       "</style>\n",
       "<table border=\"1\" class=\"dataframe\">\n",
       "  <thead>\n",
       "    <tr style=\"text-align: right;\">\n",
       "      <th></th>\n",
       "      <th>P</th>\n",
       "      <th>Q</th>\n",
       "      <th>R</th>\n",
       "      <th>S</th>\n",
       "    </tr>\n",
       "  </thead>\n",
       "  <tbody>\n",
       "    <tr>\n",
       "      <th>2019-01-04</th>\n",
       "      <td>0.398668</td>\n",
       "      <td>0.442176</td>\n",
       "      <td>-1.523725</td>\n",
       "      <td>0.740353</td>\n",
       "    </tr>\n",
       "    <tr>\n",
       "      <th>2019-01-05</th>\n",
       "      <td>0.589238</td>\n",
       "      <td>2.006252</td>\n",
       "      <td>1.055060</td>\n",
       "      <td>1.450139</td>\n",
       "    </tr>\n",
       "    <tr>\n",
       "      <th>2019-01-06</th>\n",
       "      <td>0.767119</td>\n",
       "      <td>-0.301611</td>\n",
       "      <td>-0.292066</td>\n",
       "      <td>2.036304</td>\n",
       "    </tr>\n",
       "    <tr>\n",
       "      <th>2019-01-07</th>\n",
       "      <td>1.249468</td>\n",
       "      <td>-0.266751</td>\n",
       "      <td>1.149631</td>\n",
       "      <td>-0.630358</td>\n",
       "    </tr>\n",
       "    <tr>\n",
       "      <th>2019-01-08</th>\n",
       "      <td>-0.570754</td>\n",
       "      <td>1.600396</td>\n",
       "      <td>-1.212386</td>\n",
       "      <td>-0.534906</td>\n",
       "    </tr>\n",
       "  </tbody>\n",
       "</table>\n",
       "</div>"
      ],
      "text/plain": [
       "                   P         Q         R         S\n",
       "2019-01-04  0.398668  0.442176 -1.523725  0.740353\n",
       "2019-01-05  0.589238  2.006252  1.055060  1.450139\n",
       "2019-01-06  0.767119 -0.301611 -0.292066  2.036304\n",
       "2019-01-07  1.249468 -0.266751  1.149631 -0.630358\n",
       "2019-01-08 -0.570754  1.600396 -1.212386 -0.534906"
      ]
     },
     "execution_count": 5,
     "metadata": {},
     "output_type": "execute_result"
    }
   ],
   "source": [
    "df.tail()"
   ]
  },
  {
   "cell_type": "code",
   "execution_count": 6,
   "id": "a57c61b7-8cc3-49fe-9a4c-aaf31e70adf9",
   "metadata": {
    "tags": []
   },
   "outputs": [
    {
     "data": {
      "text/html": [
       "<div>\n",
       "<style scoped>\n",
       "    .dataframe tbody tr th:only-of-type {\n",
       "        vertical-align: middle;\n",
       "    }\n",
       "\n",
       "    .dataframe tbody tr th {\n",
       "        vertical-align: top;\n",
       "    }\n",
       "\n",
       "    .dataframe thead th {\n",
       "        text-align: right;\n",
       "    }\n",
       "</style>\n",
       "<table border=\"1\" class=\"dataframe\">\n",
       "  <thead>\n",
       "    <tr style=\"text-align: right;\">\n",
       "      <th></th>\n",
       "      <th>P</th>\n",
       "      <th>Q</th>\n",
       "      <th>R</th>\n",
       "      <th>S</th>\n",
       "    </tr>\n",
       "  </thead>\n",
       "  <tbody>\n",
       "    <tr>\n",
       "      <th>2019-01-06</th>\n",
       "      <td>0.767119</td>\n",
       "      <td>-0.301611</td>\n",
       "      <td>-0.292066</td>\n",
       "      <td>2.036304</td>\n",
       "    </tr>\n",
       "    <tr>\n",
       "      <th>2019-01-07</th>\n",
       "      <td>1.249468</td>\n",
       "      <td>-0.266751</td>\n",
       "      <td>1.149631</td>\n",
       "      <td>-0.630358</td>\n",
       "    </tr>\n",
       "    <tr>\n",
       "      <th>2019-01-08</th>\n",
       "      <td>-0.570754</td>\n",
       "      <td>1.600396</td>\n",
       "      <td>-1.212386</td>\n",
       "      <td>-0.534906</td>\n",
       "    </tr>\n",
       "  </tbody>\n",
       "</table>\n",
       "</div>"
      ],
      "text/plain": [
       "                   P         Q         R         S\n",
       "2019-01-06  0.767119 -0.301611 -0.292066  2.036304\n",
       "2019-01-07  1.249468 -0.266751  1.149631 -0.630358\n",
       "2019-01-08 -0.570754  1.600396 -1.212386 -0.534906"
      ]
     },
     "execution_count": 6,
     "metadata": {},
     "output_type": "execute_result"
    }
   ],
   "source": [
    "df.tail(3)"
   ]
  },
  {
   "cell_type": "code",
   "execution_count": 7,
   "id": "54db016f-1815-4acb-bd08-ae6493d4553b",
   "metadata": {
    "tags": []
   },
   "outputs": [
    {
     "data": {
      "text/plain": [
       "DatetimeIndex(['2019-01-01', '2019-01-02', '2019-01-03', '2019-01-04',\n",
       "               '2019-01-05', '2019-01-06', '2019-01-07', '2019-01-08'],\n",
       "              dtype='datetime64[ns]', freq='D')"
      ]
     },
     "execution_count": 7,
     "metadata": {},
     "output_type": "execute_result"
    }
   ],
   "source": [
    "df.index"
   ]
  },
  {
   "cell_type": "code",
   "execution_count": 8,
   "id": "3cd50ea7-c475-4496-9176-fd34eeb7c103",
   "metadata": {
    "tags": []
   },
   "outputs": [
    {
     "data": {
      "text/plain": [
       "Index(['P', 'Q', 'R', 'S'], dtype='object')"
      ]
     },
     "execution_count": 8,
     "metadata": {},
     "output_type": "execute_result"
    }
   ],
   "source": [
    "df.columns"
   ]
  },
  {
   "cell_type": "code",
   "execution_count": 9,
   "id": "73043b1d-87b0-4234-b180-3003633d8512",
   "metadata": {
    "tags": []
   },
   "outputs": [
    {
     "data": {
      "text/plain": [
       "array([[ 0.7335661 , -2.24841998,  0.13078522, -1.30154088],\n",
       "       [ 1.26697101, -1.98124631,  0.75533443, -1.5512648 ],\n",
       "       [-0.2329422 ,  0.71377785,  0.48493297, -0.27930591],\n",
       "       [ 0.39866845,  0.44217588, -1.52372524,  0.74035297],\n",
       "       [ 0.58923816,  2.00625176,  1.05506029,  1.45013936],\n",
       "       [ 0.7671191 , -0.3016109 , -0.29206553,  2.03630442],\n",
       "       [ 1.24946795, -0.26675105,  1.14963079, -0.63035811],\n",
       "       [-0.57075396,  1.60039607, -1.21238572, -0.53490551]])"
      ]
     },
     "execution_count": 9,
     "metadata": {},
     "output_type": "execute_result"
    }
   ],
   "source": [
    "df.to_numpy()"
   ]
  },
  {
   "cell_type": "code",
   "execution_count": 12,
   "id": "76ec2aa8-8560-4e06-8c18-e4604512adc1",
   "metadata": {
    "tags": []
   },
   "outputs": [
    {
     "data": {
      "text/html": [
       "<div>\n",
       "<style scoped>\n",
       "    .dataframe tbody tr th:only-of-type {\n",
       "        vertical-align: middle;\n",
       "    }\n",
       "\n",
       "    .dataframe tbody tr th {\n",
       "        vertical-align: top;\n",
       "    }\n",
       "\n",
       "    .dataframe thead th {\n",
       "        text-align: right;\n",
       "    }\n",
       "</style>\n",
       "<table border=\"1\" class=\"dataframe\">\n",
       "  <thead>\n",
       "    <tr style=\"text-align: right;\">\n",
       "      <th></th>\n",
       "      <th>A</th>\n",
       "      <th>B</th>\n",
       "      <th>C</th>\n",
       "      <th>D</th>\n",
       "      <th>E</th>\n",
       "      <th>F</th>\n",
       "    </tr>\n",
       "  </thead>\n",
       "  <tbody>\n",
       "    <tr>\n",
       "      <th>0</th>\n",
       "      <td>1.0</td>\n",
       "      <td>2019-01-02</td>\n",
       "      <td>1.0</td>\n",
       "      <td>3</td>\n",
       "      <td>test</td>\n",
       "      <td>foo</td>\n",
       "    </tr>\n",
       "    <tr>\n",
       "      <th>1</th>\n",
       "      <td>1.0</td>\n",
       "      <td>2019-01-02</td>\n",
       "      <td>1.0</td>\n",
       "      <td>3</td>\n",
       "      <td>train</td>\n",
       "      <td>foo</td>\n",
       "    </tr>\n",
       "    <tr>\n",
       "      <th>2</th>\n",
       "      <td>1.0</td>\n",
       "      <td>2019-01-02</td>\n",
       "      <td>1.0</td>\n",
       "      <td>3</td>\n",
       "      <td>test</td>\n",
       "      <td>foo</td>\n",
       "    </tr>\n",
       "    <tr>\n",
       "      <th>3</th>\n",
       "      <td>1.0</td>\n",
       "      <td>2019-01-02</td>\n",
       "      <td>1.0</td>\n",
       "      <td>3</td>\n",
       "      <td>train</td>\n",
       "      <td>foo</td>\n",
       "    </tr>\n",
       "  </tbody>\n",
       "</table>\n",
       "</div>"
      ],
      "text/plain": [
       "     A          B    C  D      E    F\n",
       "0  1.0 2019-01-02  1.0  3   test  foo\n",
       "1  1.0 2019-01-02  1.0  3  train  foo\n",
       "2  1.0 2019-01-02  1.0  3   test  foo\n",
       "3  1.0 2019-01-02  1.0  3  train  foo"
      ]
     },
     "execution_count": 12,
     "metadata": {},
     "output_type": "execute_result"
    }
   ],
   "source": [
    "df2=pd.DataFrame({'A': 1.,\n",
    "                        'B': pd.Timestamp('20190102'),\n",
    "                        'C': pd.Series(1, index=list(range(4)), dtype='float32'),\n",
    "                        'D': np.array([3] * 4, dtype='int32'),\n",
    "                        'E': pd.Categorical([\"test\", \"train\", \"test\", \"train\"]),\n",
    "                        'F': 'foo'\n",
    "})\n",
    "df2"
   ]
  },
  {
   "cell_type": "code",
   "execution_count": 27,
   "id": "4cb8bd26-ca6c-41c0-b966-ab99acd5f553",
   "metadata": {
    "tags": []
   },
   "outputs": [
    {
     "data": {
      "text/plain": [
       "array([[1.0, Timestamp('2019-01-02 00:00:00'), 1.0, 3, 'test', 'foo'],\n",
       "       [1.0, Timestamp('2019-01-02 00:00:00'), 1.0, 3, 'train', 'foo'],\n",
       "       [1.0, Timestamp('2019-01-02 00:00:00'), 1.0, 3, 'test', 'foo'],\n",
       "       [1.0, Timestamp('2019-01-02 00:00:00'), 1.0, 3, 'train', 'foo']],\n",
       "      dtype=object)"
      ]
     },
     "execution_count": 27,
     "metadata": {},
     "output_type": "execute_result"
    }
   ],
   "source": [
    "'''Note: DataFrame.to_numpy() does not include the index or column labels in the output.'''\n",
    "(df2.to_numpy())"
   ]
  },
  {
   "cell_type": "code",
   "execution_count": 19,
   "id": "4bfeeeed-852c-40bc-8bbf-4d9514846740",
   "metadata": {
    "tags": []
   },
   "outputs": [
    {
     "data": {
      "text/html": [
       "<div>\n",
       "<style scoped>\n",
       "    .dataframe tbody tr th:only-of-type {\n",
       "        vertical-align: middle;\n",
       "    }\n",
       "\n",
       "    .dataframe tbody tr th {\n",
       "        vertical-align: top;\n",
       "    }\n",
       "\n",
       "    .dataframe thead th {\n",
       "        text-align: right;\n",
       "    }\n",
       "</style>\n",
       "<table border=\"1\" class=\"dataframe\">\n",
       "  <thead>\n",
       "    <tr style=\"text-align: right;\">\n",
       "      <th></th>\n",
       "      <th>P</th>\n",
       "      <th>Q</th>\n",
       "      <th>R</th>\n",
       "      <th>S</th>\n",
       "    </tr>\n",
       "  </thead>\n",
       "  <tbody>\n",
       "    <tr>\n",
       "      <th>count</th>\n",
       "      <td>8.000000</td>\n",
       "      <td>8.000000</td>\n",
       "      <td>8.000000</td>\n",
       "      <td>8.000000</td>\n",
       "    </tr>\n",
       "    <tr>\n",
       "      <th>mean</th>\n",
       "      <td>0.525167</td>\n",
       "      <td>-0.004428</td>\n",
       "      <td>0.068446</td>\n",
       "      <td>-0.008822</td>\n",
       "    </tr>\n",
       "    <tr>\n",
       "      <th>std</th>\n",
       "      <td>0.651672</td>\n",
       "      <td>1.532226</td>\n",
       "      <td>1.006908</td>\n",
       "      <td>1.290562</td>\n",
       "    </tr>\n",
       "    <tr>\n",
       "      <th>min</th>\n",
       "      <td>-0.570754</td>\n",
       "      <td>-2.248420</td>\n",
       "      <td>-1.523725</td>\n",
       "      <td>-1.551265</td>\n",
       "    </tr>\n",
       "    <tr>\n",
       "      <th>25%</th>\n",
       "      <td>0.240766</td>\n",
       "      <td>-0.721520</td>\n",
       "      <td>-0.522146</td>\n",
       "      <td>-0.798154</td>\n",
       "    </tr>\n",
       "    <tr>\n",
       "      <th>50%</th>\n",
       "      <td>0.661402</td>\n",
       "      <td>0.087712</td>\n",
       "      <td>0.307859</td>\n",
       "      <td>-0.407106</td>\n",
       "    </tr>\n",
       "    <tr>\n",
       "      <th>75%</th>\n",
       "      <td>0.887706</td>\n",
       "      <td>0.935432</td>\n",
       "      <td>0.830266</td>\n",
       "      <td>0.917800</td>\n",
       "    </tr>\n",
       "    <tr>\n",
       "      <th>max</th>\n",
       "      <td>1.266971</td>\n",
       "      <td>2.006252</td>\n",
       "      <td>1.149631</td>\n",
       "      <td>2.036304</td>\n",
       "    </tr>\n",
       "  </tbody>\n",
       "</table>\n",
       "</div>"
      ],
      "text/plain": [
       "              P         Q         R         S\n",
       "count  8.000000  8.000000  8.000000  8.000000\n",
       "mean   0.525167 -0.004428  0.068446 -0.008822\n",
       "std    0.651672  1.532226  1.006908  1.290562\n",
       "min   -0.570754 -2.248420 -1.523725 -1.551265\n",
       "25%    0.240766 -0.721520 -0.522146 -0.798154\n",
       "50%    0.661402  0.087712  0.307859 -0.407106\n",
       "75%    0.887706  0.935432  0.830266  0.917800\n",
       "max    1.266971  2.006252  1.149631  2.036304"
      ]
     },
     "execution_count": 19,
     "metadata": {},
     "output_type": "execute_result"
    }
   ],
   "source": [
    "#describe() function shows a quick statistic summary of your data:\n",
    "df.describe()"
   ]
  },
  {
   "cell_type": "code",
   "execution_count": 20,
   "id": "97977524-10ce-46fc-9bec-dee902e5795a",
   "metadata": {
    "tags": []
   },
   "outputs": [
    {
     "data": {
      "text/html": [
       "<div>\n",
       "<style scoped>\n",
       "    .dataframe tbody tr th:only-of-type {\n",
       "        vertical-align: middle;\n",
       "    }\n",
       "\n",
       "    .dataframe tbody tr th {\n",
       "        vertical-align: top;\n",
       "    }\n",
       "\n",
       "    .dataframe thead th {\n",
       "        text-align: right;\n",
       "    }\n",
       "</style>\n",
       "<table border=\"1\" class=\"dataframe\">\n",
       "  <thead>\n",
       "    <tr style=\"text-align: right;\">\n",
       "      <th></th>\n",
       "      <th>2019-01-01</th>\n",
       "      <th>2019-01-02</th>\n",
       "      <th>2019-01-03</th>\n",
       "      <th>2019-01-04</th>\n",
       "      <th>2019-01-05</th>\n",
       "      <th>2019-01-06</th>\n",
       "      <th>2019-01-07</th>\n",
       "      <th>2019-01-08</th>\n",
       "    </tr>\n",
       "  </thead>\n",
       "  <tbody>\n",
       "    <tr>\n",
       "      <th>P</th>\n",
       "      <td>0.733566</td>\n",
       "      <td>1.266971</td>\n",
       "      <td>-0.232942</td>\n",
       "      <td>0.398668</td>\n",
       "      <td>0.589238</td>\n",
       "      <td>0.767119</td>\n",
       "      <td>1.249468</td>\n",
       "      <td>-0.570754</td>\n",
       "    </tr>\n",
       "    <tr>\n",
       "      <th>Q</th>\n",
       "      <td>-2.248420</td>\n",
       "      <td>-1.981246</td>\n",
       "      <td>0.713778</td>\n",
       "      <td>0.442176</td>\n",
       "      <td>2.006252</td>\n",
       "      <td>-0.301611</td>\n",
       "      <td>-0.266751</td>\n",
       "      <td>1.600396</td>\n",
       "    </tr>\n",
       "    <tr>\n",
       "      <th>R</th>\n",
       "      <td>0.130785</td>\n",
       "      <td>0.755334</td>\n",
       "      <td>0.484933</td>\n",
       "      <td>-1.523725</td>\n",
       "      <td>1.055060</td>\n",
       "      <td>-0.292066</td>\n",
       "      <td>1.149631</td>\n",
       "      <td>-1.212386</td>\n",
       "    </tr>\n",
       "    <tr>\n",
       "      <th>S</th>\n",
       "      <td>-1.301541</td>\n",
       "      <td>-1.551265</td>\n",
       "      <td>-0.279306</td>\n",
       "      <td>0.740353</td>\n",
       "      <td>1.450139</td>\n",
       "      <td>2.036304</td>\n",
       "      <td>-0.630358</td>\n",
       "      <td>-0.534906</td>\n",
       "    </tr>\n",
       "  </tbody>\n",
       "</table>\n",
       "</div>"
      ],
      "text/plain": [
       "   2019-01-01  2019-01-02  2019-01-03  2019-01-04  2019-01-05  2019-01-06  \\\n",
       "P    0.733566    1.266971   -0.232942    0.398668    0.589238    0.767119   \n",
       "Q   -2.248420   -1.981246    0.713778    0.442176    2.006252   -0.301611   \n",
       "R    0.130785    0.755334    0.484933   -1.523725    1.055060   -0.292066   \n",
       "S   -1.301541   -1.551265   -0.279306    0.740353    1.450139    2.036304   \n",
       "\n",
       "   2019-01-07  2019-01-08  \n",
       "P    1.249468   -0.570754  \n",
       "Q   -0.266751    1.600396  \n",
       "R    1.149631   -1.212386  \n",
       "S   -0.630358   -0.534906  "
      ]
     },
     "execution_count": 20,
     "metadata": {},
     "output_type": "execute_result"
    }
   ],
   "source": [
    "#Transposing data\n",
    "df.T"
   ]
  },
  {
   "cell_type": "code",
   "execution_count": 21,
   "id": "a8984470-2a02-47d4-b8c2-21927e006e61",
   "metadata": {
    "tags": []
   },
   "outputs": [
    {
     "data": {
      "text/html": [
       "<div>\n",
       "<style scoped>\n",
       "    .dataframe tbody tr th:only-of-type {\n",
       "        vertical-align: middle;\n",
       "    }\n",
       "\n",
       "    .dataframe tbody tr th {\n",
       "        vertical-align: top;\n",
       "    }\n",
       "\n",
       "    .dataframe thead th {\n",
       "        text-align: right;\n",
       "    }\n",
       "</style>\n",
       "<table border=\"1\" class=\"dataframe\">\n",
       "  <thead>\n",
       "    <tr style=\"text-align: right;\">\n",
       "      <th></th>\n",
       "      <th>S</th>\n",
       "      <th>R</th>\n",
       "      <th>Q</th>\n",
       "      <th>P</th>\n",
       "    </tr>\n",
       "  </thead>\n",
       "  <tbody>\n",
       "    <tr>\n",
       "      <th>2019-01-01</th>\n",
       "      <td>-1.301541</td>\n",
       "      <td>0.130785</td>\n",
       "      <td>-2.248420</td>\n",
       "      <td>0.733566</td>\n",
       "    </tr>\n",
       "    <tr>\n",
       "      <th>2019-01-02</th>\n",
       "      <td>-1.551265</td>\n",
       "      <td>0.755334</td>\n",
       "      <td>-1.981246</td>\n",
       "      <td>1.266971</td>\n",
       "    </tr>\n",
       "    <tr>\n",
       "      <th>2019-01-03</th>\n",
       "      <td>-0.279306</td>\n",
       "      <td>0.484933</td>\n",
       "      <td>0.713778</td>\n",
       "      <td>-0.232942</td>\n",
       "    </tr>\n",
       "    <tr>\n",
       "      <th>2019-01-04</th>\n",
       "      <td>0.740353</td>\n",
       "      <td>-1.523725</td>\n",
       "      <td>0.442176</td>\n",
       "      <td>0.398668</td>\n",
       "    </tr>\n",
       "    <tr>\n",
       "      <th>2019-01-05</th>\n",
       "      <td>1.450139</td>\n",
       "      <td>1.055060</td>\n",
       "      <td>2.006252</td>\n",
       "      <td>0.589238</td>\n",
       "    </tr>\n",
       "    <tr>\n",
       "      <th>2019-01-06</th>\n",
       "      <td>2.036304</td>\n",
       "      <td>-0.292066</td>\n",
       "      <td>-0.301611</td>\n",
       "      <td>0.767119</td>\n",
       "    </tr>\n",
       "    <tr>\n",
       "      <th>2019-01-07</th>\n",
       "      <td>-0.630358</td>\n",
       "      <td>1.149631</td>\n",
       "      <td>-0.266751</td>\n",
       "      <td>1.249468</td>\n",
       "    </tr>\n",
       "    <tr>\n",
       "      <th>2019-01-08</th>\n",
       "      <td>-0.534906</td>\n",
       "      <td>-1.212386</td>\n",
       "      <td>1.600396</td>\n",
       "      <td>-0.570754</td>\n",
       "    </tr>\n",
       "  </tbody>\n",
       "</table>\n",
       "</div>"
      ],
      "text/plain": [
       "                   S         R         Q         P\n",
       "2019-01-01 -1.301541  0.130785 -2.248420  0.733566\n",
       "2019-01-02 -1.551265  0.755334 -1.981246  1.266971\n",
       "2019-01-03 -0.279306  0.484933  0.713778 -0.232942\n",
       "2019-01-04  0.740353 -1.523725  0.442176  0.398668\n",
       "2019-01-05  1.450139  1.055060  2.006252  0.589238\n",
       "2019-01-06  2.036304 -0.292066 -0.301611  0.767119\n",
       "2019-01-07 -0.630358  1.149631 -0.266751  1.249468\n",
       "2019-01-08 -0.534906 -1.212386  1.600396 -0.570754"
      ]
     },
     "execution_count": 21,
     "metadata": {},
     "output_type": "execute_result"
    }
   ],
   "source": [
    "#Sorting data by an axis:\n",
    "df.sort_index(axis=1,ascending=False)"
   ]
  },
  {
   "cell_type": "code",
   "execution_count": 23,
   "id": "c7e26e22-5328-4018-a6f2-3e4712140cb3",
   "metadata": {
    "tags": []
   },
   "outputs": [
    {
     "data": {
      "text/html": [
       "<div>\n",
       "<style scoped>\n",
       "    .dataframe tbody tr th:only-of-type {\n",
       "        vertical-align: middle;\n",
       "    }\n",
       "\n",
       "    .dataframe tbody tr th {\n",
       "        vertical-align: top;\n",
       "    }\n",
       "\n",
       "    .dataframe thead th {\n",
       "        text-align: right;\n",
       "    }\n",
       "</style>\n",
       "<table border=\"1\" class=\"dataframe\">\n",
       "  <thead>\n",
       "    <tr style=\"text-align: right;\">\n",
       "      <th></th>\n",
       "      <th>P</th>\n",
       "      <th>Q</th>\n",
       "      <th>R</th>\n",
       "      <th>S</th>\n",
       "    </tr>\n",
       "  </thead>\n",
       "  <tbody>\n",
       "    <tr>\n",
       "      <th>2019-01-01</th>\n",
       "      <td>0.733566</td>\n",
       "      <td>-2.248420</td>\n",
       "      <td>0.130785</td>\n",
       "      <td>-1.301541</td>\n",
       "    </tr>\n",
       "    <tr>\n",
       "      <th>2019-01-02</th>\n",
       "      <td>1.266971</td>\n",
       "      <td>-1.981246</td>\n",
       "      <td>0.755334</td>\n",
       "      <td>-1.551265</td>\n",
       "    </tr>\n",
       "    <tr>\n",
       "      <th>2019-01-06</th>\n",
       "      <td>0.767119</td>\n",
       "      <td>-0.301611</td>\n",
       "      <td>-0.292066</td>\n",
       "      <td>2.036304</td>\n",
       "    </tr>\n",
       "    <tr>\n",
       "      <th>2019-01-07</th>\n",
       "      <td>1.249468</td>\n",
       "      <td>-0.266751</td>\n",
       "      <td>1.149631</td>\n",
       "      <td>-0.630358</td>\n",
       "    </tr>\n",
       "    <tr>\n",
       "      <th>2019-01-04</th>\n",
       "      <td>0.398668</td>\n",
       "      <td>0.442176</td>\n",
       "      <td>-1.523725</td>\n",
       "      <td>0.740353</td>\n",
       "    </tr>\n",
       "    <tr>\n",
       "      <th>2019-01-03</th>\n",
       "      <td>-0.232942</td>\n",
       "      <td>0.713778</td>\n",
       "      <td>0.484933</td>\n",
       "      <td>-0.279306</td>\n",
       "    </tr>\n",
       "    <tr>\n",
       "      <th>2019-01-08</th>\n",
       "      <td>-0.570754</td>\n",
       "      <td>1.600396</td>\n",
       "      <td>-1.212386</td>\n",
       "      <td>-0.534906</td>\n",
       "    </tr>\n",
       "    <tr>\n",
       "      <th>2019-01-05</th>\n",
       "      <td>0.589238</td>\n",
       "      <td>2.006252</td>\n",
       "      <td>1.055060</td>\n",
       "      <td>1.450139</td>\n",
       "    </tr>\n",
       "  </tbody>\n",
       "</table>\n",
       "</div>"
      ],
      "text/plain": [
       "                   P         Q         R         S\n",
       "2019-01-01  0.733566 -2.248420  0.130785 -1.301541\n",
       "2019-01-02  1.266971 -1.981246  0.755334 -1.551265\n",
       "2019-01-06  0.767119 -0.301611 -0.292066  2.036304\n",
       "2019-01-07  1.249468 -0.266751  1.149631 -0.630358\n",
       "2019-01-04  0.398668  0.442176 -1.523725  0.740353\n",
       "2019-01-03 -0.232942  0.713778  0.484933 -0.279306\n",
       "2019-01-08 -0.570754  1.600396 -1.212386 -0.534906\n",
       "2019-01-05  0.589238  2.006252  1.055060  1.450139"
      ]
     },
     "execution_count": 23,
     "metadata": {},
     "output_type": "execute_result"
    }
   ],
   "source": [
    "#Sorting data by values:\n",
    "df.sort_values(by=\"Q\")"
   ]
  },
  {
   "cell_type": "code",
   "execution_count": null,
   "id": "42ecb2ed-1dc2-4cde-9f8b-cb61526558f5",
   "metadata": {},
   "outputs": [],
   "source": []
  }
 ],
 "metadata": {
  "kernelspec": {
   "display_name": "Python 3 (ipykernel)",
   "language": "python",
   "name": "python3"
  },
  "language_info": {
   "codemirror_mode": {
    "name": "ipython",
    "version": 3
   },
   "file_extension": ".py",
   "mimetype": "text/x-python",
   "name": "python",
   "nbconvert_exporter": "python",
   "pygments_lexer": "ipython3",
   "version": "3.11.3"
  }
 },
 "nbformat": 4,
 "nbformat_minor": 5
}
