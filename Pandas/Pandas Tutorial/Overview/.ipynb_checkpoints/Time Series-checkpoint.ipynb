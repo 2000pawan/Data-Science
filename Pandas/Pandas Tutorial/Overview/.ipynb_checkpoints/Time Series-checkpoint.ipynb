{
 "cells": [
  {
   "cell_type": "markdown",
   "id": "8420fd46-592f-4dd4-8a93-fdb6c6c2af3d",
   "metadata": {},
   "source": [
    "Series is a one-dimensional labeled array capable of holding any data type (integers, strings, floating point numbers, Python objects, etc.). The axis labels are collectively referred to as the index."
   ]
  },
  {
   "cell_type": "code",
   "execution_count": 1,
   "id": "d44e0c7a-f62f-4b99-a824-ab0cd6223aeb",
   "metadata": {
    "tags": []
   },
   "outputs": [],
   "source": [
    "#Time Series\n",
    "import numpy as np\n",
    "import pandas as  pd"
   ]
  },
  {
   "cell_type": "code",
   "execution_count": 2,
   "id": "c6feb6cc-6a7d-4dbc-8999-7e51c53cd3cc",
   "metadata": {
    "tags": []
   },
   "outputs": [
    {
     "data": {
      "text/plain": [
       "2019-01-01    30010\n",
       "Freq: 5T, dtype: int32"
      ]
     },
     "execution_count": 2,
     "metadata": {},
     "output_type": "execute_result"
    }
   ],
   "source": [
    "rng = pd.date_range('1/1/2019', periods=100, freq='S')\n",
    "ts = pd.Series(np.random.randint(0, 600, len(rng)), index=rng)\n",
    "ts.resample('5Min').sum()"
   ]
  },
  {
   "cell_type": "code",
   "execution_count": 3,
   "id": "421510fe-ebec-4d03-ac1a-6851a2f28400",
   "metadata": {
    "tags": []
   },
   "outputs": [
    {
     "data": {
      "text/plain": [
       "2019-04-06    0.217107\n",
       "2019-04-07    1.926470\n",
       "2019-04-08    0.781774\n",
       "2019-04-09   -0.100241\n",
       "2019-04-10    0.278585\n",
       "Freq: D, dtype: float64"
      ]
     },
     "execution_count": 3,
     "metadata": {},
     "output_type": "execute_result"
    }
   ],
   "source": [
    "#Time zone representation:\n",
    "rng = pd.date_range('4/6/2019 00:00', periods=5, freq='D')\n",
    "ts = pd.Series(np.random.randn(len(rng)), rng)\n",
    "ts"
   ]
  },
  {
   "cell_type": "code",
   "execution_count": 4,
   "id": "dfa6605e-d20d-4049-9fec-f895f4b21dbb",
   "metadata": {
    "tags": []
   },
   "outputs": [
    {
     "data": {
      "text/plain": [
       "2019-04-06 00:00:00+00:00    0.217107\n",
       "2019-04-07 00:00:00+00:00    1.926470\n",
       "2019-04-08 00:00:00+00:00    0.781774\n",
       "2019-04-09 00:00:00+00:00   -0.100241\n",
       "2019-04-10 00:00:00+00:00    0.278585\n",
       "Freq: D, dtype: float64"
      ]
     },
     "execution_count": 4,
     "metadata": {},
     "output_type": "execute_result"
    }
   ],
   "source": [
    "ts_utc = ts.tz_localize('UTC')\n",
    "ts_utc"
   ]
  },
  {
   "cell_type": "code",
   "execution_count": 5,
   "id": "91d50c01-abc9-4c8e-879f-271e3ee90b59",
   "metadata": {
    "tags": []
   },
   "outputs": [
    {
     "data": {
      "text/plain": [
       "2019-04-05 20:00:00-04:00    0.217107\n",
       "2019-04-06 20:00:00-04:00    1.926470\n",
       "2019-04-07 20:00:00-04:00    0.781774\n",
       "2019-04-08 20:00:00-04:00   -0.100241\n",
       "2019-04-09 20:00:00-04:00    0.278585\n",
       "Freq: D, dtype: float64"
      ]
     },
     "execution_count": 5,
     "metadata": {},
     "output_type": "execute_result"
    }
   ],
   "source": [
    "#Converting to another time zone:\n",
    "ts_utc.tz_convert('US/Eastern')"
   ]
  },
  {
   "cell_type": "code",
   "execution_count": 6,
   "id": "bc6e41ff-c589-48e4-8d33-2dd5c51adf88",
   "metadata": {
    "tags": []
   },
   "outputs": [
    {
     "data": {
      "text/plain": [
       "2019-01-31   -0.683712\n",
       "2019-02-28    0.847553\n",
       "2019-03-31    1.139813\n",
       "2019-04-30    0.144552\n",
       "2019-05-31   -0.732718\n",
       "2019-06-30    1.314351\n",
       "Freq: M, dtype: float64"
      ]
     },
     "execution_count": 6,
     "metadata": {},
     "output_type": "execute_result"
    }
   ],
   "source": [
    "#Converting between time span representations:\n",
    "rng = pd.date_range('1/1/2019', periods=6, freq='M')\n",
    "ts = pd.Series(np.random.randn(len(rng)), index=rng)\n",
    "ts"
   ]
  },
  {
   "cell_type": "code",
   "execution_count": 7,
   "id": "d65af40a-97ac-4f80-94b6-6946f84061ed",
   "metadata": {
    "tags": []
   },
   "outputs": [
    {
     "data": {
      "text/plain": [
       "2019-01   -0.683712\n",
       "2019-02    0.847553\n",
       "2019-03    1.139813\n",
       "2019-04    0.144552\n",
       "2019-05   -0.732718\n",
       "2019-06    1.314351\n",
       "Freq: M, dtype: float64"
      ]
     },
     "execution_count": 7,
     "metadata": {},
     "output_type": "execute_result"
    }
   ],
   "source": [
    "ps = ts.to_period()\n",
    "ps"
   ]
  },
  {
   "cell_type": "code",
   "execution_count": 8,
   "id": "afdb1c80-e231-4f63-b614-554f28761569",
   "metadata": {
    "tags": []
   },
   "outputs": [
    {
     "data": {
      "text/plain": [
       "2019-01-01   -0.683712\n",
       "2019-02-01    0.847553\n",
       "2019-03-01    1.139813\n",
       "2019-04-01    0.144552\n",
       "2019-05-01   -0.732718\n",
       "2019-06-01    1.314351\n",
       "Freq: MS, dtype: float64"
      ]
     },
     "execution_count": 8,
     "metadata": {},
     "output_type": "execute_result"
    }
   ],
   "source": [
    "ps.to_timestamp()"
   ]
  },
  {
   "cell_type": "markdown",
   "id": "48012d31-47de-4b11-b85c-7db19933b556",
   "metadata": {},
   "source": [
    "Converting between period and timestamp:\n",
    "In the following example, we convert a quarterly frequency with year ending in June to 10am of\n",
    "the end of the month following the quarter end:"
   ]
  },
  {
   "cell_type": "code",
   "execution_count": 9,
   "id": "d4027428-df0f-400a-8e66-93e129f2b30c",
   "metadata": {
    "tags": []
   },
   "outputs": [
    {
     "data": {
      "text/plain": [
       "2018-04-01 09:00   -0.225220\n",
       "2018-07-01 09:00   -0.682742\n",
       "2018-10-01 09:00    1.672020\n",
       "2019-01-01 09:00    0.467159\n",
       "2019-04-01 09:00   -0.413797\n",
       "Freq: H, dtype: float64"
      ]
     },
     "execution_count": 9,
     "metadata": {},
     "output_type": "execute_result"
    }
   ],
   "source": [
    "prng = pd.period_range('2018', '2019Q4', freq='Q-JUN')\n",
    "ts = pd.Series(np.random.randn(len(prng)), prng)\n",
    "ts.index = (prng.asfreq('M', 'e') + 1).asfreq('H', 's') + 9\n",
    "ts.head()"
   ]
  },
  {
   "cell_type": "code",
   "execution_count": null,
   "id": "2f3cbc07-a903-49a7-ab7e-997843888797",
   "metadata": {},
   "outputs": [],
   "source": []
  }
 ],
 "metadata": {
  "kernelspec": {
   "display_name": "Python 3 (ipykernel)",
   "language": "python",
   "name": "python3"
  },
  "language_info": {
   "codemirror_mode": {
    "name": "ipython",
    "version": 3
   },
   "file_extension": ".py",
   "mimetype": "text/x-python",
   "name": "python",
   "nbconvert_exporter": "python",
   "pygments_lexer": "ipython3",
   "version": "3.11.3"
  }
 },
 "nbformat": 4,
 "nbformat_minor": 5
}
