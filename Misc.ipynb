{
 "cells": [
  {
   "cell_type": "code",
   "execution_count": 6,
   "id": "ad01a575-e6b7-4f3c-8a26-41e18cc170a4",
   "metadata": {
    "tags": []
   },
   "outputs": [],
   "source": [
    "from math import sqrt\n",
    "def test(n):\n",
    "        x = sqrt(n * (n + 1) / 2)\n",
    "        \n",
    "        if x % 1 != 0:\n",
    "            return -1\n",
    "        else:\n",
    "            return int(x)"
   ]
  },
  {
   "cell_type": "code",
   "execution_count": 9,
   "id": "7c402020-e533-471b-9251-78a3daa88a79",
   "metadata": {
    "tags": []
   },
   "outputs": [
    {
     "name": "stdout",
     "output_type": "stream",
     "text": [
      "-1\n"
     ]
    }
   ],
   "source": [
    "print(test(4))"
   ]
  },
  {
   "cell_type": "code",
   "execution_count": 10,
   "id": "5adebadf-c1d9-4ccd-a275-e95681f08f01",
   "metadata": {
    "tags": []
   },
   "outputs": [
    {
     "data": {
      "text/plain": [
       "6.0"
      ]
     },
     "execution_count": 10,
     "metadata": {},
     "output_type": "execute_result"
    }
   ],
   "source": [
    "n=8\n",
    "x = sqrt(n * (n + 1) / 2)\n",
    "x"
   ]
  },
  {
   "cell_type": "code",
   "execution_count": 11,
   "id": "04e0fbf2-ac8c-46a7-afa4-1a56ca469fed",
   "metadata": {
    "tags": []
   },
   "outputs": [
    {
     "data": {
      "text/plain": [
       "4.5"
      ]
     },
     "execution_count": 11,
     "metadata": {},
     "output_type": "execute_result"
    }
   ],
   "source": [
    "9/2"
   ]
  },
  {
   "cell_type": "code",
   "execution_count": 1,
   "id": "0248b02f-0023-4670-adda-227af8d80e06",
   "metadata": {},
   "outputs": [
    {
     "data": {
      "text/plain": [
       "'Pawan'"
      ]
     },
     "execution_count": 1,
     "metadata": {},
     "output_type": "execute_result"
    }
   ],
   "source": [
    "x='pawan'\n",
    "x.capitalize()"
   ]
  },
  {
   "cell_type": "code",
   "execution_count": 2,
   "id": "8f719559-b62f-4ea6-8156-5906d1772539",
   "metadata": {},
   "outputs": [],
   "source": [
    "import pandas as pd\n"
   ]
  },
  {
   "cell_type": "code",
   "execution_count": 21,
   "id": "1b0df681-7482-447c-9e9f-584659999ae2",
   "metadata": {},
   "outputs": [
    {
     "name": "stdout",
     "output_type": "stream",
     "text": [
      "['Maize' 'Potatoes' 'Rice, paddy' 'Sorghum' 'Soybeans' 'Wheat' 'Cassava'\n",
      " 'Sweet potatoes' 'Plantains and others' 'Yams']\n",
      "['Albania' 'Algeria' 'Angola' 'Argentina' 'Armenia' 'Australia' 'Austria'\n",
      " 'Azerbaijan' 'Bahamas' 'Bahrain' 'Bangladesh' 'Belarus' 'Belgium'\n",
      " 'Botswana' 'Brazil' 'Bulgaria' 'Burkina Faso' 'Burundi' 'Cameroon'\n",
      " 'Canada' 'Central African Republic' 'Chile' 'Colombia' 'Croatia'\n",
      " 'Denmark' 'Dominican Republic' 'Ecuador' 'Egypt' 'El Salvador' 'Eritrea'\n",
      " 'Estonia' 'Finland' 'France' 'Germany' 'Ghana' 'Greece' 'Guatemala'\n",
      " 'Guinea' 'Guyana' 'Haiti' 'Honduras' 'Hungary' 'India' 'Indonesia' 'Iraq'\n",
      " 'Ireland' 'Italy' 'Jamaica' 'Japan' 'Kazakhstan' 'Kenya' 'Latvia'\n",
      " 'Lebanon' 'Lesotho' 'Libya' 'Lithuania' 'Madagascar' 'Malawi' 'Malaysia'\n",
      " 'Mali' 'Mauritania' 'Mauritius' 'Mexico' 'Montenegro' 'Morocco'\n",
      " 'Mozambique' 'Namibia' 'Nepal' 'Netherlands' 'New Zealand' 'Nicaragua'\n",
      " 'Niger' 'Norway' 'Pakistan' 'Papua New Guinea' 'Peru' 'Poland' 'Portugal'\n",
      " 'Qatar' 'Romania' 'Rwanda' 'Saudi Arabia' 'Senegal' 'Slovenia'\n",
      " 'South Africa' 'Spain' 'Sri Lanka' 'Sudan' 'Suriname' 'Sweden'\n",
      " 'Switzerland' 'Tajikistan' 'Thailand' 'Tunisia' 'Turkey' 'Uganda'\n",
      " 'Ukraine' 'United Kingdom' 'Uruguay' 'Zambia' 'Zimbabwe']\n"
     ]
    }
   ],
   "source": [
    "df=pd.read_csv('G:/Coding/Git Uploads/Project/Crop Predictions/main.csv')\n",
    "print((df['item'].unique()))\n",
    "y=df['area'].unique()\n",
    "# type(x\n",
    "print(y)"
   ]
  },
  {
   "cell_type": "code",
   "execution_count": 23,
   "id": "5b0f6f8f-b8de-4ae8-93a9-65af5f0ee42f",
   "metadata": {},
   "outputs": [
    {
     "data": {
      "text/html": [
       "<div>\n",
       "<style scoped>\n",
       "    .dataframe tbody tr th:only-of-type {\n",
       "        vertical-align: middle;\n",
       "    }\n",
       "\n",
       "    .dataframe tbody tr th {\n",
       "        vertical-align: top;\n",
       "    }\n",
       "\n",
       "    .dataframe thead th {\n",
       "        text-align: right;\n",
       "    }\n",
       "</style>\n",
       "<table border=\"1\" class=\"dataframe\">\n",
       "  <thead>\n",
       "    <tr style=\"text-align: right;\">\n",
       "      <th></th>\n",
       "      <th>average_rainfall</th>\n",
       "      <th>presticides_tonnes</th>\n",
       "      <th>avg_temp</th>\n",
       "      <th>Country_Albania</th>\n",
       "      <th>Country_Algeria</th>\n",
       "      <th>Country_Angola</th>\n",
       "      <th>Country_Argentina</th>\n",
       "      <th>Country_Armenia</th>\n",
       "      <th>Country_Australia</th>\n",
       "      <th>Country_Austria</th>\n",
       "      <th>...</th>\n",
       "      <th>Item_Cassava</th>\n",
       "      <th>Item_Maize</th>\n",
       "      <th>Item_Plantains and others</th>\n",
       "      <th>Item_Potatoes</th>\n",
       "      <th>Item_Rice, paddy</th>\n",
       "      <th>Item_Sorghum</th>\n",
       "      <th>Item_Soybeans</th>\n",
       "      <th>Item_Sweet potatoes</th>\n",
       "      <th>Item_Wheat</th>\n",
       "      <th>Item_Yams</th>\n",
       "    </tr>\n",
       "  </thead>\n",
       "  <tbody>\n",
       "    <tr>\n",
       "      <th>0</th>\n",
       "      <td>1485</td>\n",
       "      <td>121.00</td>\n",
       "      <td>16.37</td>\n",
       "      <td>True</td>\n",
       "      <td>False</td>\n",
       "      <td>False</td>\n",
       "      <td>False</td>\n",
       "      <td>False</td>\n",
       "      <td>False</td>\n",
       "      <td>False</td>\n",
       "      <td>...</td>\n",
       "      <td>False</td>\n",
       "      <td>True</td>\n",
       "      <td>False</td>\n",
       "      <td>False</td>\n",
       "      <td>False</td>\n",
       "      <td>False</td>\n",
       "      <td>False</td>\n",
       "      <td>False</td>\n",
       "      <td>False</td>\n",
       "      <td>False</td>\n",
       "    </tr>\n",
       "    <tr>\n",
       "      <th>1</th>\n",
       "      <td>1485</td>\n",
       "      <td>121.00</td>\n",
       "      <td>16.37</td>\n",
       "      <td>True</td>\n",
       "      <td>False</td>\n",
       "      <td>False</td>\n",
       "      <td>False</td>\n",
       "      <td>False</td>\n",
       "      <td>False</td>\n",
       "      <td>False</td>\n",
       "      <td>...</td>\n",
       "      <td>False</td>\n",
       "      <td>False</td>\n",
       "      <td>False</td>\n",
       "      <td>True</td>\n",
       "      <td>False</td>\n",
       "      <td>False</td>\n",
       "      <td>False</td>\n",
       "      <td>False</td>\n",
       "      <td>False</td>\n",
       "      <td>False</td>\n",
       "    </tr>\n",
       "    <tr>\n",
       "      <th>2</th>\n",
       "      <td>1485</td>\n",
       "      <td>121.00</td>\n",
       "      <td>16.37</td>\n",
       "      <td>True</td>\n",
       "      <td>False</td>\n",
       "      <td>False</td>\n",
       "      <td>False</td>\n",
       "      <td>False</td>\n",
       "      <td>False</td>\n",
       "      <td>False</td>\n",
       "      <td>...</td>\n",
       "      <td>False</td>\n",
       "      <td>False</td>\n",
       "      <td>False</td>\n",
       "      <td>False</td>\n",
       "      <td>True</td>\n",
       "      <td>False</td>\n",
       "      <td>False</td>\n",
       "      <td>False</td>\n",
       "      <td>False</td>\n",
       "      <td>False</td>\n",
       "    </tr>\n",
       "    <tr>\n",
       "      <th>3</th>\n",
       "      <td>1485</td>\n",
       "      <td>121.00</td>\n",
       "      <td>16.37</td>\n",
       "      <td>True</td>\n",
       "      <td>False</td>\n",
       "      <td>False</td>\n",
       "      <td>False</td>\n",
       "      <td>False</td>\n",
       "      <td>False</td>\n",
       "      <td>False</td>\n",
       "      <td>...</td>\n",
       "      <td>False</td>\n",
       "      <td>False</td>\n",
       "      <td>False</td>\n",
       "      <td>False</td>\n",
       "      <td>False</td>\n",
       "      <td>True</td>\n",
       "      <td>False</td>\n",
       "      <td>False</td>\n",
       "      <td>False</td>\n",
       "      <td>False</td>\n",
       "    </tr>\n",
       "    <tr>\n",
       "      <th>4</th>\n",
       "      <td>1485</td>\n",
       "      <td>121.00</td>\n",
       "      <td>16.37</td>\n",
       "      <td>True</td>\n",
       "      <td>False</td>\n",
       "      <td>False</td>\n",
       "      <td>False</td>\n",
       "      <td>False</td>\n",
       "      <td>False</td>\n",
       "      <td>False</td>\n",
       "      <td>...</td>\n",
       "      <td>False</td>\n",
       "      <td>False</td>\n",
       "      <td>False</td>\n",
       "      <td>False</td>\n",
       "      <td>False</td>\n",
       "      <td>False</td>\n",
       "      <td>True</td>\n",
       "      <td>False</td>\n",
       "      <td>False</td>\n",
       "      <td>False</td>\n",
       "    </tr>\n",
       "    <tr>\n",
       "      <th>...</th>\n",
       "      <td>...</td>\n",
       "      <td>...</td>\n",
       "      <td>...</td>\n",
       "      <td>...</td>\n",
       "      <td>...</td>\n",
       "      <td>...</td>\n",
       "      <td>...</td>\n",
       "      <td>...</td>\n",
       "      <td>...</td>\n",
       "      <td>...</td>\n",
       "      <td>...</td>\n",
       "      <td>...</td>\n",
       "      <td>...</td>\n",
       "      <td>...</td>\n",
       "      <td>...</td>\n",
       "      <td>...</td>\n",
       "      <td>...</td>\n",
       "      <td>...</td>\n",
       "      <td>...</td>\n",
       "      <td>...</td>\n",
       "      <td>...</td>\n",
       "    </tr>\n",
       "    <tr>\n",
       "      <th>28237</th>\n",
       "      <td>657</td>\n",
       "      <td>2550.07</td>\n",
       "      <td>19.76</td>\n",
       "      <td>False</td>\n",
       "      <td>False</td>\n",
       "      <td>False</td>\n",
       "      <td>False</td>\n",
       "      <td>False</td>\n",
       "      <td>False</td>\n",
       "      <td>False</td>\n",
       "      <td>...</td>\n",
       "      <td>False</td>\n",
       "      <td>False</td>\n",
       "      <td>False</td>\n",
       "      <td>False</td>\n",
       "      <td>True</td>\n",
       "      <td>False</td>\n",
       "      <td>False</td>\n",
       "      <td>False</td>\n",
       "      <td>False</td>\n",
       "      <td>False</td>\n",
       "    </tr>\n",
       "    <tr>\n",
       "      <th>28238</th>\n",
       "      <td>657</td>\n",
       "      <td>2550.07</td>\n",
       "      <td>19.76</td>\n",
       "      <td>False</td>\n",
       "      <td>False</td>\n",
       "      <td>False</td>\n",
       "      <td>False</td>\n",
       "      <td>False</td>\n",
       "      <td>False</td>\n",
       "      <td>False</td>\n",
       "      <td>...</td>\n",
       "      <td>False</td>\n",
       "      <td>False</td>\n",
       "      <td>False</td>\n",
       "      <td>False</td>\n",
       "      <td>False</td>\n",
       "      <td>True</td>\n",
       "      <td>False</td>\n",
       "      <td>False</td>\n",
       "      <td>False</td>\n",
       "      <td>False</td>\n",
       "    </tr>\n",
       "    <tr>\n",
       "      <th>28239</th>\n",
       "      <td>657</td>\n",
       "      <td>2550.07</td>\n",
       "      <td>19.76</td>\n",
       "      <td>False</td>\n",
       "      <td>False</td>\n",
       "      <td>False</td>\n",
       "      <td>False</td>\n",
       "      <td>False</td>\n",
       "      <td>False</td>\n",
       "      <td>False</td>\n",
       "      <td>...</td>\n",
       "      <td>False</td>\n",
       "      <td>False</td>\n",
       "      <td>False</td>\n",
       "      <td>False</td>\n",
       "      <td>False</td>\n",
       "      <td>False</td>\n",
       "      <td>True</td>\n",
       "      <td>False</td>\n",
       "      <td>False</td>\n",
       "      <td>False</td>\n",
       "    </tr>\n",
       "    <tr>\n",
       "      <th>28240</th>\n",
       "      <td>657</td>\n",
       "      <td>2550.07</td>\n",
       "      <td>19.76</td>\n",
       "      <td>False</td>\n",
       "      <td>False</td>\n",
       "      <td>False</td>\n",
       "      <td>False</td>\n",
       "      <td>False</td>\n",
       "      <td>False</td>\n",
       "      <td>False</td>\n",
       "      <td>...</td>\n",
       "      <td>False</td>\n",
       "      <td>False</td>\n",
       "      <td>False</td>\n",
       "      <td>False</td>\n",
       "      <td>False</td>\n",
       "      <td>False</td>\n",
       "      <td>False</td>\n",
       "      <td>True</td>\n",
       "      <td>False</td>\n",
       "      <td>False</td>\n",
       "    </tr>\n",
       "    <tr>\n",
       "      <th>28241</th>\n",
       "      <td>657</td>\n",
       "      <td>2550.07</td>\n",
       "      <td>19.76</td>\n",
       "      <td>False</td>\n",
       "      <td>False</td>\n",
       "      <td>False</td>\n",
       "      <td>False</td>\n",
       "      <td>False</td>\n",
       "      <td>False</td>\n",
       "      <td>False</td>\n",
       "      <td>...</td>\n",
       "      <td>False</td>\n",
       "      <td>False</td>\n",
       "      <td>False</td>\n",
       "      <td>False</td>\n",
       "      <td>False</td>\n",
       "      <td>False</td>\n",
       "      <td>False</td>\n",
       "      <td>False</td>\n",
       "      <td>True</td>\n",
       "      <td>False</td>\n",
       "    </tr>\n",
       "  </tbody>\n",
       "</table>\n",
       "<p>28242 rows × 114 columns</p>\n",
       "</div>"
      ],
      "text/plain": [
       "       average_rainfall  presticides_tonnes  avg_temp  Country_Albania  \\\n",
       "0                  1485              121.00     16.37             True   \n",
       "1                  1485              121.00     16.37             True   \n",
       "2                  1485              121.00     16.37             True   \n",
       "3                  1485              121.00     16.37             True   \n",
       "4                  1485              121.00     16.37             True   \n",
       "...                 ...                 ...       ...              ...   \n",
       "28237               657             2550.07     19.76            False   \n",
       "28238               657             2550.07     19.76            False   \n",
       "28239               657             2550.07     19.76            False   \n",
       "28240               657             2550.07     19.76            False   \n",
       "28241               657             2550.07     19.76            False   \n",
       "\n",
       "       Country_Algeria  Country_Angola  Country_Argentina  Country_Armenia  \\\n",
       "0                False           False              False            False   \n",
       "1                False           False              False            False   \n",
       "2                False           False              False            False   \n",
       "3                False           False              False            False   \n",
       "4                False           False              False            False   \n",
       "...                ...             ...                ...              ...   \n",
       "28237            False           False              False            False   \n",
       "28238            False           False              False            False   \n",
       "28239            False           False              False            False   \n",
       "28240            False           False              False            False   \n",
       "28241            False           False              False            False   \n",
       "\n",
       "       Country_Australia  Country_Austria  ...  Item_Cassava  Item_Maize  \\\n",
       "0                  False            False  ...         False        True   \n",
       "1                  False            False  ...         False       False   \n",
       "2                  False            False  ...         False       False   \n",
       "3                  False            False  ...         False       False   \n",
       "4                  False            False  ...         False       False   \n",
       "...                  ...              ...  ...           ...         ...   \n",
       "28237              False            False  ...         False       False   \n",
       "28238              False            False  ...         False       False   \n",
       "28239              False            False  ...         False       False   \n",
       "28240              False            False  ...         False       False   \n",
       "28241              False            False  ...         False       False   \n",
       "\n",
       "       Item_Plantains and others  Item_Potatoes  Item_Rice, paddy  \\\n",
       "0                          False          False             False   \n",
       "1                          False           True             False   \n",
       "2                          False          False              True   \n",
       "3                          False          False             False   \n",
       "4                          False          False             False   \n",
       "...                          ...            ...               ...   \n",
       "28237                      False          False              True   \n",
       "28238                      False          False             False   \n",
       "28239                      False          False             False   \n",
       "28240                      False          False             False   \n",
       "28241                      False          False             False   \n",
       "\n",
       "       Item_Sorghum  Item_Soybeans  Item_Sweet potatoes  Item_Wheat  Item_Yams  \n",
       "0             False          False                False       False      False  \n",
       "1             False          False                False       False      False  \n",
       "2             False          False                False       False      False  \n",
       "3              True          False                False       False      False  \n",
       "4             False           True                False       False      False  \n",
       "...             ...            ...                  ...         ...        ...  \n",
       "28237         False          False                False       False      False  \n",
       "28238          True          False                False       False      False  \n",
       "28239         False           True                False       False      False  \n",
       "28240         False          False                 True       False      False  \n",
       "28241         False          False                False        True      False  \n",
       "\n",
       "[28242 rows x 114 columns]"
      ]
     },
     "execution_count": 23,
     "metadata": {},
     "output_type": "execute_result"
    }
   ],
   "source": [
    "df1=pd.read_csv('G:/Coding/Git Uploads/Project/Crop Predictions/test.csv')\n",
    "df1"
   ]
  },
  {
   "cell_type": "code",
   "execution_count": 13,
   "id": "ad0983fa-4c9c-4831-a470-c3db61ee5d01",
   "metadata": {},
   "outputs": [],
   "source": [
    "z=df['item'].values"
   ]
  },
  {
   "cell_type": "code",
   "execution_count": 15,
   "id": "825cf1ee-2e09-4017-b848-f2104545a368",
   "metadata": {},
   "outputs": [
    {
     "data": {
      "text/plain": [
       "numpy.ndarray"
      ]
     },
     "execution_count": 15,
     "metadata": {},
     "output_type": "execute_result"
    }
   ],
   "source": [
    "type(z)"
   ]
  },
  {
   "cell_type": "code",
   "execution_count": 36,
   "id": "42de7620-9cae-42c2-a115-2a703ce52032",
   "metadata": {},
   "outputs": [
    {
     "data": {
      "text/plain": [
       "[24, 12, 8, 6]"
      ]
     },
     "execution_count": 36,
     "metadata": {},
     "output_type": "execute_result"
    }
   ],
   "source": [
    "from functools import*\n",
    "x=[1,2,3,4]\n",
    "p=x.copy()\n",
    "z=[]\n",
    "for i in x:\n",
    "    p.remove(i)\n",
    "    z.append(reduce(lambda x,y: x*y,p))\n",
    "    p=x.copy()\n",
    "z"
   ]
  },
  {
   "cell_type": "code",
   "execution_count": 1,
   "id": "898d8901-3060-4c3c-b72b-a7ed68b5d8e6",
   "metadata": {},
   "outputs": [],
   "source": [
    "encode = {'team1': {'MI':1,'KKR':2,'RCB':3,'DC':4,'CSK':5,'RR':6,'DD':7,'GL':8,'KXIP':9,'SRH':10,'RPS':11,'KTK':12,'PW':13},'team2': {'MI':1,'KKR':2,'RCB':3,'DC':4,'CSK':5,'RR':6,'DD':7,'GL':8,'KXIP':9,'SRH':10,'RPS':11,'KTK':12,'PW':13},'toss_winner': {'MI':1,'KKR':2,'RCB':3,'DC':4,'CSK':5,'RR':6,'DD':7,'GL':8,'KXIP':9,'SRH':10,'RPS':11,'KTK':12,'PW':13},'winner': {'MI':1,'KKR':2,'RCB':3,'DC':4,'CSK':5,'RR':6,'DD':7,'GL':8,'KXIP':9,'SRH':10,'RPS':11,'KTK':12,'PW':13,'Draw':14},'toss_decision':{'field':0,'bat':1},\n",
    "'city':{'Hyderabad':0, 'Pune':1, 'Rajkot':2, 'Indore':3, 'Bangalore':4, 'Mumbai':5,'Kolkata':6, 'Delhi':7, 'Chandigarh':8, 'Kanpur':9, 'Jaipur':10, 'Chennai':11,'Cape Town':12, 'Port Elizabeth':13, 'Durban':14, 'Centurion':15,'East London':16, 'Johannesburg':17, 'Kimberley':18, 'Bloemfontein':19,'Ahmedabad':20, 'Cuttack':21, 'Nagpur':22, 'Dharamsala':23, 'Kochi':24,'Visakhapatnam':25, 'Raipur':26, 'Ranchi':27, 'Abu Dhabi':28, 'Sharjah':29,'Dubai':30},'venue':{'Rajiv Gandhi International Stadium, Uppal':0,'Maharashtra Cricket Association Stadium':1,'Saurashtra Cricket Association Stadium':2, 'Holkar Cricket Stadium':3,'M Chinnaswamy Stadium':4, 'Wankhede Stadium':5, 'Eden Gardens':6,'Arun Jaitley Stadium':7,'Punjab Cricket Association IS Bindra Stadium, Mohali':8,'Green Park':9, 'Punjab Cricket Association Stadium, Mohali':8,'Sawai Mansingh Stadium':10, 'MA Chidambaram Stadium, Chepauk':11,'Dr DY Patil Sports Academy':5, 'Newlands':12, \"St George's Park\":13,'Kingsmead':14, 'SuperSport Park':15, 'Buffalo Park':16,'New Wanderers Stadium':17, 'De Beers Diamond Oval':18,'OUTsurance Oval':19, 'Brabourne Stadium':19,'Narendra Modi Stadium, Motera':20, 'Barabati Stadium':21,'Vidarbha Cricket Association Stadium, Jamtha':22,'Himachal Pradesh Cricket Association Stadium':23, 'Nehru Stadium':24,'Dr. Y.S. Rajasekhara Reddy ACA-VDCA Cricket Stadium':25,'Subrata Roy Sahara Stadium':1,'Shaheed Veer Narayan Singh International Stadium':26,'JSCA International Stadium Complex':27, 'Sheikh Zayed Stadium':28,'Sharjah Cricket Stadium':29, 'Dubai International Cricket Stadium':30}}  "
   ]
  },
  {
   "cell_type": "code",
   "execution_count": 23,
   "id": "365f40af-443f-4aa5-8afa-c74a01bc1c33",
   "metadata": {},
   "outputs": [
    {
     "data": {
      "text/plain": [
       "dict_items([('MI', 1), ('KKR', 2), ('RCB', 3), ('DC', 4), ('CSK', 5), ('RR', 6), ('DD', 7), ('GL', 8), ('KXIP', 9), ('SRH', 10), ('RPS', 11), ('KTK', 12), ('PW', 13)])"
      ]
     },
     "execution_count": 23,
     "metadata": {},
     "output_type": "execute_result"
    }
   ],
   "source": [
    "z=encode['team1'].keys()\n",
    "encode['team1'].items()"
   ]
  },
  {
   "cell_type": "code",
   "execution_count": 12,
   "id": "b84a9341-c59f-4bdb-a87d-e244780e854b",
   "metadata": {},
   "outputs": [
    {
     "data": {
      "text/plain": [
       "0"
      ]
     },
     "execution_count": 12,
     "metadata": {},
     "output_type": "execute_result"
    }
   ],
   "source": [
    "encode['team1']"
   ]
  },
  {
   "cell_type": "code",
   "execution_count": 16,
   "id": "ec8e140f-18a8-4522-b8e3-2f535f91d5c8",
   "metadata": {},
   "outputs": [
    {
     "data": {
      "text/plain": [
       "dict_keys(['MI', 'KKR', 'RCB', 'DC', 'CSK', 'RR', 'DD', 'GL', 'KXIP', 'SRH', 'RPS', 'KTK', 'PW'])"
      ]
     },
     "execution_count": 16,
     "metadata": {},
     "output_type": "execute_result"
    }
   ],
   "source": [
    "encode['team2'].keys()"
   ]
  },
  {
   "cell_type": "code",
   "execution_count": 21,
   "id": "4e4fca99-0e2c-48c9-8e66-ee85cc0af7fb",
   "metadata": {},
   "outputs": [],
   "source": [
    "value_to_find=5\n",
    "key = next(key for key, value in encode['team1'].items() if value == value_to_find)"
   ]
  },
  {
   "cell_type": "code",
   "execution_count": 22,
   "id": "452d09af-6783-4bd7-8c91-11ff6aee6667",
   "metadata": {},
   "outputs": [
    {
     "data": {
      "text/plain": [
       "'CSK'"
      ]
     },
     "execution_count": 22,
     "metadata": {},
     "output_type": "execute_result"
    }
   ],
   "source": [
    "key"
   ]
  },
  {
   "cell_type": "code",
   "execution_count": 24,
   "id": "56502e98-3974-4c75-9e44-567db650f40e",
   "metadata": {},
   "outputs": [
    {
     "data": {
      "text/plain": [
       "dict_keys(['MI', 'KKR', 'RCB', 'DC', 'CSK', 'RR', 'DD', 'GL', 'KXIP', 'SRH', 'RPS', 'KTK', 'PW'])"
      ]
     },
     "execution_count": 24,
     "metadata": {},
     "output_type": "execute_result"
    }
   ],
   "source": [
    "z"
   ]
  },
  {
   "cell_type": "code",
   "execution_count": 6,
   "id": "b25a995b-013d-4628-b04a-47f4a38c9c6f",
   "metadata": {},
   "outputs": [
    {
     "data": {
      "text/plain": [
       "[2, 24, 45, 66, 75, 90, 170, 802]"
      ]
     },
     "execution_count": 6,
     "metadata": {},
     "output_type": "execute_result"
    }
   ],
   "source": [
    "x=[170,45,75,90,802,24,2,66]\n",
    "y=[[],[],[],[],[],[],[],[],[],[]]\n",
    "z=max(x)\n",
    "p=1\n",
    "while (z)//p>0:\n",
    "    while len(x)>0:\n",
    "        v=x.pop()\n",
    "        l=(v//p)%10\n",
    "        y[l].append(v)\n",
    "    for i in y:\n",
    "        while len(i)>0:\n",
    "            v=i.pop()\n",
    "            x.append(v)\n",
    "    p*=10\n",
    "x"
   ]
  },
  {
   "cell_type": "code",
   "execution_count": 12,
   "id": "9449aeeb-e2b0-496c-a77f-c6dfde3a79f6",
   "metadata": {},
   "outputs": [
    {
     "data": {
      "text/plain": [
       "66"
      ]
     },
     "execution_count": 12,
     "metadata": {},
     "output_type": "execute_result"
    }
   ],
   "source": [
    "x=[170,45,75,90,802,24,2,66]\n",
    "x.pop()"
   ]
  },
  {
   "cell_type": "code",
   "execution_count": 7,
   "id": "b0adff8a-0551-4e3f-b1b9-452130f8f36c",
   "metadata": {},
   "outputs": [
    {
     "data": {
      "text/plain": [
       "80"
      ]
     },
     "execution_count": 7,
     "metadata": {},
     "output_type": "execute_result"
    }
   ],
   "source": [
    "(802//10)"
   ]
  },
  {
   "cell_type": "code",
   "execution_count": 1,
   "id": "c6769555-2c28-4f46-bf86-d8667b372719",
   "metadata": {},
   "outputs": [
    {
     "data": {
      "text/plain": [
       "[[90, 75, 66, 45, 24, 2], [170], [], [], [], [], [], [], [802], []]"
      ]
     },
     "execution_count": 1,
     "metadata": {},
     "output_type": "execute_result"
    }
   ],
   "source": [
    "[[90, 75, 66, 45, 24, 2], [170], [], [], [], [], [], [], [802], []]\n"
   ]
  },
  {
   "cell_type": "code",
   "execution_count": 15,
   "id": "1bb4b044-971e-4af3-acb4-2fc092054780",
   "metadata": {},
   "outputs": [
    {
     "name": "stdout",
     "output_type": "stream",
     "text": [
      "[-13, -10, 3, 6, 7, 15, 23.5, 55]\n"
     ]
    }
   ],
   "source": [
    "def merge_sort(arr):\n",
    "    if len(arr)<=1:\n",
    "        return arr\n",
    "    mid=len(arr)//2\n",
    "    left=arr[:mid]\n",
    "    right=arr[mid:]\n",
    "    s_left=merge_sort(left)\n",
    "    s_right=merge_sort(right)\n",
    "    return merge(s_left,s_right)\n",
    "def merge(left,right):\n",
    "    result=[]\n",
    "    i=j=0\n",
    "    while i<len(left) and j<len(right):\n",
    "        if left[i]<right[j]:\n",
    "            result.append(left[i])\n",
    "            i+=1\n",
    "        else:\n",
    "            result.append(right[j])\n",
    "            j+=1\n",
    "    result.extend(left[i:])\n",
    "    result.extend(right[j:])\n",
    "    return result\n",
    "arr=[3,7,6,-10,15,23.5,55,-13]\n",
    "sorted_arr=merge_sort(arr)\n",
    "print(sorted_arr)"
   ]
  },
  {
   "cell_type": "code",
   "execution_count": 10,
   "id": "1380776e-5a78-4e9b-8d7a-2d39659ee087",
   "metadata": {},
   "outputs": [
    {
     "name": "stdout",
     "output_type": "stream",
     "text": [
      "5\n"
     ]
    }
   ],
   "source": [
    "s =\"Hello World\"\n",
    "str1=s.rstrip()\n",
    "x=''\n",
    "for i in str1[-1::-1]:\n",
    "    if i==' ':\n",
    "        break\n",
    "    else:\n",
    "        x+=i\n",
    "print(len(x))"
   ]
  },
  {
   "cell_type": "code",
   "execution_count": 11,
   "id": "a196a262-6c87-4490-9f60-331b49915e97",
   "metadata": {},
   "outputs": [
    {
     "name": "stdout",
     "output_type": "stream",
     "text": [
      "5\n"
     ]
    },
    {
     "data": {
      "text/plain": [
       "10"
      ]
     },
     "execution_count": 11,
     "metadata": {},
     "output_type": "execute_result"
    }
   ],
   "source": [
    "a=10\n",
    "b=5\n",
    "a,b=b,a\n",
    "print(a)\n",
    "b"
   ]
  },
  {
   "cell_type": "code",
   "execution_count": 12,
   "id": "c486d12f-56b0-47f8-b40f-c8ee50ab9c4e",
   "metadata": {},
   "outputs": [
    {
     "name": "stdout",
     "output_type": "stream",
     "text": [
      "True\n"
     ]
    }
   ],
   "source": [
    "x='Pawan'\n",
    "if 'a' in x:\n",
    "    print(True)\n",
    "else:\n",
    "    print(False)"
   ]
  },
  {
   "cell_type": "code",
   "execution_count": 13,
   "id": "59870d47-2908-4410-8b59-84593ec257b1",
   "metadata": {},
   "outputs": [
    {
     "name": "stdout",
     "output_type": "stream",
     "text": [
      "('a', 10)\n",
      "('b', 20)\n",
      "('c', 30)\n"
     ]
    }
   ],
   "source": [
    "x={'a':10,'b':20,'c':30}\n",
    "for i in x.items():\n",
    "    print(i)"
   ]
  },
  {
   "cell_type": "code",
   "execution_count": 45,
   "id": "9e41020b-4ea8-427b-8939-6842bec66a32",
   "metadata": {},
   "outputs": [
    {
     "data": {
      "text/plain": [
       "'leEeetcode'"
      ]
     },
     "execution_count": 45,
     "metadata": {},
     "output_type": "execute_result"
    }
   ],
   "source": [
    "s=\"leEeetcode\"\n",
    "q=[s]\n",
    "p=[i for i in s]\n",
    "z=''\n",
    "for i in range(0,len(p)-2):\n",
    "    if p[i]==p[i+1].lower() and p[i+1].isupper():\n",
    "        z+=p[i]+p[i+1]\n",
    "if z in q[0]:\n",
    "    "
   ]
  },
  {
   "cell_type": "code",
   "execution_count": 1,
   "id": "de4dd47a-a523-410e-8a8c-4dfa74070f25",
   "metadata": {},
   "outputs": [
    {
     "data": {
      "text/plain": [
       "[0, 0, 0, 0, 0, 0, 0]"
      ]
     },
     "execution_count": 1,
     "metadata": {},
     "output_type": "execute_result"
    }
   ],
   "source": [
    "[0]*7"
   ]
  },
  {
   "cell_type": "code",
   "execution_count": 6,
   "id": "810421e5-b988-4e5a-80cf-4d8d6ce42ec2",
   "metadata": {},
   "outputs": [],
   "source": []
  },
  {
   "cell_type": "code",
   "execution_count": 20,
   "id": "b5a1654c-441f-4d48-9831-9a5cb1331076",
   "metadata": {},
   "outputs": [
    {
     "data": {
      "text/plain": [
       "[3, 2, -1, -3]"
      ]
     },
     "execution_count": 20,
     "metadata": {},
     "output_type": "execute_result"
    }
   ],
   "source": [
    "nums=[-1,2,-3,3]\n",
    "nums.sort(reverse=True)\n",
    "nums"
   ]
  },
  {
   "cell_type": "code",
   "execution_count": 21,
   "id": "7cfeb61d-dbfe-4422-839d-b6d01c33285f",
   "metadata": {},
   "outputs": [
    {
     "name": "stdout",
     "output_type": "stream",
     "text": [
      "7\n"
     ]
    }
   ],
   "source": [
    "def findMaxK(nums):\n",
    "    nums.sort(reverse=True)\n",
    "    for i in nums:\n",
    "        if -i in nums:\n",
    "            return i\n",
    "nums=[-1,10,6,7,-7,1]\n",
    "print(findMaxK(nums))"
   ]
  },
  {
   "cell_type": "code",
   "execution_count": 48,
   "id": "70043154-a907-4bc4-b82d-74a69548cd14",
   "metadata": {},
   "outputs": [
    {
     "name": "stdout",
     "output_type": "stream",
     "text": [
      "[-1, 0, 1, -1, 2, 3, 0, 4, 4]\n"
     ]
    }
   ],
   "source": [
    "# Ask in interview 29-04-2024\n",
    "# [-1,0,1,-1,2,3,0,4,4]  it is output\n",
    "x=[8,16,24,1,25,3,10,65,55]\n",
    "a=[]\n",
    "y=[]\n",
    "for i,j in enumerate(x):\n",
    "    a.append(x[i])\n",
    "    a.sort(reverse=True)\n",
    "    for k in a:\n",
    "        if j>k:\n",
    "            y.append(x.index(k))\n",
    "            break\n",
    "    else:\n",
    "        y.append(-1)\n",
    "print(y)"
   ]
  },
  {
   "cell_type": "code",
   "execution_count": 24,
   "id": "32f970e8-6387-4ba3-a3b9-af6af8f1bd90",
   "metadata": {},
   "outputs": [
    {
     "name": "stdout",
     "output_type": "stream",
     "text": [
      "-1\n"
     ]
    }
   ],
   "source": [
    "version1 = \"1.1.1\"\n",
    "version2 = \"1\"\n",
    "if '.' in version1 and '.' in version2:\n",
    "    x=version1.split('.')\n",
    "    y=version2.split('.')\n",
    "    if x[0]==y[0]:\n",
    "        print(0)\n",
    "    elif x[0]<y[0]:\n",
    "        print(-1)\n",
    "    else:\n",
    "        print(1)\n",
    "elif version1[0]==version2[0]:\n",
    "    if x[0]==y[0]:\n",
    "        print(0)\n",
    "    elif x[0]<y[0]:\n",
    "        print(-1)\n",
    "    else:\n",
    "        print(1)\n",
    "else:\n",
    "    if x[0]==y[0]:\n",
    "        print(0)\n",
    "    elif x[0]<y[0]:\n",
    "        print(-1)\n",
    "    else:\n",
    "        print(1)"
   ]
  },
  {
   "cell_type": "code",
   "execution_count": 23,
   "id": "a63a7ab1-c036-46ae-b668-e2d35c3fe208",
   "metadata": {},
   "outputs": [
    {
     "data": {
      "text/plain": [
       "'1'"
      ]
     },
     "execution_count": 23,
     "metadata": {},
     "output_type": "execute_result"
    }
   ],
   "source": [
    "version1[0]"
   ]
  },
  {
   "cell_type": "code",
   "execution_count": 2,
   "id": "7b8c7fb3-4d87-4fa2-82ca-a7a2ee3b4691",
   "metadata": {},
   "outputs": [],
   "source": [
    "class Solution:\n",
    "    def numRescueBoats(self, p, limit):\n",
    "        p.sort()\n",
    "        x=0\n",
    "        l, r=0, len(p)-1\n",
    "        while l<=r:\n",
    "            x+=1\n",
    "            if p[l]+p[r]<=limit:\n",
    "                l+=1\n",
    "            r-=1\n",
    "        return x"
   ]
  },
  {
   "cell_type": "code",
   "execution_count": 4,
   "id": "43f991ff-d1a0-4ba9-a0fb-7d00c745b7e0",
   "metadata": {},
   "outputs": [
    {
     "name": "stdout",
     "output_type": "stream",
     "text": [
      "1\n"
     ]
    }
   ],
   "source": [
    "x=Solution()\n",
    "result=x.numRescueBoats([5,4,2],3)\n",
    "print(result)"
   ]
  },
  {
   "cell_type": "code",
   "execution_count": 17,
   "id": "9ce3595b-3b10-4cbc-b41b-c104c1d0cfb8",
   "metadata": {},
   "outputs": [
    {
     "data": {
      "text/plain": [
       "['Gold Medal', 5, 'Bronze Medal', 'Silver Medal', 4]"
      ]
     },
     "execution_count": 17,
     "metadata": {},
     "output_type": "execute_result"
    }
   ],
   "source": [
    "score = [10,3,8,9,4]\n",
    "x=[i for i in sorted(score,reverse=True)]\n",
    "y=[i for i in range(4,len(score)+1)]\n",
    "l=[]\n",
    "c=0\n",
    "for i in score:\n",
    "    if i==x[0]:\n",
    "        l.append('Gold Medal')\n",
    "    elif i==x[1]:\n",
    "        l.append('Silver Medal')\n",
    "    elif i==x[2]:\n",
    "        l.append('Bronze Medal')\n",
    "    elif i==x[-1]:\n",
    "        l.append(y[-1])\n",
    "    elif i==x[-2]:\n",
    "        l.append(y[-2])\n",
    "l"
   ]
  },
  {
   "cell_type": "code",
   "execution_count": 10,
   "id": "c5d75002-e3b8-42fd-aaaf-3ac310997bf3",
   "metadata": {},
   "outputs": [
    {
     "data": {
      "text/plain": [
       "[10, 9, 8, 4, 3]"
      ]
     },
     "execution_count": 10,
     "metadata": {},
     "output_type": "execute_result"
    }
   ],
   "source": [
    "x"
   ]
  },
  {
   "cell_type": "code",
   "execution_count": 1,
   "id": "2a53a20c-2dca-4ee1-b2de-2667f246d331",
   "metadata": {},
   "outputs": [
    {
     "data": {
      "text/plain": [
       "['Gold Medal', '5', 'Bronze Medal', 'Silver Medal', '4']"
      ]
     },
     "execution_count": 1,
     "metadata": {},
     "output_type": "execute_result"
    }
   ],
   "source": [
    "[\"Gold Medal\",\"5\",\"Bronze Medal\",\"Silver Medal\",\"4\"]"
   ]
  },
  {
   "cell_type": "code",
   "execution_count": 1,
   "id": "3cf5ee78-5c66-408e-9ae9-56d9b6cf51ef",
   "metadata": {},
   "outputs": [],
   "source": [
    "x= [[9,9,8,1],[5,6,2,6],[8,2,6,4],[6,2,2,2]]\n"
   ]
  },
  {
   "cell_type": "code",
   "execution_count": 16,
   "id": "350c290e-aa7b-47a5-affc-737893f8ce39",
   "metadata": {},
   "outputs": [
    {
     "data": {
      "text/plain": [
       "[[1], [2]]"
      ]
     },
     "execution_count": 16,
     "metadata": {},
     "output_type": "execute_result"
    }
   ],
   "source": [
    "l=[]+[[1]]\n",
    "l+[[2]]\n"
   ]
  },
  {
   "cell_type": "code",
   "execution_count": null,
   "id": "7e6739a6-da07-4095-92e2-ed9bc0505384",
   "metadata": {},
   "outputs": [],
   "source": [
    "# import libraries of python OpenCV    \n",
    "import cv2  \n",
    "  \n",
    "# import Numpy by alias name np  \n",
    "import numpy as np  \n",
    "  \n",
    "# capture frames from a camera   \n",
    "cap = cv2.VideoCapture(0)  \n",
    "  \n",
    "# loop runs if capturing has been initialized   \n",
    "while (1):  \n",
    "  \n",
    "    # reads frames from a camera   \n",
    "    ret, frame = cap.read()  \n",
    "  \n",
    "    # converting BGR to HSV   \n",
    "    hsv = cv2.cvtColor(frame, cv2.COLOR_BGR2HSV)  \n",
    "    # define range of red color in HSV   \n",
    "    lower_red = np.array([30, 150, 50])  \n",
    "    upper_red = np.array([255, 255, 180])  \n",
    "  \n",
    "    # create a red HSV colour boundary and    \n",
    "    # threshold HSV image   \n",
    "    mask = cv2.inRange(hsv, lower_red, upper_red)  \n",
    "  \n",
    "    # Bitwise-AND mask and original image   \n",
    "    res = cv2.bitwise_and(frame, frame, mask=mask)  \n",
    "  \n",
    "    # Display an original image   \n",
    "    cv2.imshow('Original', frame)  \n",
    "  \n",
    "    # discovers edges in the input image image and   \n",
    "    # marks them in the output map edges   \n",
    "    edges = cv2.Canny(frame, 100, 200)  \n",
    "  \n",
    "    # Display edges in a frame   \n",
    "    cv2.imshow('Edges', edges)  \n",
    "  \n",
    "    # Wait for Esc key to stop   \n",
    "    k = cv2.waitKey(5) & 0xFF  \n",
    "    if k == 27:   \n",
    "        break  \n",
    "  \n",
    "# Close the window   \n",
    "cap.release()  \n",
    "  \n",
    "# De-allocate any associated memory usage   \n",
    "cv2.destroyAllWindows()  "
   ]
  },
  {
   "cell_type": "code",
   "execution_count": null,
   "id": "5f7171c8-4c45-48af-a357-0731abe2909c",
   "metadata": {},
   "outputs": [],
   "source": [
    "import cv2  \n",
    "import numpy as np  \n",
    "  \n",
    "cap = cv2.VideoCapture(0)  \n",
    "  \n",
    "while(True):  \n",
    "    # Capture image frame-by-frame  \n",
    "    ret, frame = cap.read()  \n",
    "  \n",
    "    # Our operations on the frame come here  \n",
    "    gray = cv2.cvtColor(frame, cv2.COLOR_BGR2GRAY)  \n",
    "  \n",
    "    # Display the resulting frame  \n",
    "    cv2.imshow('frame',gray)  \n",
    "    if cv2.waitKey(1) & 0xFF == ord('q'):  \n",
    "        break  \n",
    "        \n",
    "  \n",
    "# When everything done, release the capture  \n",
    "cap.release()  \n",
    "cv2.waitKey(3)\n",
    "cv2.destroyAllWindows()  "
   ]
  },
  {
   "cell_type": "code",
   "execution_count": null,
   "id": "afc09f8a-c587-483a-9ead-465dbef4bfa1",
   "metadata": {},
   "outputs": [
    {
     "name": "stderr",
     "output_type": "stream",
     "text": [
      "C:\\Users\\panka\\anaconda3\\Lib\\site-packages\\google\\protobuf\\symbol_database.py:55: UserWarning: SymbolDatabase.GetPrototype() is deprecated. Please use message_factory.GetMessageClass() instead. SymbolDatabase.GetPrototype() will be removed soon.\n",
      "  warnings.warn('SymbolDatabase.GetPrototype() is deprecated. Please '\n"
     ]
    }
   ],
   "source": [
    "# Importing Libraries \n",
    "import cv2 \n",
    "import mediapipe as mp \n",
    "\n",
    "# Used to convert protobuf message to a dictionary. \n",
    "from google.protobuf.json_format import MessageToDict \n",
    "\n",
    "# Initializing the Model \n",
    "mpHands = mp.solutions.hands \n",
    "hands = mpHands.Hands( \n",
    "\tstatic_image_mode=False, \n",
    "\tmodel_complexity=1, \n",
    "\tmin_detection_confidence=0.75, \n",
    "\tmin_tracking_confidence=0.75, \n",
    "\tmax_num_hands=2) \n",
    "\n",
    "# Start capturing video from webcam \n",
    "cap = cv2.VideoCapture(0) \n",
    "\n",
    "while True: \n",
    "\t# Read video frame by frame \n",
    "\tsuccess, img = cap.read() \n",
    "\n",
    "\t# Flip the image(frame) \n",
    "\timg = cv2.flip(img, 1) \n",
    "\n",
    "\t# Convert BGR image to RGB image \n",
    "\timgRGB = cv2.cvtColor(img, cv2.COLOR_BGR2RGB) \n",
    "\n",
    "\t# Process the RGB image \n",
    "\tresults = hands.process(imgRGB) \n",
    "\n",
    "\t# If hands are present in image(frame) \n",
    "\tif results.multi_hand_landmarks: \n",
    "\n",
    "\t\t# Both Hands are present in image(frame) \n",
    "\t\tif len(results.multi_handedness) == 2: \n",
    "\t\t\t\t# Display 'Both Hands' on the image \n",
    "\t\t\tcv2.putText(img, 'Both Hands', (250, 50), \n",
    "\t\t\t\t\t\tcv2.FONT_HERSHEY_COMPLEX, \n",
    "\t\t\t\t\t\t0.9, (0, 255, 0), 2) \n",
    "\n",
    "\t\t# If any hand present \n",
    "\t\telse: \n",
    "\t\t\tfor i in results.multi_handedness: \n",
    "\t\t\t\t\n",
    "\t\t\t\t# Return whether it is Right or Left Hand \n",
    "\t\t\t\tlabel = MessageToDict(i)['classification'][0]['label'] \n",
    "\n",
    "\t\t\t\tif label == 'Left': \n",
    "\t\t\t\t\t\n",
    "\t\t\t\t\t# Display 'Left Hand' on \n",
    "\t\t\t\t\t# left side of window \n",
    "\t\t\t\t\tcv2.putText(img, label+' Hand', \n",
    "\t\t\t\t\t\t\t\t(20, 50), \n",
    "\t\t\t\t\t\t\t\tcv2.FONT_HERSHEY_COMPLEX, \n",
    "\t\t\t\t\t\t\t\t0.9, (0, 255, 0), 2) \n",
    "\n",
    "\t\t\t\tif label == 'Right': \n",
    "\t\t\t\t\t\n",
    "\t\t\t\t\t# Display 'Left Hand' \n",
    "\t\t\t\t\t# on left side of window \n",
    "\t\t\t\t\tcv2.putText(img, label+' Hand', (460, 50), \n",
    "\t\t\t\t\t\t\t\tcv2.FONT_HERSHEY_COMPLEX, \n",
    "\t\t\t\t\t\t\t\t0.9, (0, 255, 0), 2) \n",
    "\n",
    "\t# Display Video and when 'q' \n",
    "\t# is entered, destroy the window \n",
    "\tcv2.imshow('Image', img) \n",
    "\tif cv2.waitKey(1) & 0xff == ord('q'): \n",
    "\t\tbreak\n"
   ]
  },
  {
   "cell_type": "code",
   "execution_count": null,
   "id": "7e5cdb30-a8e7-47f1-b5f8-2c2c4b1b0938",
   "metadata": {},
   "outputs": [
    {
     "name": "stderr",
     "output_type": "stream",
     "text": [
      "C:\\Users\\panka\\anaconda3\\Lib\\site-packages\\google\\protobuf\\symbol_database.py:55: UserWarning: SymbolDatabase.GetPrototype() is deprecated. Please use message_factory.GetMessageClass() instead. SymbolDatabase.GetPrototype() will be removed soon.\n",
      "  warnings.warn('SymbolDatabase.GetPrototype() is deprecated. Please '\n"
     ]
    }
   ],
   "source": [
    "# Importing Libraries \n",
    "import cv2 \n",
    "import mediapipe as mp \n",
    "from math import hypot \n",
    "import screen_brightness_control as sbc \n",
    "import numpy as np \n",
    "\n",
    "# Initializing the Model \n",
    "mpHands = mp.solutions.hands \n",
    "hands = mpHands.Hands( \n",
    "\tstatic_image_mode=False, \n",
    "\tmodel_complexity=1, \n",
    "\tmin_detection_confidence=0.75, \n",
    "\tmin_tracking_confidence=0.75, \n",
    "\tmax_num_hands=2) \n",
    "\n",
    "Draw = mp.solutions.drawing_utils \n",
    "\n",
    "# Start capturing video from webcam \n",
    "cap = cv2.VideoCapture(0) \n",
    "\n",
    "while True: \n",
    "\t# Read video frame by frame \n",
    "\t_, frame = cap.read() \n",
    "\n",
    "\t# Flip image \n",
    "\tframe = cv2.flip(frame, 1) \n",
    "\n",
    "\t# Convert BGR image to RGB image \n",
    "\tframeRGB = cv2.cvtColor(frame, cv2.COLOR_BGR2RGB) \n",
    "\n",
    "\t# Process the RGB image \n",
    "\tProcess = hands.process(frameRGB) \n",
    "\n",
    "\tlandmarkList = [] \n",
    "\t# if hands are present in image(frame) \n",
    "\tif Process.multi_hand_landmarks: \n",
    "\t\t# detect handmarks \n",
    "\t\tfor handlm in Process.multi_hand_landmarks: \n",
    "\t\t\tfor _id, landmarks in enumerate(handlm.landmark): \n",
    "\t\t\t\t# store height and width of image \n",
    "\t\t\t\theight, width, color_channels = frame.shape \n",
    "\n",
    "\t\t\t\t# calculate and append x, y coordinates \n",
    "\t\t\t\t# of handmarks from image(frame) to lmList \n",
    "\t\t\t\tx, y = int(landmarks.x*width), int(landmarks.y*height) \n",
    "\t\t\t\tlandmarkList.append([_id, x, y]) \n",
    "\n",
    "\t\t\t# draw Landmarks \n",
    "\t\t\tDraw.draw_landmarks(frame, handlm, \n",
    "\t\t\t\t\t\t\t\tmpHands.HAND_CONNECTIONS) \n",
    "\n",
    "\t# If landmarks list is not empty \n",
    "\tif landmarkList != []: \n",
    "\t\t# store x,y coordinates of (tip of) thumb \n",
    "\t\tx_1, y_1 = landmarkList[4][1], landmarkList[4][2] \n",
    "\n",
    "\t\t# store x,y coordinates of (tip of) index finger \n",
    "\t\tx_2, y_2 = landmarkList[8][1], landmarkList[8][2] \n",
    "\n",
    "\t\t# draw circle on thumb and index finger tip \n",
    "\t\tcv2.circle(frame, (x_1, y_1), 7, (0, 255, 0), cv2.FILLED) \n",
    "\t\tcv2.circle(frame, (x_2, y_2), 7, (0, 255, 0), cv2.FILLED) \n",
    "\n",
    "\t\t# draw line from tip of thumb to tip of index finger \n",
    "\t\tcv2.line(frame, (x_1, y_1), (x_2, y_2), (0, 255, 0), 3) \n",
    "\n",
    "\t\t# calculate square root of the sum of \n",
    "\t\t# squares of the specified arguments. \n",
    "\t\tL = hypot(x_2-x_1, y_2-y_1) \n",
    "\n",
    "\t\t# 1-D linear interpolant to a function \n",
    "\t\t# with given discrete data points \n",
    "\t\t# (Hand range 15 - 220, Brightness \n",
    "\t\t# range 0 - 100), evaluated at length. \n",
    "\t\tb_level = np.interp(L, [15, 220], [0, 100]) \n",
    "\n",
    "\t\t# set brightness \n",
    "\t\tsbc.set_brightness(int(b_level)) \n",
    "\n",
    "\t# Display Video and when 'q' is entered, destroy \n",
    "\t# the window \n",
    "\tcv2.imshow('Image', frame) \n",
    "\tif cv2.waitKey(1) & 0xff == ord('q'): \n",
    "\t\tbreak\n"
   ]
  },
  {
   "cell_type": "code",
   "execution_count": 2,
   "id": "1fe3be1c-92b3-4da3-a17f-6ce6576862aa",
   "metadata": {},
   "outputs": [],
   "source": [
    "nums = [2,4,6]\n",
    "k = 2\n",
    "x=[]\n",
    "for i in nums"
   ]
  },
  {
   "cell_type": "code",
   "execution_count": 11,
   "id": "cddfd1a1-d304-428b-b7da-46ca0d369cb7",
   "metadata": {},
   "outputs": [
    {
     "name": "stdout",
     "output_type": "stream",
     "text": [
      "2\n",
      "2\n"
     ]
    }
   ],
   "source": [
    "nums=[3,5]\n",
    "nums.sort()\n",
    "n=len(nums)\n",
    "for x in range(n+1):\n",
    "    c=sum(1 for num in nums if num>=x)\n",
    "    if c==x:\n",
    "        print(x)"
   ]
  },
  {
   "cell_type": "code",
   "execution_count": 9,
   "id": "92428fae-7b00-4ec9-ab77-3554b632780f",
   "metadata": {},
   "outputs": [
    {
     "data": {
      "text/plain": [
       "2"
      ]
     },
     "execution_count": 9,
     "metadata": {},
     "output_type": "execute_result"
    }
   ],
   "source": [
    "c=sum(1 for num in nums if num>=x)\n",
    "c"
   ]
  },
  {
   "cell_type": "code",
   "execution_count": 1,
   "id": "5f6cc922-fd7f-4cf1-b052-e67ac508462c",
   "metadata": {},
   "outputs": [],
   "source": [
    "s = \"1\"\n",
    "y=int(s,2)\n",
    "# c=0\n",
    "# while y>0:\n",
    "#     if y%2==0:\n",
    "#         y=y//2\n",
    "#     else:\n",
    "#         y+=1\n",
    "#     c+=1\n",
    "# c"
   ]
  },
  {
   "cell_type": "code",
   "execution_count": 2,
   "id": "947ba46c-66fa-4007-be94-c572361f2109",
   "metadata": {},
   "outputs": [
    {
     "data": {
      "text/plain": [
       "1"
      ]
     },
     "execution_count": 2,
     "metadata": {},
     "output_type": "execute_result"
    }
   ],
   "source": [
    "y"
   ]
  },
  {
   "cell_type": "code",
   "execution_count": 6,
   "id": "9fbb55a3-9ccd-4356-b96a-fc0408c8acad",
   "metadata": {},
   "outputs": [
    {
     "data": {
      "text/plain": [
       "'Hollo Werld'"
      ]
     },
     "execution_count": 6,
     "metadata": {},
     "output_type": "execute_result"
    }
   ],
   "source": [
    "x = 'Hello World'\n",
    "y = ''\n",
    "z = 'aeiouAEIOU'\n",
    "# Extract vowels from the string x and store them in y\n",
    "for i in x:\n",
    "    if i in z:\n",
    "        y += i\n",
    "# Reverse the string of vowels\n",
    "p = y[::-1]\n",
    "# Create a list from the string x\n",
    "l = [i for i in x]\n",
    "# Replace the vowels in the list l with the reversed vowels from p\n",
    "j = 0\n",
    "for k in range(len(l)):\n",
    "    if l[k] in y:\n",
    "        l[k] = p[j]\n",
    "        j += 1\n",
    "vowels=''\n",
    "for i in l:\n",
    "    vowels+=i\n",
    "vowels"
   ]
  },
  {
   "cell_type": "code",
   "execution_count": 11,
   "id": "e99ded53-6160-4612-bb50-5ecb4b1c18e9",
   "metadata": {},
   "outputs": [],
   "source": [
    "def reverse_vowels(str):\n",
    "    vowel='aeiouAEIOU'\n",
    "    extract_vowel=''\n",
    "    for i in str:\n",
    "        if i in vowel:\n",
    "            extract_vowel+=i\n",
    "    reverse_extract_vowel=extract_vowel[::-1]\n",
    "    list_str=[i for i in str]\n",
    "    j=0\n",
    "    for k in range(len(list_str)):\n",
    "        if list_str[k] in extract_vowel:\n",
    "            list_str[k]=reverse_extract_vowel[j]\n",
    "            j+=1\n",
    "    result=''\n",
    "    for i in list_str:\n",
    "        result+=i\n",
    "    return result"
   ]
  },
  {
   "cell_type": "code",
   "execution_count": 12,
   "id": "fa04f3c6-1970-45f5-8502-0a877b898b59",
   "metadata": {},
   "outputs": [
    {
     "name": "stdout",
     "output_type": "stream",
     "text": [
      "Hollo Werld\n"
     ]
    }
   ],
   "source": [
    "print(reverse_vowels('Hello World'))"
   ]
  },
  {
   "cell_type": "code",
   "execution_count": 15,
   "id": "254cf76f-f0b8-47cb-bee5-b62d7d13b051",
   "metadata": {},
   "outputs": [
    {
     "name": "stdout",
     "output_type": "stream",
     "text": [
      "odicatuEn\n"
     ]
    }
   ],
   "source": [
    "print(reverse_vowels('Education'))"
   ]
  },
  {
   "cell_type": "code",
   "execution_count": 10,
   "id": "92fcd92e-fe29-4a17-ab23-6f2cdf83f9df",
   "metadata": {},
   "outputs": [
    {
     "data": {
      "text/plain": [
       "13"
      ]
     },
     "execution_count": 10,
     "metadata": {},
     "output_type": "execute_result"
    }
   ],
   "source": [
    "s='hello'\n",
    "l=[]\n",
    "for i in s:\n",
    "    l.append(ord(i))\n",
    "m=0\n",
    "for i in range(len(l)-1):\n",
    "    n=abs(l[i]-l[i+1])\n",
    "    m+=n\n",
    "m"
   ]
  },
  {
   "cell_type": "code",
   "execution_count": 6,
   "id": "fa8c7e78-1cea-4974-927d-25658df13e35",
   "metadata": {},
   "outputs": [
    {
     "data": {
      "text/plain": [
       "[104, 101, 108, 111]"
      ]
     },
     "execution_count": 6,
     "metadata": {},
     "output_type": "execute_result"
    }
   ],
   "source": [
    "l"
   ]
  },
  {
   "cell_type": "code",
   "execution_count": 2,
   "id": "4724f49b-08a3-487b-a714-28111b6517ce",
   "metadata": {},
   "outputs": [],
   "source": [
    "import pandas as pd\n",
    "data = [[1, 'Vote for Biden'], [2, 'Let us make America great again!']]\n",
    "df = pd.DataFrame(data, columns=['tweet_id', 'content']).astype({'tweet_id':'Int64', 'content':'object'})"
   ]
  },
  {
   "cell_type": "code",
   "execution_count": 3,
   "id": "47f0df61-b8b3-4c46-a828-9e4f3bf8fa19",
   "metadata": {},
   "outputs": [],
   "source": [
    "df1=pd.DataFrame(df['tweet_id'][df['content'].str.len()<15])"
   ]
  },
  {
   "cell_type": "code",
   "execution_count": null,
   "id": "6e9a8791-06a9-45ae-a633-8d7448b8dd5a",
   "metadata": {},
   "outputs": [],
   "source": [
    "def invalid_tweets(df: pd.DataFrame) -> pd.DataFrame:\n",
    "    df=df[df['content'].str.len()>15]\n",
    "    df=df[['tweet_id']]\n",
    "    return df"
   ]
  },
  {
   "cell_type": "code",
   "execution_count": 4,
   "id": "44ef0b45-6de2-4df5-aa93-53d7a159eb3a",
   "metadata": {},
   "outputs": [],
   "source": [
    "digits='23'\n",
    "x={'2':'abc','3':'def','4':'ghi','5':'jkl','6':'mno','7':'pqrs','8':'tuv','9':'wxyz'}\n",
    "c=[]\n",
    "l=[]\n",
    "for i in digits:\n",
    "    c.append(x[i])\n"
   ]
  },
  {
   "cell_type": "code",
   "execution_count": 3,
   "id": "7161979c-1e0e-41e6-85cc-9cebdc442d33",
   "metadata": {},
   "outputs": [
    {
     "data": {
      "text/plain": [
       "['abc', 'def']"
      ]
     },
     "execution_count": 3,
     "metadata": {},
     "output_type": "execute_result"
    }
   ],
   "source": [
    "c"
   ]
  },
  {
   "cell_type": "code",
   "execution_count": 5,
   "id": "247e456d-f4cc-40e4-9b16-ada42b8ebb90",
   "metadata": {},
   "outputs": [
    {
     "data": {
      "text/plain": [
       "['abca', 'abcb', 'abcc', 'defd', 'defe', 'deff']"
      ]
     },
     "execution_count": 5,
     "metadata": {},
     "output_type": "execute_result"
    }
   ],
   "source": [
    "l"
   ]
  },
  {
   "cell_type": "code",
   "execution_count": 8,
   "id": "f00e7468-e998-483a-8843-2b6a1f611e10",
   "metadata": {},
   "outputs": [],
   "source": [
    "nums1=[1,2,3,0,0,0]\n",
    "nums2=[2,5,6]\n",
    "m=3\n",
    "n=3\n",
    "x=[nums1[i] for i in range(m)]\n",
    "y=[nums2[i] for i in range(n)]\n",
    "z=x+y\n",
    "z.sort()"
   ]
  },
  {
   "cell_type": "code",
   "execution_count": 15,
   "id": "b381326f-db6e-4925-a408-4028c0477cc8",
   "metadata": {},
   "outputs": [
    {
     "data": {
      "text/plain": [
       "[1, 2, 2, 3, 5, 6]"
      ]
     },
     "execution_count": 15,
     "metadata": {},
     "output_type": "execute_result"
    }
   ],
   "source": [
    "nums1.clear()\n",
    "z=x+y\n",
    "for i in z:\n",
    "    nums1.append(i)\n",
    "nums1.sort()\n",
    "nums1"
   ]
  },
  {
   "cell_type": "code",
   "execution_count": 6,
   "id": "5faea9a9-8563-48a7-b34d-8bc965d8e147",
   "metadata": {},
   "outputs": [
    {
     "data": {
      "text/plain": [
       "[0, 0, 1, 2, 3, 4]"
      ]
     },
     "execution_count": 6,
     "metadata": {},
     "output_type": "execute_result"
    }
   ],
   "source": [
    "nums = [0,1,2,2,3,0,4,2]\n",
    "val = 2\n",
    "nums.sort()\n",
    "for i in nums:\n",
    "    if i == val:\n",
    "        nums.remove(i)\n",
    "nums"
   ]
  },
  {
   "cell_type": "code",
   "execution_count": 11,
   "id": "e04d736e-d8ea-420e-9eb1-617fb8ff9b0c",
   "metadata": {},
   "outputs": [
    {
     "name": "stdout",
     "output_type": "stream",
     "text": [
      "the sky is blue\n"
     ]
    }
   ],
   "source": [
    "s = \"the sky is blue\"\n",
    "print(s)\n",
    "l=s.split()\n",
    "l=l[::-1]\n",
    "x=''\n",
    "for i in l:\n",
    "    x+=i\n",
    "    x+=' '"
   ]
  },
  {
   "cell_type": "code",
   "execution_count": 12,
   "id": "70f86e0a-c195-45eb-8c96-15b73007f68c",
   "metadata": {},
   "outputs": [
    {
     "data": {
      "text/plain": [
       "'the sky is blue'"
      ]
     },
     "execution_count": 12,
     "metadata": {},
     "output_type": "execute_result"
    }
   ],
   "source": [
    "x\n",
    "s"
   ]
  },
  {
   "cell_type": "code",
   "execution_count": 20,
   "id": "77f1b8ab-531e-4d7c-86a0-20abc97cc41b",
   "metadata": {},
   "outputs": [
    {
     "data": {
      "text/plain": [
       "15"
      ]
     },
     "execution_count": 20,
     "metadata": {},
     "output_type": "execute_result"
    }
   ],
   "source": [
    "len(s)"
   ]
  },
  {
   "cell_type": "code",
   "execution_count": 1,
   "id": "ab8a41bf-97c1-4c0a-9182-39af26a6de24",
   "metadata": {},
   "outputs": [],
   "source": [
    "import pandas as pd"
   ]
  },
  {
   "cell_type": "code",
   "execution_count": null,
   "id": "eb09cfa7-a4ef-4760-a19e-8c87a465fca1",
   "metadata": {},
   "outputs": [],
   "source": []
  }
 ],
 "metadata": {
  "kernelspec": {
   "display_name": "Python 3 (ipykernel)",
   "language": "python",
   "name": "python3"
  },
  "language_info": {
   "codemirror_mode": {
    "name": "ipython",
    "version": 3
   },
   "file_extension": ".py",
   "mimetype": "text/x-python",
   "name": "python",
   "nbconvert_exporter": "python",
   "pygments_lexer": "ipython3",
   "version": "3.11.7"
  },
  "widgets": {
   "application/vnd.jupyter.widget-state+json": {
    "state": {},
    "version_major": 2,
    "version_minor": 0
   }
  }
 },
 "nbformat": 4,
 "nbformat_minor": 5
}
