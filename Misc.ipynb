{
 "cells": [
  {
   "cell_type": "code",
   "execution_count": 6,
   "id": "ad01a575-e6b7-4f3c-8a26-41e18cc170a4",
   "metadata": {
    "tags": []
   },
   "outputs": [],
   "source": [
    "from math import sqrt\n",
    "def test(n):\n",
    "        x = sqrt(n * (n + 1) / 2)\n",
    "        \n",
    "        if x % 1 != 0:\n",
    "            return -1\n",
    "        else:\n",
    "            return int(x)"
   ]
  },
  {
   "cell_type": "code",
   "execution_count": 9,
   "id": "7c402020-e533-471b-9251-78a3daa88a79",
   "metadata": {
    "tags": []
   },
   "outputs": [
    {
     "name": "stdout",
     "output_type": "stream",
     "text": [
      "-1\n"
     ]
    }
   ],
   "source": [
    "print(test(4))"
   ]
  },
  {
   "cell_type": "code",
   "execution_count": 10,
   "id": "5adebadf-c1d9-4ccd-a275-e95681f08f01",
   "metadata": {
    "tags": []
   },
   "outputs": [
    {
     "data": {
      "text/plain": [
       "6.0"
      ]
     },
     "execution_count": 10,
     "metadata": {},
     "output_type": "execute_result"
    }
   ],
   "source": [
    "n=8\n",
    "x = sqrt(n * (n + 1) / 2)\n",
    "x"
   ]
  },
  {
   "cell_type": "code",
   "execution_count": 11,
   "id": "04e0fbf2-ac8c-46a7-afa4-1a56ca469fed",
   "metadata": {
    "tags": []
   },
   "outputs": [
    {
     "data": {
      "text/plain": [
       "4.5"
      ]
     },
     "execution_count": 11,
     "metadata": {},
     "output_type": "execute_result"
    }
   ],
   "source": [
    "9/2"
   ]
  },
  {
   "cell_type": "code",
   "execution_count": 1,
   "id": "0248b02f-0023-4670-adda-227af8d80e06",
   "metadata": {},
   "outputs": [
    {
     "data": {
      "text/plain": [
       "'Pawan'"
      ]
     },
     "execution_count": 1,
     "metadata": {},
     "output_type": "execute_result"
    }
   ],
   "source": [
    "x='pawan'\n",
    "x.capitalize()"
   ]
  },
  {
   "cell_type": "code",
   "execution_count": 2,
   "id": "8f719559-b62f-4ea6-8156-5906d1772539",
   "metadata": {},
   "outputs": [],
   "source": [
    "import pandas as pd\n"
   ]
  },
  {
   "cell_type": "code",
   "execution_count": 21,
   "id": "1b0df681-7482-447c-9e9f-584659999ae2",
   "metadata": {},
   "outputs": [
    {
     "name": "stdout",
     "output_type": "stream",
     "text": [
      "['Maize' 'Potatoes' 'Rice, paddy' 'Sorghum' 'Soybeans' 'Wheat' 'Cassava'\n",
      " 'Sweet potatoes' 'Plantains and others' 'Yams']\n",
      "['Albania' 'Algeria' 'Angola' 'Argentina' 'Armenia' 'Australia' 'Austria'\n",
      " 'Azerbaijan' 'Bahamas' 'Bahrain' 'Bangladesh' 'Belarus' 'Belgium'\n",
      " 'Botswana' 'Brazil' 'Bulgaria' 'Burkina Faso' 'Burundi' 'Cameroon'\n",
      " 'Canada' 'Central African Republic' 'Chile' 'Colombia' 'Croatia'\n",
      " 'Denmark' 'Dominican Republic' 'Ecuador' 'Egypt' 'El Salvador' 'Eritrea'\n",
      " 'Estonia' 'Finland' 'France' 'Germany' 'Ghana' 'Greece' 'Guatemala'\n",
      " 'Guinea' 'Guyana' 'Haiti' 'Honduras' 'Hungary' 'India' 'Indonesia' 'Iraq'\n",
      " 'Ireland' 'Italy' 'Jamaica' 'Japan' 'Kazakhstan' 'Kenya' 'Latvia'\n",
      " 'Lebanon' 'Lesotho' 'Libya' 'Lithuania' 'Madagascar' 'Malawi' 'Malaysia'\n",
      " 'Mali' 'Mauritania' 'Mauritius' 'Mexico' 'Montenegro' 'Morocco'\n",
      " 'Mozambique' 'Namibia' 'Nepal' 'Netherlands' 'New Zealand' 'Nicaragua'\n",
      " 'Niger' 'Norway' 'Pakistan' 'Papua New Guinea' 'Peru' 'Poland' 'Portugal'\n",
      " 'Qatar' 'Romania' 'Rwanda' 'Saudi Arabia' 'Senegal' 'Slovenia'\n",
      " 'South Africa' 'Spain' 'Sri Lanka' 'Sudan' 'Suriname' 'Sweden'\n",
      " 'Switzerland' 'Tajikistan' 'Thailand' 'Tunisia' 'Turkey' 'Uganda'\n",
      " 'Ukraine' 'United Kingdom' 'Uruguay' 'Zambia' 'Zimbabwe']\n"
     ]
    }
   ],
   "source": [
    "df=pd.read_csv('G:/Coding/Git Uploads/Project/Crop Predictions/main.csv')\n",
    "print((df['item'].unique()))\n",
    "y=df['area'].unique()\n",
    "# type(x\n",
    "print(y)"
   ]
  },
  {
   "cell_type": "code",
   "execution_count": 23,
   "id": "5b0f6f8f-b8de-4ae8-93a9-65af5f0ee42f",
   "metadata": {},
   "outputs": [
    {
     "data": {
      "text/html": [
       "<div>\n",
       "<style scoped>\n",
       "    .dataframe tbody tr th:only-of-type {\n",
       "        vertical-align: middle;\n",
       "    }\n",
       "\n",
       "    .dataframe tbody tr th {\n",
       "        vertical-align: top;\n",
       "    }\n",
       "\n",
       "    .dataframe thead th {\n",
       "        text-align: right;\n",
       "    }\n",
       "</style>\n",
       "<table border=\"1\" class=\"dataframe\">\n",
       "  <thead>\n",
       "    <tr style=\"text-align: right;\">\n",
       "      <th></th>\n",
       "      <th>average_rainfall</th>\n",
       "      <th>presticides_tonnes</th>\n",
       "      <th>avg_temp</th>\n",
       "      <th>Country_Albania</th>\n",
       "      <th>Country_Algeria</th>\n",
       "      <th>Country_Angola</th>\n",
       "      <th>Country_Argentina</th>\n",
       "      <th>Country_Armenia</th>\n",
       "      <th>Country_Australia</th>\n",
       "      <th>Country_Austria</th>\n",
       "      <th>...</th>\n",
       "      <th>Item_Cassava</th>\n",
       "      <th>Item_Maize</th>\n",
       "      <th>Item_Plantains and others</th>\n",
       "      <th>Item_Potatoes</th>\n",
       "      <th>Item_Rice, paddy</th>\n",
       "      <th>Item_Sorghum</th>\n",
       "      <th>Item_Soybeans</th>\n",
       "      <th>Item_Sweet potatoes</th>\n",
       "      <th>Item_Wheat</th>\n",
       "      <th>Item_Yams</th>\n",
       "    </tr>\n",
       "  </thead>\n",
       "  <tbody>\n",
       "    <tr>\n",
       "      <th>0</th>\n",
       "      <td>1485</td>\n",
       "      <td>121.00</td>\n",
       "      <td>16.37</td>\n",
       "      <td>True</td>\n",
       "      <td>False</td>\n",
       "      <td>False</td>\n",
       "      <td>False</td>\n",
       "      <td>False</td>\n",
       "      <td>False</td>\n",
       "      <td>False</td>\n",
       "      <td>...</td>\n",
       "      <td>False</td>\n",
       "      <td>True</td>\n",
       "      <td>False</td>\n",
       "      <td>False</td>\n",
       "      <td>False</td>\n",
       "      <td>False</td>\n",
       "      <td>False</td>\n",
       "      <td>False</td>\n",
       "      <td>False</td>\n",
       "      <td>False</td>\n",
       "    </tr>\n",
       "    <tr>\n",
       "      <th>1</th>\n",
       "      <td>1485</td>\n",
       "      <td>121.00</td>\n",
       "      <td>16.37</td>\n",
       "      <td>True</td>\n",
       "      <td>False</td>\n",
       "      <td>False</td>\n",
       "      <td>False</td>\n",
       "      <td>False</td>\n",
       "      <td>False</td>\n",
       "      <td>False</td>\n",
       "      <td>...</td>\n",
       "      <td>False</td>\n",
       "      <td>False</td>\n",
       "      <td>False</td>\n",
       "      <td>True</td>\n",
       "      <td>False</td>\n",
       "      <td>False</td>\n",
       "      <td>False</td>\n",
       "      <td>False</td>\n",
       "      <td>False</td>\n",
       "      <td>False</td>\n",
       "    </tr>\n",
       "    <tr>\n",
       "      <th>2</th>\n",
       "      <td>1485</td>\n",
       "      <td>121.00</td>\n",
       "      <td>16.37</td>\n",
       "      <td>True</td>\n",
       "      <td>False</td>\n",
       "      <td>False</td>\n",
       "      <td>False</td>\n",
       "      <td>False</td>\n",
       "      <td>False</td>\n",
       "      <td>False</td>\n",
       "      <td>...</td>\n",
       "      <td>False</td>\n",
       "      <td>False</td>\n",
       "      <td>False</td>\n",
       "      <td>False</td>\n",
       "      <td>True</td>\n",
       "      <td>False</td>\n",
       "      <td>False</td>\n",
       "      <td>False</td>\n",
       "      <td>False</td>\n",
       "      <td>False</td>\n",
       "    </tr>\n",
       "    <tr>\n",
       "      <th>3</th>\n",
       "      <td>1485</td>\n",
       "      <td>121.00</td>\n",
       "      <td>16.37</td>\n",
       "      <td>True</td>\n",
       "      <td>False</td>\n",
       "      <td>False</td>\n",
       "      <td>False</td>\n",
       "      <td>False</td>\n",
       "      <td>False</td>\n",
       "      <td>False</td>\n",
       "      <td>...</td>\n",
       "      <td>False</td>\n",
       "      <td>False</td>\n",
       "      <td>False</td>\n",
       "      <td>False</td>\n",
       "      <td>False</td>\n",
       "      <td>True</td>\n",
       "      <td>False</td>\n",
       "      <td>False</td>\n",
       "      <td>False</td>\n",
       "      <td>False</td>\n",
       "    </tr>\n",
       "    <tr>\n",
       "      <th>4</th>\n",
       "      <td>1485</td>\n",
       "      <td>121.00</td>\n",
       "      <td>16.37</td>\n",
       "      <td>True</td>\n",
       "      <td>False</td>\n",
       "      <td>False</td>\n",
       "      <td>False</td>\n",
       "      <td>False</td>\n",
       "      <td>False</td>\n",
       "      <td>False</td>\n",
       "      <td>...</td>\n",
       "      <td>False</td>\n",
       "      <td>False</td>\n",
       "      <td>False</td>\n",
       "      <td>False</td>\n",
       "      <td>False</td>\n",
       "      <td>False</td>\n",
       "      <td>True</td>\n",
       "      <td>False</td>\n",
       "      <td>False</td>\n",
       "      <td>False</td>\n",
       "    </tr>\n",
       "    <tr>\n",
       "      <th>...</th>\n",
       "      <td>...</td>\n",
       "      <td>...</td>\n",
       "      <td>...</td>\n",
       "      <td>...</td>\n",
       "      <td>...</td>\n",
       "      <td>...</td>\n",
       "      <td>...</td>\n",
       "      <td>...</td>\n",
       "      <td>...</td>\n",
       "      <td>...</td>\n",
       "      <td>...</td>\n",
       "      <td>...</td>\n",
       "      <td>...</td>\n",
       "      <td>...</td>\n",
       "      <td>...</td>\n",
       "      <td>...</td>\n",
       "      <td>...</td>\n",
       "      <td>...</td>\n",
       "      <td>...</td>\n",
       "      <td>...</td>\n",
       "      <td>...</td>\n",
       "    </tr>\n",
       "    <tr>\n",
       "      <th>28237</th>\n",
       "      <td>657</td>\n",
       "      <td>2550.07</td>\n",
       "      <td>19.76</td>\n",
       "      <td>False</td>\n",
       "      <td>False</td>\n",
       "      <td>False</td>\n",
       "      <td>False</td>\n",
       "      <td>False</td>\n",
       "      <td>False</td>\n",
       "      <td>False</td>\n",
       "      <td>...</td>\n",
       "      <td>False</td>\n",
       "      <td>False</td>\n",
       "      <td>False</td>\n",
       "      <td>False</td>\n",
       "      <td>True</td>\n",
       "      <td>False</td>\n",
       "      <td>False</td>\n",
       "      <td>False</td>\n",
       "      <td>False</td>\n",
       "      <td>False</td>\n",
       "    </tr>\n",
       "    <tr>\n",
       "      <th>28238</th>\n",
       "      <td>657</td>\n",
       "      <td>2550.07</td>\n",
       "      <td>19.76</td>\n",
       "      <td>False</td>\n",
       "      <td>False</td>\n",
       "      <td>False</td>\n",
       "      <td>False</td>\n",
       "      <td>False</td>\n",
       "      <td>False</td>\n",
       "      <td>False</td>\n",
       "      <td>...</td>\n",
       "      <td>False</td>\n",
       "      <td>False</td>\n",
       "      <td>False</td>\n",
       "      <td>False</td>\n",
       "      <td>False</td>\n",
       "      <td>True</td>\n",
       "      <td>False</td>\n",
       "      <td>False</td>\n",
       "      <td>False</td>\n",
       "      <td>False</td>\n",
       "    </tr>\n",
       "    <tr>\n",
       "      <th>28239</th>\n",
       "      <td>657</td>\n",
       "      <td>2550.07</td>\n",
       "      <td>19.76</td>\n",
       "      <td>False</td>\n",
       "      <td>False</td>\n",
       "      <td>False</td>\n",
       "      <td>False</td>\n",
       "      <td>False</td>\n",
       "      <td>False</td>\n",
       "      <td>False</td>\n",
       "      <td>...</td>\n",
       "      <td>False</td>\n",
       "      <td>False</td>\n",
       "      <td>False</td>\n",
       "      <td>False</td>\n",
       "      <td>False</td>\n",
       "      <td>False</td>\n",
       "      <td>True</td>\n",
       "      <td>False</td>\n",
       "      <td>False</td>\n",
       "      <td>False</td>\n",
       "    </tr>\n",
       "    <tr>\n",
       "      <th>28240</th>\n",
       "      <td>657</td>\n",
       "      <td>2550.07</td>\n",
       "      <td>19.76</td>\n",
       "      <td>False</td>\n",
       "      <td>False</td>\n",
       "      <td>False</td>\n",
       "      <td>False</td>\n",
       "      <td>False</td>\n",
       "      <td>False</td>\n",
       "      <td>False</td>\n",
       "      <td>...</td>\n",
       "      <td>False</td>\n",
       "      <td>False</td>\n",
       "      <td>False</td>\n",
       "      <td>False</td>\n",
       "      <td>False</td>\n",
       "      <td>False</td>\n",
       "      <td>False</td>\n",
       "      <td>True</td>\n",
       "      <td>False</td>\n",
       "      <td>False</td>\n",
       "    </tr>\n",
       "    <tr>\n",
       "      <th>28241</th>\n",
       "      <td>657</td>\n",
       "      <td>2550.07</td>\n",
       "      <td>19.76</td>\n",
       "      <td>False</td>\n",
       "      <td>False</td>\n",
       "      <td>False</td>\n",
       "      <td>False</td>\n",
       "      <td>False</td>\n",
       "      <td>False</td>\n",
       "      <td>False</td>\n",
       "      <td>...</td>\n",
       "      <td>False</td>\n",
       "      <td>False</td>\n",
       "      <td>False</td>\n",
       "      <td>False</td>\n",
       "      <td>False</td>\n",
       "      <td>False</td>\n",
       "      <td>False</td>\n",
       "      <td>False</td>\n",
       "      <td>True</td>\n",
       "      <td>False</td>\n",
       "    </tr>\n",
       "  </tbody>\n",
       "</table>\n",
       "<p>28242 rows × 114 columns</p>\n",
       "</div>"
      ],
      "text/plain": [
       "       average_rainfall  presticides_tonnes  avg_temp  Country_Albania  \\\n",
       "0                  1485              121.00     16.37             True   \n",
       "1                  1485              121.00     16.37             True   \n",
       "2                  1485              121.00     16.37             True   \n",
       "3                  1485              121.00     16.37             True   \n",
       "4                  1485              121.00     16.37             True   \n",
       "...                 ...                 ...       ...              ...   \n",
       "28237               657             2550.07     19.76            False   \n",
       "28238               657             2550.07     19.76            False   \n",
       "28239               657             2550.07     19.76            False   \n",
       "28240               657             2550.07     19.76            False   \n",
       "28241               657             2550.07     19.76            False   \n",
       "\n",
       "       Country_Algeria  Country_Angola  Country_Argentina  Country_Armenia  \\\n",
       "0                False           False              False            False   \n",
       "1                False           False              False            False   \n",
       "2                False           False              False            False   \n",
       "3                False           False              False            False   \n",
       "4                False           False              False            False   \n",
       "...                ...             ...                ...              ...   \n",
       "28237            False           False              False            False   \n",
       "28238            False           False              False            False   \n",
       "28239            False           False              False            False   \n",
       "28240            False           False              False            False   \n",
       "28241            False           False              False            False   \n",
       "\n",
       "       Country_Australia  Country_Austria  ...  Item_Cassava  Item_Maize  \\\n",
       "0                  False            False  ...         False        True   \n",
       "1                  False            False  ...         False       False   \n",
       "2                  False            False  ...         False       False   \n",
       "3                  False            False  ...         False       False   \n",
       "4                  False            False  ...         False       False   \n",
       "...                  ...              ...  ...           ...         ...   \n",
       "28237              False            False  ...         False       False   \n",
       "28238              False            False  ...         False       False   \n",
       "28239              False            False  ...         False       False   \n",
       "28240              False            False  ...         False       False   \n",
       "28241              False            False  ...         False       False   \n",
       "\n",
       "       Item_Plantains and others  Item_Potatoes  Item_Rice, paddy  \\\n",
       "0                          False          False             False   \n",
       "1                          False           True             False   \n",
       "2                          False          False              True   \n",
       "3                          False          False             False   \n",
       "4                          False          False             False   \n",
       "...                          ...            ...               ...   \n",
       "28237                      False          False              True   \n",
       "28238                      False          False             False   \n",
       "28239                      False          False             False   \n",
       "28240                      False          False             False   \n",
       "28241                      False          False             False   \n",
       "\n",
       "       Item_Sorghum  Item_Soybeans  Item_Sweet potatoes  Item_Wheat  Item_Yams  \n",
       "0             False          False                False       False      False  \n",
       "1             False          False                False       False      False  \n",
       "2             False          False                False       False      False  \n",
       "3              True          False                False       False      False  \n",
       "4             False           True                False       False      False  \n",
       "...             ...            ...                  ...         ...        ...  \n",
       "28237         False          False                False       False      False  \n",
       "28238          True          False                False       False      False  \n",
       "28239         False           True                False       False      False  \n",
       "28240         False          False                 True       False      False  \n",
       "28241         False          False                False        True      False  \n",
       "\n",
       "[28242 rows x 114 columns]"
      ]
     },
     "execution_count": 23,
     "metadata": {},
     "output_type": "execute_result"
    }
   ],
   "source": [
    "df1=pd.read_csv('G:/Coding/Git Uploads/Project/Crop Predictions/test.csv')\n",
    "df1"
   ]
  },
  {
   "cell_type": "code",
   "execution_count": 13,
   "id": "ad0983fa-4c9c-4831-a470-c3db61ee5d01",
   "metadata": {},
   "outputs": [],
   "source": [
    "z=df['item'].values"
   ]
  },
  {
   "cell_type": "code",
   "execution_count": 15,
   "id": "825cf1ee-2e09-4017-b848-f2104545a368",
   "metadata": {},
   "outputs": [
    {
     "data": {
      "text/plain": [
       "numpy.ndarray"
      ]
     },
     "execution_count": 15,
     "metadata": {},
     "output_type": "execute_result"
    }
   ],
   "source": [
    "type(z)"
   ]
  },
  {
   "cell_type": "code",
   "execution_count": 36,
   "id": "42de7620-9cae-42c2-a115-2a703ce52032",
   "metadata": {},
   "outputs": [
    {
     "data": {
      "text/plain": [
       "[24, 12, 8, 6]"
      ]
     },
     "execution_count": 36,
     "metadata": {},
     "output_type": "execute_result"
    }
   ],
   "source": [
    "from functools import*\n",
    "x=[1,2,3,4]\n",
    "p=x.copy()\n",
    "z=[]\n",
    "for i in x:\n",
    "    p.remove(i)\n",
    "    z.append(reduce(lambda x,y: x*y,p))\n",
    "    p=x.copy()\n",
    "z"
   ]
  },
  {
   "cell_type": "code",
   "execution_count": 1,
   "id": "898d8901-3060-4c3c-b72b-a7ed68b5d8e6",
   "metadata": {},
   "outputs": [],
   "source": [
    "encode = {'team1': {'MI':1,'KKR':2,'RCB':3,'DC':4,'CSK':5,'RR':6,'DD':7,'GL':8,'KXIP':9,'SRH':10,'RPS':11,'KTK':12,'PW':13},'team2': {'MI':1,'KKR':2,'RCB':3,'DC':4,'CSK':5,'RR':6,'DD':7,'GL':8,'KXIP':9,'SRH':10,'RPS':11,'KTK':12,'PW':13},'toss_winner': {'MI':1,'KKR':2,'RCB':3,'DC':4,'CSK':5,'RR':6,'DD':7,'GL':8,'KXIP':9,'SRH':10,'RPS':11,'KTK':12,'PW':13},'winner': {'MI':1,'KKR':2,'RCB':3,'DC':4,'CSK':5,'RR':6,'DD':7,'GL':8,'KXIP':9,'SRH':10,'RPS':11,'KTK':12,'PW':13,'Draw':14},'toss_decision':{'field':0,'bat':1},\n",
    "'city':{'Hyderabad':0, 'Pune':1, 'Rajkot':2, 'Indore':3, 'Bangalore':4, 'Mumbai':5,'Kolkata':6, 'Delhi':7, 'Chandigarh':8, 'Kanpur':9, 'Jaipur':10, 'Chennai':11,'Cape Town':12, 'Port Elizabeth':13, 'Durban':14, 'Centurion':15,'East London':16, 'Johannesburg':17, 'Kimberley':18, 'Bloemfontein':19,'Ahmedabad':20, 'Cuttack':21, 'Nagpur':22, 'Dharamsala':23, 'Kochi':24,'Visakhapatnam':25, 'Raipur':26, 'Ranchi':27, 'Abu Dhabi':28, 'Sharjah':29,'Dubai':30},'venue':{'Rajiv Gandhi International Stadium, Uppal':0,'Maharashtra Cricket Association Stadium':1,'Saurashtra Cricket Association Stadium':2, 'Holkar Cricket Stadium':3,'M Chinnaswamy Stadium':4, 'Wankhede Stadium':5, 'Eden Gardens':6,'Arun Jaitley Stadium':7,'Punjab Cricket Association IS Bindra Stadium, Mohali':8,'Green Park':9, 'Punjab Cricket Association Stadium, Mohali':8,'Sawai Mansingh Stadium':10, 'MA Chidambaram Stadium, Chepauk':11,'Dr DY Patil Sports Academy':5, 'Newlands':12, \"St George's Park\":13,'Kingsmead':14, 'SuperSport Park':15, 'Buffalo Park':16,'New Wanderers Stadium':17, 'De Beers Diamond Oval':18,'OUTsurance Oval':19, 'Brabourne Stadium':19,'Narendra Modi Stadium, Motera':20, 'Barabati Stadium':21,'Vidarbha Cricket Association Stadium, Jamtha':22,'Himachal Pradesh Cricket Association Stadium':23, 'Nehru Stadium':24,'Dr. Y.S. Rajasekhara Reddy ACA-VDCA Cricket Stadium':25,'Subrata Roy Sahara Stadium':1,'Shaheed Veer Narayan Singh International Stadium':26,'JSCA International Stadium Complex':27, 'Sheikh Zayed Stadium':28,'Sharjah Cricket Stadium':29, 'Dubai International Cricket Stadium':30}}  "
   ]
  },
  {
   "cell_type": "code",
   "execution_count": 23,
   "id": "365f40af-443f-4aa5-8afa-c74a01bc1c33",
   "metadata": {},
   "outputs": [
    {
     "data": {
      "text/plain": [
       "dict_items([('MI', 1), ('KKR', 2), ('RCB', 3), ('DC', 4), ('CSK', 5), ('RR', 6), ('DD', 7), ('GL', 8), ('KXIP', 9), ('SRH', 10), ('RPS', 11), ('KTK', 12), ('PW', 13)])"
      ]
     },
     "execution_count": 23,
     "metadata": {},
     "output_type": "execute_result"
    }
   ],
   "source": [
    "z=encode['team1'].keys()\n",
    "encode['team1'].items()"
   ]
  },
  {
   "cell_type": "code",
   "execution_count": 12,
   "id": "b84a9341-c59f-4bdb-a87d-e244780e854b",
   "metadata": {},
   "outputs": [
    {
     "data": {
      "text/plain": [
       "0"
      ]
     },
     "execution_count": 12,
     "metadata": {},
     "output_type": "execute_result"
    }
   ],
   "source": [
    "encode['team1']"
   ]
  },
  {
   "cell_type": "code",
   "execution_count": 16,
   "id": "ec8e140f-18a8-4522-b8e3-2f535f91d5c8",
   "metadata": {},
   "outputs": [
    {
     "data": {
      "text/plain": [
       "dict_keys(['MI', 'KKR', 'RCB', 'DC', 'CSK', 'RR', 'DD', 'GL', 'KXIP', 'SRH', 'RPS', 'KTK', 'PW'])"
      ]
     },
     "execution_count": 16,
     "metadata": {},
     "output_type": "execute_result"
    }
   ],
   "source": [
    "encode['team2'].keys()"
   ]
  },
  {
   "cell_type": "code",
   "execution_count": 21,
   "id": "4e4fca99-0e2c-48c9-8e66-ee85cc0af7fb",
   "metadata": {},
   "outputs": [],
   "source": [
    "value_to_find=5\n",
    "key = next(key for key, value in encode['team1'].items() if value == value_to_find)"
   ]
  },
  {
   "cell_type": "code",
   "execution_count": 22,
   "id": "452d09af-6783-4bd7-8c91-11ff6aee6667",
   "metadata": {},
   "outputs": [
    {
     "data": {
      "text/plain": [
       "'CSK'"
      ]
     },
     "execution_count": 22,
     "metadata": {},
     "output_type": "execute_result"
    }
   ],
   "source": [
    "key"
   ]
  },
  {
   "cell_type": "code",
   "execution_count": 24,
   "id": "56502e98-3974-4c75-9e44-567db650f40e",
   "metadata": {},
   "outputs": [
    {
     "data": {
      "text/plain": [
       "dict_keys(['MI', 'KKR', 'RCB', 'DC', 'CSK', 'RR', 'DD', 'GL', 'KXIP', 'SRH', 'RPS', 'KTK', 'PW'])"
      ]
     },
     "execution_count": 24,
     "metadata": {},
     "output_type": "execute_result"
    }
   ],
   "source": [
    "z"
   ]
  },
  {
   "cell_type": "code",
   "execution_count": 6,
   "id": "b25a995b-013d-4628-b04a-47f4a38c9c6f",
   "metadata": {},
   "outputs": [
    {
     "data": {
      "text/plain": [
       "[2, 24, 45, 66, 75, 90, 170, 802]"
      ]
     },
     "execution_count": 6,
     "metadata": {},
     "output_type": "execute_result"
    }
   ],
   "source": [
    "x=[170,45,75,90,802,24,2,66]\n",
    "y=[[],[],[],[],[],[],[],[],[],[]]\n",
    "z=max(x)\n",
    "p=1\n",
    "while (z)//p>0:\n",
    "    while len(x)>0:\n",
    "        v=x.pop()\n",
    "        l=(v//p)%10\n",
    "        y[l].append(v)\n",
    "    for i in y:\n",
    "        while len(i)>0:\n",
    "            v=i.pop()\n",
    "            x.append(v)\n",
    "    p*=10\n",
    "x"
   ]
  },
  {
   "cell_type": "code",
   "execution_count": 12,
   "id": "9449aeeb-e2b0-496c-a77f-c6dfde3a79f6",
   "metadata": {},
   "outputs": [
    {
     "data": {
      "text/plain": [
       "66"
      ]
     },
     "execution_count": 12,
     "metadata": {},
     "output_type": "execute_result"
    }
   ],
   "source": [
    "x=[170,45,75,90,802,24,2,66]\n",
    "x.pop()"
   ]
  },
  {
   "cell_type": "code",
   "execution_count": 7,
   "id": "b0adff8a-0551-4e3f-b1b9-452130f8f36c",
   "metadata": {},
   "outputs": [
    {
     "data": {
      "text/plain": [
       "80"
      ]
     },
     "execution_count": 7,
     "metadata": {},
     "output_type": "execute_result"
    }
   ],
   "source": [
    "(802//10)"
   ]
  },
  {
   "cell_type": "code",
   "execution_count": 1,
   "id": "c6769555-2c28-4f46-bf86-d8667b372719",
   "metadata": {},
   "outputs": [
    {
     "data": {
      "text/plain": [
       "[[90, 75, 66, 45, 24, 2], [170], [], [], [], [], [], [], [802], []]"
      ]
     },
     "execution_count": 1,
     "metadata": {},
     "output_type": "execute_result"
    }
   ],
   "source": [
    "[[90, 75, 66, 45, 24, 2], [170], [], [], [], [], [], [], [802], []]\n"
   ]
  },
  {
   "cell_type": "code",
   "execution_count": 15,
   "id": "1bb4b044-971e-4af3-acb4-2fc092054780",
   "metadata": {},
   "outputs": [
    {
     "name": "stdout",
     "output_type": "stream",
     "text": [
      "[-13, -10, 3, 6, 7, 15, 23.5, 55]\n"
     ]
    }
   ],
   "source": [
    "def merge_sort(arr):\n",
    "    if len(arr)<=1:\n",
    "        return arr\n",
    "    mid=len(arr)//2\n",
    "    left=arr[:mid]\n",
    "    right=arr[mid:]\n",
    "    s_left=merge_sort(left)\n",
    "    s_right=merge_sort(right)\n",
    "    return merge(s_left,s_right)\n",
    "def merge(left,right):\n",
    "    result=[]\n",
    "    i=j=0\n",
    "    while i<len(left) and j<len(right):\n",
    "        if left[i]<right[j]:\n",
    "            result.append(left[i])\n",
    "            i+=1\n",
    "        else:\n",
    "            result.append(right[j])\n",
    "            j+=1\n",
    "    result.extend(left[i:])\n",
    "    result.extend(right[j:])\n",
    "    return result\n",
    "arr=[3,7,6,-10,15,23.5,55,-13]\n",
    "sorted_arr=merge_sort(arr)\n",
    "print(sorted_arr)"
   ]
  },
  {
   "cell_type": "code",
   "execution_count": 10,
   "id": "1380776e-5a78-4e9b-8d7a-2d39659ee087",
   "metadata": {},
   "outputs": [
    {
     "name": "stdout",
     "output_type": "stream",
     "text": [
      "5\n"
     ]
    }
   ],
   "source": [
    "s =\"Hello World\"\n",
    "str1=s.rstrip()\n",
    "x=''\n",
    "for i in str1[-1::-1]:\n",
    "    if i==' ':\n",
    "        break\n",
    "    else:\n",
    "        x+=i\n",
    "print(len(x))"
   ]
  },
  {
   "cell_type": "code",
   "execution_count": 11,
   "id": "a196a262-6c87-4490-9f60-331b49915e97",
   "metadata": {},
   "outputs": [
    {
     "name": "stdout",
     "output_type": "stream",
     "text": [
      "5\n"
     ]
    },
    {
     "data": {
      "text/plain": [
       "10"
      ]
     },
     "execution_count": 11,
     "metadata": {},
     "output_type": "execute_result"
    }
   ],
   "source": [
    "a=10\n",
    "b=5\n",
    "a,b=b,a\n",
    "print(a)\n",
    "b"
   ]
  },
  {
   "cell_type": "code",
   "execution_count": 12,
   "id": "c486d12f-56b0-47f8-b40f-c8ee50ab9c4e",
   "metadata": {},
   "outputs": [
    {
     "name": "stdout",
     "output_type": "stream",
     "text": [
      "True\n"
     ]
    }
   ],
   "source": [
    "x='Pawan'\n",
    "if 'a' in x:\n",
    "    print(True)\n",
    "else:\n",
    "    print(False)"
   ]
  },
  {
   "cell_type": "code",
   "execution_count": 13,
   "id": "59870d47-2908-4410-8b59-84593ec257b1",
   "metadata": {},
   "outputs": [
    {
     "name": "stdout",
     "output_type": "stream",
     "text": [
      "('a', 10)\n",
      "('b', 20)\n",
      "('c', 30)\n"
     ]
    }
   ],
   "source": [
    "x={'a':10,'b':20,'c':30}\n",
    "for i in x.items():\n",
    "    print(i)"
   ]
  },
  {
   "cell_type": "code",
   "execution_count": 45,
   "id": "9e41020b-4ea8-427b-8939-6842bec66a32",
   "metadata": {},
   "outputs": [
    {
     "data": {
      "text/plain": [
       "'leEeetcode'"
      ]
     },
     "execution_count": 45,
     "metadata": {},
     "output_type": "execute_result"
    }
   ],
   "source": [
    "s=\"leEeetcode\"\n",
    "q=[s]\n",
    "p=[i for i in s]\n",
    "z=''\n",
    "for i in range(0,len(p)-2):\n",
    "    if p[i]==p[i+1].lower() and p[i+1].isupper():\n",
    "        z+=p[i]+p[i+1]\n",
    "if z in q[0]:\n",
    "    "
   ]
  },
  {
   "cell_type": "code",
   "execution_count": 1,
   "id": "de4dd47a-a523-410e-8a8c-4dfa74070f25",
   "metadata": {},
   "outputs": [
    {
     "data": {
      "text/plain": [
       "[0, 0, 0, 0, 0, 0, 0]"
      ]
     },
     "execution_count": 1,
     "metadata": {},
     "output_type": "execute_result"
    }
   ],
   "source": [
    "[0]*7"
   ]
  },
  {
   "cell_type": "code",
   "execution_count": 6,
   "id": "810421e5-b988-4e5a-80cf-4d8d6ce42ec2",
   "metadata": {},
   "outputs": [],
   "source": []
  },
  {
   "cell_type": "code",
   "execution_count": 20,
   "id": "b5a1654c-441f-4d48-9831-9a5cb1331076",
   "metadata": {},
   "outputs": [
    {
     "data": {
      "text/plain": [
       "[3, 2, -1, -3]"
      ]
     },
     "execution_count": 20,
     "metadata": {},
     "output_type": "execute_result"
    }
   ],
   "source": [
    "nums=[-1,2,-3,3]\n",
    "nums.sort(reverse=True)\n",
    "nums"
   ]
  },
  {
   "cell_type": "code",
   "execution_count": 21,
   "id": "7cfeb61d-dbfe-4422-839d-b6d01c33285f",
   "metadata": {},
   "outputs": [
    {
     "name": "stdout",
     "output_type": "stream",
     "text": [
      "7\n"
     ]
    }
   ],
   "source": [
    "def findMaxK(nums):\n",
    "    nums.sort(reverse=True)\n",
    "    for i in nums:\n",
    "        if -i in nums:\n",
    "            return i\n",
    "nums=[-1,10,6,7,-7,1]\n",
    "print(findMaxK(nums))"
   ]
  },
  {
   "cell_type": "code",
   "execution_count": 48,
   "id": "70043154-a907-4bc4-b82d-74a69548cd14",
   "metadata": {},
   "outputs": [
    {
     "name": "stdout",
     "output_type": "stream",
     "text": [
      "[-1, 0, 1, -1, 2, 3, 0, 4, 4]\n"
     ]
    }
   ],
   "source": [
    "# Ask in interview 29-04-2024\n",
    "# [-1,0,1,-1,2,3,0,4,4]  it is output\n",
    "x=[8,16,24,1,25,3,10,65,55]\n",
    "a=[]\n",
    "y=[]\n",
    "for i,j in enumerate(x):\n",
    "    a.append(x[i])\n",
    "    a.sort(reverse=True)\n",
    "    for k in a:\n",
    "        if j>k:\n",
    "            y.append(x.index(k))\n",
    "            break\n",
    "    else:\n",
    "        y.append(-1)\n",
    "print(y)"
   ]
  },
  {
   "cell_type": "code",
   "execution_count": 24,
   "id": "32f970e8-6387-4ba3-a3b9-af6af8f1bd90",
   "metadata": {},
   "outputs": [
    {
     "name": "stdout",
     "output_type": "stream",
     "text": [
      "-1\n"
     ]
    }
   ],
   "source": [
    "version1 = \"1.1.1\"\n",
    "version2 = \"1\"\n",
    "if '.' in version1 and '.' in version2:\n",
    "    x=version1.split('.')\n",
    "    y=version2.split('.')\n",
    "    if x[0]==y[0]:\n",
    "        print(0)\n",
    "    elif x[0]<y[0]:\n",
    "        print(-1)\n",
    "    else:\n",
    "        print(1)\n",
    "elif version1[0]==version2[0]:\n",
    "    if x[0]==y[0]:\n",
    "        print(0)\n",
    "    elif x[0]<y[0]:\n",
    "        print(-1)\n",
    "    else:\n",
    "        print(1)\n",
    "else:\n",
    "    if x[0]==y[0]:\n",
    "        print(0)\n",
    "    elif x[0]<y[0]:\n",
    "        print(-1)\n",
    "    else:\n",
    "        print(1)"
   ]
  },
  {
   "cell_type": "code",
   "execution_count": 23,
   "id": "a63a7ab1-c036-46ae-b668-e2d35c3fe208",
   "metadata": {},
   "outputs": [
    {
     "data": {
      "text/plain": [
       "'1'"
      ]
     },
     "execution_count": 23,
     "metadata": {},
     "output_type": "execute_result"
    }
   ],
   "source": [
    "version1[0]"
   ]
  },
  {
   "cell_type": "code",
   "execution_count": null,
   "id": "7b8c7fb3-4d87-4fa2-82ca-a7a2ee3b4691",
   "metadata": {},
   "outputs": [],
   "source": []
  }
 ],
 "metadata": {
  "kernelspec": {
   "display_name": "Python 3 (ipykernel)",
   "language": "python",
   "name": "python3"
  },
  "language_info": {
   "codemirror_mode": {
    "name": "ipython",
    "version": 3
   },
   "file_extension": ".py",
   "mimetype": "text/x-python",
   "name": "python",
   "nbconvert_exporter": "python",
   "pygments_lexer": "ipython3",
   "version": "3.11.7"
  },
  "widgets": {
   "application/vnd.jupyter.widget-state+json": {
    "state": {},
    "version_major": 2,
    "version_minor": 0
   }
  }
 },
 "nbformat": 4,
 "nbformat_minor": 5
}
