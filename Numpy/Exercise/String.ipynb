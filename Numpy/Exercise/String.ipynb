{
 "cells": [
  {
   "cell_type": "code",
   "execution_count": 2,
   "id": "a47d3e04-8ad3-4696-8504-314a1d091ee8",
   "metadata": {},
   "outputs": [],
   "source": [
    "import numpy as np"
   ]
  },
  {
   "cell_type": "code",
   "execution_count": 10,
   "id": "dc1066cf-93d7-4b88-8129-c8ad5d595eda",
   "metadata": {},
   "outputs": [
    {
     "name": "stdout",
     "output_type": "stream",
     "text": [
      "['Python Java' 'PHP C++']\n"
     ]
    }
   ],
   "source": [
    "x=np.array(['Python','PHP'],dtype=np.str_)\n",
    "y=np.array([' Java',' C++'],dtype=np.str_)\n",
    "print(np.char.add(x,y))"
   ]
  },
  {
   "cell_type": "code",
   "execution_count": 13,
   "id": "aff2781b-636e-4124-814e-229ac8181c64",
   "metadata": {},
   "outputs": [
    {
     "name": "stdout",
     "output_type": "stream",
     "text": [
      "['PythonPythonPython' 'JavaJavaJava' 'C++C++C++' 'PHPPHPPHP']\n"
     ]
    }
   ],
   "source": [
    "x=np.array(['Python','Java','C++','PHP'],dtype=np.str_)\n",
    "print(np.char.multiply(x,3))"
   ]
  },
  {
   "cell_type": "code",
   "execution_count": null,
   "id": "33d2c936-bb86-41a9-85d1-7eb80505c275",
   "metadata": {},
   "outputs": [],
   "source": []
  }
 ],
 "metadata": {
  "kernelspec": {
   "display_name": "Python 3 (ipykernel)",
   "language": "python",
   "name": "python3"
  },
  "language_info": {
   "codemirror_mode": {
    "name": "ipython",
    "version": 3
   },
   "file_extension": ".py",
   "mimetype": "text/x-python",
   "name": "python",
   "nbconvert_exporter": "python",
   "pygments_lexer": "ipython3",
   "version": "3.11.7"
  },
  "widgets": {
   "application/vnd.jupyter.widget-state+json": {
    "state": {},
    "version_major": 2,
    "version_minor": 0
   }
  }
 },
 "nbformat": 4,
 "nbformat_minor": 5
}
