{
 "cells": [
  {
   "cell_type": "code",
   "execution_count": 1,
   "id": "a47d3e04-8ad3-4696-8504-314a1d091ee8",
   "metadata": {},
   "outputs": [],
   "source": [
    "import numpy as np"
   ]
  },
  {
   "cell_type": "code",
   "execution_count": 2,
   "id": "dc1066cf-93d7-4b88-8129-c8ad5d595eda",
   "metadata": {},
   "outputs": [
    {
     "name": "stdout",
     "output_type": "stream",
     "text": [
      "['Python Java' 'PHP C++']\n"
     ]
    }
   ],
   "source": [
    "x=np.array(['Python','PHP'],dtype=np.str_)\n",
    "y=np.array([' Java',' C++'],dtype=np.str_)\n",
    "print(np.char.add(x,y))"
   ]
  },
  {
   "cell_type": "code",
   "execution_count": 3,
   "id": "aff2781b-636e-4124-814e-229ac8181c64",
   "metadata": {},
   "outputs": [
    {
     "name": "stdout",
     "output_type": "stream",
     "text": [
      "['PythonPythonPython' 'JavaJavaJava' 'C++C++C++' 'PHPPHPPHP']\n"
     ]
    }
   ],
   "source": [
    "x=np.array(['Python','Java','C++','PHP'],dtype=np.str_)\n",
    "print(np.char.multiply(x,3))"
   ]
  },
  {
   "cell_type": "code",
   "execution_count": 8,
   "id": "33d2c936-bb86-41a9-85d1-7eb80505c275",
   "metadata": {},
   "outputs": [
    {
     "name": "stdout",
     "output_type": "stream",
     "text": [
      "Capitalized:- ['Python' 'Java' 'C++' 'Php']\n",
      "Lowered:- ['python' 'java' 'c++' 'php']\n",
      "Uppered:- ['PYTHON' 'JAVA' 'C++' 'PHP']\n",
      "Swapcases:- ['PYTHON' 'JAVA' 'c++' 'php']\n",
      "Titlecased:- ['Python' 'Java' 'C++' 'Php']\n"
     ]
    }
   ],
   "source": [
    "x=np.array(['python','java','C++','PHP'],dtype=np.str_)\n",
    "print('Capitalized:-',np.char.capitalize(x))\n",
    "print('Lowered:-',np.char.lower(x))\n",
    "print('Uppered:-',np.char.upper(x))\n",
    "print('Swapcases:-',np.char.swapcase(x))\n",
    "print('Titlecased:-',np.char.title(x))"
   ]
  },
  {
   "cell_type": "code",
   "execution_count": 11,
   "id": "73e24573-2262-438d-84a3-32bb4a2d1ec7",
   "metadata": {},
   "outputs": [
    {
     "name": "stdout",
     "output_type": "stream",
     "text": [
      "Centered:= ['python, exercis' '______PHP______' '______java_____' '______C++______']\n",
      "Left:= ['python, exercis' 'PHP____________' 'java___________' 'C++____________']\n",
      "Right:= ['python, exercis' '____________PHP' '___________java' '____________C++']\n"
     ]
    }
   ],
   "source": [
    "x=np.array(['python, exercises', 'PHP', 'java', 'C++'],dtype=np.str_)\n",
    "print('Centered:=',np.char.center(x,width=15,fillchar='_'))\n",
    "print('Left:=',np.char.ljust(x,width=15,fillchar='_'))\n",
    "print('Right:=',np.char.rjust(x,width=15,fillchar='_'))"
   ]
  },
  {
   "cell_type": "code",
   "execution_count": 13,
   "id": "53a432d0-8345-4ab1-ae32-a70c99a2c550",
   "metadata": {},
   "outputs": [
    {
     "data": {
      "text/plain": [
       "array(['p y t h o n ,   e x e r c i s e s', 'P H P', 'j a v a', 'C + +'],\n",
       "      dtype='<U33')"
      ]
     },
     "execution_count": 13,
     "metadata": {},
     "output_type": "execute_result"
    }
   ],
   "source": [
    "x=np.array(['python, exercises', 'PHP', 'java', 'C++'],dtype=np.str_)\n",
    "np.char.join(\" \", x)"
   ]
  },
  {
   "cell_type": "code",
   "execution_count": 18,
   "id": "ac65726c-1078-4db4-bfae-34caae9a8633",
   "metadata": {},
   "outputs": [
    {
     "name": "stdout",
     "output_type": "stream",
     "text": [
      "['python exercisesPHPjavaC++']\n",
      "[b'\\x97\\xa8\\xa3\\x88\\x96\\x95@\\x85\\xa7\\x85\\x99\\x83\\x89\\xa2\\x85\\xa2\\xd7\\xc8\\xd7\\x91\\x81\\xa5\\x81\\xc3NN']\n"
     ]
    }
   ],
   "source": [
    "x=[b'\\x97\\xa8\\xa3\\x88\\x96\\x95@\\x85\\xa7\\x85\\x99\\x83\\x89\\xa2\\x85\\xa2'\n",
    "b'\\xd7\\xc8\\xd7' b'\\x91\\x81\\xa5\\x81' b'\\xc3NN']\n",
    "y=np.char.decode(x,encoding='cp500')\n",
    "print(y)\n",
    "print(np.char.encode(y,'cp500'))"
   ]
  },
  {
   "cell_type": "code",
   "execution_count": null,
   "id": "33fc8585-7097-4f8a-a50d-9f1920bcfe63",
   "metadata": {},
   "outputs": [],
   "source": []
  }
 ],
 "metadata": {
  "kernelspec": {
   "display_name": "Python 3 (ipykernel)",
   "language": "python",
   "name": "python3"
  },
  "language_info": {
   "codemirror_mode": {
    "name": "ipython",
    "version": 3
   },
   "file_extension": ".py",
   "mimetype": "text/x-python",
   "name": "python",
   "nbconvert_exporter": "python",
   "pygments_lexer": "ipython3",
   "version": "3.11.7"
  },
  "widgets": {
   "application/vnd.jupyter.widget-state+json": {
    "state": {},
    "version_major": 2,
    "version_minor": 0
   }
  }
 },
 "nbformat": 4,
 "nbformat_minor": 5
}
